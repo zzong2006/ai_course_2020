{
  "nbformat": 4,
  "nbformat_minor": 0,
  "metadata": {
    "colab": {
      "name": "12월 11, 12일_(금, 토)_실습",
      "provenance": [],
      "collapsed_sections": [],
      "toc_visible": true
    },
    "kernelspec": {
      "name": "python3",
      "display_name": "Python 3"
    }
  },
  "cells": [
    {
      "cell_type": "code",
      "metadata": {
        "id": "VkVfU6m6Sd15"
      },
      "source": [
        "import pandas as pd\r\n",
        "import numpy as np\r\n",
        "import matplotlib.pyplot as plt"
      ],
      "execution_count": null,
      "outputs": []
    },
    {
      "cell_type": "markdown",
      "metadata": {
        "id": "sVWeiRKFQ82u"
      },
      "source": [
        "## 실제 데이터(iris data)로 Pandas 가지고 놀기\r\n",
        "\r\n",
        "<img src=\"https://s3.amazonaws.com/assets.datacamp.com/blog_assets/Machine+Learning+R/iris-machinelearning.png\" width=50%>"
      ]
    },
    {
      "cell_type": "code",
      "metadata": {
        "id": "p9AISRZQQdIV"
      },
      "source": [
        "from sklearn import datasets"
      ],
      "execution_count": null,
      "outputs": []
    },
    {
      "cell_type": "code",
      "metadata": {
        "colab": {
          "base_uri": "https://localhost:8080/"
        },
        "id": "ziG4tl5cQJ6f",
        "outputId": "7b8531ed-6c05-4e05-e246-5503f51de9d4"
      },
      "source": [
        "iris_data = datasets.load_iris()\r\n",
        "\r\n",
        "iris_data.keys()"
      ],
      "execution_count": null,
      "outputs": [
        {
          "output_type": "execute_result",
          "data": {
            "text/plain": [
              "dict_keys(['data', 'target', 'target_names', 'DESCR', 'feature_names', 'filename'])"
            ]
          },
          "metadata": {
            "tags": []
          },
          "execution_count": 3
        }
      ]
    },
    {
      "cell_type": "code",
      "metadata": {
        "colab": {
          "base_uri": "https://localhost:8080/"
        },
        "id": "SDjsbaDnaoRz",
        "outputId": "9f29e2c7-33fe-4387-9b6a-2dee08612f2f"
      },
      "source": [
        "iris_data['feature_names']"
      ],
      "execution_count": null,
      "outputs": [
        {
          "output_type": "execute_result",
          "data": {
            "text/plain": [
              "['sepal length (cm)',\n",
              " 'sepal width (cm)',\n",
              " 'petal length (cm)',\n",
              " 'petal width (cm)']"
            ]
          },
          "metadata": {
            "tags": []
          },
          "execution_count": 4
        }
      ]
    },
    {
      "cell_type": "code",
      "metadata": {
        "colab": {
          "base_uri": "https://localhost:8080/",
          "height": 202
        },
        "id": "AE0100BhQJ0p",
        "outputId": "98a6ee93-60c8-4edf-c4f2-4078167a1f04"
      },
      "source": [
        "df_x = pd.DataFrame(iris_data['data'], columns=iris_data['feature_names'])\r\n",
        "df_x.head() # top rows of the frame"
      ],
      "execution_count": null,
      "outputs": [
        {
          "output_type": "execute_result",
          "data": {
            "text/html": [
              "<div>\n",
              "<style scoped>\n",
              "    .dataframe tbody tr th:only-of-type {\n",
              "        vertical-align: middle;\n",
              "    }\n",
              "\n",
              "    .dataframe tbody tr th {\n",
              "        vertical-align: top;\n",
              "    }\n",
              "\n",
              "    .dataframe thead th {\n",
              "        text-align: right;\n",
              "    }\n",
              "</style>\n",
              "<table border=\"1\" class=\"dataframe\">\n",
              "  <thead>\n",
              "    <tr style=\"text-align: right;\">\n",
              "      <th></th>\n",
              "      <th>sepal length (cm)</th>\n",
              "      <th>sepal width (cm)</th>\n",
              "      <th>petal length (cm)</th>\n",
              "      <th>petal width (cm)</th>\n",
              "    </tr>\n",
              "  </thead>\n",
              "  <tbody>\n",
              "    <tr>\n",
              "      <th>0</th>\n",
              "      <td>5.1</td>\n",
              "      <td>3.5</td>\n",
              "      <td>1.4</td>\n",
              "      <td>0.2</td>\n",
              "    </tr>\n",
              "    <tr>\n",
              "      <th>1</th>\n",
              "      <td>4.9</td>\n",
              "      <td>3.0</td>\n",
              "      <td>1.4</td>\n",
              "      <td>0.2</td>\n",
              "    </tr>\n",
              "    <tr>\n",
              "      <th>2</th>\n",
              "      <td>4.7</td>\n",
              "      <td>3.2</td>\n",
              "      <td>1.3</td>\n",
              "      <td>0.2</td>\n",
              "    </tr>\n",
              "    <tr>\n",
              "      <th>3</th>\n",
              "      <td>4.6</td>\n",
              "      <td>3.1</td>\n",
              "      <td>1.5</td>\n",
              "      <td>0.2</td>\n",
              "    </tr>\n",
              "    <tr>\n",
              "      <th>4</th>\n",
              "      <td>5.0</td>\n",
              "      <td>3.6</td>\n",
              "      <td>1.4</td>\n",
              "      <td>0.2</td>\n",
              "    </tr>\n",
              "  </tbody>\n",
              "</table>\n",
              "</div>"
            ],
            "text/plain": [
              "   sepal length (cm)  sepal width (cm)  petal length (cm)  petal width (cm)\n",
              "0                5.1               3.5                1.4               0.2\n",
              "1                4.9               3.0                1.4               0.2\n",
              "2                4.7               3.2                1.3               0.2\n",
              "3                4.6               3.1                1.5               0.2\n",
              "4                5.0               3.6                1.4               0.2"
            ]
          },
          "metadata": {
            "tags": []
          },
          "execution_count": 5
        }
      ]
    },
    {
      "cell_type": "code",
      "metadata": {
        "colab": {
          "base_uri": "https://localhost:8080/",
          "height": 141
        },
        "id": "6dTUjYgjTgty",
        "outputId": "761e2bd6-8048-4ac0-f934-af165d2e230d"
      },
      "source": [
        "df_x.tail(3) # bottom rows of the frame"
      ],
      "execution_count": null,
      "outputs": [
        {
          "output_type": "execute_result",
          "data": {
            "text/html": [
              "<div>\n",
              "<style scoped>\n",
              "    .dataframe tbody tr th:only-of-type {\n",
              "        vertical-align: middle;\n",
              "    }\n",
              "\n",
              "    .dataframe tbody tr th {\n",
              "        vertical-align: top;\n",
              "    }\n",
              "\n",
              "    .dataframe thead th {\n",
              "        text-align: right;\n",
              "    }\n",
              "</style>\n",
              "<table border=\"1\" class=\"dataframe\">\n",
              "  <thead>\n",
              "    <tr style=\"text-align: right;\">\n",
              "      <th></th>\n",
              "      <th>sepal length (cm)</th>\n",
              "      <th>sepal width (cm)</th>\n",
              "      <th>petal length (cm)</th>\n",
              "      <th>petal width (cm)</th>\n",
              "    </tr>\n",
              "  </thead>\n",
              "  <tbody>\n",
              "    <tr>\n",
              "      <th>147</th>\n",
              "      <td>6.5</td>\n",
              "      <td>3.0</td>\n",
              "      <td>5.2</td>\n",
              "      <td>2.0</td>\n",
              "    </tr>\n",
              "    <tr>\n",
              "      <th>148</th>\n",
              "      <td>6.2</td>\n",
              "      <td>3.4</td>\n",
              "      <td>5.4</td>\n",
              "      <td>2.3</td>\n",
              "    </tr>\n",
              "    <tr>\n",
              "      <th>149</th>\n",
              "      <td>5.9</td>\n",
              "      <td>3.0</td>\n",
              "      <td>5.1</td>\n",
              "      <td>1.8</td>\n",
              "    </tr>\n",
              "  </tbody>\n",
              "</table>\n",
              "</div>"
            ],
            "text/plain": [
              "     sepal length (cm)  sepal width (cm)  petal length (cm)  petal width (cm)\n",
              "147                6.5               3.0                5.2               2.0\n",
              "148                6.2               3.4                5.4               2.3\n",
              "149                5.9               3.0                5.1               1.8"
            ]
          },
          "metadata": {
            "tags": []
          },
          "execution_count": 6
        }
      ]
    },
    {
      "cell_type": "code",
      "metadata": {
        "colab": {
          "base_uri": "https://localhost:8080/",
          "height": 141
        },
        "id": "ZlWYgU01R-KR",
        "outputId": "b60efb0a-0145-4eb7-91d7-72c560d38802"
      },
      "source": [
        "df_y = pd.DataFrame(iris_data['target'], columns=['target'])\r\n",
        "df_y.head(3)"
      ],
      "execution_count": null,
      "outputs": [
        {
          "output_type": "execute_result",
          "data": {
            "text/html": [
              "<div>\n",
              "<style scoped>\n",
              "    .dataframe tbody tr th:only-of-type {\n",
              "        vertical-align: middle;\n",
              "    }\n",
              "\n",
              "    .dataframe tbody tr th {\n",
              "        vertical-align: top;\n",
              "    }\n",
              "\n",
              "    .dataframe thead th {\n",
              "        text-align: right;\n",
              "    }\n",
              "</style>\n",
              "<table border=\"1\" class=\"dataframe\">\n",
              "  <thead>\n",
              "    <tr style=\"text-align: right;\">\n",
              "      <th></th>\n",
              "      <th>target</th>\n",
              "    </tr>\n",
              "  </thead>\n",
              "  <tbody>\n",
              "    <tr>\n",
              "      <th>0</th>\n",
              "      <td>0</td>\n",
              "    </tr>\n",
              "    <tr>\n",
              "      <th>1</th>\n",
              "      <td>0</td>\n",
              "    </tr>\n",
              "    <tr>\n",
              "      <th>2</th>\n",
              "      <td>0</td>\n",
              "    </tr>\n",
              "  </tbody>\n",
              "</table>\n",
              "</div>"
            ],
            "text/plain": [
              "   target\n",
              "0       0\n",
              "1       0\n",
              "2       0"
            ]
          },
          "metadata": {
            "tags": []
          },
          "execution_count": 7
        }
      ]
    },
    {
      "cell_type": "code",
      "metadata": {
        "colab": {
          "base_uri": "https://localhost:8080/",
          "height": 202
        },
        "id": "LfHwXaWedV0H",
        "outputId": "84b8aaf1-80bc-4ecb-b8d9-915d3c84ba52"
      },
      "source": [
        "df_y.tail()"
      ],
      "execution_count": null,
      "outputs": [
        {
          "output_type": "execute_result",
          "data": {
            "text/html": [
              "<div>\n",
              "<style scoped>\n",
              "    .dataframe tbody tr th:only-of-type {\n",
              "        vertical-align: middle;\n",
              "    }\n",
              "\n",
              "    .dataframe tbody tr th {\n",
              "        vertical-align: top;\n",
              "    }\n",
              "\n",
              "    .dataframe thead th {\n",
              "        text-align: right;\n",
              "    }\n",
              "</style>\n",
              "<table border=\"1\" class=\"dataframe\">\n",
              "  <thead>\n",
              "    <tr style=\"text-align: right;\">\n",
              "      <th></th>\n",
              "      <th>target</th>\n",
              "    </tr>\n",
              "  </thead>\n",
              "  <tbody>\n",
              "    <tr>\n",
              "      <th>145</th>\n",
              "      <td>2</td>\n",
              "    </tr>\n",
              "    <tr>\n",
              "      <th>146</th>\n",
              "      <td>2</td>\n",
              "    </tr>\n",
              "    <tr>\n",
              "      <th>147</th>\n",
              "      <td>2</td>\n",
              "    </tr>\n",
              "    <tr>\n",
              "      <th>148</th>\n",
              "      <td>2</td>\n",
              "    </tr>\n",
              "    <tr>\n",
              "      <th>149</th>\n",
              "      <td>2</td>\n",
              "    </tr>\n",
              "  </tbody>\n",
              "</table>\n",
              "</div>"
            ],
            "text/plain": [
              "     target\n",
              "145       2\n",
              "146       2\n",
              "147       2\n",
              "148       2\n",
              "149       2"
            ]
          },
          "metadata": {
            "tags": []
          },
          "execution_count": 8
        }
      ]
    },
    {
      "cell_type": "code",
      "metadata": {
        "colab": {
          "base_uri": "https://localhost:8080/"
        },
        "id": "NrZTQKbnSUug",
        "outputId": "4e1d45c5-d110-4436-c7c0-9c7864075e9d"
      },
      "source": [
        "print(iris_data['target_names'])"
      ],
      "execution_count": null,
      "outputs": [
        {
          "output_type": "stream",
          "text": [
            "['setosa' 'versicolor' 'virginica']\n"
          ],
          "name": "stdout"
        }
      ]
    },
    {
      "cell_type": "code",
      "metadata": {
        "colab": {
          "base_uri": "https://localhost:8080/",
          "height": 294
        },
        "id": "SnDLhFtxUWRa",
        "outputId": "f454e1ee-84f7-48a2-83d4-2b70a63b1b80"
      },
      "source": [
        "df_x.describe()  # 각 차원의 통계적 정보를 출력"
      ],
      "execution_count": null,
      "outputs": [
        {
          "output_type": "execute_result",
          "data": {
            "text/html": [
              "<div>\n",
              "<style scoped>\n",
              "    .dataframe tbody tr th:only-of-type {\n",
              "        vertical-align: middle;\n",
              "    }\n",
              "\n",
              "    .dataframe tbody tr th {\n",
              "        vertical-align: top;\n",
              "    }\n",
              "\n",
              "    .dataframe thead th {\n",
              "        text-align: right;\n",
              "    }\n",
              "</style>\n",
              "<table border=\"1\" class=\"dataframe\">\n",
              "  <thead>\n",
              "    <tr style=\"text-align: right;\">\n",
              "      <th></th>\n",
              "      <th>sepal length (cm)</th>\n",
              "      <th>sepal width (cm)</th>\n",
              "      <th>petal length (cm)</th>\n",
              "      <th>petal width (cm)</th>\n",
              "    </tr>\n",
              "  </thead>\n",
              "  <tbody>\n",
              "    <tr>\n",
              "      <th>count</th>\n",
              "      <td>150.000000</td>\n",
              "      <td>150.000000</td>\n",
              "      <td>150.000000</td>\n",
              "      <td>150.000000</td>\n",
              "    </tr>\n",
              "    <tr>\n",
              "      <th>mean</th>\n",
              "      <td>5.843333</td>\n",
              "      <td>3.057333</td>\n",
              "      <td>3.758000</td>\n",
              "      <td>1.199333</td>\n",
              "    </tr>\n",
              "    <tr>\n",
              "      <th>std</th>\n",
              "      <td>0.828066</td>\n",
              "      <td>0.435866</td>\n",
              "      <td>1.765298</td>\n",
              "      <td>0.762238</td>\n",
              "    </tr>\n",
              "    <tr>\n",
              "      <th>min</th>\n",
              "      <td>4.300000</td>\n",
              "      <td>2.000000</td>\n",
              "      <td>1.000000</td>\n",
              "      <td>0.100000</td>\n",
              "    </tr>\n",
              "    <tr>\n",
              "      <th>25%</th>\n",
              "      <td>5.100000</td>\n",
              "      <td>2.800000</td>\n",
              "      <td>1.600000</td>\n",
              "      <td>0.300000</td>\n",
              "    </tr>\n",
              "    <tr>\n",
              "      <th>50%</th>\n",
              "      <td>5.800000</td>\n",
              "      <td>3.000000</td>\n",
              "      <td>4.350000</td>\n",
              "      <td>1.300000</td>\n",
              "    </tr>\n",
              "    <tr>\n",
              "      <th>75%</th>\n",
              "      <td>6.400000</td>\n",
              "      <td>3.300000</td>\n",
              "      <td>5.100000</td>\n",
              "      <td>1.800000</td>\n",
              "    </tr>\n",
              "    <tr>\n",
              "      <th>max</th>\n",
              "      <td>7.900000</td>\n",
              "      <td>4.400000</td>\n",
              "      <td>6.900000</td>\n",
              "      <td>2.500000</td>\n",
              "    </tr>\n",
              "  </tbody>\n",
              "</table>\n",
              "</div>"
            ],
            "text/plain": [
              "       sepal length (cm)  sepal width (cm)  petal length (cm)  petal width (cm)\n",
              "count         150.000000        150.000000         150.000000        150.000000\n",
              "mean            5.843333          3.057333           3.758000          1.199333\n",
              "std             0.828066          0.435866           1.765298          0.762238\n",
              "min             4.300000          2.000000           1.000000          0.100000\n",
              "25%             5.100000          2.800000           1.600000          0.300000\n",
              "50%             5.800000          3.000000           4.350000          1.300000\n",
              "75%             6.400000          3.300000           5.100000          1.800000\n",
              "max             7.900000          4.400000           6.900000          2.500000"
            ]
          },
          "metadata": {
            "tags": []
          },
          "execution_count": 10
        }
      ]
    },
    {
      "cell_type": "markdown",
      "metadata": {
        "id": "yKZByG9oVIcp"
      },
      "source": [
        "Percentiles (백분위수) \r\n",
        "\r\n",
        "20 명으로 구성된 그룹에서 당신이 네번째로 키가 큰 사람이라면, 80%의 그룹의 사람들이 당신보다 작을 것임:\r\n",
        "\r\n",
        "![image](https://www.mathsisfun.com/data/images/percentile-80.svg)\r\n",
        "\r\n",
        "이를 percentile 80% 라고 말할 수 있음\r\n",
        "\r\n",
        "만약, 당신의 키가 1.85m 라면, 1.85는 그 그룹에서 80% percentile에 해당하는 값임"
      ]
    },
    {
      "cell_type": "code",
      "metadata": {
        "colab": {
          "base_uri": "https://localhost:8080/",
          "height": 359
        },
        "id": "80DVMntMUZzg",
        "outputId": "a5e78b11-1007-4ed6-9e5a-c3aadaca5c38"
      },
      "source": [
        "df_x.T    # transpose"
      ],
      "execution_count": null,
      "outputs": [
        {
          "output_type": "execute_result",
          "data": {
            "text/html": [
              "<div>\n",
              "<style scoped>\n",
              "    .dataframe tbody tr th:only-of-type {\n",
              "        vertical-align: middle;\n",
              "    }\n",
              "\n",
              "    .dataframe tbody tr th {\n",
              "        vertical-align: top;\n",
              "    }\n",
              "\n",
              "    .dataframe thead th {\n",
              "        text-align: right;\n",
              "    }\n",
              "</style>\n",
              "<table border=\"1\" class=\"dataframe\">\n",
              "  <thead>\n",
              "    <tr style=\"text-align: right;\">\n",
              "      <th></th>\n",
              "      <th>0</th>\n",
              "      <th>1</th>\n",
              "      <th>2</th>\n",
              "      <th>3</th>\n",
              "      <th>4</th>\n",
              "      <th>5</th>\n",
              "      <th>6</th>\n",
              "      <th>7</th>\n",
              "      <th>8</th>\n",
              "      <th>9</th>\n",
              "      <th>10</th>\n",
              "      <th>11</th>\n",
              "      <th>12</th>\n",
              "      <th>13</th>\n",
              "      <th>14</th>\n",
              "      <th>15</th>\n",
              "      <th>16</th>\n",
              "      <th>17</th>\n",
              "      <th>18</th>\n",
              "      <th>19</th>\n",
              "      <th>20</th>\n",
              "      <th>21</th>\n",
              "      <th>22</th>\n",
              "      <th>23</th>\n",
              "      <th>24</th>\n",
              "      <th>25</th>\n",
              "      <th>26</th>\n",
              "      <th>27</th>\n",
              "      <th>28</th>\n",
              "      <th>29</th>\n",
              "      <th>30</th>\n",
              "      <th>31</th>\n",
              "      <th>32</th>\n",
              "      <th>33</th>\n",
              "      <th>34</th>\n",
              "      <th>35</th>\n",
              "      <th>36</th>\n",
              "      <th>37</th>\n",
              "      <th>38</th>\n",
              "      <th>39</th>\n",
              "      <th>...</th>\n",
              "      <th>110</th>\n",
              "      <th>111</th>\n",
              "      <th>112</th>\n",
              "      <th>113</th>\n",
              "      <th>114</th>\n",
              "      <th>115</th>\n",
              "      <th>116</th>\n",
              "      <th>117</th>\n",
              "      <th>118</th>\n",
              "      <th>119</th>\n",
              "      <th>120</th>\n",
              "      <th>121</th>\n",
              "      <th>122</th>\n",
              "      <th>123</th>\n",
              "      <th>124</th>\n",
              "      <th>125</th>\n",
              "      <th>126</th>\n",
              "      <th>127</th>\n",
              "      <th>128</th>\n",
              "      <th>129</th>\n",
              "      <th>130</th>\n",
              "      <th>131</th>\n",
              "      <th>132</th>\n",
              "      <th>133</th>\n",
              "      <th>134</th>\n",
              "      <th>135</th>\n",
              "      <th>136</th>\n",
              "      <th>137</th>\n",
              "      <th>138</th>\n",
              "      <th>139</th>\n",
              "      <th>140</th>\n",
              "      <th>141</th>\n",
              "      <th>142</th>\n",
              "      <th>143</th>\n",
              "      <th>144</th>\n",
              "      <th>145</th>\n",
              "      <th>146</th>\n",
              "      <th>147</th>\n",
              "      <th>148</th>\n",
              "      <th>149</th>\n",
              "    </tr>\n",
              "  </thead>\n",
              "  <tbody>\n",
              "    <tr>\n",
              "      <th>sepal length (cm)</th>\n",
              "      <td>5.1</td>\n",
              "      <td>4.9</td>\n",
              "      <td>4.7</td>\n",
              "      <td>4.6</td>\n",
              "      <td>5.0</td>\n",
              "      <td>5.4</td>\n",
              "      <td>4.6</td>\n",
              "      <td>5.0</td>\n",
              "      <td>4.4</td>\n",
              "      <td>4.9</td>\n",
              "      <td>5.4</td>\n",
              "      <td>4.8</td>\n",
              "      <td>4.8</td>\n",
              "      <td>4.3</td>\n",
              "      <td>5.8</td>\n",
              "      <td>5.7</td>\n",
              "      <td>5.4</td>\n",
              "      <td>5.1</td>\n",
              "      <td>5.7</td>\n",
              "      <td>5.1</td>\n",
              "      <td>5.4</td>\n",
              "      <td>5.1</td>\n",
              "      <td>4.6</td>\n",
              "      <td>5.1</td>\n",
              "      <td>4.8</td>\n",
              "      <td>5.0</td>\n",
              "      <td>5.0</td>\n",
              "      <td>5.2</td>\n",
              "      <td>5.2</td>\n",
              "      <td>4.7</td>\n",
              "      <td>4.8</td>\n",
              "      <td>5.4</td>\n",
              "      <td>5.2</td>\n",
              "      <td>5.5</td>\n",
              "      <td>4.9</td>\n",
              "      <td>5.0</td>\n",
              "      <td>5.5</td>\n",
              "      <td>4.9</td>\n",
              "      <td>4.4</td>\n",
              "      <td>5.1</td>\n",
              "      <td>...</td>\n",
              "      <td>6.5</td>\n",
              "      <td>6.4</td>\n",
              "      <td>6.8</td>\n",
              "      <td>5.7</td>\n",
              "      <td>5.8</td>\n",
              "      <td>6.4</td>\n",
              "      <td>6.5</td>\n",
              "      <td>7.7</td>\n",
              "      <td>7.7</td>\n",
              "      <td>6.0</td>\n",
              "      <td>6.9</td>\n",
              "      <td>5.6</td>\n",
              "      <td>7.7</td>\n",
              "      <td>6.3</td>\n",
              "      <td>6.7</td>\n",
              "      <td>7.2</td>\n",
              "      <td>6.2</td>\n",
              "      <td>6.1</td>\n",
              "      <td>6.4</td>\n",
              "      <td>7.2</td>\n",
              "      <td>7.4</td>\n",
              "      <td>7.9</td>\n",
              "      <td>6.4</td>\n",
              "      <td>6.3</td>\n",
              "      <td>6.1</td>\n",
              "      <td>7.7</td>\n",
              "      <td>6.3</td>\n",
              "      <td>6.4</td>\n",
              "      <td>6.0</td>\n",
              "      <td>6.9</td>\n",
              "      <td>6.7</td>\n",
              "      <td>6.9</td>\n",
              "      <td>5.8</td>\n",
              "      <td>6.8</td>\n",
              "      <td>6.7</td>\n",
              "      <td>6.7</td>\n",
              "      <td>6.3</td>\n",
              "      <td>6.5</td>\n",
              "      <td>6.2</td>\n",
              "      <td>5.9</td>\n",
              "    </tr>\n",
              "    <tr>\n",
              "      <th>sepal width (cm)</th>\n",
              "      <td>3.5</td>\n",
              "      <td>3.0</td>\n",
              "      <td>3.2</td>\n",
              "      <td>3.1</td>\n",
              "      <td>3.6</td>\n",
              "      <td>3.9</td>\n",
              "      <td>3.4</td>\n",
              "      <td>3.4</td>\n",
              "      <td>2.9</td>\n",
              "      <td>3.1</td>\n",
              "      <td>3.7</td>\n",
              "      <td>3.4</td>\n",
              "      <td>3.0</td>\n",
              "      <td>3.0</td>\n",
              "      <td>4.0</td>\n",
              "      <td>4.4</td>\n",
              "      <td>3.9</td>\n",
              "      <td>3.5</td>\n",
              "      <td>3.8</td>\n",
              "      <td>3.8</td>\n",
              "      <td>3.4</td>\n",
              "      <td>3.7</td>\n",
              "      <td>3.6</td>\n",
              "      <td>3.3</td>\n",
              "      <td>3.4</td>\n",
              "      <td>3.0</td>\n",
              "      <td>3.4</td>\n",
              "      <td>3.5</td>\n",
              "      <td>3.4</td>\n",
              "      <td>3.2</td>\n",
              "      <td>3.1</td>\n",
              "      <td>3.4</td>\n",
              "      <td>4.1</td>\n",
              "      <td>4.2</td>\n",
              "      <td>3.1</td>\n",
              "      <td>3.2</td>\n",
              "      <td>3.5</td>\n",
              "      <td>3.6</td>\n",
              "      <td>3.0</td>\n",
              "      <td>3.4</td>\n",
              "      <td>...</td>\n",
              "      <td>3.2</td>\n",
              "      <td>2.7</td>\n",
              "      <td>3.0</td>\n",
              "      <td>2.5</td>\n",
              "      <td>2.8</td>\n",
              "      <td>3.2</td>\n",
              "      <td>3.0</td>\n",
              "      <td>3.8</td>\n",
              "      <td>2.6</td>\n",
              "      <td>2.2</td>\n",
              "      <td>3.2</td>\n",
              "      <td>2.8</td>\n",
              "      <td>2.8</td>\n",
              "      <td>2.7</td>\n",
              "      <td>3.3</td>\n",
              "      <td>3.2</td>\n",
              "      <td>2.8</td>\n",
              "      <td>3.0</td>\n",
              "      <td>2.8</td>\n",
              "      <td>3.0</td>\n",
              "      <td>2.8</td>\n",
              "      <td>3.8</td>\n",
              "      <td>2.8</td>\n",
              "      <td>2.8</td>\n",
              "      <td>2.6</td>\n",
              "      <td>3.0</td>\n",
              "      <td>3.4</td>\n",
              "      <td>3.1</td>\n",
              "      <td>3.0</td>\n",
              "      <td>3.1</td>\n",
              "      <td>3.1</td>\n",
              "      <td>3.1</td>\n",
              "      <td>2.7</td>\n",
              "      <td>3.2</td>\n",
              "      <td>3.3</td>\n",
              "      <td>3.0</td>\n",
              "      <td>2.5</td>\n",
              "      <td>3.0</td>\n",
              "      <td>3.4</td>\n",
              "      <td>3.0</td>\n",
              "    </tr>\n",
              "    <tr>\n",
              "      <th>petal length (cm)</th>\n",
              "      <td>1.4</td>\n",
              "      <td>1.4</td>\n",
              "      <td>1.3</td>\n",
              "      <td>1.5</td>\n",
              "      <td>1.4</td>\n",
              "      <td>1.7</td>\n",
              "      <td>1.4</td>\n",
              "      <td>1.5</td>\n",
              "      <td>1.4</td>\n",
              "      <td>1.5</td>\n",
              "      <td>1.5</td>\n",
              "      <td>1.6</td>\n",
              "      <td>1.4</td>\n",
              "      <td>1.1</td>\n",
              "      <td>1.2</td>\n",
              "      <td>1.5</td>\n",
              "      <td>1.3</td>\n",
              "      <td>1.4</td>\n",
              "      <td>1.7</td>\n",
              "      <td>1.5</td>\n",
              "      <td>1.7</td>\n",
              "      <td>1.5</td>\n",
              "      <td>1.0</td>\n",
              "      <td>1.7</td>\n",
              "      <td>1.9</td>\n",
              "      <td>1.6</td>\n",
              "      <td>1.6</td>\n",
              "      <td>1.5</td>\n",
              "      <td>1.4</td>\n",
              "      <td>1.6</td>\n",
              "      <td>1.6</td>\n",
              "      <td>1.5</td>\n",
              "      <td>1.5</td>\n",
              "      <td>1.4</td>\n",
              "      <td>1.5</td>\n",
              "      <td>1.2</td>\n",
              "      <td>1.3</td>\n",
              "      <td>1.4</td>\n",
              "      <td>1.3</td>\n",
              "      <td>1.5</td>\n",
              "      <td>...</td>\n",
              "      <td>5.1</td>\n",
              "      <td>5.3</td>\n",
              "      <td>5.5</td>\n",
              "      <td>5.0</td>\n",
              "      <td>5.1</td>\n",
              "      <td>5.3</td>\n",
              "      <td>5.5</td>\n",
              "      <td>6.7</td>\n",
              "      <td>6.9</td>\n",
              "      <td>5.0</td>\n",
              "      <td>5.7</td>\n",
              "      <td>4.9</td>\n",
              "      <td>6.7</td>\n",
              "      <td>4.9</td>\n",
              "      <td>5.7</td>\n",
              "      <td>6.0</td>\n",
              "      <td>4.8</td>\n",
              "      <td>4.9</td>\n",
              "      <td>5.6</td>\n",
              "      <td>5.8</td>\n",
              "      <td>6.1</td>\n",
              "      <td>6.4</td>\n",
              "      <td>5.6</td>\n",
              "      <td>5.1</td>\n",
              "      <td>5.6</td>\n",
              "      <td>6.1</td>\n",
              "      <td>5.6</td>\n",
              "      <td>5.5</td>\n",
              "      <td>4.8</td>\n",
              "      <td>5.4</td>\n",
              "      <td>5.6</td>\n",
              "      <td>5.1</td>\n",
              "      <td>5.1</td>\n",
              "      <td>5.9</td>\n",
              "      <td>5.7</td>\n",
              "      <td>5.2</td>\n",
              "      <td>5.0</td>\n",
              "      <td>5.2</td>\n",
              "      <td>5.4</td>\n",
              "      <td>5.1</td>\n",
              "    </tr>\n",
              "    <tr>\n",
              "      <th>petal width (cm)</th>\n",
              "      <td>0.2</td>\n",
              "      <td>0.2</td>\n",
              "      <td>0.2</td>\n",
              "      <td>0.2</td>\n",
              "      <td>0.2</td>\n",
              "      <td>0.4</td>\n",
              "      <td>0.3</td>\n",
              "      <td>0.2</td>\n",
              "      <td>0.2</td>\n",
              "      <td>0.1</td>\n",
              "      <td>0.2</td>\n",
              "      <td>0.2</td>\n",
              "      <td>0.1</td>\n",
              "      <td>0.1</td>\n",
              "      <td>0.2</td>\n",
              "      <td>0.4</td>\n",
              "      <td>0.4</td>\n",
              "      <td>0.3</td>\n",
              "      <td>0.3</td>\n",
              "      <td>0.3</td>\n",
              "      <td>0.2</td>\n",
              "      <td>0.4</td>\n",
              "      <td>0.2</td>\n",
              "      <td>0.5</td>\n",
              "      <td>0.2</td>\n",
              "      <td>0.2</td>\n",
              "      <td>0.4</td>\n",
              "      <td>0.2</td>\n",
              "      <td>0.2</td>\n",
              "      <td>0.2</td>\n",
              "      <td>0.2</td>\n",
              "      <td>0.4</td>\n",
              "      <td>0.1</td>\n",
              "      <td>0.2</td>\n",
              "      <td>0.2</td>\n",
              "      <td>0.2</td>\n",
              "      <td>0.2</td>\n",
              "      <td>0.1</td>\n",
              "      <td>0.2</td>\n",
              "      <td>0.2</td>\n",
              "      <td>...</td>\n",
              "      <td>2.0</td>\n",
              "      <td>1.9</td>\n",
              "      <td>2.1</td>\n",
              "      <td>2.0</td>\n",
              "      <td>2.4</td>\n",
              "      <td>2.3</td>\n",
              "      <td>1.8</td>\n",
              "      <td>2.2</td>\n",
              "      <td>2.3</td>\n",
              "      <td>1.5</td>\n",
              "      <td>2.3</td>\n",
              "      <td>2.0</td>\n",
              "      <td>2.0</td>\n",
              "      <td>1.8</td>\n",
              "      <td>2.1</td>\n",
              "      <td>1.8</td>\n",
              "      <td>1.8</td>\n",
              "      <td>1.8</td>\n",
              "      <td>2.1</td>\n",
              "      <td>1.6</td>\n",
              "      <td>1.9</td>\n",
              "      <td>2.0</td>\n",
              "      <td>2.2</td>\n",
              "      <td>1.5</td>\n",
              "      <td>1.4</td>\n",
              "      <td>2.3</td>\n",
              "      <td>2.4</td>\n",
              "      <td>1.8</td>\n",
              "      <td>1.8</td>\n",
              "      <td>2.1</td>\n",
              "      <td>2.4</td>\n",
              "      <td>2.3</td>\n",
              "      <td>1.9</td>\n",
              "      <td>2.3</td>\n",
              "      <td>2.5</td>\n",
              "      <td>2.3</td>\n",
              "      <td>1.9</td>\n",
              "      <td>2.0</td>\n",
              "      <td>2.3</td>\n",
              "      <td>1.8</td>\n",
              "    </tr>\n",
              "  </tbody>\n",
              "</table>\n",
              "<p>4 rows × 150 columns</p>\n",
              "</div>"
            ],
            "text/plain": [
              "                   0    1    2    3    4    5    ...  144  145  146  147  148  149\n",
              "sepal length (cm)  5.1  4.9  4.7  4.6  5.0  5.4  ...  6.7  6.7  6.3  6.5  6.2  5.9\n",
              "sepal width (cm)   3.5  3.0  3.2  3.1  3.6  3.9  ...  3.3  3.0  2.5  3.0  3.4  3.0\n",
              "petal length (cm)  1.4  1.4  1.3  1.5  1.4  1.7  ...  5.7  5.2  5.0  5.2  5.4  5.1\n",
              "petal width (cm)   0.2  0.2  0.2  0.2  0.2  0.4  ...  2.5  2.3  1.9  2.0  2.3  1.8\n",
              "\n",
              "[4 rows x 150 columns]"
            ]
          },
          "metadata": {
            "tags": []
          },
          "execution_count": 11
        }
      ]
    },
    {
      "cell_type": "code",
      "metadata": {
        "colab": {
          "base_uri": "https://localhost:8080/",
          "height": 415
        },
        "id": "3S8ijXdsYYuW",
        "outputId": "e10b78e8-756d-417e-b532-bbe0201366d9"
      },
      "source": [
        "df_x.sort_index(axis=1)  # column 이름을 기준으로 정렬"
      ],
      "execution_count": null,
      "outputs": [
        {
          "output_type": "execute_result",
          "data": {
            "text/html": [
              "<div>\n",
              "<style scoped>\n",
              "    .dataframe tbody tr th:only-of-type {\n",
              "        vertical-align: middle;\n",
              "    }\n",
              "\n",
              "    .dataframe tbody tr th {\n",
              "        vertical-align: top;\n",
              "    }\n",
              "\n",
              "    .dataframe thead th {\n",
              "        text-align: right;\n",
              "    }\n",
              "</style>\n",
              "<table border=\"1\" class=\"dataframe\">\n",
              "  <thead>\n",
              "    <tr style=\"text-align: right;\">\n",
              "      <th></th>\n",
              "      <th>petal length (cm)</th>\n",
              "      <th>petal width (cm)</th>\n",
              "      <th>sepal length (cm)</th>\n",
              "      <th>sepal width (cm)</th>\n",
              "    </tr>\n",
              "  </thead>\n",
              "  <tbody>\n",
              "    <tr>\n",
              "      <th>0</th>\n",
              "      <td>1.4</td>\n",
              "      <td>0.2</td>\n",
              "      <td>5.1</td>\n",
              "      <td>3.5</td>\n",
              "    </tr>\n",
              "    <tr>\n",
              "      <th>1</th>\n",
              "      <td>1.4</td>\n",
              "      <td>0.2</td>\n",
              "      <td>4.9</td>\n",
              "      <td>3.0</td>\n",
              "    </tr>\n",
              "    <tr>\n",
              "      <th>2</th>\n",
              "      <td>1.3</td>\n",
              "      <td>0.2</td>\n",
              "      <td>4.7</td>\n",
              "      <td>3.2</td>\n",
              "    </tr>\n",
              "    <tr>\n",
              "      <th>3</th>\n",
              "      <td>1.5</td>\n",
              "      <td>0.2</td>\n",
              "      <td>4.6</td>\n",
              "      <td>3.1</td>\n",
              "    </tr>\n",
              "    <tr>\n",
              "      <th>4</th>\n",
              "      <td>1.4</td>\n",
              "      <td>0.2</td>\n",
              "      <td>5.0</td>\n",
              "      <td>3.6</td>\n",
              "    </tr>\n",
              "    <tr>\n",
              "      <th>...</th>\n",
              "      <td>...</td>\n",
              "      <td>...</td>\n",
              "      <td>...</td>\n",
              "      <td>...</td>\n",
              "    </tr>\n",
              "    <tr>\n",
              "      <th>145</th>\n",
              "      <td>5.2</td>\n",
              "      <td>2.3</td>\n",
              "      <td>6.7</td>\n",
              "      <td>3.0</td>\n",
              "    </tr>\n",
              "    <tr>\n",
              "      <th>146</th>\n",
              "      <td>5.0</td>\n",
              "      <td>1.9</td>\n",
              "      <td>6.3</td>\n",
              "      <td>2.5</td>\n",
              "    </tr>\n",
              "    <tr>\n",
              "      <th>147</th>\n",
              "      <td>5.2</td>\n",
              "      <td>2.0</td>\n",
              "      <td>6.5</td>\n",
              "      <td>3.0</td>\n",
              "    </tr>\n",
              "    <tr>\n",
              "      <th>148</th>\n",
              "      <td>5.4</td>\n",
              "      <td>2.3</td>\n",
              "      <td>6.2</td>\n",
              "      <td>3.4</td>\n",
              "    </tr>\n",
              "    <tr>\n",
              "      <th>149</th>\n",
              "      <td>5.1</td>\n",
              "      <td>1.8</td>\n",
              "      <td>5.9</td>\n",
              "      <td>3.0</td>\n",
              "    </tr>\n",
              "  </tbody>\n",
              "</table>\n",
              "<p>150 rows × 4 columns</p>\n",
              "</div>"
            ],
            "text/plain": [
              "     petal length (cm)  petal width (cm)  sepal length (cm)  sepal width (cm)\n",
              "0                  1.4               0.2                5.1               3.5\n",
              "1                  1.4               0.2                4.9               3.0\n",
              "2                  1.3               0.2                4.7               3.2\n",
              "3                  1.5               0.2                4.6               3.1\n",
              "4                  1.4               0.2                5.0               3.6\n",
              "..                 ...               ...                ...               ...\n",
              "145                5.2               2.3                6.7               3.0\n",
              "146                5.0               1.9                6.3               2.5\n",
              "147                5.2               2.0                6.5               3.0\n",
              "148                5.4               2.3                6.2               3.4\n",
              "149                5.1               1.8                5.9               3.0\n",
              "\n",
              "[150 rows x 4 columns]"
            ]
          },
          "metadata": {
            "tags": []
          },
          "execution_count": 12
        }
      ]
    },
    {
      "cell_type": "code",
      "metadata": {
        "colab": {
          "base_uri": "https://localhost:8080/",
          "height": 415
        },
        "id": "7u3NYBBHW-wd",
        "outputId": "62ad44a0-277f-4f31-96ce-05b5e6bfe741"
      },
      "source": [
        "df_x.sort_values(by='petal length (cm)', ascending=True) # 정렬"
      ],
      "execution_count": null,
      "outputs": [
        {
          "output_type": "execute_result",
          "data": {
            "text/html": [
              "<div>\n",
              "<style scoped>\n",
              "    .dataframe tbody tr th:only-of-type {\n",
              "        vertical-align: middle;\n",
              "    }\n",
              "\n",
              "    .dataframe tbody tr th {\n",
              "        vertical-align: top;\n",
              "    }\n",
              "\n",
              "    .dataframe thead th {\n",
              "        text-align: right;\n",
              "    }\n",
              "</style>\n",
              "<table border=\"1\" class=\"dataframe\">\n",
              "  <thead>\n",
              "    <tr style=\"text-align: right;\">\n",
              "      <th></th>\n",
              "      <th>sepal length (cm)</th>\n",
              "      <th>sepal width (cm)</th>\n",
              "      <th>petal length (cm)</th>\n",
              "      <th>petal width (cm)</th>\n",
              "    </tr>\n",
              "  </thead>\n",
              "  <tbody>\n",
              "    <tr>\n",
              "      <th>22</th>\n",
              "      <td>4.6</td>\n",
              "      <td>3.6</td>\n",
              "      <td>1.0</td>\n",
              "      <td>0.2</td>\n",
              "    </tr>\n",
              "    <tr>\n",
              "      <th>13</th>\n",
              "      <td>4.3</td>\n",
              "      <td>3.0</td>\n",
              "      <td>1.1</td>\n",
              "      <td>0.1</td>\n",
              "    </tr>\n",
              "    <tr>\n",
              "      <th>14</th>\n",
              "      <td>5.8</td>\n",
              "      <td>4.0</td>\n",
              "      <td>1.2</td>\n",
              "      <td>0.2</td>\n",
              "    </tr>\n",
              "    <tr>\n",
              "      <th>35</th>\n",
              "      <td>5.0</td>\n",
              "      <td>3.2</td>\n",
              "      <td>1.2</td>\n",
              "      <td>0.2</td>\n",
              "    </tr>\n",
              "    <tr>\n",
              "      <th>36</th>\n",
              "      <td>5.5</td>\n",
              "      <td>3.5</td>\n",
              "      <td>1.3</td>\n",
              "      <td>0.2</td>\n",
              "    </tr>\n",
              "    <tr>\n",
              "      <th>...</th>\n",
              "      <td>...</td>\n",
              "      <td>...</td>\n",
              "      <td>...</td>\n",
              "      <td>...</td>\n",
              "    </tr>\n",
              "    <tr>\n",
              "      <th>131</th>\n",
              "      <td>7.9</td>\n",
              "      <td>3.8</td>\n",
              "      <td>6.4</td>\n",
              "      <td>2.0</td>\n",
              "    </tr>\n",
              "    <tr>\n",
              "      <th>105</th>\n",
              "      <td>7.6</td>\n",
              "      <td>3.0</td>\n",
              "      <td>6.6</td>\n",
              "      <td>2.1</td>\n",
              "    </tr>\n",
              "    <tr>\n",
              "      <th>117</th>\n",
              "      <td>7.7</td>\n",
              "      <td>3.8</td>\n",
              "      <td>6.7</td>\n",
              "      <td>2.2</td>\n",
              "    </tr>\n",
              "    <tr>\n",
              "      <th>122</th>\n",
              "      <td>7.7</td>\n",
              "      <td>2.8</td>\n",
              "      <td>6.7</td>\n",
              "      <td>2.0</td>\n",
              "    </tr>\n",
              "    <tr>\n",
              "      <th>118</th>\n",
              "      <td>7.7</td>\n",
              "      <td>2.6</td>\n",
              "      <td>6.9</td>\n",
              "      <td>2.3</td>\n",
              "    </tr>\n",
              "  </tbody>\n",
              "</table>\n",
              "<p>150 rows × 4 columns</p>\n",
              "</div>"
            ],
            "text/plain": [
              "     sepal length (cm)  sepal width (cm)  petal length (cm)  petal width (cm)\n",
              "22                 4.6               3.6                1.0               0.2\n",
              "13                 4.3               3.0                1.1               0.1\n",
              "14                 5.8               4.0                1.2               0.2\n",
              "35                 5.0               3.2                1.2               0.2\n",
              "36                 5.5               3.5                1.3               0.2\n",
              "..                 ...               ...                ...               ...\n",
              "131                7.9               3.8                6.4               2.0\n",
              "105                7.6               3.0                6.6               2.1\n",
              "117                7.7               3.8                6.7               2.2\n",
              "122                7.7               2.8                6.7               2.0\n",
              "118                7.7               2.6                6.9               2.3\n",
              "\n",
              "[150 rows x 4 columns]"
            ]
          },
          "metadata": {
            "tags": []
          },
          "execution_count": 13
        }
      ]
    },
    {
      "cell_type": "code",
      "metadata": {
        "colab": {
          "base_uri": "https://localhost:8080/",
          "height": 202
        },
        "id": "N09PplTsafQc",
        "outputId": "587abcd2-caa8-43cd-afeb-a89554a551db"
      },
      "source": [
        "df_x.iloc[0:5, 1:3]   # slicing"
      ],
      "execution_count": null,
      "outputs": [
        {
          "output_type": "execute_result",
          "data": {
            "text/html": [
              "<div>\n",
              "<style scoped>\n",
              "    .dataframe tbody tr th:only-of-type {\n",
              "        vertical-align: middle;\n",
              "    }\n",
              "\n",
              "    .dataframe tbody tr th {\n",
              "        vertical-align: top;\n",
              "    }\n",
              "\n",
              "    .dataframe thead th {\n",
              "        text-align: right;\n",
              "    }\n",
              "</style>\n",
              "<table border=\"1\" class=\"dataframe\">\n",
              "  <thead>\n",
              "    <tr style=\"text-align: right;\">\n",
              "      <th></th>\n",
              "      <th>sepal width (cm)</th>\n",
              "      <th>petal length (cm)</th>\n",
              "    </tr>\n",
              "  </thead>\n",
              "  <tbody>\n",
              "    <tr>\n",
              "      <th>0</th>\n",
              "      <td>3.5</td>\n",
              "      <td>1.4</td>\n",
              "    </tr>\n",
              "    <tr>\n",
              "      <th>1</th>\n",
              "      <td>3.0</td>\n",
              "      <td>1.4</td>\n",
              "    </tr>\n",
              "    <tr>\n",
              "      <th>2</th>\n",
              "      <td>3.2</td>\n",
              "      <td>1.3</td>\n",
              "    </tr>\n",
              "    <tr>\n",
              "      <th>3</th>\n",
              "      <td>3.1</td>\n",
              "      <td>1.5</td>\n",
              "    </tr>\n",
              "    <tr>\n",
              "      <th>4</th>\n",
              "      <td>3.6</td>\n",
              "      <td>1.4</td>\n",
              "    </tr>\n",
              "  </tbody>\n",
              "</table>\n",
              "</div>"
            ],
            "text/plain": [
              "   sepal width (cm)  petal length (cm)\n",
              "0               3.5                1.4\n",
              "1               3.0                1.4\n",
              "2               3.2                1.3\n",
              "3               3.1                1.5\n",
              "4               3.6                1.4"
            ]
          },
          "metadata": {
            "tags": []
          },
          "execution_count": 14
        }
      ]
    },
    {
      "cell_type": "code",
      "metadata": {
        "colab": {
          "base_uri": "https://localhost:8080/",
          "height": 141
        },
        "id": "IkdgBrYdW_FO",
        "outputId": "d62d6060-fce5-49ec-a2f5-17d037511388"
      },
      "source": [
        "df_x.iloc[[1, 2, 4], [0, 2]]"
      ],
      "execution_count": null,
      "outputs": [
        {
          "output_type": "execute_result",
          "data": {
            "text/html": [
              "<div>\n",
              "<style scoped>\n",
              "    .dataframe tbody tr th:only-of-type {\n",
              "        vertical-align: middle;\n",
              "    }\n",
              "\n",
              "    .dataframe tbody tr th {\n",
              "        vertical-align: top;\n",
              "    }\n",
              "\n",
              "    .dataframe thead th {\n",
              "        text-align: right;\n",
              "    }\n",
              "</style>\n",
              "<table border=\"1\" class=\"dataframe\">\n",
              "  <thead>\n",
              "    <tr style=\"text-align: right;\">\n",
              "      <th></th>\n",
              "      <th>sepal length (cm)</th>\n",
              "      <th>petal length (cm)</th>\n",
              "    </tr>\n",
              "  </thead>\n",
              "  <tbody>\n",
              "    <tr>\n",
              "      <th>1</th>\n",
              "      <td>4.9</td>\n",
              "      <td>1.4</td>\n",
              "    </tr>\n",
              "    <tr>\n",
              "      <th>2</th>\n",
              "      <td>4.7</td>\n",
              "      <td>1.3</td>\n",
              "    </tr>\n",
              "    <tr>\n",
              "      <th>4</th>\n",
              "      <td>5.0</td>\n",
              "      <td>1.4</td>\n",
              "    </tr>\n",
              "  </tbody>\n",
              "</table>\n",
              "</div>"
            ],
            "text/plain": [
              "   sepal length (cm)  petal length (cm)\n",
              "1                4.9                1.4\n",
              "2                4.7                1.3\n",
              "4                5.0                1.4"
            ]
          },
          "metadata": {
            "tags": []
          },
          "execution_count": 15
        }
      ]
    },
    {
      "cell_type": "markdown",
      "metadata": {
        "id": "6TUXFXW5bUCe"
      },
      "source": [
        "### Boolean Indexing"
      ]
    },
    {
      "cell_type": "code",
      "metadata": {
        "colab": {
          "base_uri": "https://localhost:8080/",
          "height": 233
        },
        "id": "87q7WSxzbL93",
        "outputId": "c5bb8c94-9d76-4507-d332-766e2c33b0f3"
      },
      "source": [
        "df_x[df_x['sepal length (cm)'] > 7.4]"
      ],
      "execution_count": null,
      "outputs": [
        {
          "output_type": "execute_result",
          "data": {
            "text/html": [
              "<div>\n",
              "<style scoped>\n",
              "    .dataframe tbody tr th:only-of-type {\n",
              "        vertical-align: middle;\n",
              "    }\n",
              "\n",
              "    .dataframe tbody tr th {\n",
              "        vertical-align: top;\n",
              "    }\n",
              "\n",
              "    .dataframe thead th {\n",
              "        text-align: right;\n",
              "    }\n",
              "</style>\n",
              "<table border=\"1\" class=\"dataframe\">\n",
              "  <thead>\n",
              "    <tr style=\"text-align: right;\">\n",
              "      <th></th>\n",
              "      <th>sepal length (cm)</th>\n",
              "      <th>sepal width (cm)</th>\n",
              "      <th>petal length (cm)</th>\n",
              "      <th>petal width (cm)</th>\n",
              "    </tr>\n",
              "  </thead>\n",
              "  <tbody>\n",
              "    <tr>\n",
              "      <th>105</th>\n",
              "      <td>7.6</td>\n",
              "      <td>3.0</td>\n",
              "      <td>6.6</td>\n",
              "      <td>2.1</td>\n",
              "    </tr>\n",
              "    <tr>\n",
              "      <th>117</th>\n",
              "      <td>7.7</td>\n",
              "      <td>3.8</td>\n",
              "      <td>6.7</td>\n",
              "      <td>2.2</td>\n",
              "    </tr>\n",
              "    <tr>\n",
              "      <th>118</th>\n",
              "      <td>7.7</td>\n",
              "      <td>2.6</td>\n",
              "      <td>6.9</td>\n",
              "      <td>2.3</td>\n",
              "    </tr>\n",
              "    <tr>\n",
              "      <th>122</th>\n",
              "      <td>7.7</td>\n",
              "      <td>2.8</td>\n",
              "      <td>6.7</td>\n",
              "      <td>2.0</td>\n",
              "    </tr>\n",
              "    <tr>\n",
              "      <th>131</th>\n",
              "      <td>7.9</td>\n",
              "      <td>3.8</td>\n",
              "      <td>6.4</td>\n",
              "      <td>2.0</td>\n",
              "    </tr>\n",
              "    <tr>\n",
              "      <th>135</th>\n",
              "      <td>7.7</td>\n",
              "      <td>3.0</td>\n",
              "      <td>6.1</td>\n",
              "      <td>2.3</td>\n",
              "    </tr>\n",
              "  </tbody>\n",
              "</table>\n",
              "</div>"
            ],
            "text/plain": [
              "     sepal length (cm)  sepal width (cm)  petal length (cm)  petal width (cm)\n",
              "105                7.6               3.0                6.6               2.1\n",
              "117                7.7               3.8                6.7               2.2\n",
              "118                7.7               2.6                6.9               2.3\n",
              "122                7.7               2.8                6.7               2.0\n",
              "131                7.9               3.8                6.4               2.0\n",
              "135                7.7               3.0                6.1               2.3"
            ]
          },
          "metadata": {
            "tags": []
          },
          "execution_count": 16
        }
      ]
    },
    {
      "cell_type": "code",
      "metadata": {
        "colab": {
          "base_uri": "https://localhost:8080/",
          "height": 110
        },
        "id": "9jk7Asnuc9O8",
        "outputId": "5661eb5f-0975-4a5b-e504-2404039e06eb"
      },
      "source": [
        "df_x[(df_x['sepal length (cm)'] > 7.4) & (df_x['petal width (cm)'] > 2.2)]"
      ],
      "execution_count": null,
      "outputs": [
        {
          "output_type": "execute_result",
          "data": {
            "text/html": [
              "<div>\n",
              "<style scoped>\n",
              "    .dataframe tbody tr th:only-of-type {\n",
              "        vertical-align: middle;\n",
              "    }\n",
              "\n",
              "    .dataframe tbody tr th {\n",
              "        vertical-align: top;\n",
              "    }\n",
              "\n",
              "    .dataframe thead th {\n",
              "        text-align: right;\n",
              "    }\n",
              "</style>\n",
              "<table border=\"1\" class=\"dataframe\">\n",
              "  <thead>\n",
              "    <tr style=\"text-align: right;\">\n",
              "      <th></th>\n",
              "      <th>sepal length (cm)</th>\n",
              "      <th>sepal width (cm)</th>\n",
              "      <th>petal length (cm)</th>\n",
              "      <th>petal width (cm)</th>\n",
              "    </tr>\n",
              "  </thead>\n",
              "  <tbody>\n",
              "    <tr>\n",
              "      <th>118</th>\n",
              "      <td>7.7</td>\n",
              "      <td>2.6</td>\n",
              "      <td>6.9</td>\n",
              "      <td>2.3</td>\n",
              "    </tr>\n",
              "    <tr>\n",
              "      <th>135</th>\n",
              "      <td>7.7</td>\n",
              "      <td>3.0</td>\n",
              "      <td>6.1</td>\n",
              "      <td>2.3</td>\n",
              "    </tr>\n",
              "  </tbody>\n",
              "</table>\n",
              "</div>"
            ],
            "text/plain": [
              "     sepal length (cm)  sepal width (cm)  petal length (cm)  petal width (cm)\n",
              "118                7.7               2.6                6.9               2.3\n",
              "135                7.7               3.0                6.1               2.3"
            ]
          },
          "metadata": {
            "tags": []
          },
          "execution_count": 17
        }
      ]
    },
    {
      "cell_type": "markdown",
      "metadata": {
        "id": "hXGXtdKUdq6y"
      },
      "source": [
        "### 값 바꾸기"
      ]
    },
    {
      "cell_type": "code",
      "metadata": {
        "colab": {
          "base_uri": "https://localhost:8080/",
          "height": 110
        },
        "id": "whRMtwxldyB6",
        "outputId": "80963c5a-5249-405b-e3de-92ce21f37bc7"
      },
      "source": [
        "df_x.head(2)"
      ],
      "execution_count": null,
      "outputs": [
        {
          "output_type": "execute_result",
          "data": {
            "text/html": [
              "<div>\n",
              "<style scoped>\n",
              "    .dataframe tbody tr th:only-of-type {\n",
              "        vertical-align: middle;\n",
              "    }\n",
              "\n",
              "    .dataframe tbody tr th {\n",
              "        vertical-align: top;\n",
              "    }\n",
              "\n",
              "    .dataframe thead th {\n",
              "        text-align: right;\n",
              "    }\n",
              "</style>\n",
              "<table border=\"1\" class=\"dataframe\">\n",
              "  <thead>\n",
              "    <tr style=\"text-align: right;\">\n",
              "      <th></th>\n",
              "      <th>sepal length (cm)</th>\n",
              "      <th>sepal width (cm)</th>\n",
              "      <th>petal length (cm)</th>\n",
              "      <th>petal width (cm)</th>\n",
              "    </tr>\n",
              "  </thead>\n",
              "  <tbody>\n",
              "    <tr>\n",
              "      <th>0</th>\n",
              "      <td>5.1</td>\n",
              "      <td>3.5</td>\n",
              "      <td>1.4</td>\n",
              "      <td>0.2</td>\n",
              "    </tr>\n",
              "    <tr>\n",
              "      <th>1</th>\n",
              "      <td>4.9</td>\n",
              "      <td>3.0</td>\n",
              "      <td>1.4</td>\n",
              "      <td>0.2</td>\n",
              "    </tr>\n",
              "  </tbody>\n",
              "</table>\n",
              "</div>"
            ],
            "text/plain": [
              "   sepal length (cm)  sepal width (cm)  petal length (cm)  petal width (cm)\n",
              "0                5.1               3.5                1.4               0.2\n",
              "1                4.9               3.0                1.4               0.2"
            ]
          },
          "metadata": {
            "tags": []
          },
          "execution_count": 18
        }
      ]
    },
    {
      "cell_type": "code",
      "metadata": {
        "colab": {
          "base_uri": "https://localhost:8080/"
        },
        "id": "HlKLX1VldsVS",
        "outputId": "3be55697-37b0-448f-882c-41b3a8aa2070"
      },
      "source": [
        "df_x.iat[0, 1]"
      ],
      "execution_count": null,
      "outputs": [
        {
          "output_type": "execute_result",
          "data": {
            "text/plain": [
              "3.5"
            ]
          },
          "metadata": {
            "tags": []
          },
          "execution_count": 19
        }
      ]
    },
    {
      "cell_type": "code",
      "metadata": {
        "colab": {
          "base_uri": "https://localhost:8080/",
          "height": 110
        },
        "id": "JeuhmXEvd2ie",
        "outputId": "668834c5-9c87-4a91-9f3f-b018b04bd862"
      },
      "source": [
        "df_x.iat[0, 1] = 3.4   # is equal to df_x.iloc[0, 1]\r\n",
        "df_x.head(2)"
      ],
      "execution_count": null,
      "outputs": [
        {
          "output_type": "execute_result",
          "data": {
            "text/html": [
              "<div>\n",
              "<style scoped>\n",
              "    .dataframe tbody tr th:only-of-type {\n",
              "        vertical-align: middle;\n",
              "    }\n",
              "\n",
              "    .dataframe tbody tr th {\n",
              "        vertical-align: top;\n",
              "    }\n",
              "\n",
              "    .dataframe thead th {\n",
              "        text-align: right;\n",
              "    }\n",
              "</style>\n",
              "<table border=\"1\" class=\"dataframe\">\n",
              "  <thead>\n",
              "    <tr style=\"text-align: right;\">\n",
              "      <th></th>\n",
              "      <th>sepal length (cm)</th>\n",
              "      <th>sepal width (cm)</th>\n",
              "      <th>petal length (cm)</th>\n",
              "      <th>petal width (cm)</th>\n",
              "    </tr>\n",
              "  </thead>\n",
              "  <tbody>\n",
              "    <tr>\n",
              "      <th>0</th>\n",
              "      <td>5.1</td>\n",
              "      <td>3.4</td>\n",
              "      <td>1.4</td>\n",
              "      <td>0.2</td>\n",
              "    </tr>\n",
              "    <tr>\n",
              "      <th>1</th>\n",
              "      <td>4.9</td>\n",
              "      <td>3.0</td>\n",
              "      <td>1.4</td>\n",
              "      <td>0.2</td>\n",
              "    </tr>\n",
              "  </tbody>\n",
              "</table>\n",
              "</div>"
            ],
            "text/plain": [
              "   sepal length (cm)  sepal width (cm)  petal length (cm)  petal width (cm)\n",
              "0                5.1               3.4                1.4               0.2\n",
              "1                4.9               3.0                1.4               0.2"
            ]
          },
          "metadata": {
            "tags": []
          },
          "execution_count": 20
        }
      ]
    },
    {
      "cell_type": "code",
      "metadata": {
        "colab": {
          "base_uri": "https://localhost:8080/",
          "height": 202
        },
        "id": "VlC58afdeLaa",
        "outputId": "a990fb53-c777-4cfc-c980-526d06002050"
      },
      "source": [
        "df_x_copied = df_x.copy()  # 복사\r\n",
        "\r\n",
        "df_x_copied.loc[:, 'samples'] = 0\r\n",
        "df_x_copied.head()"
      ],
      "execution_count": null,
      "outputs": [
        {
          "output_type": "execute_result",
          "data": {
            "text/html": [
              "<div>\n",
              "<style scoped>\n",
              "    .dataframe tbody tr th:only-of-type {\n",
              "        vertical-align: middle;\n",
              "    }\n",
              "\n",
              "    .dataframe tbody tr th {\n",
              "        vertical-align: top;\n",
              "    }\n",
              "\n",
              "    .dataframe thead th {\n",
              "        text-align: right;\n",
              "    }\n",
              "</style>\n",
              "<table border=\"1\" class=\"dataframe\">\n",
              "  <thead>\n",
              "    <tr style=\"text-align: right;\">\n",
              "      <th></th>\n",
              "      <th>sepal length (cm)</th>\n",
              "      <th>sepal width (cm)</th>\n",
              "      <th>petal length (cm)</th>\n",
              "      <th>petal width (cm)</th>\n",
              "      <th>samples</th>\n",
              "    </tr>\n",
              "  </thead>\n",
              "  <tbody>\n",
              "    <tr>\n",
              "      <th>0</th>\n",
              "      <td>5.1</td>\n",
              "      <td>3.4</td>\n",
              "      <td>1.4</td>\n",
              "      <td>0.2</td>\n",
              "      <td>0</td>\n",
              "    </tr>\n",
              "    <tr>\n",
              "      <th>1</th>\n",
              "      <td>4.9</td>\n",
              "      <td>3.0</td>\n",
              "      <td>1.4</td>\n",
              "      <td>0.2</td>\n",
              "      <td>0</td>\n",
              "    </tr>\n",
              "    <tr>\n",
              "      <th>2</th>\n",
              "      <td>4.7</td>\n",
              "      <td>3.2</td>\n",
              "      <td>1.3</td>\n",
              "      <td>0.2</td>\n",
              "      <td>0</td>\n",
              "    </tr>\n",
              "    <tr>\n",
              "      <th>3</th>\n",
              "      <td>4.6</td>\n",
              "      <td>3.1</td>\n",
              "      <td>1.5</td>\n",
              "      <td>0.2</td>\n",
              "      <td>0</td>\n",
              "    </tr>\n",
              "    <tr>\n",
              "      <th>4</th>\n",
              "      <td>5.0</td>\n",
              "      <td>3.6</td>\n",
              "      <td>1.4</td>\n",
              "      <td>0.2</td>\n",
              "      <td>0</td>\n",
              "    </tr>\n",
              "  </tbody>\n",
              "</table>\n",
              "</div>"
            ],
            "text/plain": [
              "   sepal length (cm)  sepal width (cm)  ...  petal width (cm)  samples\n",
              "0                5.1               3.4  ...               0.2        0\n",
              "1                4.9               3.0  ...               0.2        0\n",
              "2                4.7               3.2  ...               0.2        0\n",
              "3                4.6               3.1  ...               0.2        0\n",
              "4                5.0               3.6  ...               0.2        0\n",
              "\n",
              "[5 rows x 5 columns]"
            ]
          },
          "metadata": {
            "tags": []
          },
          "execution_count": 21
        }
      ]
    },
    {
      "cell_type": "code",
      "metadata": {
        "colab": {
          "base_uri": "https://localhost:8080/",
          "height": 202
        },
        "id": "F1nvrengo_Lg",
        "outputId": "ce6e02bb-15d2-4189-c62d-59559b485486"
      },
      "source": [
        "df_x.head()"
      ],
      "execution_count": null,
      "outputs": [
        {
          "output_type": "execute_result",
          "data": {
            "text/html": [
              "<div>\n",
              "<style scoped>\n",
              "    .dataframe tbody tr th:only-of-type {\n",
              "        vertical-align: middle;\n",
              "    }\n",
              "\n",
              "    .dataframe tbody tr th {\n",
              "        vertical-align: top;\n",
              "    }\n",
              "\n",
              "    .dataframe thead th {\n",
              "        text-align: right;\n",
              "    }\n",
              "</style>\n",
              "<table border=\"1\" class=\"dataframe\">\n",
              "  <thead>\n",
              "    <tr style=\"text-align: right;\">\n",
              "      <th></th>\n",
              "      <th>sepal length (cm)</th>\n",
              "      <th>sepal width (cm)</th>\n",
              "      <th>petal length (cm)</th>\n",
              "      <th>petal width (cm)</th>\n",
              "    </tr>\n",
              "  </thead>\n",
              "  <tbody>\n",
              "    <tr>\n",
              "      <th>0</th>\n",
              "      <td>5.1</td>\n",
              "      <td>3.4</td>\n",
              "      <td>1.4</td>\n",
              "      <td>0.2</td>\n",
              "    </tr>\n",
              "    <tr>\n",
              "      <th>1</th>\n",
              "      <td>4.9</td>\n",
              "      <td>3.0</td>\n",
              "      <td>1.4</td>\n",
              "      <td>0.2</td>\n",
              "    </tr>\n",
              "    <tr>\n",
              "      <th>2</th>\n",
              "      <td>4.7</td>\n",
              "      <td>3.2</td>\n",
              "      <td>1.3</td>\n",
              "      <td>0.2</td>\n",
              "    </tr>\n",
              "    <tr>\n",
              "      <th>3</th>\n",
              "      <td>4.6</td>\n",
              "      <td>3.1</td>\n",
              "      <td>1.5</td>\n",
              "      <td>0.2</td>\n",
              "    </tr>\n",
              "    <tr>\n",
              "      <th>4</th>\n",
              "      <td>5.0</td>\n",
              "      <td>3.6</td>\n",
              "      <td>1.4</td>\n",
              "      <td>0.2</td>\n",
              "    </tr>\n",
              "  </tbody>\n",
              "</table>\n",
              "</div>"
            ],
            "text/plain": [
              "   sepal length (cm)  sepal width (cm)  petal length (cm)  petal width (cm)\n",
              "0                5.1               3.4                1.4               0.2\n",
              "1                4.9               3.0                1.4               0.2\n",
              "2                4.7               3.2                1.3               0.2\n",
              "3                4.6               3.1                1.5               0.2\n",
              "4                5.0               3.6                1.4               0.2"
            ]
          },
          "metadata": {
            "tags": []
          },
          "execution_count": 22
        }
      ]
    },
    {
      "cell_type": "code",
      "metadata": {
        "colab": {
          "base_uri": "https://localhost:8080/",
          "height": 202
        },
        "id": "etd0Y1yYenNW",
        "outputId": "ab753bad-cfc8-47fd-8611-dbcc69c28d57"
      },
      "source": [
        "df_x_with_y = df_x.copy()  # 복사\r\n",
        "# iris_data['target_names'] = ['setosa' 'versicolor' 'virginica']\r\n",
        "\r\n",
        "df_x_with_y['target'] = iris_data['target_names'][df_y]\r\n",
        "# df_x_with_y['target'] = a[df_y]  # [ ['setosa'], ['setosa'], ...  ]] (150, 1)\r\n",
        "df_x_with_y.sample(5)   # 임의의 샘플들을 추출"
      ],
      "execution_count": null,
      "outputs": [
        {
          "output_type": "execute_result",
          "data": {
            "text/html": [
              "<div>\n",
              "<style scoped>\n",
              "    .dataframe tbody tr th:only-of-type {\n",
              "        vertical-align: middle;\n",
              "    }\n",
              "\n",
              "    .dataframe tbody tr th {\n",
              "        vertical-align: top;\n",
              "    }\n",
              "\n",
              "    .dataframe thead th {\n",
              "        text-align: right;\n",
              "    }\n",
              "</style>\n",
              "<table border=\"1\" class=\"dataframe\">\n",
              "  <thead>\n",
              "    <tr style=\"text-align: right;\">\n",
              "      <th></th>\n",
              "      <th>sepal length (cm)</th>\n",
              "      <th>sepal width (cm)</th>\n",
              "      <th>petal length (cm)</th>\n",
              "      <th>petal width (cm)</th>\n",
              "      <th>target</th>\n",
              "    </tr>\n",
              "  </thead>\n",
              "  <tbody>\n",
              "    <tr>\n",
              "      <th>69</th>\n",
              "      <td>5.6</td>\n",
              "      <td>2.5</td>\n",
              "      <td>3.9</td>\n",
              "      <td>1.1</td>\n",
              "      <td>versicolor</td>\n",
              "    </tr>\n",
              "    <tr>\n",
              "      <th>103</th>\n",
              "      <td>6.3</td>\n",
              "      <td>2.9</td>\n",
              "      <td>5.6</td>\n",
              "      <td>1.8</td>\n",
              "      <td>virginica</td>\n",
              "    </tr>\n",
              "    <tr>\n",
              "      <th>112</th>\n",
              "      <td>6.8</td>\n",
              "      <td>3.0</td>\n",
              "      <td>5.5</td>\n",
              "      <td>2.1</td>\n",
              "      <td>virginica</td>\n",
              "    </tr>\n",
              "    <tr>\n",
              "      <th>12</th>\n",
              "      <td>4.8</td>\n",
              "      <td>3.0</td>\n",
              "      <td>1.4</td>\n",
              "      <td>0.1</td>\n",
              "      <td>setosa</td>\n",
              "    </tr>\n",
              "    <tr>\n",
              "      <th>140</th>\n",
              "      <td>6.7</td>\n",
              "      <td>3.1</td>\n",
              "      <td>5.6</td>\n",
              "      <td>2.4</td>\n",
              "      <td>virginica</td>\n",
              "    </tr>\n",
              "  </tbody>\n",
              "</table>\n",
              "</div>"
            ],
            "text/plain": [
              "     sepal length (cm)  sepal width (cm)  ...  petal width (cm)      target\n",
              "69                 5.6               2.5  ...               1.1  versicolor\n",
              "103                6.3               2.9  ...               1.8   virginica\n",
              "112                6.8               3.0  ...               2.1   virginica\n",
              "12                 4.8               3.0  ...               0.1      setosa\n",
              "140                6.7               3.1  ...               2.4   virginica\n",
              "\n",
              "[5 rows x 5 columns]"
            ]
          },
          "metadata": {
            "tags": []
          },
          "execution_count": 23
        }
      ]
    },
    {
      "cell_type": "markdown",
      "metadata": {
        "id": "TwBPyg1lrqJ5"
      },
      "source": [
        "### Categorical Data"
      ]
    },
    {
      "cell_type": "code",
      "metadata": {
        "id": "ZlGZZQ-orvO_"
      },
      "source": [
        "df_x_with_y['target'] = df_x_with_y['target'].astype(\"category\")"
      ],
      "execution_count": null,
      "outputs": []
    },
    {
      "cell_type": "code",
      "metadata": {
        "colab": {
          "base_uri": "https://localhost:8080/"
        },
        "id": "gQWgqZD3qhsu",
        "outputId": "7389a436-5078-4974-a0d8-83f7ce138644"
      },
      "source": [
        "df_x_with_y['target']"
      ],
      "execution_count": null,
      "outputs": [
        {
          "output_type": "execute_result",
          "data": {
            "text/plain": [
              "0         setosa\n",
              "1         setosa\n",
              "2         setosa\n",
              "3         setosa\n",
              "4         setosa\n",
              "         ...    \n",
              "145    virginica\n",
              "146    virginica\n",
              "147    virginica\n",
              "148    virginica\n",
              "149    virginica\n",
              "Name: target, Length: 150, dtype: category\n",
              "Categories (3, object): ['setosa', 'versicolor', 'virginica']"
            ]
          },
          "metadata": {
            "tags": []
          },
          "execution_count": 25
        }
      ]
    },
    {
      "cell_type": "code",
      "metadata": {
        "colab": {
          "base_uri": "https://localhost:8080/"
        },
        "id": "wgeIWmX3q7SX",
        "outputId": "5e40cf44-4871-4309-f6e2-078601abffe3"
      },
      "source": [
        "df_x_with_y['target'].unique()    # 유일 값"
      ],
      "execution_count": null,
      "outputs": [
        {
          "output_type": "execute_result",
          "data": {
            "text/plain": [
              "['setosa', 'versicolor', 'virginica']\n",
              "Categories (3, object): ['setosa', 'versicolor', 'virginica']"
            ]
          },
          "metadata": {
            "tags": []
          },
          "execution_count": 26
        }
      ]
    },
    {
      "cell_type": "code",
      "metadata": {
        "colab": {
          "base_uri": "https://localhost:8080/"
        },
        "id": "ppjzVw-XtLEP",
        "outputId": "17ea3385-4d71-412a-d970-f8ed15e5e24a"
      },
      "source": [
        "df_x_with_y['target'].cat.categories"
      ],
      "execution_count": null,
      "outputs": [
        {
          "output_type": "execute_result",
          "data": {
            "text/plain": [
              "Index(['setosa', 'versicolor', 'virginica'], dtype='object')"
            ]
          },
          "metadata": {
            "tags": []
          },
          "execution_count": 27
        }
      ]
    },
    {
      "cell_type": "code",
      "metadata": {
        "colab": {
          "base_uri": "https://localhost:8080/"
        },
        "id": "L4_7gLfesEHS",
        "outputId": "dd092974-53e2-4b2b-d49d-ee9e7be02248"
      },
      "source": [
        "# categorical 범위 수정하기\r\n",
        "df_x_with_y['target'] = df_x_with_y['target'].cat.set_categories(['setosa', 'versicolor', 'virginica', 'koreana'])\r\n",
        "df_x_with_y['target'].cat.categories"
      ],
      "execution_count": null,
      "outputs": [
        {
          "output_type": "execute_result",
          "data": {
            "text/plain": [
              "Index(['setosa', 'versicolor', 'virginica', 'koreana'], dtype='object')"
            ]
          },
          "metadata": {
            "tags": []
          },
          "execution_count": 28
        }
      ]
    },
    {
      "cell_type": "code",
      "metadata": {
        "colab": {
          "base_uri": "https://localhost:8080/"
        },
        "id": "XLrN14MAtOQw",
        "outputId": "f4e4c0a1-5e87-4ec1-959a-a62f0374b1c7"
      },
      "source": [
        "df_x_with_y['target'].unique()      # 실제 row 중 unique한 값들을 찾는 것"
      ],
      "execution_count": null,
      "outputs": [
        {
          "output_type": "execute_result",
          "data": {
            "text/plain": [
              "['setosa', 'versicolor', 'virginica']\n",
              "Categories (3, object): ['setosa', 'versicolor', 'virginica']"
            ]
          },
          "metadata": {
            "tags": []
          },
          "execution_count": 29
        }
      ]
    },
    {
      "cell_type": "code",
      "metadata": {
        "colab": {
          "base_uri": "https://localhost:8080/"
        },
        "id": "722j5xMJrDgx",
        "outputId": "13aa9535-f6b1-4b5d-e540-a40b33881d24"
      },
      "source": [
        "df_x_with_y.groupby(\"target\").size()  # 유일값 빈도 "
      ],
      "execution_count": null,
      "outputs": [
        {
          "output_type": "execute_result",
          "data": {
            "text/plain": [
              "target\n",
              "setosa        50\n",
              "versicolor    50\n",
              "virginica     50\n",
              "koreana        0\n",
              "dtype: int64"
            ]
          },
          "metadata": {
            "tags": []
          },
          "execution_count": 30
        }
      ]
    },
    {
      "cell_type": "markdown",
      "metadata": {
        "id": "bp8iQWW7g4sQ"
      },
      "source": [
        "### Stat"
      ]
    },
    {
      "cell_type": "code",
      "metadata": {
        "colab": {
          "base_uri": "https://localhost:8080/"
        },
        "id": "US3VzFtZgR8C",
        "outputId": "30781fc9-2fc5-4563-bb0a-513c6b7b1fb1"
      },
      "source": [
        "df_x.mean() # 평균"
      ],
      "execution_count": null,
      "outputs": [
        {
          "output_type": "execute_result",
          "data": {
            "text/plain": [
              "sepal length (cm)    5.843333\n",
              "sepal width (cm)     3.056667\n",
              "petal length (cm)    3.758000\n",
              "petal width (cm)     1.199333\n",
              "dtype: float64"
            ]
          },
          "metadata": {
            "tags": []
          },
          "execution_count": 31
        }
      ]
    },
    {
      "cell_type": "code",
      "metadata": {
        "colab": {
          "base_uri": "https://localhost:8080/"
        },
        "id": "uSK2MsUDg615",
        "outputId": "8b253b8a-d6cb-4cf6-be58-d686fac00547"
      },
      "source": [
        "df_x.mean(axis=1)"
      ],
      "execution_count": null,
      "outputs": [
        {
          "output_type": "execute_result",
          "data": {
            "text/plain": [
              "0      2.525\n",
              "1      2.375\n",
              "2      2.350\n",
              "3      2.350\n",
              "4      2.550\n",
              "       ...  \n",
              "145    4.300\n",
              "146    3.925\n",
              "147    4.175\n",
              "148    4.325\n",
              "149    3.950\n",
              "Length: 150, dtype: float64"
            ]
          },
          "metadata": {
            "tags": []
          },
          "execution_count": 32
        }
      ]
    },
    {
      "cell_type": "code",
      "metadata": {
        "colab": {
          "base_uri": "https://localhost:8080/",
          "height": 171
        },
        "id": "F_tO2FydjMrn",
        "outputId": "38563a3d-41a9-4ab5-f6f9-14637a64ba53"
      },
      "source": [
        "import seaborn as sns\r\n",
        "\r\n",
        "df_corr = df_x.corr()  # 상관계수 (correlation )\r\n",
        "\r\n",
        "df_corr"
      ],
      "execution_count": null,
      "outputs": [
        {
          "output_type": "execute_result",
          "data": {
            "text/html": [
              "<div>\n",
              "<style scoped>\n",
              "    .dataframe tbody tr th:only-of-type {\n",
              "        vertical-align: middle;\n",
              "    }\n",
              "\n",
              "    .dataframe tbody tr th {\n",
              "        vertical-align: top;\n",
              "    }\n",
              "\n",
              "    .dataframe thead th {\n",
              "        text-align: right;\n",
              "    }\n",
              "</style>\n",
              "<table border=\"1\" class=\"dataframe\">\n",
              "  <thead>\n",
              "    <tr style=\"text-align: right;\">\n",
              "      <th></th>\n",
              "      <th>sepal length (cm)</th>\n",
              "      <th>sepal width (cm)</th>\n",
              "      <th>petal length (cm)</th>\n",
              "      <th>petal width (cm)</th>\n",
              "    </tr>\n",
              "  </thead>\n",
              "  <tbody>\n",
              "    <tr>\n",
              "      <th>sepal length (cm)</th>\n",
              "      <td>1.000000</td>\n",
              "      <td>-0.116349</td>\n",
              "      <td>0.871754</td>\n",
              "      <td>0.817941</td>\n",
              "    </tr>\n",
              "    <tr>\n",
              "      <th>sepal width (cm)</th>\n",
              "      <td>-0.116349</td>\n",
              "      <td>1.000000</td>\n",
              "      <td>-0.426977</td>\n",
              "      <td>-0.364614</td>\n",
              "    </tr>\n",
              "    <tr>\n",
              "      <th>petal length (cm)</th>\n",
              "      <td>0.871754</td>\n",
              "      <td>-0.426977</td>\n",
              "      <td>1.000000</td>\n",
              "      <td>0.962865</td>\n",
              "    </tr>\n",
              "    <tr>\n",
              "      <th>petal width (cm)</th>\n",
              "      <td>0.817941</td>\n",
              "      <td>-0.364614</td>\n",
              "      <td>0.962865</td>\n",
              "      <td>1.000000</td>\n",
              "    </tr>\n",
              "  </tbody>\n",
              "</table>\n",
              "</div>"
            ],
            "text/plain": [
              "                   sepal length (cm)  ...  petal width (cm)\n",
              "sepal length (cm)           1.000000  ...          0.817941\n",
              "sepal width (cm)           -0.116349  ...         -0.364614\n",
              "petal length (cm)           0.871754  ...          0.962865\n",
              "petal width (cm)            0.817941  ...          1.000000\n",
              "\n",
              "[4 rows x 4 columns]"
            ]
          },
          "metadata": {
            "tags": []
          },
          "execution_count": 33
        }
      ]
    },
    {
      "cell_type": "code",
      "metadata": {
        "colab": {
          "base_uri": "https://localhost:8080/",
          "height": 331
        },
        "id": "RkETgmiulLH5",
        "outputId": "e4ec8a04-b2ad-4a47-a6c1-530bad1afb5a"
      },
      "source": [
        "heatmap = sns.heatmap(df_corr,  annot=True,)\r\n",
        "heatmap.set_xticklabels(heatmap.get_xticklabels(), rotation=30)\r\n",
        "\r\n",
        "heatmap"
      ],
      "execution_count": null,
      "outputs": [
        {
          "output_type": "execute_result",
          "data": {
            "text/plain": [
              "<matplotlib.axes._subplots.AxesSubplot at 0x7f5970c72080>"
            ]
          },
          "metadata": {
            "tags": []
          },
          "execution_count": 34
        },
        {
          "output_type": "display_data",
          "data": {
            "image/png": "[encoded data removed]",
            "text/plain": [
              "<Figure size 432x288 with 2 Axes>"
            ]
          },
          "metadata": {
            "tags": [],
            "needs_background": "light"
          }
        }
      ]
    },
    {
      "cell_type": "markdown",
      "metadata": {
        "id": "hHirKKqClwsU"
      },
      "source": [
        "![image](https://t1.daumcdn.net/cfile/tistory/2533B54B58BD19341C)"
      ]
    },
    {
      "cell_type": "code",
      "metadata": {
        "colab": {
          "base_uri": "https://localhost:8080/",
          "height": 726
        },
        "id": "HX6-eFsPxglw",
        "outputId": "d2e13a50-ee56-4a00-ca49-aa5606ce1a3a"
      },
      "source": [
        "g = sns.pairplot(df_x_with_y, hue=\"target\")"
      ],
      "execution_count": null,
      "outputs": [
        {
          "output_type": "display_data",
          "data": {
            "image/png": "[encoded data removed]",
            "text/plain": [
              "<Figure size 804.75x720 with 20 Axes>"
            ]
          },
          "metadata": {
            "tags": [],
            "needs_background": "light"
          }
        }
      ]
    },
    {
      "cell_type": "markdown",
      "metadata": {
        "id": "DUSTlkd1tojk"
      },
      "source": [
        "## Merge\r\n"
      ]
    },
    {
      "cell_type": "markdown",
      "metadata": {
        "id": "Podl9txuut7p"
      },
      "source": [
        "### Concat"
      ]
    },
    {
      "cell_type": "code",
      "metadata": {
        "colab": {
          "base_uri": "https://localhost:8080/",
          "height": 110
        },
        "id": "gL7lb3LitoJz",
        "outputId": "daad846c-5f2a-4752-8059-9cee695e6916"
      },
      "source": [
        "a = df_x.iloc[:2]\r\n",
        "b = df_x.iloc[5:7]\r\n",
        "\r\n",
        "a"
      ],
      "execution_count": null,
      "outputs": [
        {
          "output_type": "execute_result",
          "data": {
            "text/html": [
              "<div>\n",
              "<style scoped>\n",
              "    .dataframe tbody tr th:only-of-type {\n",
              "        vertical-align: middle;\n",
              "    }\n",
              "\n",
              "    .dataframe tbody tr th {\n",
              "        vertical-align: top;\n",
              "    }\n",
              "\n",
              "    .dataframe thead th {\n",
              "        text-align: right;\n",
              "    }\n",
              "</style>\n",
              "<table border=\"1\" class=\"dataframe\">\n",
              "  <thead>\n",
              "    <tr style=\"text-align: right;\">\n",
              "      <th></th>\n",
              "      <th>sepal length (cm)</th>\n",
              "      <th>sepal width (cm)</th>\n",
              "      <th>petal length (cm)</th>\n",
              "      <th>petal width (cm)</th>\n",
              "    </tr>\n",
              "  </thead>\n",
              "  <tbody>\n",
              "    <tr>\n",
              "      <th>0</th>\n",
              "      <td>5.1</td>\n",
              "      <td>3.4</td>\n",
              "      <td>1.4</td>\n",
              "      <td>0.2</td>\n",
              "    </tr>\n",
              "    <tr>\n",
              "      <th>1</th>\n",
              "      <td>4.9</td>\n",
              "      <td>3.0</td>\n",
              "      <td>1.4</td>\n",
              "      <td>0.2</td>\n",
              "    </tr>\n",
              "  </tbody>\n",
              "</table>\n",
              "</div>"
            ],
            "text/plain": [
              "   sepal length (cm)  sepal width (cm)  petal length (cm)  petal width (cm)\n",
              "0                5.1               3.4                1.4               0.2\n",
              "1                4.9               3.0                1.4               0.2"
            ]
          },
          "metadata": {
            "tags": []
          },
          "execution_count": 114
        }
      ]
    },
    {
      "cell_type": "code",
      "metadata": {
        "colab": {
          "base_uri": "https://localhost:8080/",
          "height": 110
        },
        "id": "njmcLSf_uRXb",
        "outputId": "5997062f-530c-4efa-9111-a187e1cb0bc3"
      },
      "source": [
        "b"
      ],
      "execution_count": null,
      "outputs": [
        {
          "output_type": "execute_result",
          "data": {
            "text/html": [
              "<div>\n",
              "<style scoped>\n",
              "    .dataframe tbody tr th:only-of-type {\n",
              "        vertical-align: middle;\n",
              "    }\n",
              "\n",
              "    .dataframe tbody tr th {\n",
              "        vertical-align: top;\n",
              "    }\n",
              "\n",
              "    .dataframe thead th {\n",
              "        text-align: right;\n",
              "    }\n",
              "</style>\n",
              "<table border=\"1\" class=\"dataframe\">\n",
              "  <thead>\n",
              "    <tr style=\"text-align: right;\">\n",
              "      <th></th>\n",
              "      <th>sepal length (cm)</th>\n",
              "      <th>sepal width (cm)</th>\n",
              "      <th>petal length (cm)</th>\n",
              "      <th>petal width (cm)</th>\n",
              "    </tr>\n",
              "  </thead>\n",
              "  <tbody>\n",
              "    <tr>\n",
              "      <th>5</th>\n",
              "      <td>5.4</td>\n",
              "      <td>3.9</td>\n",
              "      <td>1.7</td>\n",
              "      <td>0.4</td>\n",
              "    </tr>\n",
              "    <tr>\n",
              "      <th>6</th>\n",
              "      <td>4.6</td>\n",
              "      <td>3.4</td>\n",
              "      <td>1.4</td>\n",
              "      <td>0.3</td>\n",
              "    </tr>\n",
              "  </tbody>\n",
              "</table>\n",
              "</div>"
            ],
            "text/plain": [
              "   sepal length (cm)  sepal width (cm)  petal length (cm)  petal width (cm)\n",
              "5                5.4               3.9                1.7               0.4\n",
              "6                4.6               3.4                1.4               0.3"
            ]
          },
          "metadata": {
            "tags": []
          },
          "execution_count": 115
        }
      ]
    },
    {
      "cell_type": "code",
      "metadata": {
        "colab": {
          "base_uri": "https://localhost:8080/",
          "height": 171
        },
        "id": "9y7XcGeeuSCK",
        "outputId": "afa31cd0-9747-46f6-9c3d-a47227c35941"
      },
      "source": [
        "pd.concat([a, b], axis=0)  # column 이 동일해야 함"
      ],
      "execution_count": null,
      "outputs": [
        {
          "output_type": "execute_result",
          "data": {
            "text/html": [
              "<div>\n",
              "<style scoped>\n",
              "    .dataframe tbody tr th:only-of-type {\n",
              "        vertical-align: middle;\n",
              "    }\n",
              "\n",
              "    .dataframe tbody tr th {\n",
              "        vertical-align: top;\n",
              "    }\n",
              "\n",
              "    .dataframe thead th {\n",
              "        text-align: right;\n",
              "    }\n",
              "</style>\n",
              "<table border=\"1\" class=\"dataframe\">\n",
              "  <thead>\n",
              "    <tr style=\"text-align: right;\">\n",
              "      <th></th>\n",
              "      <th>sepal length (cm)</th>\n",
              "      <th>sepal width (cm)</th>\n",
              "      <th>petal length (cm)</th>\n",
              "      <th>petal width (cm)</th>\n",
              "    </tr>\n",
              "  </thead>\n",
              "  <tbody>\n",
              "    <tr>\n",
              "      <th>0</th>\n",
              "      <td>5.1</td>\n",
              "      <td>3.4</td>\n",
              "      <td>1.4</td>\n",
              "      <td>0.2</td>\n",
              "    </tr>\n",
              "    <tr>\n",
              "      <th>1</th>\n",
              "      <td>4.9</td>\n",
              "      <td>3.0</td>\n",
              "      <td>1.4</td>\n",
              "      <td>0.2</td>\n",
              "    </tr>\n",
              "    <tr>\n",
              "      <th>5</th>\n",
              "      <td>5.4</td>\n",
              "      <td>3.9</td>\n",
              "      <td>1.7</td>\n",
              "      <td>0.4</td>\n",
              "    </tr>\n",
              "    <tr>\n",
              "      <th>6</th>\n",
              "      <td>4.6</td>\n",
              "      <td>3.4</td>\n",
              "      <td>1.4</td>\n",
              "      <td>0.3</td>\n",
              "    </tr>\n",
              "  </tbody>\n",
              "</table>\n",
              "</div>"
            ],
            "text/plain": [
              "   sepal length (cm)  sepal width (cm)  petal length (cm)  petal width (cm)\n",
              "0                5.1               3.4                1.4               0.2\n",
              "1                4.9               3.0                1.4               0.2\n",
              "5                5.4               3.9                1.7               0.4\n",
              "6                4.6               3.4                1.4               0.3"
            ]
          },
          "metadata": {
            "tags": []
          },
          "execution_count": 116
        }
      ]
    },
    {
      "cell_type": "code",
      "metadata": {
        "colab": {
          "base_uri": "https://localhost:8080/",
          "height": 189
        },
        "id": "aFLxG_pn7rpy",
        "outputId": "4d41dacd-002c-4a5f-e015-376a3c989248"
      },
      "source": [
        "pd.concat([a, b], axis=1)   # index 가 동일해야함"
      ],
      "execution_count": null,
      "outputs": [
        {
          "output_type": "execute_result",
          "data": {
            "text/html": [
              "<div>\n",
              "<style scoped>\n",
              "    .dataframe tbody tr th:only-of-type {\n",
              "        vertical-align: middle;\n",
              "    }\n",
              "\n",
              "    .dataframe tbody tr th {\n",
              "        vertical-align: top;\n",
              "    }\n",
              "\n",
              "    .dataframe thead th {\n",
              "        text-align: right;\n",
              "    }\n",
              "</style>\n",
              "<table border=\"1\" class=\"dataframe\">\n",
              "  <thead>\n",
              "    <tr style=\"text-align: right;\">\n",
              "      <th></th>\n",
              "      <th>sepal length (cm)</th>\n",
              "      <th>sepal width (cm)</th>\n",
              "      <th>petal length (cm)</th>\n",
              "      <th>petal width (cm)</th>\n",
              "      <th>sepal length (cm)</th>\n",
              "      <th>sepal width (cm)</th>\n",
              "      <th>petal length (cm)</th>\n",
              "      <th>petal width (cm)</th>\n",
              "    </tr>\n",
              "  </thead>\n",
              "  <tbody>\n",
              "    <tr>\n",
              "      <th>0</th>\n",
              "      <td>5.1</td>\n",
              "      <td>3.4</td>\n",
              "      <td>1.4</td>\n",
              "      <td>0.2</td>\n",
              "      <td>NaN</td>\n",
              "      <td>NaN</td>\n",
              "      <td>NaN</td>\n",
              "      <td>NaN</td>\n",
              "    </tr>\n",
              "    <tr>\n",
              "      <th>1</th>\n",
              "      <td>4.9</td>\n",
              "      <td>3.0</td>\n",
              "      <td>1.4</td>\n",
              "      <td>0.2</td>\n",
              "      <td>NaN</td>\n",
              "      <td>NaN</td>\n",
              "      <td>NaN</td>\n",
              "      <td>NaN</td>\n",
              "    </tr>\n",
              "    <tr>\n",
              "      <th>5</th>\n",
              "      <td>NaN</td>\n",
              "      <td>NaN</td>\n",
              "      <td>NaN</td>\n",
              "      <td>NaN</td>\n",
              "      <td>5.4</td>\n",
              "      <td>3.9</td>\n",
              "      <td>1.7</td>\n",
              "      <td>0.4</td>\n",
              "    </tr>\n",
              "    <tr>\n",
              "      <th>6</th>\n",
              "      <td>NaN</td>\n",
              "      <td>NaN</td>\n",
              "      <td>NaN</td>\n",
              "      <td>NaN</td>\n",
              "      <td>4.6</td>\n",
              "      <td>3.4</td>\n",
              "      <td>1.4</td>\n",
              "      <td>0.3</td>\n",
              "    </tr>\n",
              "  </tbody>\n",
              "</table>\n",
              "</div>"
            ],
            "text/plain": [
              "   sepal length (cm)  sepal width (cm)  ...  petal length (cm)  petal width (cm)\n",
              "0                5.1               3.4  ...                NaN               NaN\n",
              "1                4.9               3.0  ...                NaN               NaN\n",
              "5                NaN               NaN  ...                1.7               0.4\n",
              "6                NaN               NaN  ...                1.4               0.3\n",
              "\n",
              "[4 rows x 8 columns]"
            ]
          },
          "metadata": {
            "tags": []
          },
          "execution_count": 117
        }
      ]
    },
    {
      "cell_type": "markdown",
      "metadata": {
        "id": "pYLUwbIcurEr"
      },
      "source": [
        "### Join"
      ]
    },
    {
      "cell_type": "code",
      "metadata": {
        "colab": {
          "base_uri": "https://localhost:8080/",
          "height": 110
        },
        "id": "WK8r2wFrudVo",
        "outputId": "83a1817f-416b-4b2f-fc58-d85237ab89c9"
      },
      "source": [
        "left = pd.DataFrame({'key': ['foo', 'bar'], \r\n",
        "                     'lval': [1, 2]})\r\n",
        "right = pd.DataFrame({'key': ['foo', 'bar'], \r\n",
        "                      'rval': [4, 5]})\r\n",
        "\r\n",
        "left"
      ],
      "execution_count": null,
      "outputs": [
        {
          "output_type": "execute_result",
          "data": {
            "text/html": [
              "<div>\n",
              "<style scoped>\n",
              "    .dataframe tbody tr th:only-of-type {\n",
              "        vertical-align: middle;\n",
              "    }\n",
              "\n",
              "    .dataframe tbody tr th {\n",
              "        vertical-align: top;\n",
              "    }\n",
              "\n",
              "    .dataframe thead th {\n",
              "        text-align: right;\n",
              "    }\n",
              "</style>\n",
              "<table border=\"1\" class=\"dataframe\">\n",
              "  <thead>\n",
              "    <tr style=\"text-align: right;\">\n",
              "      <th></th>\n",
              "      <th>key</th>\n",
              "      <th>lval</th>\n",
              "    </tr>\n",
              "  </thead>\n",
              "  <tbody>\n",
              "    <tr>\n",
              "      <th>0</th>\n",
              "      <td>foo</td>\n",
              "      <td>1</td>\n",
              "    </tr>\n",
              "    <tr>\n",
              "      <th>1</th>\n",
              "      <td>bar</td>\n",
              "      <td>2</td>\n",
              "    </tr>\n",
              "  </tbody>\n",
              "</table>\n",
              "</div>"
            ],
            "text/plain": [
              "   key  lval\n",
              "0  foo     1\n",
              "1  bar     2"
            ]
          },
          "metadata": {
            "tags": []
          },
          "execution_count": 41
        }
      ]
    },
    {
      "cell_type": "code",
      "metadata": {
        "colab": {
          "base_uri": "https://localhost:8080/",
          "height": 110
        },
        "id": "67tUgzzXuqTr",
        "outputId": "ceefb1d8-d280-4e07-ea50-e59dfbedb244"
      },
      "source": [
        "right"
      ],
      "execution_count": null,
      "outputs": [
        {
          "output_type": "execute_result",
          "data": {
            "text/html": [
              "<div>\n",
              "<style scoped>\n",
              "    .dataframe tbody tr th:only-of-type {\n",
              "        vertical-align: middle;\n",
              "    }\n",
              "\n",
              "    .dataframe tbody tr th {\n",
              "        vertical-align: top;\n",
              "    }\n",
              "\n",
              "    .dataframe thead th {\n",
              "        text-align: right;\n",
              "    }\n",
              "</style>\n",
              "<table border=\"1\" class=\"dataframe\">\n",
              "  <thead>\n",
              "    <tr style=\"text-align: right;\">\n",
              "      <th></th>\n",
              "      <th>key</th>\n",
              "      <th>rval</th>\n",
              "    </tr>\n",
              "  </thead>\n",
              "  <tbody>\n",
              "    <tr>\n",
              "      <th>0</th>\n",
              "      <td>foo</td>\n",
              "      <td>4</td>\n",
              "    </tr>\n",
              "    <tr>\n",
              "      <th>1</th>\n",
              "      <td>bar</td>\n",
              "      <td>5</td>\n",
              "    </tr>\n",
              "  </tbody>\n",
              "</table>\n",
              "</div>"
            ],
            "text/plain": [
              "   key  rval\n",
              "0  foo     4\n",
              "1  bar     5"
            ]
          },
          "metadata": {
            "tags": []
          },
          "execution_count": 42
        }
      ]
    },
    {
      "cell_type": "code",
      "metadata": {
        "colab": {
          "base_uri": "https://localhost:8080/",
          "height": 110
        },
        "id": "3LUHYSSUuxHP",
        "outputId": "7ed25fb8-008c-43ce-b67a-8bf7cbd35aee"
      },
      "source": [
        "# 결합을 위한 기준 변수를 지정하지 않으면 중복된 이름의 열을 기준으로 결합\r\n",
        "# 명시적으로 on 옵션을 이용하여 기준 변수를 지정하는 것이 필요\r\n",
        "pd.merge(left, right, on='key')"
      ],
      "execution_count": null,
      "outputs": [
        {
          "output_type": "execute_result",
          "data": {
            "text/html": [
              "<div>\n",
              "<style scoped>\n",
              "    .dataframe tbody tr th:only-of-type {\n",
              "        vertical-align: middle;\n",
              "    }\n",
              "\n",
              "    .dataframe tbody tr th {\n",
              "        vertical-align: top;\n",
              "    }\n",
              "\n",
              "    .dataframe thead th {\n",
              "        text-align: right;\n",
              "    }\n",
              "</style>\n",
              "<table border=\"1\" class=\"dataframe\">\n",
              "  <thead>\n",
              "    <tr style=\"text-align: right;\">\n",
              "      <th></th>\n",
              "      <th>key</th>\n",
              "      <th>lval</th>\n",
              "      <th>rval</th>\n",
              "    </tr>\n",
              "  </thead>\n",
              "  <tbody>\n",
              "    <tr>\n",
              "      <th>0</th>\n",
              "      <td>foo</td>\n",
              "      <td>1</td>\n",
              "      <td>4</td>\n",
              "    </tr>\n",
              "    <tr>\n",
              "      <th>1</th>\n",
              "      <td>bar</td>\n",
              "      <td>2</td>\n",
              "      <td>5</td>\n",
              "    </tr>\n",
              "  </tbody>\n",
              "</table>\n",
              "</div>"
            ],
            "text/plain": [
              "   key  lval  rval\n",
              "0  foo     1     4\n",
              "1  bar     2     5"
            ]
          },
          "metadata": {
            "tags": []
          },
          "execution_count": 43
        }
      ]
    },
    {
      "cell_type": "markdown",
      "metadata": {
        "id": "y90d25FL42EU"
      },
      "source": [
        "#### key가 다를 경우"
      ]
    },
    {
      "cell_type": "code",
      "metadata": {
        "colab": {
          "base_uri": "https://localhost:8080/",
          "height": 263
        },
        "id": "94X2_WqU4mXf",
        "outputId": "d1211f4b-72a1-4e57-e2b1-648c7cb852c5"
      },
      "source": [
        "left = pd.DataFrame({'key1': ['b', 'b', 'a', 'c', 'a', 'a', 'b'], 'lval': range(7)})\r\n",
        "right = pd.DataFrame({'key2': ['a', 'b', 'd'], 'lval': range(2, 5)})\r\n",
        "\r\n",
        "left"
      ],
      "execution_count": null,
      "outputs": [
        {
          "output_type": "execute_result",
          "data": {
            "text/html": [
              "<div>\n",
              "<style scoped>\n",
              "    .dataframe tbody tr th:only-of-type {\n",
              "        vertical-align: middle;\n",
              "    }\n",
              "\n",
              "    .dataframe tbody tr th {\n",
              "        vertical-align: top;\n",
              "    }\n",
              "\n",
              "    .dataframe thead th {\n",
              "        text-align: right;\n",
              "    }\n",
              "</style>\n",
              "<table border=\"1\" class=\"dataframe\">\n",
              "  <thead>\n",
              "    <tr style=\"text-align: right;\">\n",
              "      <th></th>\n",
              "      <th>key1</th>\n",
              "      <th>lval</th>\n",
              "    </tr>\n",
              "  </thead>\n",
              "  <tbody>\n",
              "    <tr>\n",
              "      <th>0</th>\n",
              "      <td>b</td>\n",
              "      <td>0</td>\n",
              "    </tr>\n",
              "    <tr>\n",
              "      <th>1</th>\n",
              "      <td>b</td>\n",
              "      <td>1</td>\n",
              "    </tr>\n",
              "    <tr>\n",
              "      <th>2</th>\n",
              "      <td>a</td>\n",
              "      <td>2</td>\n",
              "    </tr>\n",
              "    <tr>\n",
              "      <th>3</th>\n",
              "      <td>c</td>\n",
              "      <td>3</td>\n",
              "    </tr>\n",
              "    <tr>\n",
              "      <th>4</th>\n",
              "      <td>a</td>\n",
              "      <td>4</td>\n",
              "    </tr>\n",
              "    <tr>\n",
              "      <th>5</th>\n",
              "      <td>a</td>\n",
              "      <td>5</td>\n",
              "    </tr>\n",
              "    <tr>\n",
              "      <th>6</th>\n",
              "      <td>b</td>\n",
              "      <td>6</td>\n",
              "    </tr>\n",
              "  </tbody>\n",
              "</table>\n",
              "</div>"
            ],
            "text/plain": [
              "  key1  lval\n",
              "0    b     0\n",
              "1    b     1\n",
              "2    a     2\n",
              "3    c     3\n",
              "4    a     4\n",
              "5    a     5\n",
              "6    b     6"
            ]
          },
          "metadata": {
            "tags": []
          },
          "execution_count": 44
        }
      ]
    },
    {
      "cell_type": "code",
      "metadata": {
        "colab": {
          "base_uri": "https://localhost:8080/",
          "height": 141
        },
        "id": "4RUd7P4g4z9t",
        "outputId": "10b00600-de0e-4806-ba1b-65e85e19a50d"
      },
      "source": [
        "right"
      ],
      "execution_count": null,
      "outputs": [
        {
          "output_type": "execute_result",
          "data": {
            "text/html": [
              "<div>\n",
              "<style scoped>\n",
              "    .dataframe tbody tr th:only-of-type {\n",
              "        vertical-align: middle;\n",
              "    }\n",
              "\n",
              "    .dataframe tbody tr th {\n",
              "        vertical-align: top;\n",
              "    }\n",
              "\n",
              "    .dataframe thead th {\n",
              "        text-align: right;\n",
              "    }\n",
              "</style>\n",
              "<table border=\"1\" class=\"dataframe\">\n",
              "  <thead>\n",
              "    <tr style=\"text-align: right;\">\n",
              "      <th></th>\n",
              "      <th>key2</th>\n",
              "      <th>lval</th>\n",
              "    </tr>\n",
              "  </thead>\n",
              "  <tbody>\n",
              "    <tr>\n",
              "      <th>0</th>\n",
              "      <td>a</td>\n",
              "      <td>2</td>\n",
              "    </tr>\n",
              "    <tr>\n",
              "      <th>1</th>\n",
              "      <td>b</td>\n",
              "      <td>3</td>\n",
              "    </tr>\n",
              "    <tr>\n",
              "      <th>2</th>\n",
              "      <td>d</td>\n",
              "      <td>4</td>\n",
              "    </tr>\n",
              "  </tbody>\n",
              "</table>\n",
              "</div>"
            ],
            "text/plain": [
              "  key2  lval\n",
              "0    a     2\n",
              "1    b     3\n",
              "2    d     4"
            ]
          },
          "metadata": {
            "tags": []
          },
          "execution_count": 45
        }
      ]
    },
    {
      "cell_type": "code",
      "metadata": {
        "colab": {
          "base_uri": "https://localhost:8080/",
          "height": 233
        },
        "id": "9xqYDyzs45rB",
        "outputId": "285d2b5b-e0db-4c4a-94e4-a4e3bd3a990e"
      },
      "source": [
        "pd.merge(left, right, left_on='key1', right_on='key2')"
      ],
      "execution_count": null,
      "outputs": [
        {
          "output_type": "execute_result",
          "data": {
            "text/html": [
              "<div>\n",
              "<style scoped>\n",
              "    .dataframe tbody tr th:only-of-type {\n",
              "        vertical-align: middle;\n",
              "    }\n",
              "\n",
              "    .dataframe tbody tr th {\n",
              "        vertical-align: top;\n",
              "    }\n",
              "\n",
              "    .dataframe thead th {\n",
              "        text-align: right;\n",
              "    }\n",
              "</style>\n",
              "<table border=\"1\" class=\"dataframe\">\n",
              "  <thead>\n",
              "    <tr style=\"text-align: right;\">\n",
              "      <th></th>\n",
              "      <th>key1</th>\n",
              "      <th>lval_x</th>\n",
              "      <th>key2</th>\n",
              "      <th>lval_y</th>\n",
              "    </tr>\n",
              "  </thead>\n",
              "  <tbody>\n",
              "    <tr>\n",
              "      <th>0</th>\n",
              "      <td>b</td>\n",
              "      <td>0</td>\n",
              "      <td>b</td>\n",
              "      <td>3</td>\n",
              "    </tr>\n",
              "    <tr>\n",
              "      <th>1</th>\n",
              "      <td>b</td>\n",
              "      <td>1</td>\n",
              "      <td>b</td>\n",
              "      <td>3</td>\n",
              "    </tr>\n",
              "    <tr>\n",
              "      <th>2</th>\n",
              "      <td>b</td>\n",
              "      <td>6</td>\n",
              "      <td>b</td>\n",
              "      <td>3</td>\n",
              "    </tr>\n",
              "    <tr>\n",
              "      <th>3</th>\n",
              "      <td>a</td>\n",
              "      <td>2</td>\n",
              "      <td>a</td>\n",
              "      <td>2</td>\n",
              "    </tr>\n",
              "    <tr>\n",
              "      <th>4</th>\n",
              "      <td>a</td>\n",
              "      <td>4</td>\n",
              "      <td>a</td>\n",
              "      <td>2</td>\n",
              "    </tr>\n",
              "    <tr>\n",
              "      <th>5</th>\n",
              "      <td>a</td>\n",
              "      <td>5</td>\n",
              "      <td>a</td>\n",
              "      <td>2</td>\n",
              "    </tr>\n",
              "  </tbody>\n",
              "</table>\n",
              "</div>"
            ],
            "text/plain": [
              "  key1  lval_x key2  lval_y\n",
              "0    b       0    b       3\n",
              "1    b       1    b       3\n",
              "2    b       6    b       3\n",
              "3    a       2    a       2\n",
              "4    a       4    a       2\n",
              "5    a       5    a       2"
            ]
          },
          "metadata": {
            "tags": []
          },
          "execution_count": 46
        }
      ]
    },
    {
      "cell_type": "code",
      "metadata": {
        "colab": {
          "base_uri": "https://localhost:8080/",
          "height": 294
        },
        "id": "MOLDJ6Dh5GKq",
        "outputId": "63b55766-af71-4b2d-ce4b-e5020c86d995"
      },
      "source": [
        "pd.merge(left, right, left_on='key1', right_on='key2', how='outer')"
      ],
      "execution_count": null,
      "outputs": [
        {
          "output_type": "execute_result",
          "data": {
            "text/html": [
              "<div>\n",
              "<style scoped>\n",
              "    .dataframe tbody tr th:only-of-type {\n",
              "        vertical-align: middle;\n",
              "    }\n",
              "\n",
              "    .dataframe tbody tr th {\n",
              "        vertical-align: top;\n",
              "    }\n",
              "\n",
              "    .dataframe thead th {\n",
              "        text-align: right;\n",
              "    }\n",
              "</style>\n",
              "<table border=\"1\" class=\"dataframe\">\n",
              "  <thead>\n",
              "    <tr style=\"text-align: right;\">\n",
              "      <th></th>\n",
              "      <th>key1</th>\n",
              "      <th>lval_x</th>\n",
              "      <th>key2</th>\n",
              "      <th>lval_y</th>\n",
              "    </tr>\n",
              "  </thead>\n",
              "  <tbody>\n",
              "    <tr>\n",
              "      <th>0</th>\n",
              "      <td>b</td>\n",
              "      <td>0.0</td>\n",
              "      <td>b</td>\n",
              "      <td>3.0</td>\n",
              "    </tr>\n",
              "    <tr>\n",
              "      <th>1</th>\n",
              "      <td>b</td>\n",
              "      <td>1.0</td>\n",
              "      <td>b</td>\n",
              "      <td>3.0</td>\n",
              "    </tr>\n",
              "    <tr>\n",
              "      <th>2</th>\n",
              "      <td>b</td>\n",
              "      <td>6.0</td>\n",
              "      <td>b</td>\n",
              "      <td>3.0</td>\n",
              "    </tr>\n",
              "    <tr>\n",
              "      <th>3</th>\n",
              "      <td>a</td>\n",
              "      <td>2.0</td>\n",
              "      <td>a</td>\n",
              "      <td>2.0</td>\n",
              "    </tr>\n",
              "    <tr>\n",
              "      <th>4</th>\n",
              "      <td>a</td>\n",
              "      <td>4.0</td>\n",
              "      <td>a</td>\n",
              "      <td>2.0</td>\n",
              "    </tr>\n",
              "    <tr>\n",
              "      <th>5</th>\n",
              "      <td>a</td>\n",
              "      <td>5.0</td>\n",
              "      <td>a</td>\n",
              "      <td>2.0</td>\n",
              "    </tr>\n",
              "    <tr>\n",
              "      <th>6</th>\n",
              "      <td>c</td>\n",
              "      <td>3.0</td>\n",
              "      <td>NaN</td>\n",
              "      <td>NaN</td>\n",
              "    </tr>\n",
              "    <tr>\n",
              "      <th>7</th>\n",
              "      <td>NaN</td>\n",
              "      <td>NaN</td>\n",
              "      <td>d</td>\n",
              "      <td>4.0</td>\n",
              "    </tr>\n",
              "  </tbody>\n",
              "</table>\n",
              "</div>"
            ],
            "text/plain": [
              "  key1  lval_x key2  lval_y\n",
              "0    b     0.0    b     3.0\n",
              "1    b     1.0    b     3.0\n",
              "2    b     6.0    b     3.0\n",
              "3    a     2.0    a     2.0\n",
              "4    a     4.0    a     2.0\n",
              "5    a     5.0    a     2.0\n",
              "6    c     3.0  NaN     NaN\n",
              "7  NaN     NaN    d     4.0"
            ]
          },
          "metadata": {
            "tags": []
          },
          "execution_count": 47
        }
      ]
    },
    {
      "cell_type": "markdown",
      "metadata": {
        "id": "WM7umhyj7Fpb"
      },
      "source": [
        " 12월 11일 진도"
      ]
    },
    {
      "cell_type": "markdown",
      "metadata": {
        "id": "jU1UViXh5oJl"
      },
      "source": [
        "#### 기준 key가 여러개일 경우"
      ]
    },
    {
      "cell_type": "code",
      "metadata": {
        "colab": {
          "base_uri": "https://localhost:8080/",
          "height": 233
        },
        "id": "SkLBebow5dYe",
        "outputId": "ce4ba2c8-39b7-4f5a-9724-22e71d4ba7e3"
      },
      "source": [
        "left = pd.DataFrame({'key1':['a', 'a', 'a', 'b', 'b', 'b'], 'key2':[1,2,3,1,2,4], 'v1':range(6)})\r\n",
        "\r\n",
        "left"
      ],
      "execution_count": null,
      "outputs": [
        {
          "output_type": "execute_result",
          "data": {
            "text/html": [
              "<div>\n",
              "<style scoped>\n",
              "    .dataframe tbody tr th:only-of-type {\n",
              "        vertical-align: middle;\n",
              "    }\n",
              "\n",
              "    .dataframe tbody tr th {\n",
              "        vertical-align: top;\n",
              "    }\n",
              "\n",
              "    .dataframe thead th {\n",
              "        text-align: right;\n",
              "    }\n",
              "</style>\n",
              "<table border=\"1\" class=\"dataframe\">\n",
              "  <thead>\n",
              "    <tr style=\"text-align: right;\">\n",
              "      <th></th>\n",
              "      <th>key1</th>\n",
              "      <th>key2</th>\n",
              "      <th>v1</th>\n",
              "    </tr>\n",
              "  </thead>\n",
              "  <tbody>\n",
              "    <tr>\n",
              "      <th>0</th>\n",
              "      <td>a</td>\n",
              "      <td>1</td>\n",
              "      <td>0</td>\n",
              "    </tr>\n",
              "    <tr>\n",
              "      <th>1</th>\n",
              "      <td>a</td>\n",
              "      <td>2</td>\n",
              "      <td>1</td>\n",
              "    </tr>\n",
              "    <tr>\n",
              "      <th>2</th>\n",
              "      <td>a</td>\n",
              "      <td>3</td>\n",
              "      <td>2</td>\n",
              "    </tr>\n",
              "    <tr>\n",
              "      <th>3</th>\n",
              "      <td>b</td>\n",
              "      <td>1</td>\n",
              "      <td>3</td>\n",
              "    </tr>\n",
              "    <tr>\n",
              "      <th>4</th>\n",
              "      <td>b</td>\n",
              "      <td>2</td>\n",
              "      <td>4</td>\n",
              "    </tr>\n",
              "    <tr>\n",
              "      <th>5</th>\n",
              "      <td>b</td>\n",
              "      <td>4</td>\n",
              "      <td>5</td>\n",
              "    </tr>\n",
              "  </tbody>\n",
              "</table>\n",
              "</div>"
            ],
            "text/plain": [
              "  key1  key2  v1\n",
              "0    a     1   0\n",
              "1    a     2   1\n",
              "2    a     3   2\n",
              "3    b     1   3\n",
              "4    b     2   4\n",
              "5    b     4   5"
            ]
          },
          "metadata": {
            "tags": []
          },
          "execution_count": 48
        }
      ]
    },
    {
      "cell_type": "code",
      "metadata": {
        "colab": {
          "base_uri": "https://localhost:8080/",
          "height": 202
        },
        "id": "IaLi6qSV6xEh",
        "outputId": "cd023039-6f17-44d5-9bfb-450a1d0a6ef0"
      },
      "source": [
        "right = pd.DataFrame({'key1':['a', 'a', 'e', 'b', 'b'], 'key2':[1,2,3,1,4], 'v1':range(10, 15)})\r\n",
        "\r\n",
        "right"
      ],
      "execution_count": null,
      "outputs": [
        {
          "output_type": "execute_result",
          "data": {
            "text/html": [
              "<div>\n",
              "<style scoped>\n",
              "    .dataframe tbody tr th:only-of-type {\n",
              "        vertical-align: middle;\n",
              "    }\n",
              "\n",
              "    .dataframe tbody tr th {\n",
              "        vertical-align: top;\n",
              "    }\n",
              "\n",
              "    .dataframe thead th {\n",
              "        text-align: right;\n",
              "    }\n",
              "</style>\n",
              "<table border=\"1\" class=\"dataframe\">\n",
              "  <thead>\n",
              "    <tr style=\"text-align: right;\">\n",
              "      <th></th>\n",
              "      <th>key1</th>\n",
              "      <th>key2</th>\n",
              "      <th>v1</th>\n",
              "    </tr>\n",
              "  </thead>\n",
              "  <tbody>\n",
              "    <tr>\n",
              "      <th>0</th>\n",
              "      <td>a</td>\n",
              "      <td>1</td>\n",
              "      <td>10</td>\n",
              "    </tr>\n",
              "    <tr>\n",
              "      <th>1</th>\n",
              "      <td>a</td>\n",
              "      <td>2</td>\n",
              "      <td>11</td>\n",
              "    </tr>\n",
              "    <tr>\n",
              "      <th>2</th>\n",
              "      <td>e</td>\n",
              "      <td>3</td>\n",
              "      <td>12</td>\n",
              "    </tr>\n",
              "    <tr>\n",
              "      <th>3</th>\n",
              "      <td>b</td>\n",
              "      <td>1</td>\n",
              "      <td>13</td>\n",
              "    </tr>\n",
              "    <tr>\n",
              "      <th>4</th>\n",
              "      <td>b</td>\n",
              "      <td>4</td>\n",
              "      <td>14</td>\n",
              "    </tr>\n",
              "  </tbody>\n",
              "</table>\n",
              "</div>"
            ],
            "text/plain": [
              "  key1  key2  v1\n",
              "0    a     1  10\n",
              "1    a     2  11\n",
              "2    e     3  12\n",
              "3    b     1  13\n",
              "4    b     4  14"
            ]
          },
          "metadata": {
            "tags": []
          },
          "execution_count": 49
        }
      ]
    },
    {
      "cell_type": "code",
      "metadata": {
        "colab": {
          "base_uri": "https://localhost:8080/",
          "height": 263
        },
        "id": "Nj-RzXfX6xBe",
        "outputId": "7ecaccd1-7202-47f0-8b9f-cd0ade5536cb"
      },
      "source": [
        "pd.merge(left, right, on=['key1', 'key2'], how='outer')"
      ],
      "execution_count": null,
      "outputs": [
        {
          "output_type": "execute_result",
          "data": {
            "text/html": [
              "<div>\n",
              "<style scoped>\n",
              "    .dataframe tbody tr th:only-of-type {\n",
              "        vertical-align: middle;\n",
              "    }\n",
              "\n",
              "    .dataframe tbody tr th {\n",
              "        vertical-align: top;\n",
              "    }\n",
              "\n",
              "    .dataframe thead th {\n",
              "        text-align: right;\n",
              "    }\n",
              "</style>\n",
              "<table border=\"1\" class=\"dataframe\">\n",
              "  <thead>\n",
              "    <tr style=\"text-align: right;\">\n",
              "      <th></th>\n",
              "      <th>key1</th>\n",
              "      <th>key2</th>\n",
              "      <th>v1_x</th>\n",
              "      <th>v1_y</th>\n",
              "    </tr>\n",
              "  </thead>\n",
              "  <tbody>\n",
              "    <tr>\n",
              "      <th>0</th>\n",
              "      <td>a</td>\n",
              "      <td>1</td>\n",
              "      <td>0.0</td>\n",
              "      <td>10.0</td>\n",
              "    </tr>\n",
              "    <tr>\n",
              "      <th>1</th>\n",
              "      <td>a</td>\n",
              "      <td>2</td>\n",
              "      <td>1.0</td>\n",
              "      <td>11.0</td>\n",
              "    </tr>\n",
              "    <tr>\n",
              "      <th>2</th>\n",
              "      <td>a</td>\n",
              "      <td>3</td>\n",
              "      <td>2.0</td>\n",
              "      <td>NaN</td>\n",
              "    </tr>\n",
              "    <tr>\n",
              "      <th>3</th>\n",
              "      <td>b</td>\n",
              "      <td>1</td>\n",
              "      <td>3.0</td>\n",
              "      <td>13.0</td>\n",
              "    </tr>\n",
              "    <tr>\n",
              "      <th>4</th>\n",
              "      <td>b</td>\n",
              "      <td>2</td>\n",
              "      <td>4.0</td>\n",
              "      <td>NaN</td>\n",
              "    </tr>\n",
              "    <tr>\n",
              "      <th>5</th>\n",
              "      <td>b</td>\n",
              "      <td>4</td>\n",
              "      <td>5.0</td>\n",
              "      <td>14.0</td>\n",
              "    </tr>\n",
              "    <tr>\n",
              "      <th>6</th>\n",
              "      <td>e</td>\n",
              "      <td>3</td>\n",
              "      <td>NaN</td>\n",
              "      <td>12.0</td>\n",
              "    </tr>\n",
              "  </tbody>\n",
              "</table>\n",
              "</div>"
            ],
            "text/plain": [
              "  key1  key2  v1_x  v1_y\n",
              "0    a     1   0.0  10.0\n",
              "1    a     2   1.0  11.0\n",
              "2    a     3   2.0   NaN\n",
              "3    b     1   3.0  13.0\n",
              "4    b     2   4.0   NaN\n",
              "5    b     4   5.0  14.0\n",
              "6    e     3   NaN  12.0"
            ]
          },
          "metadata": {
            "tags": []
          },
          "execution_count": 50
        }
      ]
    },
    {
      "cell_type": "markdown",
      "metadata": {
        "id": "IRL3Sli3wlsq"
      },
      "source": [
        "### Groupby"
      ]
    },
    {
      "cell_type": "code",
      "metadata": {
        "colab": {
          "base_uri": "https://localhost:8080/",
          "height": 294
        },
        "id": "tuHXgwHGwXCe",
        "outputId": "ec04f9c2-ce35-4a26-fe1d-c8e8dc8c18e0"
      },
      "source": [
        "df = pd.DataFrame({'A': ['foo', 'bar', 'foo', 'bar',\r\n",
        "                         'foo', 'bar', 'foo', 'foo'],\r\n",
        "                   'B': ['one', 'one', 'two', 'three',\r\n",
        "                          'two', 'two', 'one', 'three'],\r\n",
        "                   'C': np.random.randn(8),\r\n",
        "                  'D': np.random.randn(8)})\r\n",
        "\r\n",
        "df"
      ],
      "execution_count": null,
      "outputs": [
        {
          "output_type": "execute_result",
          "data": {
            "text/html": [
              "<div>\n",
              "<style scoped>\n",
              "    .dataframe tbody tr th:only-of-type {\n",
              "        vertical-align: middle;\n",
              "    }\n",
              "\n",
              "    .dataframe tbody tr th {\n",
              "        vertical-align: top;\n",
              "    }\n",
              "\n",
              "    .dataframe thead th {\n",
              "        text-align: right;\n",
              "    }\n",
              "</style>\n",
              "<table border=\"1\" class=\"dataframe\">\n",
              "  <thead>\n",
              "    <tr style=\"text-align: right;\">\n",
              "      <th></th>\n",
              "      <th>A</th>\n",
              "      <th>B</th>\n",
              "      <th>C</th>\n",
              "      <th>D</th>\n",
              "    </tr>\n",
              "  </thead>\n",
              "  <tbody>\n",
              "    <tr>\n",
              "      <th>0</th>\n",
              "      <td>foo</td>\n",
              "      <td>one</td>\n",
              "      <td>-0.744716</td>\n",
              "      <td>-1.153644</td>\n",
              "    </tr>\n",
              "    <tr>\n",
              "      <th>1</th>\n",
              "      <td>bar</td>\n",
              "      <td>one</td>\n",
              "      <td>1.055961</td>\n",
              "      <td>-0.276394</td>\n",
              "    </tr>\n",
              "    <tr>\n",
              "      <th>2</th>\n",
              "      <td>foo</td>\n",
              "      <td>two</td>\n",
              "      <td>0.070379</td>\n",
              "      <td>-1.447012</td>\n",
              "    </tr>\n",
              "    <tr>\n",
              "      <th>3</th>\n",
              "      <td>bar</td>\n",
              "      <td>three</td>\n",
              "      <td>-0.146513</td>\n",
              "      <td>1.073464</td>\n",
              "    </tr>\n",
              "    <tr>\n",
              "      <th>4</th>\n",
              "      <td>foo</td>\n",
              "      <td>two</td>\n",
              "      <td>0.676191</td>\n",
              "      <td>-0.237847</td>\n",
              "    </tr>\n",
              "    <tr>\n",
              "      <th>5</th>\n",
              "      <td>bar</td>\n",
              "      <td>two</td>\n",
              "      <td>-1.646948</td>\n",
              "      <td>0.804545</td>\n",
              "    </tr>\n",
              "    <tr>\n",
              "      <th>6</th>\n",
              "      <td>foo</td>\n",
              "      <td>one</td>\n",
              "      <td>-1.349049</td>\n",
              "      <td>0.244767</td>\n",
              "    </tr>\n",
              "    <tr>\n",
              "      <th>7</th>\n",
              "      <td>foo</td>\n",
              "      <td>three</td>\n",
              "      <td>-1.696271</td>\n",
              "      <td>-0.252034</td>\n",
              "    </tr>\n",
              "  </tbody>\n",
              "</table>\n",
              "</div>"
            ],
            "text/plain": [
              "     A      B         C         D\n",
              "0  foo    one -0.744716 -1.153644\n",
              "1  bar    one  1.055961 -0.276394\n",
              "2  foo    two  0.070379 -1.447012\n",
              "3  bar  three -0.146513  1.073464\n",
              "4  foo    two  0.676191 -0.237847\n",
              "5  bar    two -1.646948  0.804545\n",
              "6  foo    one -1.349049  0.244767\n",
              "7  foo  three -1.696271 -0.252034"
            ]
          },
          "metadata": {
            "tags": []
          },
          "execution_count": 51
        }
      ]
    },
    {
      "cell_type": "code",
      "metadata": {
        "colab": {
          "base_uri": "https://localhost:8080/",
          "height": 141
        },
        "id": "UJM1Yk2awfM3",
        "outputId": "c0a98062-2ebd-4bbe-8f23-6d8e1b830f73"
      },
      "source": [
        "df.groupby('A').sum()"
      ],
      "execution_count": null,
      "outputs": [
        {
          "output_type": "execute_result",
          "data": {
            "text/html": [
              "<div>\n",
              "<style scoped>\n",
              "    .dataframe tbody tr th:only-of-type {\n",
              "        vertical-align: middle;\n",
              "    }\n",
              "\n",
              "    .dataframe tbody tr th {\n",
              "        vertical-align: top;\n",
              "    }\n",
              "\n",
              "    .dataframe thead th {\n",
              "        text-align: right;\n",
              "    }\n",
              "</style>\n",
              "<table border=\"1\" class=\"dataframe\">\n",
              "  <thead>\n",
              "    <tr style=\"text-align: right;\">\n",
              "      <th></th>\n",
              "      <th>C</th>\n",
              "      <th>D</th>\n",
              "    </tr>\n",
              "    <tr>\n",
              "      <th>A</th>\n",
              "      <th></th>\n",
              "      <th></th>\n",
              "    </tr>\n",
              "  </thead>\n",
              "  <tbody>\n",
              "    <tr>\n",
              "      <th>bar</th>\n",
              "      <td>-0.737500</td>\n",
              "      <td>1.601614</td>\n",
              "    </tr>\n",
              "    <tr>\n",
              "      <th>foo</th>\n",
              "      <td>-3.043467</td>\n",
              "      <td>-2.845771</td>\n",
              "    </tr>\n",
              "  </tbody>\n",
              "</table>\n",
              "</div>"
            ],
            "text/plain": [
              "            C         D\n",
              "A                      \n",
              "bar -0.737500  1.601614\n",
              "foo -3.043467 -2.845771"
            ]
          },
          "metadata": {
            "tags": []
          },
          "execution_count": 52
        }
      ]
    },
    {
      "cell_type": "code",
      "metadata": {
        "colab": {
          "base_uri": "https://localhost:8080/"
        },
        "id": "8-3kVonKsf4K",
        "outputId": "655267c8-7d1c-4822-ceea-eee11361512e"
      },
      "source": [
        "df.groupby('B').size()"
      ],
      "execution_count": null,
      "outputs": [
        {
          "output_type": "execute_result",
          "data": {
            "text/plain": [
              "B\n",
              "one      3\n",
              "three    2\n",
              "two      3\n",
              "dtype: int64"
            ]
          },
          "metadata": {
            "tags": []
          },
          "execution_count": 53
        }
      ]
    },
    {
      "cell_type": "code",
      "metadata": {
        "colab": {
          "base_uri": "https://localhost:8080/",
          "height": 263
        },
        "id": "osiC1_jPwk9c",
        "outputId": "345dd5d7-cd52-457b-b076-f79f65b56850"
      },
      "source": [
        "df.groupby(['A', 'B']).sum()"
      ],
      "execution_count": null,
      "outputs": [
        {
          "output_type": "execute_result",
          "data": {
            "text/html": [
              "<div>\n",
              "<style scoped>\n",
              "    .dataframe tbody tr th:only-of-type {\n",
              "        vertical-align: middle;\n",
              "    }\n",
              "\n",
              "    .dataframe tbody tr th {\n",
              "        vertical-align: top;\n",
              "    }\n",
              "\n",
              "    .dataframe thead th {\n",
              "        text-align: right;\n",
              "    }\n",
              "</style>\n",
              "<table border=\"1\" class=\"dataframe\">\n",
              "  <thead>\n",
              "    <tr style=\"text-align: right;\">\n",
              "      <th></th>\n",
              "      <th></th>\n",
              "      <th>C</th>\n",
              "      <th>D</th>\n",
              "    </tr>\n",
              "    <tr>\n",
              "      <th>A</th>\n",
              "      <th>B</th>\n",
              "      <th></th>\n",
              "      <th></th>\n",
              "    </tr>\n",
              "  </thead>\n",
              "  <tbody>\n",
              "    <tr>\n",
              "      <th rowspan=\"3\" valign=\"top\">bar</th>\n",
              "      <th>one</th>\n",
              "      <td>1.055961</td>\n",
              "      <td>-0.276394</td>\n",
              "    </tr>\n",
              "    <tr>\n",
              "      <th>three</th>\n",
              "      <td>-0.146513</td>\n",
              "      <td>1.073464</td>\n",
              "    </tr>\n",
              "    <tr>\n",
              "      <th>two</th>\n",
              "      <td>-1.646948</td>\n",
              "      <td>0.804545</td>\n",
              "    </tr>\n",
              "    <tr>\n",
              "      <th rowspan=\"3\" valign=\"top\">foo</th>\n",
              "      <th>one</th>\n",
              "      <td>-2.093765</td>\n",
              "      <td>-0.908877</td>\n",
              "    </tr>\n",
              "    <tr>\n",
              "      <th>three</th>\n",
              "      <td>-1.696271</td>\n",
              "      <td>-0.252034</td>\n",
              "    </tr>\n",
              "    <tr>\n",
              "      <th>two</th>\n",
              "      <td>0.746570</td>\n",
              "      <td>-1.684859</td>\n",
              "    </tr>\n",
              "  </tbody>\n",
              "</table>\n",
              "</div>"
            ],
            "text/plain": [
              "                  C         D\n",
              "A   B                        \n",
              "bar one    1.055961 -0.276394\n",
              "    three -0.146513  1.073464\n",
              "    two   -1.646948  0.804545\n",
              "foo one   -2.093765 -0.908877\n",
              "    three -1.696271 -0.252034\n",
              "    two    0.746570 -1.684859"
            ]
          },
          "metadata": {
            "tags": []
          },
          "execution_count": 54
        }
      ]
    },
    {
      "cell_type": "markdown",
      "metadata": {
        "id": "lm-H-kjE24DF"
      },
      "source": [
        "### Apply\r\n",
        "\r\n",
        "`map` 과 비슷한 동작을 함"
      ]
    },
    {
      "cell_type": "code",
      "metadata": {
        "colab": {
          "base_uri": "https://localhost:8080/",
          "height": 171
        },
        "id": "SDqmDQJ325wF",
        "outputId": "ad5247ca-0390-4f8e-ed4a-9d2c8fbd0270"
      },
      "source": [
        "df = pd.DataFrame({'A': np.random.randn(4),\r\n",
        "                   'B': np.random.randn(4),\r\n",
        "                   'C': np.random.randn(4),\r\n",
        "                  'D': np.random.randn(4)})\r\n",
        "\r\n",
        "df"
      ],
      "execution_count": null,
      "outputs": [
        {
          "output_type": "execute_result",
          "data": {
            "text/html": [
              "<div>\n",
              "<style scoped>\n",
              "    .dataframe tbody tr th:only-of-type {\n",
              "        vertical-align: middle;\n",
              "    }\n",
              "\n",
              "    .dataframe tbody tr th {\n",
              "        vertical-align: top;\n",
              "    }\n",
              "\n",
              "    .dataframe thead th {\n",
              "        text-align: right;\n",
              "    }\n",
              "</style>\n",
              "<table border=\"1\" class=\"dataframe\">\n",
              "  <thead>\n",
              "    <tr style=\"text-align: right;\">\n",
              "      <th></th>\n",
              "      <th>A</th>\n",
              "      <th>B</th>\n",
              "      <th>C</th>\n",
              "      <th>D</th>\n",
              "    </tr>\n",
              "  </thead>\n",
              "  <tbody>\n",
              "    <tr>\n",
              "      <th>0</th>\n",
              "      <td>0.059773</td>\n",
              "      <td>0.804669</td>\n",
              "      <td>1.132313</td>\n",
              "      <td>-0.390709</td>\n",
              "    </tr>\n",
              "    <tr>\n",
              "      <th>1</th>\n",
              "      <td>0.267906</td>\n",
              "      <td>-1.309419</td>\n",
              "      <td>0.193103</td>\n",
              "      <td>-0.620758</td>\n",
              "    </tr>\n",
              "    <tr>\n",
              "      <th>2</th>\n",
              "      <td>-0.721132</td>\n",
              "      <td>-0.298812</td>\n",
              "      <td>1.482939</td>\n",
              "      <td>0.208075</td>\n",
              "    </tr>\n",
              "    <tr>\n",
              "      <th>3</th>\n",
              "      <td>-1.497731</td>\n",
              "      <td>-0.520029</td>\n",
              "      <td>0.330782</td>\n",
              "      <td>0.200637</td>\n",
              "    </tr>\n",
              "  </tbody>\n",
              "</table>\n",
              "</div>"
            ],
            "text/plain": [
              "          A         B         C         D\n",
              "0  0.059773  0.804669  1.132313 -0.390709\n",
              "1  0.267906 -1.309419  0.193103 -0.620758\n",
              "2 -0.721132 -0.298812  1.482939  0.208075\n",
              "3 -1.497731 -0.520029  0.330782  0.200637"
            ]
          },
          "metadata": {
            "tags": []
          },
          "execution_count": 55
        }
      ]
    },
    {
      "cell_type": "code",
      "metadata": {
        "colab": {
          "base_uri": "https://localhost:8080/",
          "height": 171
        },
        "id": "sqMkrYhh3KGm",
        "outputId": "717477d6-2d84-482b-d954-d13fac77341a"
      },
      "source": [
        "df = df.apply(abs)\r\n",
        "df"
      ],
      "execution_count": null,
      "outputs": [
        {
          "output_type": "execute_result",
          "data": {
            "text/html": [
              "<div>\n",
              "<style scoped>\n",
              "    .dataframe tbody tr th:only-of-type {\n",
              "        vertical-align: middle;\n",
              "    }\n",
              "\n",
              "    .dataframe tbody tr th {\n",
              "        vertical-align: top;\n",
              "    }\n",
              "\n",
              "    .dataframe thead th {\n",
              "        text-align: right;\n",
              "    }\n",
              "</style>\n",
              "<table border=\"1\" class=\"dataframe\">\n",
              "  <thead>\n",
              "    <tr style=\"text-align: right;\">\n",
              "      <th></th>\n",
              "      <th>A</th>\n",
              "      <th>B</th>\n",
              "      <th>C</th>\n",
              "      <th>D</th>\n",
              "    </tr>\n",
              "  </thead>\n",
              "  <tbody>\n",
              "    <tr>\n",
              "      <th>0</th>\n",
              "      <td>0.059773</td>\n",
              "      <td>0.804669</td>\n",
              "      <td>1.132313</td>\n",
              "      <td>0.390709</td>\n",
              "    </tr>\n",
              "    <tr>\n",
              "      <th>1</th>\n",
              "      <td>0.267906</td>\n",
              "      <td>1.309419</td>\n",
              "      <td>0.193103</td>\n",
              "      <td>0.620758</td>\n",
              "    </tr>\n",
              "    <tr>\n",
              "      <th>2</th>\n",
              "      <td>0.721132</td>\n",
              "      <td>0.298812</td>\n",
              "      <td>1.482939</td>\n",
              "      <td>0.208075</td>\n",
              "    </tr>\n",
              "    <tr>\n",
              "      <th>3</th>\n",
              "      <td>1.497731</td>\n",
              "      <td>0.520029</td>\n",
              "      <td>0.330782</td>\n",
              "      <td>0.200637</td>\n",
              "    </tr>\n",
              "  </tbody>\n",
              "</table>\n",
              "</div>"
            ],
            "text/plain": [
              "          A         B         C         D\n",
              "0  0.059773  0.804669  1.132313  0.390709\n",
              "1  0.267906  1.309419  0.193103  0.620758\n",
              "2  0.721132  0.298812  1.482939  0.208075\n",
              "3  1.497731  0.520029  0.330782  0.200637"
            ]
          },
          "metadata": {
            "tags": []
          },
          "execution_count": 56
        }
      ]
    },
    {
      "cell_type": "code",
      "metadata": {
        "colab": {
          "base_uri": "https://localhost:8080/",
          "height": 171
        },
        "id": "TcKEDgF53e6-",
        "outputId": "b2caba84-63c6-49ba-edbd-ad81c2d76f74"
      },
      "source": [
        "df.apply(np.cumsum)"
      ],
      "execution_count": null,
      "outputs": [
        {
          "output_type": "execute_result",
          "data": {
            "text/html": [
              "<div>\n",
              "<style scoped>\n",
              "    .dataframe tbody tr th:only-of-type {\n",
              "        vertical-align: middle;\n",
              "    }\n",
              "\n",
              "    .dataframe tbody tr th {\n",
              "        vertical-align: top;\n",
              "    }\n",
              "\n",
              "    .dataframe thead th {\n",
              "        text-align: right;\n",
              "    }\n",
              "</style>\n",
              "<table border=\"1\" class=\"dataframe\">\n",
              "  <thead>\n",
              "    <tr style=\"text-align: right;\">\n",
              "      <th></th>\n",
              "      <th>A</th>\n",
              "      <th>B</th>\n",
              "      <th>C</th>\n",
              "      <th>D</th>\n",
              "    </tr>\n",
              "  </thead>\n",
              "  <tbody>\n",
              "    <tr>\n",
              "      <th>0</th>\n",
              "      <td>0.059773</td>\n",
              "      <td>0.804669</td>\n",
              "      <td>1.132313</td>\n",
              "      <td>0.390709</td>\n",
              "    </tr>\n",
              "    <tr>\n",
              "      <th>1</th>\n",
              "      <td>0.327679</td>\n",
              "      <td>2.114089</td>\n",
              "      <td>1.325416</td>\n",
              "      <td>1.011468</td>\n",
              "    </tr>\n",
              "    <tr>\n",
              "      <th>2</th>\n",
              "      <td>1.048811</td>\n",
              "      <td>2.412901</td>\n",
              "      <td>2.808354</td>\n",
              "      <td>1.219543</td>\n",
              "    </tr>\n",
              "    <tr>\n",
              "      <th>3</th>\n",
              "      <td>2.546543</td>\n",
              "      <td>2.932930</td>\n",
              "      <td>3.139137</td>\n",
              "      <td>1.420179</td>\n",
              "    </tr>\n",
              "  </tbody>\n",
              "</table>\n",
              "</div>"
            ],
            "text/plain": [
              "          A         B         C         D\n",
              "0  0.059773  0.804669  1.132313  0.390709\n",
              "1  0.327679  2.114089  1.325416  1.011468\n",
              "2  1.048811  2.412901  2.808354  1.219543\n",
              "3  2.546543  2.932930  3.139137  1.420179"
            ]
          },
          "metadata": {
            "tags": []
          },
          "execution_count": 57
        }
      ]
    },
    {
      "cell_type": "code",
      "metadata": {
        "colab": {
          "base_uri": "https://localhost:8080/"
        },
        "id": "0g1JnXyS3NlN",
        "outputId": "c31092b8-a2d6-4e0b-d86b-e15e6d789282"
      },
      "source": [
        "df.apply(lambda x: x.max() - x.min())"
      ],
      "execution_count": null,
      "outputs": [
        {
          "output_type": "execute_result",
          "data": {
            "text/plain": [
              "A    1.437958\n",
              "B    1.010607\n",
              "C    1.289836\n",
              "D    0.420121\n",
              "dtype: float64"
            ]
          },
          "metadata": {
            "tags": []
          },
          "execution_count": 58
        }
      ]
    },
    {
      "cell_type": "markdown",
      "metadata": {
        "id": "pLZu_a-1Sjm1"
      },
      "source": [
        "### `Drop`\r\n",
        "row 또는 column 을 삭제할 수 있음\r\n",
        "\r\n",
        "\r\n"
      ]
    },
    {
      "cell_type": "code",
      "metadata": {
        "colab": {
          "base_uri": "https://localhost:8080/",
          "height": 141
        },
        "id": "KriayN9Z9yjf",
        "outputId": "76ff1314-c72a-4f65-867f-4f5c63181da9"
      },
      "source": [
        "df = pd.DataFrame(np.arange(12).reshape(3, 4),\r\n",
        "                  columns=['A', 'B', 'C', 'D'])\r\n",
        "\r\n",
        "df"
      ],
      "execution_count": null,
      "outputs": [
        {
          "output_type": "execute_result",
          "data": {
            "text/html": [
              "<div>\n",
              "<style scoped>\n",
              "    .dataframe tbody tr th:only-of-type {\n",
              "        vertical-align: middle;\n",
              "    }\n",
              "\n",
              "    .dataframe tbody tr th {\n",
              "        vertical-align: top;\n",
              "    }\n",
              "\n",
              "    .dataframe thead th {\n",
              "        text-align: right;\n",
              "    }\n",
              "</style>\n",
              "<table border=\"1\" class=\"dataframe\">\n",
              "  <thead>\n",
              "    <tr style=\"text-align: right;\">\n",
              "      <th></th>\n",
              "      <th>A</th>\n",
              "      <th>B</th>\n",
              "      <th>C</th>\n",
              "      <th>D</th>\n",
              "    </tr>\n",
              "  </thead>\n",
              "  <tbody>\n",
              "    <tr>\n",
              "      <th>0</th>\n",
              "      <td>0</td>\n",
              "      <td>1</td>\n",
              "      <td>2</td>\n",
              "      <td>3</td>\n",
              "    </tr>\n",
              "    <tr>\n",
              "      <th>1</th>\n",
              "      <td>4</td>\n",
              "      <td>5</td>\n",
              "      <td>6</td>\n",
              "      <td>7</td>\n",
              "    </tr>\n",
              "    <tr>\n",
              "      <th>2</th>\n",
              "      <td>8</td>\n",
              "      <td>9</td>\n",
              "      <td>10</td>\n",
              "      <td>11</td>\n",
              "    </tr>\n",
              "  </tbody>\n",
              "</table>\n",
              "</div>"
            ],
            "text/plain": [
              "   A  B   C   D\n",
              "0  0  1   2   3\n",
              "1  4  5   6   7\n",
              "2  8  9  10  11"
            ]
          },
          "metadata": {
            "tags": []
          },
          "execution_count": 121
        }
      ]
    },
    {
      "cell_type": "code",
      "metadata": {
        "colab": {
          "base_uri": "https://localhost:8080/",
          "height": 141
        },
        "id": "0e-GCfEw927-",
        "outputId": "8eb37b21-79c7-4c3e-fc7b-315677b21f78"
      },
      "source": [
        "# 열 삭제\r\n",
        "df.drop(['B', 'C'], axis=1) # 또는 df.drop(columns=['B', 'C'])"
      ],
      "execution_count": null,
      "outputs": [
        {
          "output_type": "execute_result",
          "data": {
            "text/html": [
              "<div>\n",
              "<style scoped>\n",
              "    .dataframe tbody tr th:only-of-type {\n",
              "        vertical-align: middle;\n",
              "    }\n",
              "\n",
              "    .dataframe tbody tr th {\n",
              "        vertical-align: top;\n",
              "    }\n",
              "\n",
              "    .dataframe thead th {\n",
              "        text-align: right;\n",
              "    }\n",
              "</style>\n",
              "<table border=\"1\" class=\"dataframe\">\n",
              "  <thead>\n",
              "    <tr style=\"text-align: right;\">\n",
              "      <th></th>\n",
              "      <th>A</th>\n",
              "      <th>D</th>\n",
              "    </tr>\n",
              "  </thead>\n",
              "  <tbody>\n",
              "    <tr>\n",
              "      <th>0</th>\n",
              "      <td>0</td>\n",
              "      <td>3</td>\n",
              "    </tr>\n",
              "    <tr>\n",
              "      <th>1</th>\n",
              "      <td>4</td>\n",
              "      <td>7</td>\n",
              "    </tr>\n",
              "    <tr>\n",
              "      <th>2</th>\n",
              "      <td>8</td>\n",
              "      <td>11</td>\n",
              "    </tr>\n",
              "  </tbody>\n",
              "</table>\n",
              "</div>"
            ],
            "text/plain": [
              "   A   D\n",
              "0  0   3\n",
              "1  4   7\n",
              "2  8  11"
            ]
          },
          "metadata": {
            "tags": []
          },
          "execution_count": 122
        }
      ]
    },
    {
      "cell_type": "code",
      "metadata": {
        "colab": {
          "base_uri": "https://localhost:8080/",
          "height": 79
        },
        "id": "u9IOTYW1-vx1",
        "outputId": "7c05b0f5-896a-47ff-9d94-a0bcdb78440c"
      },
      "source": [
        "# 행 삭제\r\n",
        "df.drop([0, 1], axis=0)"
      ],
      "execution_count": null,
      "outputs": [
        {
          "output_type": "execute_result",
          "data": {
            "text/html": [
              "<div>\n",
              "<style scoped>\n",
              "    .dataframe tbody tr th:only-of-type {\n",
              "        vertical-align: middle;\n",
              "    }\n",
              "\n",
              "    .dataframe tbody tr th {\n",
              "        vertical-align: top;\n",
              "    }\n",
              "\n",
              "    .dataframe thead th {\n",
              "        text-align: right;\n",
              "    }\n",
              "</style>\n",
              "<table border=\"1\" class=\"dataframe\">\n",
              "  <thead>\n",
              "    <tr style=\"text-align: right;\">\n",
              "      <th></th>\n",
              "      <th>A</th>\n",
              "      <th>B</th>\n",
              "      <th>C</th>\n",
              "      <th>D</th>\n",
              "    </tr>\n",
              "  </thead>\n",
              "  <tbody>\n",
              "    <tr>\n",
              "      <th>2</th>\n",
              "      <td>8</td>\n",
              "      <td>9</td>\n",
              "      <td>10</td>\n",
              "      <td>11</td>\n",
              "    </tr>\n",
              "  </tbody>\n",
              "</table>\n",
              "</div>"
            ],
            "text/plain": [
              "   A  B   C   D\n",
              "2  8  9  10  11"
            ]
          },
          "metadata": {
            "tags": []
          },
          "execution_count": 125
        }
      ]
    },
    {
      "cell_type": "code",
      "metadata": {
        "colab": {
          "base_uri": "https://localhost:8080/",
          "height": 79
        },
        "id": "PHoPBJn6-BmV",
        "outputId": "9d9985a2-ef47-47bd-e183-efe4b4c805bc"
      },
      "source": [
        "# 행 삭제\r\n",
        "df.drop([0, 1])     # axis=0 이 기본값임"
      ],
      "execution_count": null,
      "outputs": [
        {
          "output_type": "execute_result",
          "data": {
            "text/html": [
              "<div>\n",
              "<style scoped>\n",
              "    .dataframe tbody tr th:only-of-type {\n",
              "        vertical-align: middle;\n",
              "    }\n",
              "\n",
              "    .dataframe tbody tr th {\n",
              "        vertical-align: top;\n",
              "    }\n",
              "\n",
              "    .dataframe thead th {\n",
              "        text-align: right;\n",
              "    }\n",
              "</style>\n",
              "<table border=\"1\" class=\"dataframe\">\n",
              "  <thead>\n",
              "    <tr style=\"text-align: right;\">\n",
              "      <th></th>\n",
              "      <th>A</th>\n",
              "      <th>B</th>\n",
              "      <th>C</th>\n",
              "      <th>D</th>\n",
              "    </tr>\n",
              "  </thead>\n",
              "  <tbody>\n",
              "    <tr>\n",
              "      <th>2</th>\n",
              "      <td>8</td>\n",
              "      <td>9</td>\n",
              "      <td>10</td>\n",
              "      <td>11</td>\n",
              "    </tr>\n",
              "  </tbody>\n",
              "</table>\n",
              "</div>"
            ],
            "text/plain": [
              "   A  B   C   D\n",
              "2  8  9  10  11"
            ]
          },
          "metadata": {
            "tags": []
          },
          "execution_count": 62
        }
      ]
    },
    {
      "cell_type": "markdown",
      "metadata": {
        "id": "AjsM8JUSoOkM"
      },
      "source": [
        "## 계층적 Indexing"
      ]
    },
    {
      "cell_type": "code",
      "metadata": {
        "id": "JuphUkbPSjO5"
      },
      "source": [
        "tuples = list(zip(*[['bar', 'bar', 'baz', 'baz',\r\n",
        "                      'foo', 'foo', 'qux', 'qux'],\r\n",
        "                     ['one', 'two', 'one', 'two',\r\n",
        "                      'one', 'two', 'one', 'two']]\r\n",
        "                  ))"
      ],
      "execution_count": null,
      "outputs": []
    },
    {
      "cell_type": "code",
      "metadata": {
        "colab": {
          "base_uri": "https://localhost:8080/"
        },
        "id": "nhgeO1e6nwQB",
        "outputId": "e7eb3302-c24f-4437-a4a8-f6c47868be37"
      },
      "source": [
        "tuples"
      ],
      "execution_count": null,
      "outputs": [
        {
          "output_type": "execute_result",
          "data": {
            "text/plain": [
              "[('bar', 'one'),\n",
              " ('bar', 'two'),\n",
              " ('baz', 'one'),\n",
              " ('baz', 'two'),\n",
              " ('foo', 'one'),\n",
              " ('foo', 'two'),\n",
              " ('qux', 'one'),\n",
              " ('qux', 'two')]"
            ]
          },
          "metadata": {
            "tags": []
          },
          "execution_count": 64
        }
      ]
    },
    {
      "cell_type": "code",
      "metadata": {
        "colab": {
          "base_uri": "https://localhost:8080/"
        },
        "id": "FluWTruKnxz2",
        "outputId": "8d60dfe7-b91d-47be-b6d5-958b1ec0f92b"
      },
      "source": [
        "index = pd.MultiIndex.from_tuples(tuples, names=['first', 'second']) # index 에는 name이 존재함\r\n",
        "\r\n",
        "index"
      ],
      "execution_count": null,
      "outputs": [
        {
          "output_type": "execute_result",
          "data": {
            "text/plain": [
              "MultiIndex([('bar', 'one'),\n",
              "            ('bar', 'two'),\n",
              "            ('baz', 'one'),\n",
              "            ('baz', 'two'),\n",
              "            ('foo', 'one'),\n",
              "            ('foo', 'two'),\n",
              "            ('qux', 'one'),\n",
              "            ('qux', 'two')],\n",
              "           names=['first', 'second'])"
            ]
          },
          "metadata": {
            "tags": []
          },
          "execution_count": 65
        }
      ]
    },
    {
      "cell_type": "code",
      "metadata": {
        "colab": {
          "base_uri": "https://localhost:8080/",
          "height": 325
        },
        "id": "XjHgjrUFn02E",
        "outputId": "7285c9dc-2a47-4557-cf91-9c6a3c097565"
      },
      "source": [
        "df = pd.DataFrame(np.random.randn(8, 2), index=index, columns=['A', 'B'])\r\n",
        "\r\n",
        "df"
      ],
      "execution_count": null,
      "outputs": [
        {
          "output_type": "execute_result",
          "data": {
            "text/html": [
              "<div>\n",
              "<style scoped>\n",
              "    .dataframe tbody tr th:only-of-type {\n",
              "        vertical-align: middle;\n",
              "    }\n",
              "\n",
              "    .dataframe tbody tr th {\n",
              "        vertical-align: top;\n",
              "    }\n",
              "\n",
              "    .dataframe thead th {\n",
              "        text-align: right;\n",
              "    }\n",
              "</style>\n",
              "<table border=\"1\" class=\"dataframe\">\n",
              "  <thead>\n",
              "    <tr style=\"text-align: right;\">\n",
              "      <th></th>\n",
              "      <th></th>\n",
              "      <th>A</th>\n",
              "      <th>B</th>\n",
              "    </tr>\n",
              "    <tr>\n",
              "      <th>first</th>\n",
              "      <th>second</th>\n",
              "      <th></th>\n",
              "      <th></th>\n",
              "    </tr>\n",
              "  </thead>\n",
              "  <tbody>\n",
              "    <tr>\n",
              "      <th rowspan=\"2\" valign=\"top\">bar</th>\n",
              "      <th>one</th>\n",
              "      <td>0.470476</td>\n",
              "      <td>0.221796</td>\n",
              "    </tr>\n",
              "    <tr>\n",
              "      <th>two</th>\n",
              "      <td>-1.147254</td>\n",
              "      <td>-0.726482</td>\n",
              "    </tr>\n",
              "    <tr>\n",
              "      <th rowspan=\"2\" valign=\"top\">baz</th>\n",
              "      <th>one</th>\n",
              "      <td>-0.201063</td>\n",
              "      <td>-0.882343</td>\n",
              "    </tr>\n",
              "    <tr>\n",
              "      <th>two</th>\n",
              "      <td>0.813602</td>\n",
              "      <td>0.485262</td>\n",
              "    </tr>\n",
              "    <tr>\n",
              "      <th rowspan=\"2\" valign=\"top\">foo</th>\n",
              "      <th>one</th>\n",
              "      <td>1.846207</td>\n",
              "      <td>-1.513827</td>\n",
              "    </tr>\n",
              "    <tr>\n",
              "      <th>two</th>\n",
              "      <td>2.737859</td>\n",
              "      <td>-0.612023</td>\n",
              "    </tr>\n",
              "    <tr>\n",
              "      <th rowspan=\"2\" valign=\"top\">qux</th>\n",
              "      <th>one</th>\n",
              "      <td>0.325527</td>\n",
              "      <td>-1.012566</td>\n",
              "    </tr>\n",
              "    <tr>\n",
              "      <th>two</th>\n",
              "      <td>-1.057021</td>\n",
              "      <td>-1.484232</td>\n",
              "    </tr>\n",
              "  </tbody>\n",
              "</table>\n",
              "</div>"
            ],
            "text/plain": [
              "                     A         B\n",
              "first second                    \n",
              "bar   one     0.470476  0.221796\n",
              "      two    -1.147254 -0.726482\n",
              "baz   one    -0.201063 -0.882343\n",
              "      two     0.813602  0.485262\n",
              "foo   one     1.846207 -1.513827\n",
              "      two     2.737859 -0.612023\n",
              "qux   one     0.325527 -1.012566\n",
              "      two    -1.057021 -1.484232"
            ]
          },
          "metadata": {
            "tags": []
          },
          "execution_count": 66
        }
      ]
    },
    {
      "cell_type": "code",
      "metadata": {
        "colab": {
          "base_uri": "https://localhost:8080/",
          "height": 141
        },
        "id": "Gd72-g8BpL7y",
        "outputId": "f7618d35-1f68-47b9-cae7-ddc6b1b1d0ea"
      },
      "source": [
        "df.loc['bar']"
      ],
      "execution_count": null,
      "outputs": [
        {
          "output_type": "execute_result",
          "data": {
            "text/html": [
              "<div>\n",
              "<style scoped>\n",
              "    .dataframe tbody tr th:only-of-type {\n",
              "        vertical-align: middle;\n",
              "    }\n",
              "\n",
              "    .dataframe tbody tr th {\n",
              "        vertical-align: top;\n",
              "    }\n",
              "\n",
              "    .dataframe thead th {\n",
              "        text-align: right;\n",
              "    }\n",
              "</style>\n",
              "<table border=\"1\" class=\"dataframe\">\n",
              "  <thead>\n",
              "    <tr style=\"text-align: right;\">\n",
              "      <th></th>\n",
              "      <th>A</th>\n",
              "      <th>B</th>\n",
              "    </tr>\n",
              "    <tr>\n",
              "      <th>second</th>\n",
              "      <th></th>\n",
              "      <th></th>\n",
              "    </tr>\n",
              "  </thead>\n",
              "  <tbody>\n",
              "    <tr>\n",
              "      <th>one</th>\n",
              "      <td>0.470476</td>\n",
              "      <td>0.221796</td>\n",
              "    </tr>\n",
              "    <tr>\n",
              "      <th>two</th>\n",
              "      <td>-1.147254</td>\n",
              "      <td>-0.726482</td>\n",
              "    </tr>\n",
              "  </tbody>\n",
              "</table>\n",
              "</div>"
            ],
            "text/plain": [
              "               A         B\n",
              "second                    \n",
              "one     0.470476  0.221796\n",
              "two    -1.147254 -0.726482"
            ]
          },
          "metadata": {
            "tags": []
          },
          "execution_count": 67
        }
      ]
    },
    {
      "cell_type": "code",
      "metadata": {
        "colab": {
          "base_uri": "https://localhost:8080/"
        },
        "id": "_OexrDHHpk-9",
        "outputId": "4f4ad10e-451d-41b6-cd92-c3bee5b4d15b"
      },
      "source": [
        "df.loc[('bar', 'one')]  # "
      ],
      "execution_count": null,
      "outputs": [
        {
          "output_type": "execute_result",
          "data": {
            "text/plain": [
              "A    0.470476\n",
              "B    0.221796\n",
              "Name: (bar, one), dtype: float64"
            ]
          },
          "metadata": {
            "tags": []
          },
          "execution_count": 68
        }
      ]
    },
    {
      "cell_type": "code",
      "metadata": {
        "colab": {
          "base_uri": "https://localhost:8080/"
        },
        "id": "E80w5ZYBq93R",
        "outputId": "43a41ee3-164d-422a-fad0-03a3798a32b8"
      },
      "source": [
        "df.loc['bar', 'one']['A']"
      ],
      "execution_count": null,
      "outputs": [
        {
          "output_type": "execute_result",
          "data": {
            "text/plain": [
              "0.4704758107467401"
            ]
          },
          "metadata": {
            "tags": []
          },
          "execution_count": 69
        }
      ]
    },
    {
      "cell_type": "code",
      "metadata": {
        "colab": {
          "base_uri": "https://localhost:8080/",
          "height": 141
        },
        "id": "F0d_B5t2pm-O",
        "outputId": "463d63ec-45a6-456b-d156-7b1ecc68b02e"
      },
      "source": [
        "df.loc['baz']"
      ],
      "execution_count": null,
      "outputs": [
        {
          "output_type": "execute_result",
          "data": {
            "text/html": [
              "<div>\n",
              "<style scoped>\n",
              "    .dataframe tbody tr th:only-of-type {\n",
              "        vertical-align: middle;\n",
              "    }\n",
              "\n",
              "    .dataframe tbody tr th {\n",
              "        vertical-align: top;\n",
              "    }\n",
              "\n",
              "    .dataframe thead th {\n",
              "        text-align: right;\n",
              "    }\n",
              "</style>\n",
              "<table border=\"1\" class=\"dataframe\">\n",
              "  <thead>\n",
              "    <tr style=\"text-align: right;\">\n",
              "      <th></th>\n",
              "      <th>A</th>\n",
              "      <th>B</th>\n",
              "    </tr>\n",
              "    <tr>\n",
              "      <th>second</th>\n",
              "      <th></th>\n",
              "      <th></th>\n",
              "    </tr>\n",
              "  </thead>\n",
              "  <tbody>\n",
              "    <tr>\n",
              "      <th>one</th>\n",
              "      <td>-0.201063</td>\n",
              "      <td>-0.882343</td>\n",
              "    </tr>\n",
              "    <tr>\n",
              "      <th>two</th>\n",
              "      <td>0.813602</td>\n",
              "      <td>0.485262</td>\n",
              "    </tr>\n",
              "  </tbody>\n",
              "</table>\n",
              "</div>"
            ],
            "text/plain": [
              "               A         B\n",
              "second                    \n",
              "one    -0.201063 -0.882343\n",
              "two     0.813602  0.485262"
            ]
          },
          "metadata": {
            "tags": []
          },
          "execution_count": 70
        }
      ]
    },
    {
      "cell_type": "code",
      "metadata": {
        "colab": {
          "base_uri": "https://localhost:8080/"
        },
        "id": "VoWBaRL3n1xn",
        "outputId": "48e3ac5c-a5f5-4689-ed81-636b352820ce"
      },
      "source": [
        "# 계층적 Indexing의 다른 방법 (1)\r\n",
        "arrays = [np.array(['bar', 'bar', 'baz', 'baz', 'foo', 'foo', 'qux', 'qux']),\r\n",
        "          np.array(['one', 'two', 'one', 'two', 'one', 'two', 'one', 'two'])]\r\n",
        "\r\n",
        "# Series\r\n",
        "s = pd.Series(np.random.randn(8), index=arrays)\r\n",
        "s"
      ],
      "execution_count": null,
      "outputs": [
        {
          "output_type": "execute_result",
          "data": {
            "text/plain": [
              "bar  one   -1.022539\n",
              "     two   -0.776866\n",
              "baz  one   -0.818310\n",
              "     two    1.885883\n",
              "foo  one    0.757033\n",
              "     two    0.863442\n",
              "qux  one   -1.011522\n",
              "     two   -1.495073\n",
              "dtype: float64"
            ]
          },
          "metadata": {
            "tags": []
          },
          "execution_count": 71
        }
      ]
    },
    {
      "cell_type": "code",
      "metadata": {
        "colab": {
          "base_uri": "https://localhost:8080/",
          "height": 294
        },
        "id": "Na9zHqGvqaHW",
        "outputId": "f299bbe0-7399-42c1-b598-f8d83b130d6b"
      },
      "source": [
        "# DataFrame\r\n",
        "df_2 = pd.DataFrame(np.random.randn(8, 4), index=arrays)\r\n",
        "df_2"
      ],
      "execution_count": null,
      "outputs": [
        {
          "output_type": "execute_result",
          "data": {
            "text/html": [
              "<div>\n",
              "<style scoped>\n",
              "    .dataframe tbody tr th:only-of-type {\n",
              "        vertical-align: middle;\n",
              "    }\n",
              "\n",
              "    .dataframe tbody tr th {\n",
              "        vertical-align: top;\n",
              "    }\n",
              "\n",
              "    .dataframe thead th {\n",
              "        text-align: right;\n",
              "    }\n",
              "</style>\n",
              "<table border=\"1\" class=\"dataframe\">\n",
              "  <thead>\n",
              "    <tr style=\"text-align: right;\">\n",
              "      <th></th>\n",
              "      <th></th>\n",
              "      <th>0</th>\n",
              "      <th>1</th>\n",
              "      <th>2</th>\n",
              "      <th>3</th>\n",
              "    </tr>\n",
              "  </thead>\n",
              "  <tbody>\n",
              "    <tr>\n",
              "      <th rowspan=\"2\" valign=\"top\">bar</th>\n",
              "      <th>one</th>\n",
              "      <td>-2.177304</td>\n",
              "      <td>0.830099</td>\n",
              "      <td>-0.050426</td>\n",
              "      <td>0.319657</td>\n",
              "    </tr>\n",
              "    <tr>\n",
              "      <th>two</th>\n",
              "      <td>1.138023</td>\n",
              "      <td>-0.356513</td>\n",
              "      <td>0.441398</td>\n",
              "      <td>-0.224939</td>\n",
              "    </tr>\n",
              "    <tr>\n",
              "      <th rowspan=\"2\" valign=\"top\">baz</th>\n",
              "      <th>one</th>\n",
              "      <td>-1.153098</td>\n",
              "      <td>1.582326</td>\n",
              "      <td>-2.414506</td>\n",
              "      <td>0.374624</td>\n",
              "    </tr>\n",
              "    <tr>\n",
              "      <th>two</th>\n",
              "      <td>-0.985042</td>\n",
              "      <td>-0.627109</td>\n",
              "      <td>-0.412211</td>\n",
              "      <td>0.215228</td>\n",
              "    </tr>\n",
              "    <tr>\n",
              "      <th rowspan=\"2\" valign=\"top\">foo</th>\n",
              "      <th>one</th>\n",
              "      <td>1.038103</td>\n",
              "      <td>-0.456952</td>\n",
              "      <td>-0.922246</td>\n",
              "      <td>-0.945830</td>\n",
              "    </tr>\n",
              "    <tr>\n",
              "      <th>two</th>\n",
              "      <td>0.680473</td>\n",
              "      <td>0.621257</td>\n",
              "      <td>-0.922163</td>\n",
              "      <td>-0.730633</td>\n",
              "    </tr>\n",
              "    <tr>\n",
              "      <th rowspan=\"2\" valign=\"top\">qux</th>\n",
              "      <th>one</th>\n",
              "      <td>0.225044</td>\n",
              "      <td>0.603576</td>\n",
              "      <td>0.745900</td>\n",
              "      <td>-0.998424</td>\n",
              "    </tr>\n",
              "    <tr>\n",
              "      <th>two</th>\n",
              "      <td>0.465505</td>\n",
              "      <td>0.616787</td>\n",
              "      <td>-2.703231</td>\n",
              "      <td>-0.273301</td>\n",
              "    </tr>\n",
              "  </tbody>\n",
              "</table>\n",
              "</div>"
            ],
            "text/plain": [
              "                0         1         2         3\n",
              "bar one -2.177304  0.830099 -0.050426  0.319657\n",
              "    two  1.138023 -0.356513  0.441398 -0.224939\n",
              "baz one -1.153098  1.582326 -2.414506  0.374624\n",
              "    two -0.985042 -0.627109 -0.412211  0.215228\n",
              "foo one  1.038103 -0.456952 -0.922246 -0.945830\n",
              "    two  0.680473  0.621257 -0.922163 -0.730633\n",
              "qux one  0.225044  0.603576  0.745900 -0.998424\n",
              "    two  0.465505  0.616787 -2.703231 -0.273301"
            ]
          },
          "metadata": {
            "tags": []
          },
          "execution_count": 72
        }
      ]
    },
    {
      "cell_type": "code",
      "metadata": {
        "colab": {
          "base_uri": "https://localhost:8080/",
          "height": 202
        },
        "id": "1cB_RLVOqg-u",
        "outputId": "c5bf5c23-41cd-42e7-ee24-33737c944642"
      },
      "source": [
        "transposed_df = df_2.T\r\n",
        "transposed_df"
      ],
      "execution_count": null,
      "outputs": [
        {
          "output_type": "execute_result",
          "data": {
            "text/html": [
              "<div>\n",
              "<style scoped>\n",
              "    .dataframe tbody tr th:only-of-type {\n",
              "        vertical-align: middle;\n",
              "    }\n",
              "\n",
              "    .dataframe tbody tr th {\n",
              "        vertical-align: top;\n",
              "    }\n",
              "\n",
              "    .dataframe thead tr th {\n",
              "        text-align: left;\n",
              "    }\n",
              "</style>\n",
              "<table border=\"1\" class=\"dataframe\">\n",
              "  <thead>\n",
              "    <tr>\n",
              "      <th></th>\n",
              "      <th colspan=\"2\" halign=\"left\">bar</th>\n",
              "      <th colspan=\"2\" halign=\"left\">baz</th>\n",
              "      <th colspan=\"2\" halign=\"left\">foo</th>\n",
              "      <th colspan=\"2\" halign=\"left\">qux</th>\n",
              "    </tr>\n",
              "    <tr>\n",
              "      <th></th>\n",
              "      <th>one</th>\n",
              "      <th>two</th>\n",
              "      <th>one</th>\n",
              "      <th>two</th>\n",
              "      <th>one</th>\n",
              "      <th>two</th>\n",
              "      <th>one</th>\n",
              "      <th>two</th>\n",
              "    </tr>\n",
              "  </thead>\n",
              "  <tbody>\n",
              "    <tr>\n",
              "      <th>0</th>\n",
              "      <td>-2.177304</td>\n",
              "      <td>1.138023</td>\n",
              "      <td>-1.153098</td>\n",
              "      <td>-0.985042</td>\n",
              "      <td>1.038103</td>\n",
              "      <td>0.680473</td>\n",
              "      <td>0.225044</td>\n",
              "      <td>0.465505</td>\n",
              "    </tr>\n",
              "    <tr>\n",
              "      <th>1</th>\n",
              "      <td>0.830099</td>\n",
              "      <td>-0.356513</td>\n",
              "      <td>1.582326</td>\n",
              "      <td>-0.627109</td>\n",
              "      <td>-0.456952</td>\n",
              "      <td>0.621257</td>\n",
              "      <td>0.603576</td>\n",
              "      <td>0.616787</td>\n",
              "    </tr>\n",
              "    <tr>\n",
              "      <th>2</th>\n",
              "      <td>-0.050426</td>\n",
              "      <td>0.441398</td>\n",
              "      <td>-2.414506</td>\n",
              "      <td>-0.412211</td>\n",
              "      <td>-0.922246</td>\n",
              "      <td>-0.922163</td>\n",
              "      <td>0.745900</td>\n",
              "      <td>-2.703231</td>\n",
              "    </tr>\n",
              "    <tr>\n",
              "      <th>3</th>\n",
              "      <td>0.319657</td>\n",
              "      <td>-0.224939</td>\n",
              "      <td>0.374624</td>\n",
              "      <td>0.215228</td>\n",
              "      <td>-0.945830</td>\n",
              "      <td>-0.730633</td>\n",
              "      <td>-0.998424</td>\n",
              "      <td>-0.273301</td>\n",
              "    </tr>\n",
              "  </tbody>\n",
              "</table>\n",
              "</div>"
            ],
            "text/plain": [
              "        bar                 baz  ...       foo       qux          \n",
              "        one       two       one  ...       two       one       two\n",
              "0 -2.177304  1.138023 -1.153098  ...  0.680473  0.225044  0.465505\n",
              "1  0.830099 -0.356513  1.582326  ...  0.621257  0.603576  0.616787\n",
              "2 -0.050426  0.441398 -2.414506  ... -0.922163  0.745900 -2.703231\n",
              "3  0.319657 -0.224939  0.374624  ... -0.730633 -0.998424 -0.273301\n",
              "\n",
              "[4 rows x 8 columns]"
            ]
          },
          "metadata": {
            "tags": []
          },
          "execution_count": 73
        }
      ]
    },
    {
      "cell_type": "code",
      "metadata": {
        "colab": {
          "base_uri": "https://localhost:8080/",
          "height": 171
        },
        "id": "8fgyPCFHrUS0",
        "outputId": "3a316c22-ed7b-4525-a21b-81c9be786c54"
      },
      "source": [
        "transposed_df['bar']"
      ],
      "execution_count": null,
      "outputs": [
        {
          "output_type": "execute_result",
          "data": {
            "text/html": [
              "<div>\n",
              "<style scoped>\n",
              "    .dataframe tbody tr th:only-of-type {\n",
              "        vertical-align: middle;\n",
              "    }\n",
              "\n",
              "    .dataframe tbody tr th {\n",
              "        vertical-align: top;\n",
              "    }\n",
              "\n",
              "    .dataframe thead th {\n",
              "        text-align: right;\n",
              "    }\n",
              "</style>\n",
              "<table border=\"1\" class=\"dataframe\">\n",
              "  <thead>\n",
              "    <tr style=\"text-align: right;\">\n",
              "      <th></th>\n",
              "      <th>one</th>\n",
              "      <th>two</th>\n",
              "    </tr>\n",
              "  </thead>\n",
              "  <tbody>\n",
              "    <tr>\n",
              "      <th>0</th>\n",
              "      <td>-2.177304</td>\n",
              "      <td>1.138023</td>\n",
              "    </tr>\n",
              "    <tr>\n",
              "      <th>1</th>\n",
              "      <td>0.830099</td>\n",
              "      <td>-0.356513</td>\n",
              "    </tr>\n",
              "    <tr>\n",
              "      <th>2</th>\n",
              "      <td>-0.050426</td>\n",
              "      <td>0.441398</td>\n",
              "    </tr>\n",
              "    <tr>\n",
              "      <th>3</th>\n",
              "      <td>0.319657</td>\n",
              "      <td>-0.224939</td>\n",
              "    </tr>\n",
              "  </tbody>\n",
              "</table>\n",
              "</div>"
            ],
            "text/plain": [
              "        one       two\n",
              "0 -2.177304  1.138023\n",
              "1  0.830099 -0.356513\n",
              "2 -0.050426  0.441398\n",
              "3  0.319657 -0.224939"
            ]
          },
          "metadata": {
            "tags": []
          },
          "execution_count": 74
        }
      ]
    },
    {
      "cell_type": "code",
      "metadata": {
        "colab": {
          "base_uri": "https://localhost:8080/"
        },
        "id": "c0LWKlAdrXmt",
        "outputId": "66c80c5b-3233-4ee4-a640-4d124fea4850"
      },
      "source": [
        "transposed_df['bar', 'one'].loc[0]"
      ],
      "execution_count": null,
      "outputs": [
        {
          "output_type": "execute_result",
          "data": {
            "text/plain": [
              "-2.177304121178392"
            ]
          },
          "metadata": {
            "tags": []
          },
          "execution_count": 75
        }
      ]
    },
    {
      "cell_type": "markdown",
      "metadata": {
        "id": "lcaBYBJTyXwB"
      },
      "source": [
        "### Stack\r\n",
        "\r\n",
        "columns 을 index로 옮기는 방법"
      ]
    },
    {
      "cell_type": "code",
      "metadata": {
        "id": "nGAscPPsyHyC"
      },
      "source": [
        "iterables = [['bar', 'baz', 'foo', 'qux'], ['one', 'two']]"
      ],
      "execution_count": null,
      "outputs": []
    },
    {
      "cell_type": "code",
      "metadata": {
        "colab": {
          "base_uri": "https://localhost:8080/"
        },
        "id": "HA5LXthqyPbr",
        "outputId": "faf33600-533e-4b60-f67f-f587d7381557"
      },
      "source": [
        "# 계층적 Indexing의 다른 방법 (2)\r\n",
        "# from_tuple이 아닌 from_product 로 생성, np.ix_\r\n",
        "index = pd.MultiIndex.from_product(iterables, names=['first', 'second'])\r\n",
        "\r\n",
        "index"
      ],
      "execution_count": null,
      "outputs": [
        {
          "output_type": "execute_result",
          "data": {
            "text/plain": [
              "MultiIndex([('bar', 'one'),\n",
              "            ('bar', 'two'),\n",
              "            ('baz', 'one'),\n",
              "            ('baz', 'two'),\n",
              "            ('foo', 'one'),\n",
              "            ('foo', 'two'),\n",
              "            ('qux', 'one'),\n",
              "            ('qux', 'two')],\n",
              "           names=['first', 'second'])"
            ]
          },
          "metadata": {
            "tags": []
          },
          "execution_count": 77
        }
      ]
    },
    {
      "cell_type": "code",
      "metadata": {
        "colab": {
          "base_uri": "https://localhost:8080/",
          "height": 325
        },
        "id": "8T9oYZYNyP6T",
        "outputId": "118feaad-1929-46dc-eabe-0695d0434e9e"
      },
      "source": [
        "df = pd.DataFrame(np.random.randn(8, 2), index=index, columns=['A', 'B'])\r\n",
        "\r\n",
        "df"
      ],
      "execution_count": null,
      "outputs": [
        {
          "output_type": "execute_result",
          "data": {
            "text/html": [
              "<div>\n",
              "<style scoped>\n",
              "    .dataframe tbody tr th:only-of-type {\n",
              "        vertical-align: middle;\n",
              "    }\n",
              "\n",
              "    .dataframe tbody tr th {\n",
              "        vertical-align: top;\n",
              "    }\n",
              "\n",
              "    .dataframe thead th {\n",
              "        text-align: right;\n",
              "    }\n",
              "</style>\n",
              "<table border=\"1\" class=\"dataframe\">\n",
              "  <thead>\n",
              "    <tr style=\"text-align: right;\">\n",
              "      <th></th>\n",
              "      <th></th>\n",
              "      <th>A</th>\n",
              "      <th>B</th>\n",
              "    </tr>\n",
              "    <tr>\n",
              "      <th>first</th>\n",
              "      <th>second</th>\n",
              "      <th></th>\n",
              "      <th></th>\n",
              "    </tr>\n",
              "  </thead>\n",
              "  <tbody>\n",
              "    <tr>\n",
              "      <th rowspan=\"2\" valign=\"top\">bar</th>\n",
              "      <th>one</th>\n",
              "      <td>-1.150751</td>\n",
              "      <td>-0.443088</td>\n",
              "    </tr>\n",
              "    <tr>\n",
              "      <th>two</th>\n",
              "      <td>0.588360</td>\n",
              "      <td>0.231696</td>\n",
              "    </tr>\n",
              "    <tr>\n",
              "      <th rowspan=\"2\" valign=\"top\">baz</th>\n",
              "      <th>one</th>\n",
              "      <td>1.425900</td>\n",
              "      <td>0.674998</td>\n",
              "    </tr>\n",
              "    <tr>\n",
              "      <th>two</th>\n",
              "      <td>0.728922</td>\n",
              "      <td>0.878611</td>\n",
              "    </tr>\n",
              "    <tr>\n",
              "      <th rowspan=\"2\" valign=\"top\">foo</th>\n",
              "      <th>one</th>\n",
              "      <td>0.116256</td>\n",
              "      <td>1.772124</td>\n",
              "    </tr>\n",
              "    <tr>\n",
              "      <th>two</th>\n",
              "      <td>0.019754</td>\n",
              "      <td>-0.889798</td>\n",
              "    </tr>\n",
              "    <tr>\n",
              "      <th rowspan=\"2\" valign=\"top\">qux</th>\n",
              "      <th>one</th>\n",
              "      <td>0.690537</td>\n",
              "      <td>-0.537745</td>\n",
              "    </tr>\n",
              "    <tr>\n",
              "      <th>two</th>\n",
              "      <td>0.681098</td>\n",
              "      <td>-1.711638</td>\n",
              "    </tr>\n",
              "  </tbody>\n",
              "</table>\n",
              "</div>"
            ],
            "text/plain": [
              "                     A         B\n",
              "first second                    \n",
              "bar   one    -1.150751 -0.443088\n",
              "      two     0.588360  0.231696\n",
              "baz   one     1.425900  0.674998\n",
              "      two     0.728922  0.878611\n",
              "foo   one     0.116256  1.772124\n",
              "      two     0.019754 -0.889798\n",
              "qux   one     0.690537 -0.537745\n",
              "      two     0.681098 -1.711638"
            ]
          },
          "metadata": {
            "tags": []
          },
          "execution_count": 78
        }
      ]
    },
    {
      "cell_type": "code",
      "metadata": {
        "colab": {
          "base_uri": "https://localhost:8080/",
          "height": 202
        },
        "id": "qkU8mKb-yqmS",
        "outputId": "fe87ef9c-c2a8-484a-a177-30e89a2c1adf"
      },
      "source": [
        "df2 = df[:4]   # slicing은 행에 대해 적용됨\r\n",
        "\r\n",
        "df2"
      ],
      "execution_count": null,
      "outputs": [
        {
          "output_type": "execute_result",
          "data": {
            "text/html": [
              "<div>\n",
              "<style scoped>\n",
              "    .dataframe tbody tr th:only-of-type {\n",
              "        vertical-align: middle;\n",
              "    }\n",
              "\n",
              "    .dataframe tbody tr th {\n",
              "        vertical-align: top;\n",
              "    }\n",
              "\n",
              "    .dataframe thead th {\n",
              "        text-align: right;\n",
              "    }\n",
              "</style>\n",
              "<table border=\"1\" class=\"dataframe\">\n",
              "  <thead>\n",
              "    <tr style=\"text-align: right;\">\n",
              "      <th></th>\n",
              "      <th></th>\n",
              "      <th>A</th>\n",
              "      <th>B</th>\n",
              "    </tr>\n",
              "    <tr>\n",
              "      <th>first</th>\n",
              "      <th>second</th>\n",
              "      <th></th>\n",
              "      <th></th>\n",
              "    </tr>\n",
              "  </thead>\n",
              "  <tbody>\n",
              "    <tr>\n",
              "      <th rowspan=\"2\" valign=\"top\">bar</th>\n",
              "      <th>one</th>\n",
              "      <td>-1.150751</td>\n",
              "      <td>-0.443088</td>\n",
              "    </tr>\n",
              "    <tr>\n",
              "      <th>two</th>\n",
              "      <td>0.588360</td>\n",
              "      <td>0.231696</td>\n",
              "    </tr>\n",
              "    <tr>\n",
              "      <th rowspan=\"2\" valign=\"top\">baz</th>\n",
              "      <th>one</th>\n",
              "      <td>1.425900</td>\n",
              "      <td>0.674998</td>\n",
              "    </tr>\n",
              "    <tr>\n",
              "      <th>two</th>\n",
              "      <td>0.728922</td>\n",
              "      <td>0.878611</td>\n",
              "    </tr>\n",
              "  </tbody>\n",
              "</table>\n",
              "</div>"
            ],
            "text/plain": [
              "                     A         B\n",
              "first second                    \n",
              "bar   one    -1.150751 -0.443088\n",
              "      two     0.588360  0.231696\n",
              "baz   one     1.425900  0.674998\n",
              "      two     0.728922  0.878611"
            ]
          },
          "metadata": {
            "tags": []
          },
          "execution_count": 79
        }
      ]
    },
    {
      "cell_type": "code",
      "metadata": {
        "colab": {
          "base_uri": "https://localhost:8080/"
        },
        "id": "krARqkGdzS65",
        "outputId": "e21bd67e-8635-422a-9aeb-0dd73819054c"
      },
      "source": [
        "stacked = df2.stack()     # columns A 와 B 가 index로 옮겨짐\r\n",
        "\r\n",
        "stacked"
      ],
      "execution_count": null,
      "outputs": [
        {
          "output_type": "execute_result",
          "data": {
            "text/plain": [
              "first  second   \n",
              "bar    one     A   -1.150751\n",
              "               B   -0.443088\n",
              "       two     A    0.588360\n",
              "               B    0.231696\n",
              "baz    one     A    1.425900\n",
              "               B    0.674998\n",
              "       two     A    0.728922\n",
              "               B    0.878611\n",
              "dtype: float64"
            ]
          },
          "metadata": {
            "tags": []
          },
          "execution_count": 80
        }
      ]
    },
    {
      "cell_type": "code",
      "metadata": {
        "colab": {
          "base_uri": "https://localhost:8080/",
          "height": 202
        },
        "id": "Ci1QdGf7zwVg",
        "outputId": "4cca2b06-c327-486b-cc47-2369c74d9b3f"
      },
      "source": [
        "stacked.unstack()       # 반대도 가능함 (index를 column으로 옮김) "
      ],
      "execution_count": null,
      "outputs": [
        {
          "output_type": "execute_result",
          "data": {
            "text/html": [
              "<div>\n",
              "<style scoped>\n",
              "    .dataframe tbody tr th:only-of-type {\n",
              "        vertical-align: middle;\n",
              "    }\n",
              "\n",
              "    .dataframe tbody tr th {\n",
              "        vertical-align: top;\n",
              "    }\n",
              "\n",
              "    .dataframe thead th {\n",
              "        text-align: right;\n",
              "    }\n",
              "</style>\n",
              "<table border=\"1\" class=\"dataframe\">\n",
              "  <thead>\n",
              "    <tr style=\"text-align: right;\">\n",
              "      <th></th>\n",
              "      <th></th>\n",
              "      <th>A</th>\n",
              "      <th>B</th>\n",
              "    </tr>\n",
              "    <tr>\n",
              "      <th>first</th>\n",
              "      <th>second</th>\n",
              "      <th></th>\n",
              "      <th></th>\n",
              "    </tr>\n",
              "  </thead>\n",
              "  <tbody>\n",
              "    <tr>\n",
              "      <th rowspan=\"2\" valign=\"top\">bar</th>\n",
              "      <th>one</th>\n",
              "      <td>-1.150751</td>\n",
              "      <td>-0.443088</td>\n",
              "    </tr>\n",
              "    <tr>\n",
              "      <th>two</th>\n",
              "      <td>0.588360</td>\n",
              "      <td>0.231696</td>\n",
              "    </tr>\n",
              "    <tr>\n",
              "      <th rowspan=\"2\" valign=\"top\">baz</th>\n",
              "      <th>one</th>\n",
              "      <td>1.425900</td>\n",
              "      <td>0.674998</td>\n",
              "    </tr>\n",
              "    <tr>\n",
              "      <th>two</th>\n",
              "      <td>0.728922</td>\n",
              "      <td>0.878611</td>\n",
              "    </tr>\n",
              "  </tbody>\n",
              "</table>\n",
              "</div>"
            ],
            "text/plain": [
              "                     A         B\n",
              "first second                    \n",
              "bar   one    -1.150751 -0.443088\n",
              "      two     0.588360  0.231696\n",
              "baz   one     1.425900  0.674998\n",
              "      two     0.728922  0.878611"
            ]
          },
          "metadata": {
            "tags": []
          },
          "execution_count": 81
        }
      ]
    },
    {
      "cell_type": "code",
      "metadata": {
        "colab": {
          "base_uri": "https://localhost:8080/",
          "height": 202
        },
        "id": "UEJYYD2w0Kxb",
        "outputId": "d6a76ff7-a62d-4f3e-9b4c-e406c53d23e1"
      },
      "source": [
        "stacked.unstack(level=1)"
      ],
      "execution_count": null,
      "outputs": [
        {
          "output_type": "execute_result",
          "data": {
            "text/html": [
              "<div>\n",
              "<style scoped>\n",
              "    .dataframe tbody tr th:only-of-type {\n",
              "        vertical-align: middle;\n",
              "    }\n",
              "\n",
              "    .dataframe tbody tr th {\n",
              "        vertical-align: top;\n",
              "    }\n",
              "\n",
              "    .dataframe thead th {\n",
              "        text-align: right;\n",
              "    }\n",
              "</style>\n",
              "<table border=\"1\" class=\"dataframe\">\n",
              "  <thead>\n",
              "    <tr style=\"text-align: right;\">\n",
              "      <th></th>\n",
              "      <th>second</th>\n",
              "      <th>one</th>\n",
              "      <th>two</th>\n",
              "    </tr>\n",
              "    <tr>\n",
              "      <th>first</th>\n",
              "      <th></th>\n",
              "      <th></th>\n",
              "      <th></th>\n",
              "    </tr>\n",
              "  </thead>\n",
              "  <tbody>\n",
              "    <tr>\n",
              "      <th rowspan=\"2\" valign=\"top\">bar</th>\n",
              "      <th>A</th>\n",
              "      <td>-1.150751</td>\n",
              "      <td>0.588360</td>\n",
              "    </tr>\n",
              "    <tr>\n",
              "      <th>B</th>\n",
              "      <td>-0.443088</td>\n",
              "      <td>0.231696</td>\n",
              "    </tr>\n",
              "    <tr>\n",
              "      <th rowspan=\"2\" valign=\"top\">baz</th>\n",
              "      <th>A</th>\n",
              "      <td>1.425900</td>\n",
              "      <td>0.728922</td>\n",
              "    </tr>\n",
              "    <tr>\n",
              "      <th>B</th>\n",
              "      <td>0.674998</td>\n",
              "      <td>0.878611</td>\n",
              "    </tr>\n",
              "  </tbody>\n",
              "</table>\n",
              "</div>"
            ],
            "text/plain": [
              "second        one       two\n",
              "first                      \n",
              "bar   A -1.150751  0.588360\n",
              "      B -0.443088  0.231696\n",
              "baz   A  1.425900  0.728922\n",
              "      B  0.674998  0.878611"
            ]
          },
          "metadata": {
            "tags": []
          },
          "execution_count": 82
        }
      ]
    },
    {
      "cell_type": "code",
      "metadata": {
        "colab": {
          "base_uri": "https://localhost:8080/",
          "height": 202
        },
        "id": "WcNDjYeTz1cu",
        "outputId": "f5e092f9-c8a3-4e12-de8e-d4c83a4ed7f1"
      },
      "source": [
        "stacked.unstack(level=0)    # 첫번째 level에 해당하는 index에 대해 unstack (level=0,1,2...)"
      ],
      "execution_count": null,
      "outputs": [
        {
          "output_type": "execute_result",
          "data": {
            "text/html": [
              "<div>\n",
              "<style scoped>\n",
              "    .dataframe tbody tr th:only-of-type {\n",
              "        vertical-align: middle;\n",
              "    }\n",
              "\n",
              "    .dataframe tbody tr th {\n",
              "        vertical-align: top;\n",
              "    }\n",
              "\n",
              "    .dataframe thead th {\n",
              "        text-align: right;\n",
              "    }\n",
              "</style>\n",
              "<table border=\"1\" class=\"dataframe\">\n",
              "  <thead>\n",
              "    <tr style=\"text-align: right;\">\n",
              "      <th></th>\n",
              "      <th>first</th>\n",
              "      <th>bar</th>\n",
              "      <th>baz</th>\n",
              "    </tr>\n",
              "    <tr>\n",
              "      <th>second</th>\n",
              "      <th></th>\n",
              "      <th></th>\n",
              "      <th></th>\n",
              "    </tr>\n",
              "  </thead>\n",
              "  <tbody>\n",
              "    <tr>\n",
              "      <th rowspan=\"2\" valign=\"top\">one</th>\n",
              "      <th>A</th>\n",
              "      <td>-1.150751</td>\n",
              "      <td>1.425900</td>\n",
              "    </tr>\n",
              "    <tr>\n",
              "      <th>B</th>\n",
              "      <td>-0.443088</td>\n",
              "      <td>0.674998</td>\n",
              "    </tr>\n",
              "    <tr>\n",
              "      <th rowspan=\"2\" valign=\"top\">two</th>\n",
              "      <th>A</th>\n",
              "      <td>0.588360</td>\n",
              "      <td>0.728922</td>\n",
              "    </tr>\n",
              "    <tr>\n",
              "      <th>B</th>\n",
              "      <td>0.231696</td>\n",
              "      <td>0.878611</td>\n",
              "    </tr>\n",
              "  </tbody>\n",
              "</table>\n",
              "</div>"
            ],
            "text/plain": [
              "first          bar       baz\n",
              "second                      \n",
              "one    A -1.150751  1.425900\n",
              "       B -0.443088  0.674998\n",
              "two    A  0.588360  0.728922\n",
              "       B  0.231696  0.878611"
            ]
          },
          "metadata": {
            "tags": []
          },
          "execution_count": 83
        }
      ]
    },
    {
      "cell_type": "markdown",
      "metadata": {
        "id": "JtDpQAOxsJVr"
      },
      "source": [
        "### Pivot tables\r\n",
        "\r\n",
        "피벗 테이블은 DataFrame의 데이터를 쉽게 요약하는 방법\r\n",
        "(엑셀의 피벗 테이블과 유사)"
      ]
    },
    {
      "cell_type": "code",
      "metadata": {
        "id": "AmDxZNt4sIGK"
      },
      "source": [
        "import datetime\r\n",
        "\r\n",
        "df = pd.DataFrame({'A': ['이마트', '이마트', '홈플러스', '롯데마트'] * 6,\r\n",
        "                    'B': ['딸기', '바나나', '키위'] * 8,\r\n",
        "                    'C': ['아침', '아침', '아침', '저녁', '저녁', '저녁'] * 4,\r\n",
        "                    'D': np.random.randint(0, 30, 24),\r\n",
        "                    'E': np.random.randint(0, 30, 24),\r\n",
        "                    'F': [datetime.datetime(2013, i, 1) for i in range(1, 13)]\r\n",
        "                          + [datetime.datetime(2013, i, 15) for i in range(1, 13)]})"
      ],
      "execution_count": null,
      "outputs": []
    },
    {
      "cell_type": "code",
      "metadata": {
        "colab": {
          "base_uri": "https://localhost:8080/",
          "height": 785
        },
        "id": "ymAzDTCGskZi",
        "outputId": "4f20d502-bebf-4dfe-8712-57824b30004f"
      },
      "source": [
        "df"
      ],
      "execution_count": null,
      "outputs": [
        {
          "output_type": "execute_result",
          "data": {
            "text/html": [
              "<div>\n",
              "<style scoped>\n",
              "    .dataframe tbody tr th:only-of-type {\n",
              "        vertical-align: middle;\n",
              "    }\n",
              "\n",
              "    .dataframe tbody tr th {\n",
              "        vertical-align: top;\n",
              "    }\n",
              "\n",
              "    .dataframe thead th {\n",
              "        text-align: right;\n",
              "    }\n",
              "</style>\n",
              "<table border=\"1\" class=\"dataframe\">\n",
              "  <thead>\n",
              "    <tr style=\"text-align: right;\">\n",
              "      <th></th>\n",
              "      <th>A</th>\n",
              "      <th>B</th>\n",
              "      <th>C</th>\n",
              "      <th>D</th>\n",
              "      <th>E</th>\n",
              "      <th>F</th>\n",
              "    </tr>\n",
              "  </thead>\n",
              "  <tbody>\n",
              "    <tr>\n",
              "      <th>0</th>\n",
              "      <td>이마트</td>\n",
              "      <td>딸기</td>\n",
              "      <td>아침</td>\n",
              "      <td>25</td>\n",
              "      <td>6</td>\n",
              "      <td>2013-01-01</td>\n",
              "    </tr>\n",
              "    <tr>\n",
              "      <th>1</th>\n",
              "      <td>이마트</td>\n",
              "      <td>바나나</td>\n",
              "      <td>아침</td>\n",
              "      <td>8</td>\n",
              "      <td>23</td>\n",
              "      <td>2013-02-01</td>\n",
              "    </tr>\n",
              "    <tr>\n",
              "      <th>2</th>\n",
              "      <td>홈플러스</td>\n",
              "      <td>키위</td>\n",
              "      <td>아침</td>\n",
              "      <td>22</td>\n",
              "      <td>0</td>\n",
              "      <td>2013-03-01</td>\n",
              "    </tr>\n",
              "    <tr>\n",
              "      <th>3</th>\n",
              "      <td>롯데마트</td>\n",
              "      <td>딸기</td>\n",
              "      <td>저녁</td>\n",
              "      <td>8</td>\n",
              "      <td>21</td>\n",
              "      <td>2013-04-01</td>\n",
              "    </tr>\n",
              "    <tr>\n",
              "      <th>4</th>\n",
              "      <td>이마트</td>\n",
              "      <td>바나나</td>\n",
              "      <td>저녁</td>\n",
              "      <td>16</td>\n",
              "      <td>8</td>\n",
              "      <td>2013-05-01</td>\n",
              "    </tr>\n",
              "    <tr>\n",
              "      <th>5</th>\n",
              "      <td>이마트</td>\n",
              "      <td>키위</td>\n",
              "      <td>저녁</td>\n",
              "      <td>24</td>\n",
              "      <td>9</td>\n",
              "      <td>2013-06-01</td>\n",
              "    </tr>\n",
              "    <tr>\n",
              "      <th>6</th>\n",
              "      <td>홈플러스</td>\n",
              "      <td>딸기</td>\n",
              "      <td>아침</td>\n",
              "      <td>21</td>\n",
              "      <td>16</td>\n",
              "      <td>2013-07-01</td>\n",
              "    </tr>\n",
              "    <tr>\n",
              "      <th>7</th>\n",
              "      <td>롯데마트</td>\n",
              "      <td>바나나</td>\n",
              "      <td>아침</td>\n",
              "      <td>16</td>\n",
              "      <td>27</td>\n",
              "      <td>2013-08-01</td>\n",
              "    </tr>\n",
              "    <tr>\n",
              "      <th>8</th>\n",
              "      <td>이마트</td>\n",
              "      <td>키위</td>\n",
              "      <td>아침</td>\n",
              "      <td>24</td>\n",
              "      <td>22</td>\n",
              "      <td>2013-09-01</td>\n",
              "    </tr>\n",
              "    <tr>\n",
              "      <th>9</th>\n",
              "      <td>이마트</td>\n",
              "      <td>딸기</td>\n",
              "      <td>저녁</td>\n",
              "      <td>15</td>\n",
              "      <td>2</td>\n",
              "      <td>2013-10-01</td>\n",
              "    </tr>\n",
              "    <tr>\n",
              "      <th>10</th>\n",
              "      <td>홈플러스</td>\n",
              "      <td>바나나</td>\n",
              "      <td>저녁</td>\n",
              "      <td>25</td>\n",
              "      <td>27</td>\n",
              "      <td>2013-11-01</td>\n",
              "    </tr>\n",
              "    <tr>\n",
              "      <th>11</th>\n",
              "      <td>롯데마트</td>\n",
              "      <td>키위</td>\n",
              "      <td>저녁</td>\n",
              "      <td>24</td>\n",
              "      <td>4</td>\n",
              "      <td>2013-12-01</td>\n",
              "    </tr>\n",
              "    <tr>\n",
              "      <th>12</th>\n",
              "      <td>이마트</td>\n",
              "      <td>딸기</td>\n",
              "      <td>아침</td>\n",
              "      <td>4</td>\n",
              "      <td>23</td>\n",
              "      <td>2013-01-15</td>\n",
              "    </tr>\n",
              "    <tr>\n",
              "      <th>13</th>\n",
              "      <td>이마트</td>\n",
              "      <td>바나나</td>\n",
              "      <td>아침</td>\n",
              "      <td>8</td>\n",
              "      <td>22</td>\n",
              "      <td>2013-02-15</td>\n",
              "    </tr>\n",
              "    <tr>\n",
              "      <th>14</th>\n",
              "      <td>홈플러스</td>\n",
              "      <td>키위</td>\n",
              "      <td>아침</td>\n",
              "      <td>12</td>\n",
              "      <td>25</td>\n",
              "      <td>2013-03-15</td>\n",
              "    </tr>\n",
              "    <tr>\n",
              "      <th>15</th>\n",
              "      <td>롯데마트</td>\n",
              "      <td>딸기</td>\n",
              "      <td>저녁</td>\n",
              "      <td>25</td>\n",
              "      <td>19</td>\n",
              "      <td>2013-04-15</td>\n",
              "    </tr>\n",
              "    <tr>\n",
              "      <th>16</th>\n",
              "      <td>이마트</td>\n",
              "      <td>바나나</td>\n",
              "      <td>저녁</td>\n",
              "      <td>2</td>\n",
              "      <td>26</td>\n",
              "      <td>2013-05-15</td>\n",
              "    </tr>\n",
              "    <tr>\n",
              "      <th>17</th>\n",
              "      <td>이마트</td>\n",
              "      <td>키위</td>\n",
              "      <td>저녁</td>\n",
              "      <td>10</td>\n",
              "      <td>11</td>\n",
              "      <td>2013-06-15</td>\n",
              "    </tr>\n",
              "    <tr>\n",
              "      <th>18</th>\n",
              "      <td>홈플러스</td>\n",
              "      <td>딸기</td>\n",
              "      <td>아침</td>\n",
              "      <td>25</td>\n",
              "      <td>25</td>\n",
              "      <td>2013-07-15</td>\n",
              "    </tr>\n",
              "    <tr>\n",
              "      <th>19</th>\n",
              "      <td>롯데마트</td>\n",
              "      <td>바나나</td>\n",
              "      <td>아침</td>\n",
              "      <td>11</td>\n",
              "      <td>19</td>\n",
              "      <td>2013-08-15</td>\n",
              "    </tr>\n",
              "    <tr>\n",
              "      <th>20</th>\n",
              "      <td>이마트</td>\n",
              "      <td>키위</td>\n",
              "      <td>아침</td>\n",
              "      <td>20</td>\n",
              "      <td>26</td>\n",
              "      <td>2013-09-15</td>\n",
              "    </tr>\n",
              "    <tr>\n",
              "      <th>21</th>\n",
              "      <td>이마트</td>\n",
              "      <td>딸기</td>\n",
              "      <td>저녁</td>\n",
              "      <td>25</td>\n",
              "      <td>9</td>\n",
              "      <td>2013-10-15</td>\n",
              "    </tr>\n",
              "    <tr>\n",
              "      <th>22</th>\n",
              "      <td>홈플러스</td>\n",
              "      <td>바나나</td>\n",
              "      <td>저녁</td>\n",
              "      <td>10</td>\n",
              "      <td>24</td>\n",
              "      <td>2013-11-15</td>\n",
              "    </tr>\n",
              "    <tr>\n",
              "      <th>23</th>\n",
              "      <td>롯데마트</td>\n",
              "      <td>키위</td>\n",
              "      <td>저녁</td>\n",
              "      <td>2</td>\n",
              "      <td>4</td>\n",
              "      <td>2013-12-15</td>\n",
              "    </tr>\n",
              "  </tbody>\n",
              "</table>\n",
              "</div>"
            ],
            "text/plain": [
              "       A    B   C   D   E          F\n",
              "0    이마트   딸기  아침  25   6 2013-01-01\n",
              "1    이마트  바나나  아침   8  23 2013-02-01\n",
              "2   홈플러스   키위  아침  22   0 2013-03-01\n",
              "3   롯데마트   딸기  저녁   8  21 2013-04-01\n",
              "4    이마트  바나나  저녁  16   8 2013-05-01\n",
              "5    이마트   키위  저녁  24   9 2013-06-01\n",
              "6   홈플러스   딸기  아침  21  16 2013-07-01\n",
              "7   롯데마트  바나나  아침  16  27 2013-08-01\n",
              "8    이마트   키위  아침  24  22 2013-09-01\n",
              "9    이마트   딸기  저녁  15   2 2013-10-01\n",
              "10  홈플러스  바나나  저녁  25  27 2013-11-01\n",
              "11  롯데마트   키위  저녁  24   4 2013-12-01\n",
              "12   이마트   딸기  아침   4  23 2013-01-15\n",
              "13   이마트  바나나  아침   8  22 2013-02-15\n",
              "14  홈플러스   키위  아침  12  25 2013-03-15\n",
              "15  롯데마트   딸기  저녁  25  19 2013-04-15\n",
              "16   이마트  바나나  저녁   2  26 2013-05-15\n",
              "17   이마트   키위  저녁  10  11 2013-06-15\n",
              "18  홈플러스   딸기  아침  25  25 2013-07-15\n",
              "19  롯데마트  바나나  아침  11  19 2013-08-15\n",
              "20   이마트   키위  아침  20  26 2013-09-15\n",
              "21   이마트   딸기  저녁  25   9 2013-10-15\n",
              "22  홈플러스  바나나  저녁  10  24 2013-11-15\n",
              "23  롯데마트   키위  저녁   2   4 2013-12-15"
            ]
          },
          "metadata": {
            "tags": []
          },
          "execution_count": 85
        }
      ]
    },
    {
      "cell_type": "code",
      "metadata": {
        "colab": {
          "base_uri": "https://localhost:8080/",
          "height": 355
        },
        "id": "fNfKe-sRssmW",
        "outputId": "977996de-550b-4201-9611-bc10af4e122b"
      },
      "source": [
        "pivot_result = pd.pivot_table(df, values='D', index=['A', 'B'], columns=['C'],fill_value=0) # aggfunc='mean'\r\n",
        "pivot_result"
      ],
      "execution_count": null,
      "outputs": [
        {
          "output_type": "execute_result",
          "data": {
            "text/html": [
              "<div>\n",
              "<style scoped>\n",
              "    .dataframe tbody tr th:only-of-type {\n",
              "        vertical-align: middle;\n",
              "    }\n",
              "\n",
              "    .dataframe tbody tr th {\n",
              "        vertical-align: top;\n",
              "    }\n",
              "\n",
              "    .dataframe thead th {\n",
              "        text-align: right;\n",
              "    }\n",
              "</style>\n",
              "<table border=\"1\" class=\"dataframe\">\n",
              "  <thead>\n",
              "    <tr style=\"text-align: right;\">\n",
              "      <th></th>\n",
              "      <th>C</th>\n",
              "      <th>아침</th>\n",
              "      <th>저녁</th>\n",
              "    </tr>\n",
              "    <tr>\n",
              "      <th>A</th>\n",
              "      <th>B</th>\n",
              "      <th></th>\n",
              "      <th></th>\n",
              "    </tr>\n",
              "  </thead>\n",
              "  <tbody>\n",
              "    <tr>\n",
              "      <th rowspan=\"3\" valign=\"top\">롯데마트</th>\n",
              "      <th>딸기</th>\n",
              "      <td>0.0</td>\n",
              "      <td>16.5</td>\n",
              "    </tr>\n",
              "    <tr>\n",
              "      <th>바나나</th>\n",
              "      <td>13.5</td>\n",
              "      <td>0.0</td>\n",
              "    </tr>\n",
              "    <tr>\n",
              "      <th>키위</th>\n",
              "      <td>0.0</td>\n",
              "      <td>13.0</td>\n",
              "    </tr>\n",
              "    <tr>\n",
              "      <th rowspan=\"3\" valign=\"top\">이마트</th>\n",
              "      <th>딸기</th>\n",
              "      <td>14.5</td>\n",
              "      <td>20.0</td>\n",
              "    </tr>\n",
              "    <tr>\n",
              "      <th>바나나</th>\n",
              "      <td>8.0</td>\n",
              "      <td>9.0</td>\n",
              "    </tr>\n",
              "    <tr>\n",
              "      <th>키위</th>\n",
              "      <td>22.0</td>\n",
              "      <td>17.0</td>\n",
              "    </tr>\n",
              "    <tr>\n",
              "      <th rowspan=\"3\" valign=\"top\">홈플러스</th>\n",
              "      <th>딸기</th>\n",
              "      <td>23.0</td>\n",
              "      <td>0.0</td>\n",
              "    </tr>\n",
              "    <tr>\n",
              "      <th>바나나</th>\n",
              "      <td>0.0</td>\n",
              "      <td>17.5</td>\n",
              "    </tr>\n",
              "    <tr>\n",
              "      <th>키위</th>\n",
              "      <td>17.0</td>\n",
              "      <td>0.0</td>\n",
              "    </tr>\n",
              "  </tbody>\n",
              "</table>\n",
              "</div>"
            ],
            "text/plain": [
              "C           아침    저녁\n",
              "A    B              \n",
              "롯데마트 딸기    0.0  16.5\n",
              "     바나나  13.5   0.0\n",
              "     키위    0.0  13.0\n",
              "이마트  딸기   14.5  20.0\n",
              "     바나나   8.0   9.0\n",
              "     키위   22.0  17.0\n",
              "홈플러스 딸기   23.0   0.0\n",
              "     바나나   0.0  17.5\n",
              "     키위   17.0   0.0"
            ]
          },
          "metadata": {
            "tags": []
          },
          "execution_count": 86
        }
      ]
    },
    {
      "cell_type": "code",
      "metadata": {
        "colab": {
          "base_uri": "https://localhost:8080/",
          "height": 202
        },
        "id": "Y1YFn2u51NiB",
        "outputId": "9f3d1dc0-1894-45d4-8343-a36574f59630"
      },
      "source": [
        "pivot_result.unstack(level=0)"
      ],
      "execution_count": null,
      "outputs": [
        {
          "output_type": "execute_result",
          "data": {
            "text/html": [
              "<div>\n",
              "<style scoped>\n",
              "    .dataframe tbody tr th:only-of-type {\n",
              "        vertical-align: middle;\n",
              "    }\n",
              "\n",
              "    .dataframe tbody tr th {\n",
              "        vertical-align: top;\n",
              "    }\n",
              "\n",
              "    .dataframe thead tr th {\n",
              "        text-align: left;\n",
              "    }\n",
              "\n",
              "    .dataframe thead tr:last-of-type th {\n",
              "        text-align: right;\n",
              "    }\n",
              "</style>\n",
              "<table border=\"1\" class=\"dataframe\">\n",
              "  <thead>\n",
              "    <tr>\n",
              "      <th>C</th>\n",
              "      <th colspan=\"3\" halign=\"left\">아침</th>\n",
              "      <th colspan=\"3\" halign=\"left\">저녁</th>\n",
              "    </tr>\n",
              "    <tr>\n",
              "      <th>A</th>\n",
              "      <th>롯데마트</th>\n",
              "      <th>이마트</th>\n",
              "      <th>홈플러스</th>\n",
              "      <th>롯데마트</th>\n",
              "      <th>이마트</th>\n",
              "      <th>홈플러스</th>\n",
              "    </tr>\n",
              "    <tr>\n",
              "      <th>B</th>\n",
              "      <th></th>\n",
              "      <th></th>\n",
              "      <th></th>\n",
              "      <th></th>\n",
              "      <th></th>\n",
              "      <th></th>\n",
              "    </tr>\n",
              "  </thead>\n",
              "  <tbody>\n",
              "    <tr>\n",
              "      <th>딸기</th>\n",
              "      <td>0.0</td>\n",
              "      <td>14.5</td>\n",
              "      <td>23.0</td>\n",
              "      <td>16.5</td>\n",
              "      <td>20.0</td>\n",
              "      <td>0.0</td>\n",
              "    </tr>\n",
              "    <tr>\n",
              "      <th>바나나</th>\n",
              "      <td>13.5</td>\n",
              "      <td>8.0</td>\n",
              "      <td>0.0</td>\n",
              "      <td>0.0</td>\n",
              "      <td>9.0</td>\n",
              "      <td>17.5</td>\n",
              "    </tr>\n",
              "    <tr>\n",
              "      <th>키위</th>\n",
              "      <td>0.0</td>\n",
              "      <td>22.0</td>\n",
              "      <td>17.0</td>\n",
              "      <td>13.0</td>\n",
              "      <td>17.0</td>\n",
              "      <td>0.0</td>\n",
              "    </tr>\n",
              "  </tbody>\n",
              "</table>\n",
              "</div>"
            ],
            "text/plain": [
              "C      아침                저녁            \n",
              "A    롯데마트   이마트  홈플러스  롯데마트   이마트  홈플러스\n",
              "B                                      \n",
              "딸기    0.0  14.5  23.0  16.5  20.0   0.0\n",
              "바나나  13.5   8.0   0.0   0.0   9.0  17.5\n",
              "키위    0.0  22.0  17.0  13.0  17.0   0.0"
            ]
          },
          "metadata": {
            "tags": []
          },
          "execution_count": 87
        }
      ]
    },
    {
      "cell_type": "code",
      "metadata": {
        "colab": {
          "base_uri": "https://localhost:8080/",
          "height": 202
        },
        "id": "FLztEpsOs6XK",
        "outputId": "77ef3bda-fd4c-4bc6-a458-5bbcc71ad2da"
      },
      "source": [
        "pd.pivot_table(df, values='D', index=['B'], columns=['A', 'C'], aggfunc=np.sum, fill_value=0)"
      ],
      "execution_count": null,
      "outputs": [
        {
          "output_type": "execute_result",
          "data": {
            "text/html": [
              "<div>\n",
              "<style scoped>\n",
              "    .dataframe tbody tr th:only-of-type {\n",
              "        vertical-align: middle;\n",
              "    }\n",
              "\n",
              "    .dataframe tbody tr th {\n",
              "        vertical-align: top;\n",
              "    }\n",
              "\n",
              "    .dataframe thead tr th {\n",
              "        text-align: left;\n",
              "    }\n",
              "\n",
              "    .dataframe thead tr:last-of-type th {\n",
              "        text-align: right;\n",
              "    }\n",
              "</style>\n",
              "<table border=\"1\" class=\"dataframe\">\n",
              "  <thead>\n",
              "    <tr>\n",
              "      <th>A</th>\n",
              "      <th colspan=\"2\" halign=\"left\">롯데마트</th>\n",
              "      <th colspan=\"2\" halign=\"left\">이마트</th>\n",
              "      <th colspan=\"2\" halign=\"left\">홈플러스</th>\n",
              "    </tr>\n",
              "    <tr>\n",
              "      <th>C</th>\n",
              "      <th>아침</th>\n",
              "      <th>저녁</th>\n",
              "      <th>아침</th>\n",
              "      <th>저녁</th>\n",
              "      <th>아침</th>\n",
              "      <th>저녁</th>\n",
              "    </tr>\n",
              "    <tr>\n",
              "      <th>B</th>\n",
              "      <th></th>\n",
              "      <th></th>\n",
              "      <th></th>\n",
              "      <th></th>\n",
              "      <th></th>\n",
              "      <th></th>\n",
              "    </tr>\n",
              "  </thead>\n",
              "  <tbody>\n",
              "    <tr>\n",
              "      <th>딸기</th>\n",
              "      <td>0</td>\n",
              "      <td>33</td>\n",
              "      <td>29</td>\n",
              "      <td>40</td>\n",
              "      <td>46</td>\n",
              "      <td>0</td>\n",
              "    </tr>\n",
              "    <tr>\n",
              "      <th>바나나</th>\n",
              "      <td>27</td>\n",
              "      <td>0</td>\n",
              "      <td>16</td>\n",
              "      <td>18</td>\n",
              "      <td>0</td>\n",
              "      <td>35</td>\n",
              "    </tr>\n",
              "    <tr>\n",
              "      <th>키위</th>\n",
              "      <td>0</td>\n",
              "      <td>26</td>\n",
              "      <td>44</td>\n",
              "      <td>34</td>\n",
              "      <td>34</td>\n",
              "      <td>0</td>\n",
              "    </tr>\n",
              "  </tbody>\n",
              "</table>\n",
              "</div>"
            ],
            "text/plain": [
              "A   롯데마트     이마트     홈플러스    \n",
              "C     아침  저녁  아침  저녁   아침  저녁\n",
              "B                            \n",
              "딸기     0  33  29  40   46   0\n",
              "바나나   27   0  16  18    0  35\n",
              "키위     0  26  44  34   34   0"
            ]
          },
          "metadata": {
            "tags": []
          },
          "execution_count": 88
        }
      ]
    },
    {
      "cell_type": "code",
      "metadata": {
        "colab": {
          "base_uri": "https://localhost:8080/",
          "height": 233
        },
        "id": "lxuZXACpwAgv",
        "outputId": "87b4cd5a-996a-4c8f-e273-0b2ec9316dc1"
      },
      "source": [
        "pivot_result = pd.pivot_table(df, values=['D', 'E'], index=['B'], columns=['A', 'C'],\r\n",
        "                aggfunc=np.sum, fill_value=0)\r\n",
        "\r\n",
        "pivot_result"
      ],
      "execution_count": null,
      "outputs": [
        {
          "output_type": "execute_result",
          "data": {
            "text/html": [
              "<div>\n",
              "<style scoped>\n",
              "    .dataframe tbody tr th:only-of-type {\n",
              "        vertical-align: middle;\n",
              "    }\n",
              "\n",
              "    .dataframe tbody tr th {\n",
              "        vertical-align: top;\n",
              "    }\n",
              "\n",
              "    .dataframe thead tr th {\n",
              "        text-align: left;\n",
              "    }\n",
              "\n",
              "    .dataframe thead tr:last-of-type th {\n",
              "        text-align: right;\n",
              "    }\n",
              "</style>\n",
              "<table border=\"1\" class=\"dataframe\">\n",
              "  <thead>\n",
              "    <tr>\n",
              "      <th></th>\n",
              "      <th colspan=\"6\" halign=\"left\">D</th>\n",
              "      <th colspan=\"6\" halign=\"left\">E</th>\n",
              "    </tr>\n",
              "    <tr>\n",
              "      <th>A</th>\n",
              "      <th colspan=\"2\" halign=\"left\">롯데마트</th>\n",
              "      <th colspan=\"2\" halign=\"left\">이마트</th>\n",
              "      <th colspan=\"2\" halign=\"left\">홈플러스</th>\n",
              "      <th colspan=\"2\" halign=\"left\">롯데마트</th>\n",
              "      <th colspan=\"2\" halign=\"left\">이마트</th>\n",
              "      <th colspan=\"2\" halign=\"left\">홈플러스</th>\n",
              "    </tr>\n",
              "    <tr>\n",
              "      <th>C</th>\n",
              "      <th>아침</th>\n",
              "      <th>저녁</th>\n",
              "      <th>아침</th>\n",
              "      <th>저녁</th>\n",
              "      <th>아침</th>\n",
              "      <th>저녁</th>\n",
              "      <th>아침</th>\n",
              "      <th>저녁</th>\n",
              "      <th>아침</th>\n",
              "      <th>저녁</th>\n",
              "      <th>아침</th>\n",
              "      <th>저녁</th>\n",
              "    </tr>\n",
              "    <tr>\n",
              "      <th>B</th>\n",
              "      <th></th>\n",
              "      <th></th>\n",
              "      <th></th>\n",
              "      <th></th>\n",
              "      <th></th>\n",
              "      <th></th>\n",
              "      <th></th>\n",
              "      <th></th>\n",
              "      <th></th>\n",
              "      <th></th>\n",
              "      <th></th>\n",
              "      <th></th>\n",
              "    </tr>\n",
              "  </thead>\n",
              "  <tbody>\n",
              "    <tr>\n",
              "      <th>딸기</th>\n",
              "      <td>0</td>\n",
              "      <td>33</td>\n",
              "      <td>29</td>\n",
              "      <td>40</td>\n",
              "      <td>46</td>\n",
              "      <td>0</td>\n",
              "      <td>0</td>\n",
              "      <td>40</td>\n",
              "      <td>29</td>\n",
              "      <td>11</td>\n",
              "      <td>41</td>\n",
              "      <td>0</td>\n",
              "    </tr>\n",
              "    <tr>\n",
              "      <th>바나나</th>\n",
              "      <td>27</td>\n",
              "      <td>0</td>\n",
              "      <td>16</td>\n",
              "      <td>18</td>\n",
              "      <td>0</td>\n",
              "      <td>35</td>\n",
              "      <td>46</td>\n",
              "      <td>0</td>\n",
              "      <td>45</td>\n",
              "      <td>34</td>\n",
              "      <td>0</td>\n",
              "      <td>51</td>\n",
              "    </tr>\n",
              "    <tr>\n",
              "      <th>키위</th>\n",
              "      <td>0</td>\n",
              "      <td>26</td>\n",
              "      <td>44</td>\n",
              "      <td>34</td>\n",
              "      <td>34</td>\n",
              "      <td>0</td>\n",
              "      <td>0</td>\n",
              "      <td>8</td>\n",
              "      <td>48</td>\n",
              "      <td>20</td>\n",
              "      <td>25</td>\n",
              "      <td>0</td>\n",
              "    </tr>\n",
              "  </tbody>\n",
              "</table>\n",
              "</div>"
            ],
            "text/plain": [
              "       D                         E                     \n",
              "A   롯데마트     이마트     홈플러스     롯데마트     이마트     홈플러스    \n",
              "C     아침  저녁  아침  저녁   아침  저녁   아침  저녁  아침  저녁   아침  저녁\n",
              "B                                                      \n",
              "딸기     0  33  29  40   46   0    0  40  29  11   41   0\n",
              "바나나   27   0  16  18    0  35   46   0  45  34    0  51\n",
              "키위     0  26  44  34   34   0    0   8  48  20   25   0"
            ]
          },
          "metadata": {
            "tags": []
          },
          "execution_count": 89
        }
      ]
    },
    {
      "cell_type": "code",
      "metadata": {
        "colab": {
          "base_uri": "https://localhost:8080/",
          "height": 294
        },
        "id": "qfVkKItW0fZb",
        "outputId": "f18d6ce8-8d48-4c43-8e3c-f2026f64c534"
      },
      "source": [
        "pivot_result.stack()"
      ],
      "execution_count": null,
      "outputs": [
        {
          "output_type": "execute_result",
          "data": {
            "text/html": [
              "<div>\n",
              "<style scoped>\n",
              "    .dataframe tbody tr th:only-of-type {\n",
              "        vertical-align: middle;\n",
              "    }\n",
              "\n",
              "    .dataframe tbody tr th {\n",
              "        vertical-align: top;\n",
              "    }\n",
              "\n",
              "    .dataframe thead tr th {\n",
              "        text-align: left;\n",
              "    }\n",
              "\n",
              "    .dataframe thead tr:last-of-type th {\n",
              "        text-align: right;\n",
              "    }\n",
              "</style>\n",
              "<table border=\"1\" class=\"dataframe\">\n",
              "  <thead>\n",
              "    <tr>\n",
              "      <th></th>\n",
              "      <th></th>\n",
              "      <th colspan=\"3\" halign=\"left\">D</th>\n",
              "      <th colspan=\"3\" halign=\"left\">E</th>\n",
              "    </tr>\n",
              "    <tr>\n",
              "      <th></th>\n",
              "      <th>A</th>\n",
              "      <th>롯데마트</th>\n",
              "      <th>이마트</th>\n",
              "      <th>홈플러스</th>\n",
              "      <th>롯데마트</th>\n",
              "      <th>이마트</th>\n",
              "      <th>홈플러스</th>\n",
              "    </tr>\n",
              "    <tr>\n",
              "      <th>B</th>\n",
              "      <th>C</th>\n",
              "      <th></th>\n",
              "      <th></th>\n",
              "      <th></th>\n",
              "      <th></th>\n",
              "      <th></th>\n",
              "      <th></th>\n",
              "    </tr>\n",
              "  </thead>\n",
              "  <tbody>\n",
              "    <tr>\n",
              "      <th rowspan=\"2\" valign=\"top\">딸기</th>\n",
              "      <th>아침</th>\n",
              "      <td>0</td>\n",
              "      <td>29</td>\n",
              "      <td>46</td>\n",
              "      <td>0</td>\n",
              "      <td>29</td>\n",
              "      <td>41</td>\n",
              "    </tr>\n",
              "    <tr>\n",
              "      <th>저녁</th>\n",
              "      <td>33</td>\n",
              "      <td>40</td>\n",
              "      <td>0</td>\n",
              "      <td>40</td>\n",
              "      <td>11</td>\n",
              "      <td>0</td>\n",
              "    </tr>\n",
              "    <tr>\n",
              "      <th rowspan=\"2\" valign=\"top\">바나나</th>\n",
              "      <th>아침</th>\n",
              "      <td>27</td>\n",
              "      <td>16</td>\n",
              "      <td>0</td>\n",
              "      <td>46</td>\n",
              "      <td>45</td>\n",
              "      <td>0</td>\n",
              "    </tr>\n",
              "    <tr>\n",
              "      <th>저녁</th>\n",
              "      <td>0</td>\n",
              "      <td>18</td>\n",
              "      <td>35</td>\n",
              "      <td>0</td>\n",
              "      <td>34</td>\n",
              "      <td>51</td>\n",
              "    </tr>\n",
              "    <tr>\n",
              "      <th rowspan=\"2\" valign=\"top\">키위</th>\n",
              "      <th>아침</th>\n",
              "      <td>0</td>\n",
              "      <td>44</td>\n",
              "      <td>34</td>\n",
              "      <td>0</td>\n",
              "      <td>48</td>\n",
              "      <td>25</td>\n",
              "    </tr>\n",
              "    <tr>\n",
              "      <th>저녁</th>\n",
              "      <td>26</td>\n",
              "      <td>34</td>\n",
              "      <td>0</td>\n",
              "      <td>8</td>\n",
              "      <td>20</td>\n",
              "      <td>0</td>\n",
              "    </tr>\n",
              "  </tbody>\n",
              "</table>\n",
              "</div>"
            ],
            "text/plain": [
              "          D             E         \n",
              "A      롯데마트 이마트 홈플러스 롯데마트 이마트 홈플러스\n",
              "B   C                             \n",
              "딸기  아침    0  29   46    0  29   41\n",
              "    저녁   33  40    0   40  11    0\n",
              "바나나 아침   27  16    0   46  45    0\n",
              "    저녁    0  18   35    0  34   51\n",
              "키위  아침    0  44   34    0  48   25\n",
              "    저녁   26  34    0    8  20    0"
            ]
          },
          "metadata": {
            "tags": []
          },
          "execution_count": 90
        }
      ]
    },
    {
      "cell_type": "markdown",
      "metadata": {
        "id": "R8Y6o74b1ryF"
      },
      "source": [
        "# 문제\r\n",
        "\r\n",
        "1. 표준 편차 `sigma`가 $\\sigma$ 이고, 평균 `mu`이 $\\mu$인 임의의 `k`개의 샘플들을 추출하기 위해서는 다음과 같은 방법을 이용합니다.\r\n",
        "  ```\r\n",
        "  mu + np.random.randn(k) * sigma\r\n",
        "  ```\r\n",
        "표준 편차와 평균에 따라 추출된 샘플들을 통해 히스토그램을 `matplotlib.pyplot`을 이용해 그려보고, 각 parameter(표준 편차 그리고 평균)이 히스토그램에 어떠한 영향을 미치는지 살펴보세요.\r\n",
        "\r\n",
        "2. 다음과 같은 `pd.Series` 객체 `a`가 존재합니다.\r\n",
        "  ```\r\n",
        "    소세지      5\r\n",
        "    콜라      11\r\n",
        "    라면      12\r\n",
        "    요구르트     8\r\n",
        "    김치       9\r\n",
        "    dtype: int64\r\n",
        "  ```\r\n",
        "  2-1. 위 `pd.Series`를 `numpy`의 `ndarray`를 통해서 만들어 보세요.\r\n",
        "\r\n",
        "  2-2. 위 `pd.Series`를 딕셔너리를 통해서 만들어 보세요.\r\n",
        "\r\n",
        "3. 다음과 같은 `pd.Series` 객체 `b`가 존재합니다.\r\n",
        "  ```\r\n",
        "  계란       8\r\n",
        "  콜라      15\r\n",
        "  삼겹살     13\r\n",
        "  요구르트     8\r\n",
        "  김치      11\r\n",
        "  dtype: int64\r\n",
        "  ```\r\n",
        "  3-1. 위 `pd.Series`를 만들고, (2)의 `a`와 품목의 합을 계산해 보세요. 다음과 같은 결과가 나와야 합니다.\r\n",
        "  ```\r\n",
        "  계란       NaN\r\n",
        "  김치      20.0\r\n",
        "  라면       NaN\r\n",
        "  삼겹살      NaN\r\n",
        "  소세지      NaN\r\n",
        "  요구르트    16.0\r\n",
        "  콜라      26.0\r\n",
        "  dtype: float64\r\n",
        "  ```\r\n",
        "\r\n",
        "  3-2. (3-1)에서 계산된 결과의 `NaN`값을 지워보세요. 다음과 같은 결과가 나와야 합니다.\r\n",
        "  ```\r\n",
        "  김치      20.0\r\n",
        "  요구르트    16.0\r\n",
        "  콜라      26.0\r\n",
        "  dtype: float64\r\n",
        "  ```\r\n",
        "\r\n",
        "  3-3. (3-1)와 비슷하게 (2)의 `a`와 품목의 합을 계산하세요. 대신, 서로 일치하지 않는 품목(index)에 대해서는 기본 수량을 `5`로 설정하세요. 다음과 같은 결과가 나와야 합니다.\r\n",
        "  ```\r\n",
        "  계란      13.0\r\n",
        "  김치      20.0\r\n",
        "  라면      17.0\r\n",
        "  삼겹살     18.0\r\n",
        "  소세지     10.0\r\n",
        "  요구르트    16.0\r\n",
        "  콜라      26.0\r\n",
        "  dtype: float64\r\n",
        "  ```\r\n",
        "\r\n",
        "  3-4. (3-3)에서 계산된 결과 중, 중간값(median) 이상의 품목들만 찾도록 indexing 해보세요. 다음과 같은 결과가 나와야 합니다.\r\n",
        "  ```\r\n",
        "  김치     20.0\r\n",
        "  삼겹살    18.0\r\n",
        "  콜라     26.0\r\n",
        "  dtype: float64\r\n",
        "  ``` \r\n",
        "\r\n",
        "  3-5. 아래와 같은 결과가 나오도록, (3-3)에서 계산된 결과를 slicing 해보세요.\r\n",
        "  ```\r\n",
        "  소세지     10.0\r\n",
        "  요구르트    16.0\r\n",
        "  dtype: float64\r\n",
        "  ```\r\n",
        "\r\n",
        "4. (2)와 (3)의 `a` 그리고 `b`를 이용하여, 다음과 같은 `pd.DataFrame` 객체 `c`를 만들어보세요.\r\n",
        "  ```\r\n",
        "         A마트   B마트\r\n",
        "  계란     NaN   8.0\r\n",
        "  김치     9.0  11.0\r\n",
        "  라면    12.0   NaN\r\n",
        "  삼겹살    NaN  13.0\r\n",
        "  소세지    5.0   NaN\r\n",
        "  요구르트   8.0   8.0\r\n",
        "  콜라    11.0  15.0\r\n",
        "  ```\r\n",
        "\r\n",
        "  4-1. (4)에서 완성된 `c`에 대한 index와 columns을 각각 출력하세요. 다음과 같은 결과가 나와야 합니다.\r\n",
        "  ```\r\n",
        "    Index(['계란', '김치', '라면', '삼겹살', '소세지', '요구르트', '콜라'], dtype='object')\r\n",
        "  ```\r\n",
        "  ```\r\n",
        "    Index(['A마트', 'B마트'], dtype='object')\r\n",
        "  ```\r\n",
        "\r\n",
        "  4-2. (4)의 `c`를 이용하여 A마트의 물품을 모두 출력해보세요. 다음과 같은 결과가 나와야 합니다. \r\n",
        "  ```\r\n",
        "  김치       9.0\r\n",
        "  라면      12.0\r\n",
        "  소세지      5.0\r\n",
        "  요구르트     8.0\r\n",
        "  콜라      11.0\r\n",
        "  Name: A마트, dtype: float64\r\n",
        "  ```\r\n",
        "\r\n",
        "  4-3. (4)의 `c`를 이용하여 모든 마트의 요구르트와 콜라 정보를 출력해보세요. 다음과 같은 결과가 나와야 합니다. \r\n",
        "  ```\r\n",
        "         A마트   B마트\r\n",
        "  요구르트   8.0   8.0\r\n",
        "  콜라    11.0  15.0\r\n",
        "  ```\r\n",
        "\r\n",
        "  4-4. (4-3)의 결과와 동일한 `pd.DataFrame` 객체를 딕셔너리의 리스트를 이용해 만들어 보세요. 즉, 다음과 같은 코드 형태를 작성해야 합니다.\r\n",
        "  ```python\r\n",
        "  input_data = [ { ... }, { ... } ] \r\n",
        "  pd.DataFrame(data = input_data , index = ... ) \r\n",
        "  ```\r\n",
        "  ```\r\n",
        "         A마트   B마트\r\n",
        "  요구르트   8.0   8.0\r\n",
        "  콜라    11.0  15.0\r\n",
        "  ```\r\n",
        "  \r\n",
        "  4-5. (4)의 `c`에서 `NaN`이 포함된 행을 모두 제거한 결과를 출력하세요. 다음과 같은 결과가 나와야 합니다.\r\n",
        "  ```\r\n",
        "         A마트   B마트\r\n",
        "  김치     9.0  11.0\r\n",
        "  요구르트   8.0   8.0\r\n",
        "  콜라    11.0  15.0\r\n",
        "  ```\r\n",
        "\r\n",
        "  4-6. (4)의 `c`에서 `NaN`의 값을 모두 0으로 바꿔보세요. 다음과 같은 결과가 나와야 합니다.\r\n",
        "  ```\r\n",
        "         A마트   B마트\r\n",
        "  계란     0.0   8.0\r\n",
        "  김치     9.0  11.0\r\n",
        "  라면    12.0   0.0\r\n",
        "  삼겹살    0.0  13.0\r\n",
        "  소세지    5.0   0.0\r\n",
        "  요구르트   8.0   8.0\r\n",
        "  콜라    11.0  15.0\r\n",
        "  ```\r\n",
        "\r\n",
        "  4-7. (4-6)의 결과에서 `C마트`라는 column을 추가하고, `C마트`의 `라면`과 `요구르트`를 10으로 수정하세요. 다음과 같은 결과가 나와야 합니다. (힌트. `reindex` 와 fancy indexing 활용)\r\n",
        "  ```\r\n",
        "         A마트   B마트   C마트\r\n",
        "  계란     0.0   8.0   NaN\r\n",
        "  김치     9.0  11.0   NaN\r\n",
        "  라면    12.0   0.0  10.0\r\n",
        "  삼겹살    0.0  13.0   NaN\r\n",
        "  소세지    5.0   0.0   NaN\r\n",
        "  요구르트   8.0   8.0  10.0\r\n",
        "  콜라    11.0  15.0   NaN\r\n",
        "  ```\r\n",
        "\r\n",
        "5. 다음과 같은 시계열 Index가 포함된 `DataFrame`을 만들어보세요. (힌트. `pd.data_range` 활용)\r\n",
        "```\r\n",
        "            강의 내용\r\n",
        "  2020-12-10   파이썬\r\n",
        "  2020-12-11   넘파이\r\n",
        "  2020-12-12   판다스\r\n",
        "  2020-12-13  기계학습\r\n",
        "  2020-12-14   딥러닝\r\n",
        "``` "
      ]
    },
    {
      "cell_type": "code",
      "metadata": {
        "colab": {
          "base_uri": "https://localhost:8080/",
          "height": 265
        },
        "id": "MMSTbxkpPnkh",
        "outputId": "6b107178-636e-4fa0-dc1b-93800dd5ae6d"
      },
      "source": [
        "# 1번 문제 정답\r\n",
        "# 평균이 0, 표준편차가 1인 \r\n",
        "k = 10000\r\n",
        "mu = 0\r\n",
        "sigma = 1\r\n",
        "value = mu + np.random.randn(k) * sigma\r\n",
        "\r\n",
        "mu = 2\r\n",
        "sigma = 1\r\n",
        "value2 = mu + np.random.randn(k) * sigma\r\n",
        "\r\n",
        "mu = 4\r\n",
        "sigma = 0.5\r\n",
        "value3 = mu + np.random.randn(k) * sigma\r\n",
        "\r\n",
        "plt.hist(value, bins=50, density=True, edgecolor='black', alpha=0.75, label='mu 0 sigma 1')\r\n",
        "plt.hist(value2, bins=50, density=True, edgecolor='black', alpha=0.75, label='mu 2 sigma 1')\r\n",
        "plt.hist(value3, bins=50, density=True, edgecolor='black', alpha=0.75, label='mu 4 sigma 0.5')\r\n",
        "\r\n",
        "plt.legend()\r\n",
        "plt.show()"
      ],
      "execution_count": null,
      "outputs": [
        {
          "output_type": "display_data",
          "data": {
            "image/png": "[encoded data removed]",
            "text/plain": [
              "<Figure size 432x288 with 1 Axes>"
            ]
          },
          "metadata": {
            "tags": [],
            "needs_background": "light"
          }
        }
      ]
    },
    {
      "cell_type": "code",
      "metadata": {
        "colab": {
          "base_uri": "https://localhost:8080/"
        },
        "id": "Rm7vw-cnPoIA",
        "outputId": "342233c3-4593-47d7-854e-dbd53f9d4d44"
      },
      "source": [
        "# 2-1번 문제 정답\r\n",
        "a = pd.Series(np.array([5, 11, 12, 8, 9]), index=['소세지', '콜라', '라면', '요구르트', '김치'])\r\n",
        "\r\n",
        "a"
      ],
      "execution_count": null,
      "outputs": [
        {
          "output_type": "execute_result",
          "data": {
            "text/plain": [
              "소세지      5\n",
              "콜라      11\n",
              "라면      12\n",
              "요구르트     8\n",
              "김치       9\n",
              "dtype: int64"
            ]
          },
          "metadata": {
            "tags": []
          },
          "execution_count": 92
        }
      ]
    },
    {
      "cell_type": "code",
      "metadata": {
        "colab": {
          "base_uri": "https://localhost:8080/"
        },
        "id": "t6Hf4zMuVvbV",
        "outputId": "d22fa1ed-bc56-4ed7-fd6f-31d00edb56e0"
      },
      "source": [
        "# 2-2번 문제 정답\r\n",
        "a = pd.Series({'소세지': 5, '콜라': 11, '라면':12, '요구르트':8, '김치':9})\r\n",
        "\r\n",
        "a"
      ],
      "execution_count": null,
      "outputs": [
        {
          "output_type": "execute_result",
          "data": {
            "text/plain": [
              "소세지      5\n",
              "콜라      11\n",
              "라면      12\n",
              "요구르트     8\n",
              "김치       9\n",
              "dtype: int64"
            ]
          },
          "metadata": {
            "tags": []
          },
          "execution_count": 93
        }
      ]
    },
    {
      "cell_type": "code",
      "metadata": {
        "colab": {
          "base_uri": "https://localhost:8080/"
        },
        "id": "NtIfpqH8PoGI",
        "outputId": "d535902b-4e86-4545-8347-393403731994"
      },
      "source": [
        "\r\n",
        "b = pd.Series(np.array([8, 15, 13, 8, 11]), index=['계란', '콜라','삼겹살','요구르트', '김치'])\r\n",
        "\r\n",
        "b"
      ],
      "execution_count": null,
      "outputs": [
        {
          "output_type": "execute_result",
          "data": {
            "text/plain": [
              "계란       8\n",
              "콜라      15\n",
              "삼겹살     13\n",
              "요구르트     8\n",
              "김치      11\n",
              "dtype: int64"
            ]
          },
          "metadata": {
            "tags": []
          },
          "execution_count": 94
        }
      ]
    },
    {
      "cell_type": "code",
      "metadata": {
        "colab": {
          "base_uri": "https://localhost:8080/"
        },
        "id": "JXtvrTtoX71o",
        "outputId": "061048c3-6cbd-4b7c-d51a-a359bdc26c8f"
      },
      "source": [
        "# 3-1번 문제 정답\r\n",
        "a + b"
      ],
      "execution_count": null,
      "outputs": [
        {
          "output_type": "execute_result",
          "data": {
            "text/plain": [
              "계란       NaN\n",
              "김치      20.0\n",
              "라면       NaN\n",
              "삼겹살      NaN\n",
              "소세지      NaN\n",
              "요구르트    16.0\n",
              "콜라      26.0\n",
              "dtype: float64"
            ]
          },
          "metadata": {
            "tags": []
          },
          "execution_count": 95
        }
      ]
    },
    {
      "cell_type": "code",
      "metadata": {
        "colab": {
          "base_uri": "https://localhost:8080/"
        },
        "id": "ZBelWZVBW7Za",
        "outputId": "a45c2efa-8465-429e-80d3-91330683417e"
      },
      "source": [
        "# 3-2번 문제 정답 (1)\r\n",
        "(a + b).dropna()"
      ],
      "execution_count": null,
      "outputs": [
        {
          "output_type": "execute_result",
          "data": {
            "text/plain": [
              "김치      20.0\n",
              "요구르트    16.0\n",
              "콜라      26.0\n",
              "dtype: float64"
            ]
          },
          "metadata": {
            "tags": []
          },
          "execution_count": 96
        }
      ]
    },
    {
      "cell_type": "code",
      "metadata": {
        "colab": {
          "base_uri": "https://localhost:8080/"
        },
        "id": "5VGh2b2bXTaa",
        "outputId": "3b1f2a45-6e74-4ac4-8818-72c5cbd28fe8"
      },
      "source": [
        "# 3-2번 문제 정답 (2)\r\n",
        "idx = (a + b).notnull()\r\n",
        "\r\n",
        "(a + b)[idx]"
      ],
      "execution_count": null,
      "outputs": [
        {
          "output_type": "execute_result",
          "data": {
            "text/plain": [
              "김치      20.0\n",
              "요구르트    16.0\n",
              "콜라      26.0\n",
              "dtype: float64"
            ]
          },
          "metadata": {
            "tags": []
          },
          "execution_count": 97
        }
      ]
    },
    {
      "cell_type": "code",
      "metadata": {
        "colab": {
          "base_uri": "https://localhost:8080/"
        },
        "id": "h6IygIfLXxAw",
        "outputId": "c1008edc-a111-4c5a-d067-117b395025ce"
      },
      "source": [
        "# 3-3 문제 정답\r\n",
        "result = a.add(b, fill_value=5)\r\n",
        "\r\n",
        "result"
      ],
      "execution_count": null,
      "outputs": [
        {
          "output_type": "execute_result",
          "data": {
            "text/plain": [
              "계란      13.0\n",
              "김치      20.0\n",
              "라면      17.0\n",
              "삼겹살     18.0\n",
              "소세지     10.0\n",
              "요구르트    16.0\n",
              "콜라      26.0\n",
              "dtype: float64"
            ]
          },
          "metadata": {
            "tags": []
          },
          "execution_count": 98
        }
      ]
    },
    {
      "cell_type": "code",
      "metadata": {
        "colab": {
          "base_uri": "https://localhost:8080/"
        },
        "id": "szDBo-tHY1qd",
        "outputId": "d9b395c2-2eeb-4afd-8cc0-41ba29fc0cb5"
      },
      "source": [
        "# 3-4 문제 정답\r\n",
        "result[result > result.median()]"
      ],
      "execution_count": null,
      "outputs": [
        {
          "output_type": "execute_result",
          "data": {
            "text/plain": [
              "김치     20.0\n",
              "삼겹살    18.0\n",
              "콜라     26.0\n",
              "dtype: float64"
            ]
          },
          "metadata": {
            "tags": []
          },
          "execution_count": 99
        }
      ]
    },
    {
      "cell_type": "code",
      "metadata": {
        "colab": {
          "base_uri": "https://localhost:8080/"
        },
        "id": "AK-sEj6OYOcM",
        "outputId": "0fbf226b-f517-4381-914d-84d496b38d66"
      },
      "source": [
        "sorted_result = result.sort_values()\r\n",
        "sorted_result\r\n"
      ],
      "execution_count": null,
      "outputs": [
        {
          "output_type": "execute_result",
          "data": {
            "text/plain": [
              "소세지     10.0\n",
              "계란      13.0\n",
              "요구르트    16.0\n",
              "라면      17.0\n",
              "삼겹살     18.0\n",
              "김치      20.0\n",
              "콜라      26.0\n",
              "dtype: float64"
            ]
          },
          "metadata": {
            "tags": []
          },
          "execution_count": 100
        }
      ]
    },
    {
      "cell_type": "code",
      "metadata": {
        "colab": {
          "base_uri": "https://localhost:8080/"
        },
        "id": "Tj-pRq9WZGAu",
        "outputId": "e2407a0d-fd00-44f9-9d34-dfa8e10ddfad"
      },
      "source": [
        "# 3-5 문제 정답\r\n",
        "result.loc[['소세지', '요구르트']]\r\n",
        "\r\n",
        "result.iloc[4:6]"
      ],
      "execution_count": null,
      "outputs": [
        {
          "output_type": "execute_result",
          "data": {
            "text/plain": [
              "소세지     10.0\n",
              "요구르트    16.0\n",
              "dtype: float64"
            ]
          },
          "metadata": {
            "tags": []
          },
          "execution_count": 101
        }
      ]
    },
    {
      "cell_type": "code",
      "metadata": {
        "colab": {
          "base_uri": "https://localhost:8080/",
          "height": 263
        },
        "id": "ianZM7i_Pn-m",
        "outputId": "722f96fa-b914-4b6d-a194-6b84a303c691"
      },
      "source": [
        "# 4번 문제 정답\r\n",
        "c = pd.DataFrame({'A마트': a, 'B마트': b})\r\n",
        "c"
      ],
      "execution_count": null,
      "outputs": [
        {
          "output_type": "execute_result",
          "data": {
            "text/html": [
              "<div>\n",
              "<style scoped>\n",
              "    .dataframe tbody tr th:only-of-type {\n",
              "        vertical-align: middle;\n",
              "    }\n",
              "\n",
              "    .dataframe tbody tr th {\n",
              "        vertical-align: top;\n",
              "    }\n",
              "\n",
              "    .dataframe thead th {\n",
              "        text-align: right;\n",
              "    }\n",
              "</style>\n",
              "<table border=\"1\" class=\"dataframe\">\n",
              "  <thead>\n",
              "    <tr style=\"text-align: right;\">\n",
              "      <th></th>\n",
              "      <th>A마트</th>\n",
              "      <th>B마트</th>\n",
              "    </tr>\n",
              "  </thead>\n",
              "  <tbody>\n",
              "    <tr>\n",
              "      <th>계란</th>\n",
              "      <td>NaN</td>\n",
              "      <td>8.0</td>\n",
              "    </tr>\n",
              "    <tr>\n",
              "      <th>김치</th>\n",
              "      <td>9.0</td>\n",
              "      <td>11.0</td>\n",
              "    </tr>\n",
              "    <tr>\n",
              "      <th>라면</th>\n",
              "      <td>12.0</td>\n",
              "      <td>NaN</td>\n",
              "    </tr>\n",
              "    <tr>\n",
              "      <th>삼겹살</th>\n",
              "      <td>NaN</td>\n",
              "      <td>13.0</td>\n",
              "    </tr>\n",
              "    <tr>\n",
              "      <th>소세지</th>\n",
              "      <td>5.0</td>\n",
              "      <td>NaN</td>\n",
              "    </tr>\n",
              "    <tr>\n",
              "      <th>요구르트</th>\n",
              "      <td>8.0</td>\n",
              "      <td>8.0</td>\n",
              "    </tr>\n",
              "    <tr>\n",
              "      <th>콜라</th>\n",
              "      <td>11.0</td>\n",
              "      <td>15.0</td>\n",
              "    </tr>\n",
              "  </tbody>\n",
              "</table>\n",
              "</div>"
            ],
            "text/plain": [
              "       A마트   B마트\n",
              "계란     NaN   8.0\n",
              "김치     9.0  11.0\n",
              "라면    12.0   NaN\n",
              "삼겹살    NaN  13.0\n",
              "소세지    5.0   NaN\n",
              "요구르트   8.0   8.0\n",
              "콜라    11.0  15.0"
            ]
          },
          "metadata": {
            "tags": []
          },
          "execution_count": 102
        }
      ]
    },
    {
      "cell_type": "code",
      "metadata": {
        "colab": {
          "base_uri": "https://localhost:8080/"
        },
        "id": "g-YAKCRhZ8KX",
        "outputId": "196edc72-52ca-4aaa-e240-0cf5e2c2d2f7"
      },
      "source": [
        "# 4-1 정답\r\n",
        "c.index"
      ],
      "execution_count": null,
      "outputs": [
        {
          "output_type": "execute_result",
          "data": {
            "text/plain": [
              "Index(['계란', '김치', '라면', '삼겹살', '소세지', '요구르트', '콜라'], dtype='object')"
            ]
          },
          "metadata": {
            "tags": []
          },
          "execution_count": 103
        }
      ]
    },
    {
      "cell_type": "code",
      "metadata": {
        "colab": {
          "base_uri": "https://localhost:8080/"
        },
        "id": "cOhl29cPZ_jc",
        "outputId": "d0ecf64f-c075-4d1f-83dc-82769e916e96"
      },
      "source": [
        "c.columns"
      ],
      "execution_count": null,
      "outputs": [
        {
          "output_type": "execute_result",
          "data": {
            "text/plain": [
              "Index(['A마트', 'B마트'], dtype='object')"
            ]
          },
          "metadata": {
            "tags": []
          },
          "execution_count": 104
        }
      ]
    },
    {
      "cell_type": "code",
      "metadata": {
        "colab": {
          "base_uri": "https://localhost:8080/"
        },
        "id": "b9LJ1ebbaCYV",
        "outputId": "30be014d-7982-4716-9ec4-f9ae33a8e031"
      },
      "source": [
        "# 4-2 정답\r\n",
        "c['A마트'].dropna()"
      ],
      "execution_count": null,
      "outputs": [
        {
          "output_type": "execute_result",
          "data": {
            "text/plain": [
              "김치       9.0\n",
              "라면      12.0\n",
              "소세지      5.0\n",
              "요구르트     8.0\n",
              "콜라      11.0\n",
              "Name: A마트, dtype: float64"
            ]
          },
          "metadata": {
            "tags": []
          },
          "execution_count": 105
        }
      ]
    },
    {
      "cell_type": "code",
      "metadata": {
        "colab": {
          "base_uri": "https://localhost:8080/",
          "height": 110
        },
        "id": "0QUBP6E3aTId",
        "outputId": "3dcbf910-a405-4a6d-f1d7-56cb0af9292a"
      },
      "source": [
        "# 4-3 문제 정답\r\n",
        "c.loc[['요구르트', '콜라']]"
      ],
      "execution_count": null,
      "outputs": [
        {
          "output_type": "execute_result",
          "data": {
            "text/html": [
              "<div>\n",
              "<style scoped>\n",
              "    .dataframe tbody tr th:only-of-type {\n",
              "        vertical-align: middle;\n",
              "    }\n",
              "\n",
              "    .dataframe tbody tr th {\n",
              "        vertical-align: top;\n",
              "    }\n",
              "\n",
              "    .dataframe thead th {\n",
              "        text-align: right;\n",
              "    }\n",
              "</style>\n",
              "<table border=\"1\" class=\"dataframe\">\n",
              "  <thead>\n",
              "    <tr style=\"text-align: right;\">\n",
              "      <th></th>\n",
              "      <th>A마트</th>\n",
              "      <th>B마트</th>\n",
              "    </tr>\n",
              "  </thead>\n",
              "  <tbody>\n",
              "    <tr>\n",
              "      <th>요구르트</th>\n",
              "      <td>8.0</td>\n",
              "      <td>8.0</td>\n",
              "    </tr>\n",
              "    <tr>\n",
              "      <th>콜라</th>\n",
              "      <td>11.0</td>\n",
              "      <td>15.0</td>\n",
              "    </tr>\n",
              "  </tbody>\n",
              "</table>\n",
              "</div>"
            ],
            "text/plain": [
              "       A마트   B마트\n",
              "요구르트   8.0   8.0\n",
              "콜라    11.0  15.0"
            ]
          },
          "metadata": {
            "tags": []
          },
          "execution_count": 106
        }
      ]
    },
    {
      "cell_type": "code",
      "metadata": {
        "colab": {
          "base_uri": "https://localhost:8080/",
          "height": 171
        },
        "id": "qGredxqhacgx",
        "outputId": "79f35b59-bb59-4d2e-92ab-f179a6a821d4"
      },
      "source": [
        "c.loc['삼겹살':'콜라']"
      ],
      "execution_count": null,
      "outputs": [
        {
          "output_type": "execute_result",
          "data": {
            "text/html": [
              "<div>\n",
              "<style scoped>\n",
              "    .dataframe tbody tr th:only-of-type {\n",
              "        vertical-align: middle;\n",
              "    }\n",
              "\n",
              "    .dataframe tbody tr th {\n",
              "        vertical-align: top;\n",
              "    }\n",
              "\n",
              "    .dataframe thead th {\n",
              "        text-align: right;\n",
              "    }\n",
              "</style>\n",
              "<table border=\"1\" class=\"dataframe\">\n",
              "  <thead>\n",
              "    <tr style=\"text-align: right;\">\n",
              "      <th></th>\n",
              "      <th>A마트</th>\n",
              "      <th>B마트</th>\n",
              "    </tr>\n",
              "  </thead>\n",
              "  <tbody>\n",
              "    <tr>\n",
              "      <th>삼겹살</th>\n",
              "      <td>NaN</td>\n",
              "      <td>13.0</td>\n",
              "    </tr>\n",
              "    <tr>\n",
              "      <th>소세지</th>\n",
              "      <td>5.0</td>\n",
              "      <td>NaN</td>\n",
              "    </tr>\n",
              "    <tr>\n",
              "      <th>요구르트</th>\n",
              "      <td>8.0</td>\n",
              "      <td>8.0</td>\n",
              "    </tr>\n",
              "    <tr>\n",
              "      <th>콜라</th>\n",
              "      <td>11.0</td>\n",
              "      <td>15.0</td>\n",
              "    </tr>\n",
              "  </tbody>\n",
              "</table>\n",
              "</div>"
            ],
            "text/plain": [
              "       A마트   B마트\n",
              "삼겹살    NaN  13.0\n",
              "소세지    5.0   NaN\n",
              "요구르트   8.0   8.0\n",
              "콜라    11.0  15.0"
            ]
          },
          "metadata": {
            "tags": []
          },
          "execution_count": 107
        }
      ]
    },
    {
      "cell_type": "code",
      "metadata": {
        "colab": {
          "base_uri": "https://localhost:8080/",
          "height": 110
        },
        "id": "_9RqoBudayBl",
        "outputId": "b2448902-5626-4431-ad3f-afdb4d1faad0"
      },
      "source": [
        "# 4-4 문제 정답\r\n",
        "input_data = [ {'A마트': 8.0, 'B마트': 8.0}, {'A마트': 11.0, 'B마트': 15.0 } ]\r\n",
        "pd.DataFrame(data = input_data , index = ['요구르트', '콜라'])"
      ],
      "execution_count": null,
      "outputs": [
        {
          "output_type": "execute_result",
          "data": {
            "text/html": [
              "<div>\n",
              "<style scoped>\n",
              "    .dataframe tbody tr th:only-of-type {\n",
              "        vertical-align: middle;\n",
              "    }\n",
              "\n",
              "    .dataframe tbody tr th {\n",
              "        vertical-align: top;\n",
              "    }\n",
              "\n",
              "    .dataframe thead th {\n",
              "        text-align: right;\n",
              "    }\n",
              "</style>\n",
              "<table border=\"1\" class=\"dataframe\">\n",
              "  <thead>\n",
              "    <tr style=\"text-align: right;\">\n",
              "      <th></th>\n",
              "      <th>A마트</th>\n",
              "      <th>B마트</th>\n",
              "    </tr>\n",
              "  </thead>\n",
              "  <tbody>\n",
              "    <tr>\n",
              "      <th>요구르트</th>\n",
              "      <td>8.0</td>\n",
              "      <td>8.0</td>\n",
              "    </tr>\n",
              "    <tr>\n",
              "      <th>콜라</th>\n",
              "      <td>11.0</td>\n",
              "      <td>15.0</td>\n",
              "    </tr>\n",
              "  </tbody>\n",
              "</table>\n",
              "</div>"
            ],
            "text/plain": [
              "       A마트   B마트\n",
              "요구르트   8.0   8.0\n",
              "콜라    11.0  15.0"
            ]
          },
          "metadata": {
            "tags": []
          },
          "execution_count": 108
        }
      ]
    },
    {
      "cell_type": "code",
      "metadata": {
        "colab": {
          "base_uri": "https://localhost:8080/",
          "height": 141
        },
        "id": "gvnqqPVzbNPP",
        "outputId": "005d54f2-3fc9-4105-98d7-d1e6363ec1a1"
      },
      "source": [
        "# 4-5 문제 정답\r\n",
        "c.dropna(how='any')"
      ],
      "execution_count": null,
      "outputs": [
        {
          "output_type": "execute_result",
          "data": {
            "text/html": [
              "<div>\n",
              "<style scoped>\n",
              "    .dataframe tbody tr th:only-of-type {\n",
              "        vertical-align: middle;\n",
              "    }\n",
              "\n",
              "    .dataframe tbody tr th {\n",
              "        vertical-align: top;\n",
              "    }\n",
              "\n",
              "    .dataframe thead th {\n",
              "        text-align: right;\n",
              "    }\n",
              "</style>\n",
              "<table border=\"1\" class=\"dataframe\">\n",
              "  <thead>\n",
              "    <tr style=\"text-align: right;\">\n",
              "      <th></th>\n",
              "      <th>A마트</th>\n",
              "      <th>B마트</th>\n",
              "    </tr>\n",
              "  </thead>\n",
              "  <tbody>\n",
              "    <tr>\n",
              "      <th>김치</th>\n",
              "      <td>9.0</td>\n",
              "      <td>11.0</td>\n",
              "    </tr>\n",
              "    <tr>\n",
              "      <th>요구르트</th>\n",
              "      <td>8.0</td>\n",
              "      <td>8.0</td>\n",
              "    </tr>\n",
              "    <tr>\n",
              "      <th>콜라</th>\n",
              "      <td>11.0</td>\n",
              "      <td>15.0</td>\n",
              "    </tr>\n",
              "  </tbody>\n",
              "</table>\n",
              "</div>"
            ],
            "text/plain": [
              "       A마트   B마트\n",
              "김치     9.0  11.0\n",
              "요구르트   8.0   8.0\n",
              "콜라    11.0  15.0"
            ]
          },
          "metadata": {
            "tags": []
          },
          "execution_count": 109
        }
      ]
    },
    {
      "cell_type": "code",
      "metadata": {
        "colab": {
          "base_uri": "https://localhost:8080/",
          "height": 263
        },
        "id": "ifygmCDObbWg",
        "outputId": "d1973deb-e1f2-46b0-d4a1-0e620cf79e9a"
      },
      "source": [
        "# 4-6 문제 정답\r\n",
        "six = c.fillna(0)\r\n",
        "six"
      ],
      "execution_count": null,
      "outputs": [
        {
          "output_type": "execute_result",
          "data": {
            "text/html": [
              "<div>\n",
              "<style scoped>\n",
              "    .dataframe tbody tr th:only-of-type {\n",
              "        vertical-align: middle;\n",
              "    }\n",
              "\n",
              "    .dataframe tbody tr th {\n",
              "        vertical-align: top;\n",
              "    }\n",
              "\n",
              "    .dataframe thead th {\n",
              "        text-align: right;\n",
              "    }\n",
              "</style>\n",
              "<table border=\"1\" class=\"dataframe\">\n",
              "  <thead>\n",
              "    <tr style=\"text-align: right;\">\n",
              "      <th></th>\n",
              "      <th>A마트</th>\n",
              "      <th>B마트</th>\n",
              "    </tr>\n",
              "  </thead>\n",
              "  <tbody>\n",
              "    <tr>\n",
              "      <th>계란</th>\n",
              "      <td>0.0</td>\n",
              "      <td>8.0</td>\n",
              "    </tr>\n",
              "    <tr>\n",
              "      <th>김치</th>\n",
              "      <td>9.0</td>\n",
              "      <td>11.0</td>\n",
              "    </tr>\n",
              "    <tr>\n",
              "      <th>라면</th>\n",
              "      <td>12.0</td>\n",
              "      <td>0.0</td>\n",
              "    </tr>\n",
              "    <tr>\n",
              "      <th>삼겹살</th>\n",
              "      <td>0.0</td>\n",
              "      <td>13.0</td>\n",
              "    </tr>\n",
              "    <tr>\n",
              "      <th>소세지</th>\n",
              "      <td>5.0</td>\n",
              "      <td>0.0</td>\n",
              "    </tr>\n",
              "    <tr>\n",
              "      <th>요구르트</th>\n",
              "      <td>8.0</td>\n",
              "      <td>8.0</td>\n",
              "    </tr>\n",
              "    <tr>\n",
              "      <th>콜라</th>\n",
              "      <td>11.0</td>\n",
              "      <td>15.0</td>\n",
              "    </tr>\n",
              "  </tbody>\n",
              "</table>\n",
              "</div>"
            ],
            "text/plain": [
              "       A마트   B마트\n",
              "계란     0.0   8.0\n",
              "김치     9.0  11.0\n",
              "라면    12.0   0.0\n",
              "삼겹살    0.0  13.0\n",
              "소세지    5.0   0.0\n",
              "요구르트   8.0   8.0\n",
              "콜라    11.0  15.0"
            ]
          },
          "metadata": {
            "tags": []
          },
          "execution_count": 110
        }
      ]
    },
    {
      "cell_type": "code",
      "metadata": {
        "colab": {
          "base_uri": "https://localhost:8080/",
          "height": 263
        },
        "id": "9tPle_-SbmQI",
        "outputId": "178c5cbe-cd20-4f91-d62a-73b04f8893a3"
      },
      "source": [
        "# 4-7 문제 정답\r\n",
        "re_six = six.reindex(columns=list(six.columns) + ['C마트'], index=list(six.index))\r\n",
        "\r\n",
        "re_six.loc[['라면', '요구르트'], ['C마트']] = 10\r\n",
        "# re_six.loc[['라면', '요구르트']]['C마트'] = 10  # 복사된 DataFrame의 'C마트' 값 변경 (re_six 객체 값 변경 하지 않음)\r\n",
        "re_six['C마트'][['라면', '요구르트']] = 10\r\n",
        "\r\n",
        "re_six"
      ],
      "execution_count": null,
      "outputs": [
        {
          "output_type": "execute_result",
          "data": {
            "text/html": [
              "<div>\n",
              "<style scoped>\n",
              "    .dataframe tbody tr th:only-of-type {\n",
              "        vertical-align: middle;\n",
              "    }\n",
              "\n",
              "    .dataframe tbody tr th {\n",
              "        vertical-align: top;\n",
              "    }\n",
              "\n",
              "    .dataframe thead th {\n",
              "        text-align: right;\n",
              "    }\n",
              "</style>\n",
              "<table border=\"1\" class=\"dataframe\">\n",
              "  <thead>\n",
              "    <tr style=\"text-align: right;\">\n",
              "      <th></th>\n",
              "      <th>A마트</th>\n",
              "      <th>B마트</th>\n",
              "      <th>C마트</th>\n",
              "    </tr>\n",
              "  </thead>\n",
              "  <tbody>\n",
              "    <tr>\n",
              "      <th>계란</th>\n",
              "      <td>0.0</td>\n",
              "      <td>8.0</td>\n",
              "      <td>NaN</td>\n",
              "    </tr>\n",
              "    <tr>\n",
              "      <th>김치</th>\n",
              "      <td>9.0</td>\n",
              "      <td>11.0</td>\n",
              "      <td>NaN</td>\n",
              "    </tr>\n",
              "    <tr>\n",
              "      <th>라면</th>\n",
              "      <td>12.0</td>\n",
              "      <td>0.0</td>\n",
              "      <td>10.0</td>\n",
              "    </tr>\n",
              "    <tr>\n",
              "      <th>삼겹살</th>\n",
              "      <td>0.0</td>\n",
              "      <td>13.0</td>\n",
              "      <td>NaN</td>\n",
              "    </tr>\n",
              "    <tr>\n",
              "      <th>소세지</th>\n",
              "      <td>5.0</td>\n",
              "      <td>0.0</td>\n",
              "      <td>NaN</td>\n",
              "    </tr>\n",
              "    <tr>\n",
              "      <th>요구르트</th>\n",
              "      <td>8.0</td>\n",
              "      <td>8.0</td>\n",
              "      <td>10.0</td>\n",
              "    </tr>\n",
              "    <tr>\n",
              "      <th>콜라</th>\n",
              "      <td>11.0</td>\n",
              "      <td>15.0</td>\n",
              "      <td>NaN</td>\n",
              "    </tr>\n",
              "  </tbody>\n",
              "</table>\n",
              "</div>"
            ],
            "text/plain": [
              "       A마트   B마트   C마트\n",
              "계란     0.0   8.0   NaN\n",
              "김치     9.0  11.0   NaN\n",
              "라면    12.0   0.0  10.0\n",
              "삼겹살    0.0  13.0   NaN\n",
              "소세지    5.0   0.0   NaN\n",
              "요구르트   8.0   8.0  10.0\n",
              "콜라    11.0  15.0   NaN"
            ]
          },
          "metadata": {
            "tags": []
          },
          "execution_count": 111
        }
      ]
    },
    {
      "cell_type": "code",
      "metadata": {
        "colab": {
          "base_uri": "https://localhost:8080/",
          "height": 202
        },
        "id": "r_JLIHZVPn15",
        "outputId": "5c558823-9740-4949-bf72-0c3891c93d00"
      },
      "source": [
        "# 5번 문제 정답\r\n",
        "# idx = pd.date_range(start='2020-12-10', end='2020-12-14')\r\n",
        "idx = pd.date_range(start='2020-12-10', periods=5)\r\n",
        "idx\r\n",
        "\r\n",
        "pd.DataFrame(np.array(['파이썬', '넘파이', '판다스', '기계학습', '딥러닝']), index=idx, columns=['강의 내용'])"
      ],
      "execution_count": null,
      "outputs": [
        {
          "output_type": "execute_result",
          "data": {
            "text/html": [
              "<div>\n",
              "<style scoped>\n",
              "    .dataframe tbody tr th:only-of-type {\n",
              "        vertical-align: middle;\n",
              "    }\n",
              "\n",
              "    .dataframe tbody tr th {\n",
              "        vertical-align: top;\n",
              "    }\n",
              "\n",
              "    .dataframe thead th {\n",
              "        text-align: right;\n",
              "    }\n",
              "</style>\n",
              "<table border=\"1\" class=\"dataframe\">\n",
              "  <thead>\n",
              "    <tr style=\"text-align: right;\">\n",
              "      <th></th>\n",
              "      <th>강의 내용</th>\n",
              "    </tr>\n",
              "  </thead>\n",
              "  <tbody>\n",
              "    <tr>\n",
              "      <th>2020-12-10</th>\n",
              "      <td>파이썬</td>\n",
              "    </tr>\n",
              "    <tr>\n",
              "      <th>2020-12-11</th>\n",
              "      <td>넘파이</td>\n",
              "    </tr>\n",
              "    <tr>\n",
              "      <th>2020-12-12</th>\n",
              "      <td>판다스</td>\n",
              "    </tr>\n",
              "    <tr>\n",
              "      <th>2020-12-13</th>\n",
              "      <td>기계학습</td>\n",
              "    </tr>\n",
              "    <tr>\n",
              "      <th>2020-12-14</th>\n",
              "      <td>딥러닝</td>\n",
              "    </tr>\n",
              "  </tbody>\n",
              "</table>\n",
              "</div>"
            ],
            "text/plain": [
              "           강의 내용\n",
              "2020-12-10   파이썬\n",
              "2020-12-11   넘파이\n",
              "2020-12-12   판다스\n",
              "2020-12-13  기계학습\n",
              "2020-12-14   딥러닝"
            ]
          },
          "metadata": {
            "tags": []
          },
          "execution_count": 112
        }
      ]
    }
  ]
}