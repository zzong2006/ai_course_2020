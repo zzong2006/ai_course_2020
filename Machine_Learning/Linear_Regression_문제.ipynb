{
  "nbformat": 4,
  "nbformat_minor": 0,
  "metadata": {
    "colab": {
      "name": "12월 19일_(토)_실습_정답",
      "provenance": [],
      "collapsed_sections": [],
      "toc_visible": true
    },
    "kernelspec": {
      "name": "python3",
      "display_name": "Python 3"
    }
  },
  "cells": [
    {
      "cell_type": "markdown",
      "metadata": {
        "id": "NDE-thPccbI2"
      },
      "source": [
        "# Linear Regression\r\n",
        "Stanford CS229 - Machine Learning by Andrew Ng. Programming exercise 1."
      ]
    },
    {
      "cell_type": "code",
      "metadata": {
        "id": "GNr5LMXTcTTB"
      },
      "source": [
        "import numpy as np\r\n",
        "import pandas as pd\r\n",
        "import matplotlib.pylab as plt"
      ],
      "execution_count": null,
      "outputs": []
    },
    {
      "cell_type": "markdown",
      "metadata": {
        "id": "64KPwlGpcoPg"
      },
      "source": [
        "## Linear Regression with a single variable\r\n",
        "\r\n",
        "여러분들은 푸드 트럭의 수익을 예측하는 선형 회귀 모델을 만들어 보게 될것입니다. 이 선형 모델은 하나의 변수만 사용합니다. \r\n",
        "\r\n",
        "여러분들은 레스토랑 프렌차이즈의 CEO 이며, 새로운 지점을 확장하기 위해 어떤 도시를 선택할지 고민하고 있습니다. 이미 여러 도시에 많은 푸드 트럭이 존재하므로, 여러분들은 그 도시들로 부터 인구에 따른 수익 데이터를 확인할 수 있습니다. 이 데이터를 활용해서 다음에 어느 도시에 새로운 지점을 확장하면 좋을지 결정해보세요."
      ]
    },
    {
      "cell_type": "code",
      "metadata": {
        "id": "R1NGP_-MdkkI",
        "colab": {
          "base_uri": "https://localhost:8080/",
          "height": 248
        },
        "outputId": "6b87bafb-8b3b-4467-a0ad-f096ef388077"
      },
      "source": [
        "# 데이터를 불러오는 것 부터 시작합시다.\r\n",
        "!wget -nc /resources/data/ex1data1.txt https://raw.githubusercontent.com/rickwierenga/CS229-Python/master/ex1/ex1data1.txt\r\n",
        "data = pd.read_csv('/content/ex1data1.txt', header=None, names=['Population', 'Profit'])\r\n",
        "\r\n",
        "# 유용한 변수들을 초기화 합니다.\r\n",
        "m = len(data)     # 학습 examples의 총 개수\r\n",
        "X = np.append(np.ones((m, 1)), np.array(data[\"Population\"]).reshape((m,1)), axis=1) # X 에 1로 구성된 벡터 x0를 추가합니다.\r\n",
        "y = np.array(data[\"Profit\"]).reshape(m, 1)\r\n",
        "\r\n",
        "data.head()"
      ],
      "execution_count": null,
      "outputs": [
        {
          "output_type": "stream",
          "text": [
            "/resources/data/ex1data1.txt: Scheme missing.\n",
            "File ‘ex1data1.txt’ already there; not retrieving.\n",
            "\n"
          ],
          "name": "stdout"
        },
        {
          "output_type": "execute_result",
          "data": {
            "text/html": [
              "<div>\n",
              "<style scoped>\n",
              "    .dataframe tbody tr th:only-of-type {\n",
              "        vertical-align: middle;\n",
              "    }\n",
              "\n",
              "    .dataframe tbody tr th {\n",
              "        vertical-align: top;\n",
              "    }\n",
              "\n",
              "    .dataframe thead th {\n",
              "        text-align: right;\n",
              "    }\n",
              "</style>\n",
              "<table border=\"1\" class=\"dataframe\">\n",
              "  <thead>\n",
              "    <tr style=\"text-align: right;\">\n",
              "      <th></th>\n",
              "      <th>Population</th>\n",
              "      <th>Profit</th>\n",
              "    </tr>\n",
              "  </thead>\n",
              "  <tbody>\n",
              "    <tr>\n",
              "      <th>0</th>\n",
              "      <td>6.1101</td>\n",
              "      <td>17.5920</td>\n",
              "    </tr>\n",
              "    <tr>\n",
              "      <th>1</th>\n",
              "      <td>5.5277</td>\n",
              "      <td>9.1302</td>\n",
              "    </tr>\n",
              "    <tr>\n",
              "      <th>2</th>\n",
              "      <td>8.5186</td>\n",
              "      <td>13.6620</td>\n",
              "    </tr>\n",
              "    <tr>\n",
              "      <th>3</th>\n",
              "      <td>7.0032</td>\n",
              "      <td>11.8540</td>\n",
              "    </tr>\n",
              "    <tr>\n",
              "      <th>4</th>\n",
              "      <td>5.8598</td>\n",
              "      <td>6.8233</td>\n",
              "    </tr>\n",
              "  </tbody>\n",
              "</table>\n",
              "</div>"
            ],
            "text/plain": [
              "   Population   Profit\n",
              "0      6.1101  17.5920\n",
              "1      5.5277   9.1302\n",
              "2      8.5186  13.6620\n",
              "3      7.0032  11.8540\n",
              "4      5.8598   6.8233"
            ]
          },
          "metadata": {
            "tags": []
          },
          "execution_count": 58
        }
      ]
    },
    {
      "cell_type": "markdown",
      "metadata": {
        "id": "KRJ775tHgsMZ"
      },
      "source": [
        "## 데이터 시각화\r\n",
        "\r\n",
        "Plotting은 여러분들이 사용하는 데이터에 대한 통찰력을 얻게 도와줍니다. `bx` 옵션을 이용하면, 데이터를 파란색 x 표시로 plot 할 수 있습니다. "
      ]
    },
    {
      "cell_type": "code",
      "metadata": {
        "id": "m4ayhbcngqok",
        "colab": {
          "base_uri": "https://localhost:8080/",
          "height": 313
        },
        "outputId": "d6fbaf43-2734-4e90-e901-8d3125cfb2ea"
      },
      "source": [
        "plt.plot(data['Population'], data['Profit'], 'bx')\r\n",
        "plt.xlabel('Population in 10,000')\r\n",
        "plt.ylabel('Profit in $10,000')\r\n",
        "plt.title('Relation between profit and population')"
      ],
      "execution_count": null,
      "outputs": [
        {
          "output_type": "execute_result",
          "data": {
            "text/plain": [
              "Text(0.5, 1.0, 'Relation between profit and population')"
            ]
          },
          "metadata": {
            "tags": []
          },
          "execution_count": 59
        },
        {
          "output_type": "display_data",
          "data": {
            "image/png": "[encoded data removed]",
            "text/plain": [
              "<Figure size 432x288 with 1 Axes>"
            ]
          },
          "metadata": {
            "tags": [],
            "needs_background": "light"
          }
        }
      ]
    },
    {
      "cell_type": "markdown",
      "metadata": {
        "id": "H2kXZDPfg_3A"
      },
      "source": [
        "## 가설(hypotheses) 함수\r\n",
        "\r\n",
        "가장 일반적인 선형 함수는 다음과 같습니다: $y = h_\\theta(x) = \\theta_0 + \\theta_1 x$. 이 선형 함수는 말 그대로 일직선에 대한 방정식을 의미합니다.\r\n",
        "\r\n",
        "우리는 예측 값 $y$ 를 얻기 위해 $\\theta_0$ 와 $\\theta_1$ 를 $h_\\theta(x)$ 에 적용할 것입니다. \r\n",
        "즉, 입력 데이터 ($x$)를 출력 데이터 ($y$) 에 mapping 하려는 $h_\\theta(x)$ 함수를 만들려 합니다."
      ]
    },
    {
      "cell_type": "markdown",
      "metadata": {
        "id": "I3NJV-FAkzvV"
      },
      "source": [
        "## Cost function (비용 함수)\r\n",
        "비용 함수는 우리가 정한 가설 $h_\\theta$ 가 얼마나 정답과 먼지 알려줍니다. 비용 함수 중 하나인 Mean Square Error (MSE)는 우리가 예측한 값들과 실제 값들에 대한 거리(또는 차이)를 제곱한 뒤, 평균을 구합니다. 공식은 다음과 같습니다: \r\n",
        "\r\n",
        "$$\r\n",
        "J\\left(\\theta \\right)=\\frac{1}{2 m} \\sum_{i=1}^{m}\\left(h_{\\theta}\\left(x^{(i)}\\right)-y^{(i)}\\right)^{2}\r\n",
        "$$"
      ]
    },
    {
      "cell_type": "markdown",
      "metadata": {
        "id": "d09r9MqwlHwl"
      },
      "source": [
        "### Vectorization (벡터화)\r\n",
        "\r\n",
        "Vectorization 은 matrix 연산을 통해 loops(`for` 또는 `while`)을 대신하는 행위(act)입니다. `numpy`를 이용하면, vectorization을 쉽게 수행할 수 있습니다.  Mathematically, the 'regular' function should mean the same as the vectorized function.\r\n",
        "\r\n",
        "다음의 예시는 matrix 곱에 대한 vectorization 예시 입니다.   \r\n",
        "<image src=\"https://www.codedrome.com/wp-content/uploads/2019/06/matrix_multiplication2.png\" width=50%>"
      ]
    },
    {
      "cell_type": "code",
      "metadata": {
        "id": "MNZst8E0o2Ow"
      },
      "source": [
        "a = np.array([[1, 2, 3], [4, 5, 6]])\r\n",
        "b = np.array([[7, 10], [8, 11], [9, 12]])"
      ],
      "execution_count": null,
      "outputs": []
    },
    {
      "cell_type": "code",
      "metadata": {
        "id": "F3cHEPCso3IH",
        "colab": {
          "base_uri": "https://localhost:8080/"
        },
        "outputId": "812f7efe-afd5-43bb-dfda-526600ce87dd"
      },
      "source": [
        "# for loop 를 이용한 matrix 곱\r\n",
        "result = np.zeros((2, 2))\r\n",
        "\r\n",
        "# a 행렬의 행에 대해 반복\r\n",
        "for i in range(len(a)):\r\n",
        "   # b 행렬의 열에 대해 반복\r\n",
        "   for j in range(len(b[0])):\r\n",
        "       # b 행렬의 행에 대해 반복\r\n",
        "       for k in range(len(b)):\r\n",
        "           result[i][j] += a[i][k] * b[k][j]\r\n",
        "\r\n",
        "result"
      ],
      "execution_count": null,
      "outputs": [
        {
          "output_type": "execute_result",
          "data": {
            "text/plain": [
              "array([[ 50.,  68.],\n",
              "       [122., 167.]])"
            ]
          },
          "metadata": {
            "tags": []
          },
          "execution_count": 61
        }
      ]
    },
    {
      "cell_type": "code",
      "metadata": {
        "id": "q7cHM9i6nXw4",
        "colab": {
          "base_uri": "https://localhost:8080/"
        },
        "outputId": "6e5ee790-7ade-41d4-efd0-69579aa2a3c1"
      },
      "source": [
        "a = np.array([[1, 2, 3], [4, 5, 6]])\r\n",
        "b = np.array([[7, 10], [8, 11], [9, 12]])\r\n",
        "\r\n",
        "a @ b"
      ],
      "execution_count": null,
      "outputs": [
        {
          "output_type": "execute_result",
          "data": {
            "text/plain": [
              "array([[ 50,  68],\n",
              "       [122, 167]])"
            ]
          },
          "metadata": {
            "tags": []
          },
          "execution_count": 62
        }
      ]
    },
    {
      "cell_type": "markdown",
      "metadata": {
        "id": "AR4IqPtNlK5q"
      },
      "source": [
        "**연습**: 아래의 `cost_function` 을 작성하세요. 이 함수는 위에서 설명한 비용함수 $J(\\theta)$ (MSE) 를 계산합니다. "
      ]
    },
    {
      "cell_type": "code",
      "metadata": {
        "id": "uJ7JDYFBg7si"
      },
      "source": [
        "def cost_function(X, y, theta):\r\n",
        "  \"\"\" 입력값 X , 출력값 y, 그리고 linear regression에 사용되는 parameter theta를 이용하여 cost 값을 계산합니다.   \"\"\"\r\n",
        "  cost = 1/(2 * m) * np.sum( (X @ theta - y) ** 2 ) \r\n",
        "  return cost"
      ],
      "execution_count": null,
      "outputs": []
    },
    {
      "cell_type": "markdown",
      "metadata": {
        "id": "NMna7-jSjTtT"
      },
      "source": [
        "여러분들이 `cost_function`을 잘 작성했다면,\r\n",
        "$\\theta=\\left[\\begin{array}{ll}\r\n",
        "0 & 0\r\n",
        "\\end{array}\\right]$ 의 경우, `cost_function` $J(\\theta)$ 는 다음과 같은 값을 반환해야 합니다:\r\n",
        "$$32.07273388$$\r\n"
      ]
    },
    {
      "cell_type": "code",
      "metadata": {
        "id": "qaZrLUtgjTDa",
        "colab": {
          "base_uri": "https://localhost:8080/"
        },
        "outputId": "282027f4-edc3-4ced-db88-5eb1ee82a8f5"
      },
      "source": [
        "initial_theta = np.zeros((2,1))\r\n",
        "print(cost_function(X, y, initial_theta))"
      ],
      "execution_count": null,
      "outputs": [
        {
          "output_type": "stream",
          "text": [
            "32.072733877455676\n"
          ],
          "name": "stdout"
        }
      ]
    },
    {
      "cell_type": "markdown",
      "metadata": {
        "id": "cqXzLVOxjt10"
      },
      "source": [
        "## Gradient descent\r\n",
        "\r\n",
        "우리는 가설 함수 $h_\\theta(x)$가 좋은 예측값을 출력하길 원합니다. 이를 위해, 여러분들은 비용 함수 $J(\\theta)$를 최소화해야 합니다.\r\n",
        "Gradient descent는 이를 위한 알고리즘 입니다.\r\n",
        "\r\n",
        "linear regression을 위한 gradient descent의 정의는 아래와 같습니다.\r\n",
        "\r\n",
        "$$\r\n",
        "\\text {repeat}\\left\\{\r\n",
        "  \\theta_{j}:=\\theta_{j}-\\alpha \\frac{1}{m} \\sum_{i=1}^{m}\\left(h_{\\theta}\\left(x^{(i)}\\right)-y^{(i)}\\right) x_{j}^{(i)}\\right\\}\r\n",
        "$$\r\n",
        "\r\n",
        "아래 그림은 단일 변수에 대한 gradient descent를 묘사한 그림입니다.\r\n",
        "\r\n",
        "<img src=\"https://github.com/rickwierenga/CS229-Python/raw/02470f159b74dfc18c8beae25d1a50366d1394cd/ex1/notes/gradientdescent.png\" width=50%>\r\n"
      ]
    },
    {
      "cell_type": "markdown",
      "metadata": {
        "id": "mMieLf4nhQ86"
      },
      "source": [
        "**연습** : 아래의 `gradient_descent` 함수를 완성하세요.\r\n",
        "\r\n",
        "Vectorization 힌트:\r\n",
        "$$\r\n",
        "\\theta:=\\theta-\\frac{\\alpha}{m} X^{T}(X \\theta-\\vec{y})\r\n",
        "$$"
      ]
    },
    {
      "cell_type": "code",
      "metadata": {
        "id": "aoHlzyvmhQSZ"
      },
      "source": [
        "def gradient_descent(X, y, theta, alpha, iterations):\r\n",
        "    \"\"\" theta를 학습하기 위해 gradient descent를 수행하세요.\r\n",
        "    이 함수는 이전에 구현한 cost_function에 대한 기록 J_history와 \r\n",
        "    theta에 대한 최종 학습 결과를 반환합니다.  \r\n",
        "    \"\"\"\r\n",
        "    J_history = []\r\n",
        "\r\n",
        "    for it in range(iterations):\r\n",
        "      J_history.append(cost_function(X, y, theta))\r\n",
        "\r\n",
        "      theta = theta - (alpha / m) * X.T @ ( X @ theta - y) \r\n",
        "\r\n",
        "    return theta, J_history"
      ],
      "execution_count": null,
      "outputs": []
    },
    {
      "cell_type": "markdown",
      "metadata": {
        "id": "xLAEy604hYvm"
      },
      "source": [
        "여러분들이 `gradient_descent`를 잘 작성하셨다면, 아래의 코드를 통해 `theta`는 다음과 같은 값을 가져야 합니다: \r\n",
        "$$\r\n",
        "\\theta=\\left[\\begin{array}{c}\r\n",
        "-3.63029144 \\\\\r\n",
        "1.16636235\r\n",
        "\\end{array}\\right]\r\n",
        "$$"
      ]
    },
    {
      "cell_type": "code",
      "metadata": {
        "id": "79a1Bg_qhe6Q",
        "colab": {
          "base_uri": "https://localhost:8080/"
        },
        "outputId": "5241611e-3c6b-4823-e03f-cc7a6c6ed123"
      },
      "source": [
        "alpha = 0.01\r\n",
        "iterations = 1500\r\n",
        "\r\n",
        "theta, J_history = gradient_descent(X, y, initial_theta, alpha, iterations)\r\n",
        "theta"
      ],
      "execution_count": null,
      "outputs": [
        {
          "output_type": "execute_result",
          "data": {
            "text/plain": [
              "array([[-3.63029144],\n",
              "       [ 1.16636235]])"
            ]
          },
          "metadata": {
            "tags": []
          },
          "execution_count": 66
        }
      ]
    },
    {
      "cell_type": "markdown",
      "metadata": {
        "id": "MoNNbcqfs8gP"
      },
      "source": [
        "## 결과를 활용하기\r\n",
        "\r\n",
        "### 완성된 선형 모델을 그려보기\r\n",
        "\r\n",
        "아래와 비슷한 결과가 나와야 합니다.\r\n",
        "\r\n",
        "<img src=\"https://i.loli.net/2020/12/19/vBfQXbFxygjD218.png\" width=35%>"
      ]
    },
    {
      "cell_type": "code",
      "metadata": {
        "id": "zY6nVWkKjOG3",
        "colab": {
          "base_uri": "https://localhost:8080/",
          "height": 284
        },
        "outputId": "d9634764-33cd-4af4-87ab-c4fb6a4cf7d0"
      },
      "source": [
        "plt.plot(X[:,1], y, 'rx', label='Training data')\r\n",
        "plt.plot(X[:,1], X.dot(theta), label='Linear regression')"
      ],
      "execution_count": null,
      "outputs": [
        {
          "output_type": "execute_result",
          "data": {
            "text/plain": [
              "[<matplotlib.lines.Line2D at 0x7f6b07730cf8>]"
            ]
          },
          "metadata": {
            "tags": []
          },
          "execution_count": 67
        },
        {
          "output_type": "display_data",
          "data": {
            "image/png": "[encoded data removed]",
            "text/plain": [
              "<Figure size 432x288 with 1 Axes>"
            ]
          },
          "metadata": {
            "tags": [],
            "needs_background": "light"
          }
        }
      ]
    },
    {
      "cell_type": "markdown",
      "metadata": {
        "id": "U_vTOJBWi-yL"
      },
      "source": [
        "### cost 기록을 plotting 해보기\r\n",
        "\r\n",
        "$J(\\theta)$가 시간이 흐를수록 어떻게 줄어드는지 plot 해보세요. 모델이 학습하는 것을 확인할 수 있습니다."
      ]
    },
    {
      "cell_type": "code",
      "metadata": {
        "id": "BLghbVWIjK1I",
        "colab": {
          "base_uri": "https://localhost:8080/",
          "height": 282
        },
        "outputId": "4f84c902-ed84-4853-d1ff-96b73fc759e2"
      },
      "source": [
        "plt.plot(J_history)"
      ],
      "execution_count": null,
      "outputs": [
        {
          "output_type": "execute_result",
          "data": {
            "text/plain": [
              "[<matplotlib.lines.Line2D at 0x7f6b075ad780>]"
            ]
          },
          "metadata": {
            "tags": []
          },
          "execution_count": 68
        },
        {
          "output_type": "display_data",
          "data": {
            "image/png": "[encoded data removed]",
            "text/plain": [
              "<Figure size 432x288 with 1 Axes>"
            ]
          },
          "metadata": {
            "tags": [],
            "needs_background": "light"
          }
        }
      ]
    },
    {
      "cell_type": "markdown",
      "metadata": {
        "id": "uYWEF5S-tPUN"
      },
      "source": [
        "### 선형 모델을 활용하여 예측 해보기\r\n",
        "이제 학습이 끝난 모델을 통해 얼마나 수익을 낼 수 있을지 확인해봅시다."
      ]
    },
    {
      "cell_type": "code",
      "metadata": {
        "id": "2GufiEX-tXEv",
        "colab": {
          "base_uri": "https://localhost:8080/",
          "height": 35
        },
        "outputId": "68f292bd-feef-4e86-8a43-9c842d8869fa"
      },
      "source": [
        "prediction = np.array([1, 3.5]).dot(theta) * 10000 \r\n",
        "'도시의 인구가 35000명 이라면, 우리는 %.2f 달러 만큼의 수익을 낼 수 있습니다!' % prediction"
      ],
      "execution_count": null,
      "outputs": [
        {
          "output_type": "execute_result",
          "data": {
            "application/vnd.google.colaboratory.intrinsic+json": {
              "type": "string"
            },
            "text/plain": [
              "'도시의 인구가 35000명 이라면, 우리는 4519.77 달러 만큼의 수익을 낼 수 있습니다!'"
            ]
          },
          "metadata": {
            "tags": []
          },
          "execution_count": 69
        }
      ]
    },
    {
      "cell_type": "markdown",
      "metadata": {
        "id": "-BoXRvMHhm7C"
      },
      "source": [
        "# Multivariate Linear Regression\r\n",
        "\r\n",
        "---\r\n",
        "이 파트에서는, 집 가격을 예측하기 위해 여러분들은 다변수 선형 회귀를 구현하게 될것입니다. 여러분들이 보유한 집을 팔고싶다고 가정해보겠습니다. 그 집을 얼마에 내놓는 것이 좋을까요? 이를 아는 한가지 방법은 최근 다른 집들의 판매 가격 정보를 모으고, 이 정보들을 이용하여 예측 모델을 만드는 것입니다."
      ]
    },
    {
      "cell_type": "code",
      "metadata": {
        "id": "fTQRDVBet8ui",
        "colab": {
          "base_uri": "https://localhost:8080/",
          "height": 248
        },
        "outputId": "87e7e7ab-5ea6-4cbd-be58-6f4a0837627d"
      },
      "source": [
        "# 데이터를 로드합니다.\r\n",
        "!wget -nc /resources/data/ex1data2.txt https://raw.githubusercontent.com/rickwierenga/CS229-Python/master/ex1/ex1data2.txt\r\n",
        "data = pd.read_csv(\"/content/ex1data2.txt\", header = None, names=[\"Size\", \"Bedrooms\",\"Price\"])\r\n",
        "m = len(data)\r\n",
        "\r\n",
        "# X 와 y 그리고 theta를 초기화 합니다.\r\n",
        "x0 = np.ones(m)\r\n",
        "size = np.array((data[\"Size\"]))\r\n",
        "bedrooms = np.array((data[\"Bedrooms\"]))\r\n",
        "X = np.array([x0, size, bedrooms]).T\r\n",
        "y = np.array(data[\"Price\"]).reshape(len(data.index), 1)\r\n",
        "theta_init = np.zeros((3,1))\r\n",
        "\r\n",
        "data.head()"
      ],
      "execution_count": null,
      "outputs": [
        {
          "output_type": "stream",
          "text": [
            "/resources/data/ex1data2.txt: Scheme missing.\n",
            "File ‘ex1data2.txt’ already there; not retrieving.\n",
            "\n"
          ],
          "name": "stdout"
        },
        {
          "output_type": "execute_result",
          "data": {
            "text/html": [
              "<div>\n",
              "<style scoped>\n",
              "    .dataframe tbody tr th:only-of-type {\n",
              "        vertical-align: middle;\n",
              "    }\n",
              "\n",
              "    .dataframe tbody tr th {\n",
              "        vertical-align: top;\n",
              "    }\n",
              "\n",
              "    .dataframe thead th {\n",
              "        text-align: right;\n",
              "    }\n",
              "</style>\n",
              "<table border=\"1\" class=\"dataframe\">\n",
              "  <thead>\n",
              "    <tr style=\"text-align: right;\">\n",
              "      <th></th>\n",
              "      <th>Size</th>\n",
              "      <th>Bedrooms</th>\n",
              "      <th>Price</th>\n",
              "    </tr>\n",
              "  </thead>\n",
              "  <tbody>\n",
              "    <tr>\n",
              "      <th>0</th>\n",
              "      <td>2104</td>\n",
              "      <td>3</td>\n",
              "      <td>399900</td>\n",
              "    </tr>\n",
              "    <tr>\n",
              "      <th>1</th>\n",
              "      <td>1600</td>\n",
              "      <td>3</td>\n",
              "      <td>329900</td>\n",
              "    </tr>\n",
              "    <tr>\n",
              "      <th>2</th>\n",
              "      <td>2400</td>\n",
              "      <td>3</td>\n",
              "      <td>369000</td>\n",
              "    </tr>\n",
              "    <tr>\n",
              "      <th>3</th>\n",
              "      <td>1416</td>\n",
              "      <td>2</td>\n",
              "      <td>232000</td>\n",
              "    </tr>\n",
              "    <tr>\n",
              "      <th>4</th>\n",
              "      <td>3000</td>\n",
              "      <td>4</td>\n",
              "      <td>539900</td>\n",
              "    </tr>\n",
              "  </tbody>\n",
              "</table>\n",
              "</div>"
            ],
            "text/plain": [
              "   Size  Bedrooms   Price\n",
              "0  2104         3  399900\n",
              "1  1600         3  329900\n",
              "2  2400         3  369000\n",
              "3  1416         2  232000\n",
              "4  3000         4  539900"
            ]
          },
          "metadata": {
            "tags": []
          },
          "execution_count": 70
        }
      ]
    },
    {
      "cell_type": "markdown",
      "metadata": {
        "id": "SsSWDApGwl0B"
      },
      "source": [
        "### Feature Normalization\r\n",
        "\r\n",
        "각 특징이 규모에 따라 다를 경우, feature scaling을 수행하면 gradient descent 이 훨씬 더 빠르게 수렴할 수 있습니다. Z-score는 feature scaling의 대표적 방법입니다. 공식은 다음과 같습니다:\r\n",
        "$$\r\n",
        " x := \\frac{x-\\mu}{\\sigma}\r\n",
        "$$\r\n",
        "여기서 $\\mu$는 평균이고, $\\sigma$는 표준 편차입니다.\r\n",
        "\r\n",
        "**중요**: 이후에 완성된 모델을 통한 예측을 위해 $\\mu$와 $\\sigma$를 저장해두는 것이 중요합니다.\r\n",
        "\r\n",
        "**연습**: 불러온 데이터를 z-score를 통해 feature normalization 하는 함수 `normalize`를 작성하세요. "
      ]
    },
    {
      "cell_type": "code",
      "metadata": {
        "id": "UdMTzA9NvsZD",
        "colab": {
          "base_uri": "https://localhost:8080/"
        },
        "outputId": "2be117c4-7e01-48fb-8c85-34b7a49304ba"
      },
      "source": [
        "# normalization 수행\r\n",
        "def normalize(X):\r\n",
        "    \"\"\" \r\n",
        "      input data X 의 특징들을 정규화 하세요.\r\n",
        "      X 의 첫번째 특징은 bias를 위한 것이므로 정규화할 필요가 없습니다.\r\n",
        "      힌트. for loop 를 이용해 두번째, 세번째 열(특징)에 대해서만 정규화를 수행하세요.\r\n",
        "    \"\"\"\r\n",
        "    mu = np.ones(len(X))        # len(X[0]) 가 좀 더 정확\r\n",
        "    sigma = np.ones(len(X))\r\n",
        "    \r\n",
        "    for i in range(len(X[0])):\r\n",
        "        if i != 0:\r\n",
        "            mu[i] = np.mean(X[:, i])\r\n",
        "            sigma[i] = np.std(X[:, i])\r\n",
        "            X[:, i] = (X[:, i] - mu[i]) / sigma[i]\r\n",
        "            \r\n",
        "    return X, mu, sigma\r\n",
        "\r\n",
        "X, mu, sigma = normalize(X)\r\n",
        "X[0:5]"
      ],
      "execution_count": null,
      "outputs": [
        {
          "output_type": "execute_result",
          "data": {
            "text/plain": [
              "array([[ 1.        ,  0.13141542, -0.22609337],\n",
              "       [ 1.        , -0.5096407 , -0.22609337],\n",
              "       [ 1.        ,  0.5079087 , -0.22609337],\n",
              "       [ 1.        , -0.74367706, -1.5543919 ],\n",
              "       [ 1.        ,  1.27107075,  1.10220517]])"
            ]
          },
          "metadata": {
            "tags": []
          },
          "execution_count": 71
        }
      ]
    },
    {
      "cell_type": "markdown",
      "metadata": {
        "id": "5H_3OUrqxiL-"
      },
      "source": [
        "여러분들이 `normalize` 함수를 잘 구현했다면, 다음과 같은 결과가 나와야 합니다.\r\n",
        "```\r\n",
        "array([[ 1.        ,  0.13141542, -0.22609337],\r\n",
        "       [ 1.        , -0.5096407 , -0.22609337],\r\n",
        "       [ 1.        ,  0.5079087 , -0.22609337],\r\n",
        "       [ 1.        , -0.74367706, -1.5543919 ],\r\n",
        "       [ 1.        ,  1.27107075,  1.10220517]])\r\n",
        "```"
      ]
    },
    {
      "cell_type": "markdown",
      "metadata": {
        "id": "WDofLQIPzRMU"
      },
      "source": [
        "## Gradient Descent\r\n",
        "\r\n",
        "변수의 개수에 상관없이 gradient descent의 공식은 다음과 같습니다.\r\n",
        "\r\n",
        "$$\r\n",
        "\\text {repeat }\\left\\{\\theta_{j}:=\\theta_{j}-\\alpha \\frac{1}{m} \\sum_{i=1}^{m}\\left(h_{\\theta}\\left(x^{(i)}\\right)-y^{(i)}\\right) x_{j}^{(i)}\\right\\}\r\n",
        "$$\r\n",
        "\r\n",
        "**연습**: 다변수를 위한 gradient descent 함수 `gradient_descent_multi`를 구현하세요. vectorization을 활용해야 하며 변수의 개수와 상관없이 gradient descent가 수행되어야 합니다.\r\n",
        "\r\n",
        "Vectorization 힌트:\r\n",
        "$$\r\n",
        "\\theta:=\\theta-\\frac{\\alpha}{m} X^{T}(X \\theta-\\vec{y})\r\n",
        "$$"
      ]
    },
    {
      "cell_type": "code",
      "metadata": {
        "id": "o_CB_zwpvqL7",
        "colab": {
          "base_uri": "https://localhost:8080/"
        },
        "outputId": "129b32af-c591-4b09-d6fa-b9f48694d34d"
      },
      "source": [
        "def gradient_descent_multi(X, y, theta, alpha, iterations):\r\n",
        "    J_history = []\r\n",
        "\r\n",
        "    for it in range(iterations):\r\n",
        "      J_history.append(cost_function(X, y, theta))\r\n",
        "\r\n",
        "      theta = theta - (alpha / m) * X.T @ ( X @ theta - y) \r\n",
        "\r\n",
        "    return theta, J_history\r\n",
        "\r\n",
        "alpha = 0.01\r\n",
        "iterations = 1500\r\n",
        "initial_theta = np.zeros((3,1))\r\n",
        "theta, J_history = gradient_descent_multi(X, y, initial_theta, alpha, iterations)\r\n",
        "theta"
      ],
      "execution_count": null,
      "outputs": [
        {
          "output_type": "execute_result",
          "data": {
            "text/plain": [
              "array([[340412.56301439],\n",
              "       [109370.05670466],\n",
              "       [ -6500.61509507]])"
            ]
          },
          "metadata": {
            "tags": []
          },
          "execution_count": 72
        }
      ]
    },
    {
      "cell_type": "markdown",
      "metadata": {
        "id": "IESHB5o7zzTr"
      },
      "source": [
        "여러분들이 `gradient_descent` 함수를 잘 구현했다면, 다음과 같은 결과가 나와야 합니다.\r\n",
        "\r\n",
        "```\r\n",
        "array([[340412.56301439],\r\n",
        "       [109370.05670466],\r\n",
        "       [ -6500.61509507]])\r\n",
        "```"
      ]
    },
    {
      "cell_type": "markdown",
      "metadata": {
        "id": "byhi34VJ199C"
      },
      "source": [
        "학습 횟수에 따라서 cost 가 어떻게 줄어드는지 확인해봅시다."
      ]
    },
    {
      "cell_type": "code",
      "metadata": {
        "id": "uMaMKKzJvllA",
        "colab": {
          "base_uri": "https://localhost:8080/",
          "height": 313
        },
        "outputId": "75ca990d-64b4-49f7-d53b-cb08e6a7edef"
      },
      "source": [
        "plt.plot(J_history)\r\n",
        "plt.title('J per iteration')\r\n",
        "plt.xlabel('iteration')\r\n",
        "plt.ylabel('cost')"
      ],
      "execution_count": null,
      "outputs": [
        {
          "output_type": "execute_result",
          "data": {
            "text/plain": [
              "Text(0, 0.5, 'cost')"
            ]
          },
          "metadata": {
            "tags": []
          },
          "execution_count": 73
        },
        {
          "output_type": "display_data",
          "data": {
            "image/png": "[encoded data removed]",
            "text/plain": [
              "<Figure size 432x288 with 1 Axes>"
            ]
          },
          "metadata": {
            "tags": [],
            "needs_background": "light"
          }
        }
      ]
    },
    {
      "cell_type": "markdown",
      "metadata": {
        "id": "NL-kGvxut8Ir"
      },
      "source": [
        "만약 학습된 모델을 이용해서 예측 값을 얻고 싶다면, 입력 데이터를 normalization 하는 것을 잊지마세요."
      ]
    },
    {
      "cell_type": "code",
      "metadata": {
        "id": "TFO93zW9z2QK",
        "colab": {
          "base_uri": "https://localhost:8080/",
          "height": 35
        },
        "outputId": "09c100bf-081e-4a35-e56f-1746e9aab9ae"
      },
      "source": [
        "price = theta.transpose() @ np.array([1, (1650-mu[1])/sigma[1], (3-mu[2])/sigma[2]]) # normalize the input\r\n",
        "'3개의 방과 1650 sqaure feet의 집이라면, 이 집의 가격은 %.2f 달러로 예측할 수 있겠군.' % price"
      ],
      "execution_count": null,
      "outputs": [
        {
          "output_type": "execute_result",
          "data": {
            "application/vnd.google.colaboratory.intrinsic+json": {
              "type": "string"
            },
            "text/plain": [
              "'3개의 방과 1650 sqaure feet의 집이라면, 이 집의 가격은 293098.47 달러로 예측할 수 있겠군.'"
            ]
          },
          "metadata": {
            "tags": []
          },
          "execution_count": 74
        }
      ]
    },
    {
      "cell_type": "markdown",
      "metadata": {
        "id": "ys0ETAc12YPd"
      },
      "source": [
        "# Logistic Regression\r\n",
        "\r\n",
        "Logistic Regression은 주어진 데이터가 속한 카테고리를 예측하는 방법입니다. Binary Logistic Regression에서는 오직 두개의 카테고리만 존재합니다.\r\n",
        "\r\n",
        "$$\r\n",
        "y \\in\\{0,1\\}\r\n",
        "$$\r\n",
        "\r\n",
        "이번 연습에서 여러분은 직접 logistic regression을 구현해볼 것입니다. 여러분들은 학생들이 얻은 두 시험 성적(Exam 1, Exam 2)을 통해, 학교의 입학을 허락할 것인지(Accepted) 또는 불허할 것인지 (Not Accepted) 정하는 모델을 만들어야 합니다. "
      ]
    },
    {
      "cell_type": "code",
      "metadata": {
        "id": "a234UfII20UT",
        "colab": {
          "base_uri": "https://localhost:8080/",
          "height": 248
        },
        "outputId": "fbce7643-ac40-41d9-820d-a4408451b88c"
      },
      "source": [
        "# 먼저 학습에 필요한 데이터를 불러옵니다.\r\n",
        "!wget -nc /resources/data/ex2data1.txt https://raw.githubusercontent.com/rickwierenga/CS229-Python/master/ex2/ex2data1.txt\r\n",
        "data = pd.read_csv(\"ex2data1.txt\", header = None, \r\n",
        "                   names = [\"Exam 1 Score\", \"Exam 2 Score\", \"Accepted\"])\r\n",
        "\r\n",
        "# 몇가지 유용한 변수들을 초기화 합니다.\r\n",
        "m = len(data[\"Accepted\"])\r\n",
        "x0 = np.ones(m)\r\n",
        "\r\n",
        "size = np.array((data[\"Exam 1 Score\"]))\r\n",
        "bedrooms = np.array((data[\"Exam 2 Score\"]))\r\n",
        "\r\n",
        "X = np.array([x0, size, bedrooms]).T\r\n",
        "y = np.array(data[\"Accepted\"]).reshape((m,1))\r\n",
        "m, n = X.shape\r\n",
        "\r\n",
        "data.head()"
      ],
      "execution_count": null,
      "outputs": [
        {
          "output_type": "stream",
          "text": [
            "/resources/data/ex2data1.txt: Scheme missing.\n",
            "File ‘ex2data1.txt’ already there; not retrieving.\n",
            "\n"
          ],
          "name": "stdout"
        },
        {
          "output_type": "execute_result",
          "data": {
            "text/html": [
              "<div>\n",
              "<style scoped>\n",
              "    .dataframe tbody tr th:only-of-type {\n",
              "        vertical-align: middle;\n",
              "    }\n",
              "\n",
              "    .dataframe tbody tr th {\n",
              "        vertical-align: top;\n",
              "    }\n",
              "\n",
              "    .dataframe thead th {\n",
              "        text-align: right;\n",
              "    }\n",
              "</style>\n",
              "<table border=\"1\" class=\"dataframe\">\n",
              "  <thead>\n",
              "    <tr style=\"text-align: right;\">\n",
              "      <th></th>\n",
              "      <th>Exam 1 Score</th>\n",
              "      <th>Exam 2 Score</th>\n",
              "      <th>Accepted</th>\n",
              "    </tr>\n",
              "  </thead>\n",
              "  <tbody>\n",
              "    <tr>\n",
              "      <th>0</th>\n",
              "      <td>34.623660</td>\n",
              "      <td>78.024693</td>\n",
              "      <td>0</td>\n",
              "    </tr>\n",
              "    <tr>\n",
              "      <th>1</th>\n",
              "      <td>30.286711</td>\n",
              "      <td>43.894998</td>\n",
              "      <td>0</td>\n",
              "    </tr>\n",
              "    <tr>\n",
              "      <th>2</th>\n",
              "      <td>35.847409</td>\n",
              "      <td>72.902198</td>\n",
              "      <td>0</td>\n",
              "    </tr>\n",
              "    <tr>\n",
              "      <th>3</th>\n",
              "      <td>60.182599</td>\n",
              "      <td>86.308552</td>\n",
              "      <td>1</td>\n",
              "    </tr>\n",
              "    <tr>\n",
              "      <th>4</th>\n",
              "      <td>79.032736</td>\n",
              "      <td>75.344376</td>\n",
              "      <td>1</td>\n",
              "    </tr>\n",
              "  </tbody>\n",
              "</table>\n",
              "</div>"
            ],
            "text/plain": [
              "   Exam 1 Score  Exam 2 Score  Accepted\n",
              "0     34.623660     78.024693         0\n",
              "1     30.286711     43.894998         0\n",
              "2     35.847409     72.902198         0\n",
              "3     60.182599     86.308552         1\n",
              "4     79.032736     75.344376         1"
            ]
          },
          "metadata": {
            "tags": []
          },
          "execution_count": 75
        }
      ]
    },
    {
      "cell_type": "markdown",
      "metadata": {
        "id": "jAkrK2NADLpe"
      },
      "source": [
        "### 데이터 시각화 하기\r\n",
        "파란색 십자가는 합격된 학생을 의미하고, 노란색 원은 탈락한 학생을 의미합니다."
      ]
    },
    {
      "cell_type": "code",
      "metadata": {
        "id": "LaoGE4Ek27ws",
        "colab": {
          "base_uri": "https://localhost:8080/",
          "height": 265
        },
        "outputId": "4abbb69f-e90f-4b82-cd00-a1f6ffc8e0e1"
      },
      "source": [
        "# positive 그리고 negative 샘플들의 인덱스를 찾습니다. \r\n",
        "pos = np.where(y==1)[0]\r\n",
        "neg = np.where(y==0)[0]\r\n",
        "\r\n",
        "# examples들을 plot 해봅니다.\r\n",
        "plt.plot(X[pos, 1], X[pos, 2], 'b+', label='Admitted')\r\n",
        "plt.plot(X[neg, 1], X[neg, 2], 'yo', label='Not admitted')\r\n",
        "plt.legend()\r\n",
        "plt.show()"
      ],
      "execution_count": null,
      "outputs": [
        {
          "output_type": "display_data",
          "data": {
            "image/png": "[encoded data removed]",
            "text/plain": [
              "<Figure size 432x288 with 1 Axes>"
            ]
          },
          "metadata": {
            "tags": [],
            "needs_background": "light"
          }
        }
      ]
    },
    {
      "cell_type": "markdown",
      "metadata": {
        "id": "63BH85BbDXNR"
      },
      "source": [
        "### Sigmoid\r\n",
        "\r\n",
        "시그모이드 함수, 또는 로지스틱 함수는 0과 1 사이의 값을 가지는 함수입니다. \r\n",
        "\r\n",
        "<img src=\"https://img1.daumcdn.net/thumb/R800x0/?scode=mtistory2&fname=https%3A%2F%2Ft1.daumcdn.net%2Fcfile%2Ftistory%2F275BAD4F577B669920\">\r\n",
        "\r\n",
        "이 시그모이드 함수를 통해서 우리 만들 모델 $h_\\theta(x)$ 는 다음과 같습니다.\r\n",
        "\r\n",
        "\r\n",
        "$$\r\n",
        "h_{\\theta}(x)=g\\left(\\theta^{T} x\\right)=g(z)=\\frac{1}{1+e^{-z}}=\\frac{1}{1+e^{-\\theta T_{x}}}\r\n",
        "$$\r\n",
        "\r\n",
        "**연습** : 시그모이드 함수 `sigmoid`를 구현하세요. "
      ]
    },
    {
      "cell_type": "code",
      "metadata": {
        "id": "xg0h4Pd32-DG"
      },
      "source": [
        "def sigmoid(z):\r\n",
        "    return 1 / (1 + np.exp(-z))"
      ],
      "execution_count": null,
      "outputs": []
    },
    {
      "cell_type": "markdown",
      "metadata": {
        "id": "oKy1okimEJdP"
      },
      "source": [
        "## 비용 함수와 Gradient 계산\r\n",
        "\r\n",
        "### 비용 함수\r\n",
        "\r\n",
        "Logistic regression의 비용함수는 binary cross-entropy로, linear regression과 다릅니다. Binary Cross-entropy는 다음과 같이 계산됩니다:\r\n",
        "\r\n",
        "$$\r\n",
        "J(\\theta)=-\\frac{1}{m}\\left[\\sum_{i=1}^{m} y^{(i)} \\log h_{\\theta}\\left(x^{(i)}\\right)+\\left(1-y^{(i)}\\right) \\log \\left(1-h_{\\theta}\\left(x^{(i)}\\right)\\right)\\right]\r\n",
        "$$\r\n",
        "\r\n",
        "**연습** : Binary cross-entropy 비용 함수 `compute_cost`를 구현하세요. Vectorization을 활용해야 합니다. \r\n"
      ]
    },
    {
      "cell_type": "code",
      "metadata": {
        "id": "4xDhTHLG3Ax4"
      },
      "source": [
        "def compute_cost(theta, X, y):\r\n",
        "    cost = - 1/ m * np.sum( y * np.log( sigmoid(X @ theta)) + (1 - y) * np.log(1 - sigmoid(X @ theta)))\r\n",
        "    return cost"
      ],
      "execution_count": null,
      "outputs": []
    },
    {
      "cell_type": "markdown",
      "metadata": {
        "id": "_mPnTV53FZV2"
      },
      "source": [
        "### Gradient\r\n",
        "\r\n",
        "gradient는 gradient descent에서 cost function을 parameter에 대해 미분한 값, 즉, cost function이 최소가 되는 방향을 수치화한 결과입니다. Linear regression에서는 gradient descent를 수행했습니다. 이번에는 conjugate gradient라는 알고리즘을 수행해볼 것입니다. 걱정마세요, 이 알고리즘은 여러분이 직접 구현할 필요는 없습니다. 다만, conjugate gradient 알고리즘은 gradient를 계산하는 함수가 필요합니다.\r\n",
        "\r\n",
        "Logistic regression에서 gradient는 다음과 같습니다.\r\n",
        "\r\n",
        "$$\r\n",
        "\\frac{\\partial}{\\partial \\theta_{j}} J(\\theta)=\\frac{1}{m} \\sum_{i=1}^{m}\\left[\\left(h_{\\theta}\\left(x^{(i)}\\right)-y^{(i)}\\right] x_{j}^{(i)}\\right.\r\n",
        "\r\n",
        "$$\r\n",
        "\r\n",
        "\r\n",
        "**연습**: gradient를 계산하는 함수 `compute_gradient`를 작성하세요. Vectorization을 활용해야 합니다.\r\n",
        "\r\n",
        "Vectorization 힌트\r\n",
        "\r\n",
        "$$\r\n",
        "\\frac{\\partial}{\\partial \\theta_{j}} J(\\theta)=\\frac{1}{m} \\cdot X^{T} \\cdot(g(X \\cdot \\theta)-\\vec{y})\r\n",
        "$$ "
      ]
    },
    {
      "cell_type": "code",
      "metadata": {
        "id": "GoJXO--R3DVp"
      },
      "source": [
        "def compute_gradient(theta, X, y):\r\n",
        "    graident = 1/m * X.T.dot(sigmoid( X @ theta) - y)\r\n",
        "    return graident"
      ],
      "execution_count": null,
      "outputs": []
    },
    {
      "cell_type": "markdown",
      "metadata": {
        "id": "rSqgdXX6G7Ci"
      },
      "source": [
        "여러분들이 `compute_cost`와 `compute_gradient` 함수를 잘 구현했다면, 다음과 같은 결과가 나와야 합니다.\r\n",
        "\r\n",
        "$$\r\n",
        "J \\approx 0.6931471805599453 \r\n",
        "$$\r\n",
        "$$\r\n",
        "\\frac{\\partial}{\\partial \\theta_{j}} J(\\theta) \\approx\\left[\\begin{array}{lll}\r\n",
        "-0.1000 & -12.00921659 & -11.26284221\r\n",
        "\\end{array}\\right]\r\n",
        "$$\r\n"
      ]
    },
    {
      "cell_type": "code",
      "metadata": {
        "id": "xurdcNCz3EcJ",
        "colab": {
          "base_uri": "https://localhost:8080/"
        },
        "outputId": "2d61e28d-0894-41cc-ce20-c87f72c44566"
      },
      "source": [
        "initial_theta = np.zeros(n)\r\n",
        "y = y.reshape(m)\r\n",
        "print('Cost: \\n{}\\n'.format(compute_cost(initial_theta, X, y)))\r\n",
        "print('Gradient: \\n{}'.format(compute_gradient(initial_theta, X, y)))"
      ],
      "execution_count": null,
      "outputs": [
        {
          "output_type": "stream",
          "text": [
            "Cost: \n",
            "0.6931471805599453\n",
            "\n",
            "Gradient: \n",
            "[ -0.1        -12.00921659 -11.26284221]\n"
          ],
          "name": "stdout"
        }
      ]
    },
    {
      "cell_type": "markdown",
      "metadata": {
        "id": "xj3dCWL5HUkg"
      },
      "source": [
        "### conjugate gradient로 $\\theta$ 학습시키기\r\n",
        "\r\n",
        "`scipy.optimize`의 `minizie` 메소드를 통해서 $\\theta$를 학습시켜 logistic regression을 수행할 수 있습니다. 메소드 호출을 위해, 비용 함수, $\\theta$ 초기 값, 그리고 gradient 계산 함수 등을 인자로 넘겨줘야 합니다."
      ]
    },
    {
      "cell_type": "code",
      "metadata": {
        "id": "qkwVXJHn3jhj",
        "colab": {
          "base_uri": "https://localhost:8080/"
        },
        "outputId": "adf6114b-adca-42ff-a9a5-ee00f3dc589c"
      },
      "source": [
        "from scipy.optimize import minimize\r\n",
        "result = minimize(compute_cost, initial_theta, args = (X, y),\r\n",
        "                   method = 'CG', jac = compute_gradient, \r\n",
        "                   options = {\"maxiter\": 400, \"disp\" : 1})\r\n",
        "theta = result.x\r\n",
        "print('Conjugate gradient found the following values for theta: {}'.format(theta))"
      ],
      "execution_count": null,
      "outputs": [
        {
          "output_type": "stream",
          "text": [
            "Optimization terminated successfully.\n",
            "         Current function value: 0.203498\n",
            "         Iterations: 65\n",
            "         Function evaluations: 142\n",
            "         Gradient evaluations: 142\n",
            "Conjugate gradient found the following values for theta: [-25.15934758   0.20621583   0.20145553]\n"
          ],
          "name": "stdout"
        },
        {
          "output_type": "stream",
          "text": [
            "/usr/local/lib/python3.6/dist-packages/ipykernel_launcher.py:2: RuntimeWarning: divide by zero encountered in log\n",
            "  \n",
            "/usr/local/lib/python3.6/dist-packages/ipykernel_launcher.py:2: RuntimeWarning: invalid value encountered in multiply\n",
            "  \n"
          ],
          "name": "stderr"
        }
      ]
    },
    {
      "cell_type": "markdown",
      "metadata": {
        "id": "BA6ouAKOHwYe"
      },
      "source": [
        "## The decision boundary\r\n",
        "\r\n",
        "이제 logistic regression 학습이 완료되었으므로, $y=1$ 과 $y=0$을 구분짓는 decision boundary를 그려봅시다. \r\n",
        "\r\n",
        "다음과 비슷한 결과가 나와야 합니다.\r\n",
        "\r\n",
        "<img src=\"https://i.loli.net/2020/12/19/bQ4AHZgOIkdtpBr.png\" width=40%>"
      ]
    },
    {
      "cell_type": "code",
      "metadata": {
        "id": "KAjGVmtd3H7H",
        "colab": {
          "base_uri": "https://localhost:8080/",
          "height": 282
        },
        "outputId": "c8cd01fc-cd0c-4ad7-b384-cec302f0f45f"
      },
      "source": [
        "# positive 그리고 negative 샘플들의 인덱스를 찾습니다. \r\n",
        "pos = np.where(y==1)[0]\r\n",
        "neg = np.where(y==0)[0]\r\n",
        "\r\n",
        "# Plot examples\r\n",
        "plt.plot(X[pos, 1], X[pos, 2], 'b+', label='Admitted')\r\n",
        "plt.plot(X[neg, 1], X[neg, 2], 'yo', label='Not admitted')\r\n",
        "plt.legend()\r\n",
        "\r\n",
        "# Plot the decision boundary\r\n",
        "plot_x = np.array([min(X[:,1])-2,  max(X[:,1])+2])\r\n",
        "plot_y = (-1./theta[2]) * ((theta[1] * (plot_x) + theta[0]))\r\n",
        "\r\n",
        "plt.plot(plot_x, plot_y, label='Decision boundary')\r\n",
        "\r\n",
        "# 범례를 추가합니다.\r\n",
        "plt.legend()"
      ],
      "execution_count": null,
      "outputs": [
        {
          "output_type": "execute_result",
          "data": {
            "text/plain": [
              "<matplotlib.legend.Legend at 0x7f6b0748eba8>"
            ]
          },
          "metadata": {
            "tags": []
          },
          "execution_count": 82
        },
        {
          "output_type": "display_data",
          "data": {
            "image/png": "[encoded data removed]",
            "text/plain": [
              "<Figure size 432x288 with 1 Axes>"
            ]
          },
          "metadata": {
            "tags": [],
            "needs_background": "light"
          }
        }
      ]
    },
    {
      "cell_type": "markdown",
      "metadata": {
        "id": "isaaQrv-IQB7"
      },
      "source": [
        "## 평가하기\r\n",
        "\r\n",
        "### 한 학생이 합격할 확률 계산하기"
      ]
    },
    {
      "cell_type": "code",
      "metadata": {
        "id": "92UfIO_k3m2Z",
        "colab": {
          "base_uri": "https://localhost:8080/"
        },
        "outputId": "a613732d-7bd5-44e2-961c-884de8a9f1d7"
      },
      "source": [
        "prob = sigmoid(np.array([1, 45, 85]).dot(theta))\r\n",
        "print('45점 그리고 85점을 받은 학생은 {:.2}% 의 확률로 합격할 수 있습니다. '.format(prob * 100))"
      ],
      "execution_count": null,
      "outputs": [
        {
          "output_type": "stream",
          "text": [
            "45점 그리고 85점을 받은 학생은 7.8e+01% 의 확률로 합격할 수 있습니다. \n"
          ],
          "name": "stdout"
        }
      ]
    },
    {
      "cell_type": "markdown",
      "metadata": {
        "id": "gSskU8N7Iasr"
      },
      "source": [
        "### 정확도 계산\r\n",
        "\r\n",
        "종종 여러분들의 학습된 모델이 얼마나 정확한지 체크하는 것은 중요합니다. 실제 산업군에서는 전체 데이터의 10% ~ 20% 정도를 테스트 데이터로 분류하여, 정확도를 테스트하게 됩니다. 이 데이터는 모델이 학습할 때 한번도 보지못한 데이터여야 합니다. \r\n",
        "\r\n",
        "아래의 테스트에서는 89.0% 의 정확도가 나와야 합니다."
      ]
    },
    {
      "cell_type": "code",
      "metadata": {
        "id": "ozuk_PJq3om5",
        "colab": {
          "base_uri": "https://localhost:8080/"
        },
        "outputId": "8e28d49d-9a27-477e-d03e-a42695cc9314"
      },
      "source": [
        "p = np.zeros((m, 1))\r\n",
        "for (i, example) in enumerate(X):\r\n",
        "    prob = sigmoid(np.array(example.dot(theta)))\r\n",
        "    if prob >= 0.5:\r\n",
        "        p[i] = 1\r\n",
        "    else:\r\n",
        "        p[i] = 0\r\n",
        "print('Training Accuracy: {}%'.format(np.mean(p == y.reshape((m, 1))) * 100))"
      ],
      "execution_count": null,
      "outputs": [
        {
          "output_type": "stream",
          "text": [
            "Training Accuracy: 89.0%\n"
          ],
          "name": "stdout"
        }
      ]
    }
  ]
}