{
  "nbformat": 4,
  "nbformat_minor": 0,
  "metadata": {
    "colab": {
      "name": "기계 학습_Regression_실습",
      "provenance": [],
      "collapsed_sections": [],
      "toc_visible": true
    },
    "kernelspec": {
      "name": "python3",
      "display_name": "Python 3"
    }
  },
  "cells": [
    {
      "cell_type": "markdown",
      "metadata": {
        "id": "gpFize8AjlTw"
      },
      "source": [
        "# regression 실습"
      ]
    },
    {
      "cell_type": "code",
      "metadata": {
        "id": "bytFO4dDRn_c"
      },
      "source": [
        "import matplotlib.pyplot as plt\r\n",
        "import numpy as np\r\n",
        "\r\n",
        "np.random.seed(2)"
      ],
      "execution_count": null,
      "outputs": []
    },
    {
      "cell_type": "code",
      "metadata": {
        "id": "P1uNIVFPRwdA"
      },
      "source": [
        "# 합성 데이터 생성\r\n",
        "training_x = np.array(list(range(20)), dtype=float)\r\n",
        "noise = np.array(list(np.random.randint(-5, 5, 20)), dtype=float)\r\n",
        "training_y = np.array(list(range(20)), dtype=float) + noise"
      ],
      "execution_count": null,
      "outputs": []
    },
    {
      "cell_type": "code",
      "metadata": {
        "colab": {
          "base_uri": "https://localhost:8080/",
          "height": 265
        },
        "id": "QPxnsFDYkddY",
        "outputId": "3cad3db4-ea3c-4662-a692-3677e8ca7516"
      },
      "source": [
        "plt.scatter(training_x, training_y)\r\n",
        "plt.show()"
      ],
      "execution_count": null,
      "outputs": [
        {
          "output_type": "display_data",
          "data": {
            "image/png": "[encoded data removed]",
            "text/plain": [
              "<Figure size 432x288 with 1 Axes>"
            ]
          },
          "metadata": {
            "tags": [],
            "needs_background": "light"
          }
        }
      ]
    },
    {
      "cell_type": "code",
      "metadata": {
        "id": "A1KRjd2UT3LC"
      },
      "source": [
        "class h:    # 모델 h 클래스\r\n",
        "  def __init__(self):\r\n",
        "    self.theta1 = np.random.random([1])\r\n",
        "    self.theta0 = np.random.random([1])\r\n",
        "\r\n",
        "  def predict(self, x):\r\n",
        "    y_hat = self.theta1 * x + self.theta0\r\n",
        "    return y_hat    # w * x + b\r\n",
        "\r\n",
        "  def train_model(self, lr, input_x, input_y, epochs):\r\n",
        "    cost_list = []\r\n",
        "\r\n",
        "    for _ in range(epochs):\r\n",
        "      # cost 계산\r\n",
        "      predicted_y = self.predict(input_x)\r\n",
        "      cost = mse(input_y, predicted_y)\r\n",
        "      \r\n",
        "      # gradients 계산\r\n",
        "      grad_theta0 = np.mean(predicted_y - input_y)\r\n",
        "      grad_theta1 = np.mean((predicted_y - input_y) * input_x)\r\n",
        "      cost_list.append(cost)\r\n",
        "      self.theta0 -= lr * grad_theta0\r\n",
        "      self.theta1 -= lr * grad_theta1\r\n",
        "      \r\n",
        "    plt.plot(range(len(cost_list)), cost_list)\r\n",
        "    plt.xlabel('epoch')\r\n",
        "    plt.ylabel('cost value')\r\n",
        "    plt.title('Training')\r\n",
        "    plt.show()\r\n"
      ],
      "execution_count": null,
      "outputs": []
    },
    {
      "cell_type": "code",
      "metadata": {
        "id": "sUgWBos-TLb4"
      },
      "source": [
        "def mse(y, y_hat):      # cost function\r\n",
        "  return 0.5 * np.mean((y.flatten() - y_hat.flatten()) ** 2)"
      ],
      "execution_count": null,
      "outputs": []
    },
    {
      "cell_type": "code",
      "metadata": {
        "colab": {
          "base_uri": "https://localhost:8080/",
          "height": 265
        },
        "id": "kRWDYSpcS1vd",
        "outputId": "18c7f589-f38f-427b-e16e-03680bcf5743"
      },
      "source": [
        "model = h() # 모델 생성\r\n",
        "\r\n",
        "plt.plot(np.arange(20), model.predict(np.arange(20)), 'r--')\r\n",
        "plt.scatter(training_x, training_y)\r\n",
        "plt.show()"
      ],
      "execution_count": null,
      "outputs": [
        {
          "output_type": "display_data",
          "data": {
            "image/png": "[encoded data removed]",
            "text/plain": [
              "<Figure size 432x288 with 1 Axes>"
            ]
          },
          "metadata": {
            "tags": [],
            "needs_background": "light"
          }
        }
      ]
    },
    {
      "cell_type": "code",
      "metadata": {
        "colab": {
          "base_uri": "https://localhost:8080/"
        },
        "id": "_DBjpaOxTuB1",
        "outputId": "67932f5d-89d0-4a3c-8a48-d8ae1993bef7"
      },
      "source": [
        "# cost 계산\r\n",
        "cost = mse(training_y, model.predict(training_x))\r\n",
        "\r\n",
        "cost"
      ],
      "execution_count": null,
      "outputs": [
        {
          "output_type": "execute_result",
          "data": {
            "text/plain": [
              "12.107682559258807"
            ]
          },
          "metadata": {
            "tags": []
          },
          "execution_count": 7
        }
      ]
    },
    {
      "cell_type": "code",
      "metadata": {
        "colab": {
          "base_uri": "https://localhost:8080/"
        },
        "id": "vnoisrncVzje",
        "outputId": "7df42351-1207-4d5e-f31f-abb3f9e0d234"
      },
      "source": [
        "# gradients 계산\r\n",
        "predicted_y =  model.predict(training_x)\r\n",
        "grad_theta0 = np.mean(predicted_y - training_y)\r\n",
        "grad_theta1 = np.mean((predicted_y - training_y) * training_x)\r\n",
        "print(grad_theta0)\r\n",
        "print(grad_theta1)"
      ],
      "execution_count": null,
      "outputs": [
        {
          "output_type": "stream",
          "text": [
            "-3.8081885595142184\n",
            "-49.119416472435965\n"
          ],
          "name": "stdout"
        }
      ]
    },
    {
      "cell_type": "code",
      "metadata": {
        "colab": {
          "base_uri": "https://localhost:8080/",
          "height": 265
        },
        "id": "2csKvEBGWyVA",
        "outputId": "e10e0b33-7135-42a5-9fef-bc6645725f37"
      },
      "source": [
        "learning_rate = 0.002\r\n",
        "\r\n",
        "model.theta0 -= learning_rate * grad_theta0\r\n",
        "model.theta1 -= learning_rate * grad_theta1\r\n",
        "\r\n",
        "plt.plot(np.arange(20), model.predict(np.arange(20)), 'r--')\r\n",
        "plt.scatter(training_x, training_y)\r\n",
        "plt.show()"
      ],
      "execution_count": null,
      "outputs": [
        {
          "output_type": "display_data",
          "data": {
            "image/png": "[encoded data removed]",
            "text/plain": [
              "<Figure size 432x288 with 1 Axes>"
            ]
          },
          "metadata": {
            "tags": [],
            "needs_background": "light"
          }
        }
      ]
    },
    {
      "cell_type": "code",
      "metadata": {
        "colab": {
          "base_uri": "https://localhost:8080/",
          "height": 295
        },
        "id": "uzwvdTnhVvg7",
        "outputId": "45ae9703-ee40-4649-cedf-39d0ef30f8cc"
      },
      "source": [
        "model = h()\r\n",
        "\r\n",
        "model.train_model(learning_rate, training_x, training_y, 10)"
      ],
      "execution_count": null,
      "outputs": [
        {
          "output_type": "display_data",
          "data": {
            "image/png": "[encoded data removed]",
            "text/plain": [
              "<Figure size 432x288 with 1 Axes>"
            ]
          },
          "metadata": {
            "tags": [],
            "needs_background": "light"
          }
        }
      ]
    },
    {
      "cell_type": "code",
      "metadata": {
        "colab": {
          "base_uri": "https://localhost:8080/",
          "height": 265
        },
        "id": "sg6M1UPzYmW0",
        "outputId": "760dc3e8-f756-40f7-b1bf-7da38c77bf9e"
      },
      "source": [
        "# 학습이 완료된 linear function을 실행\r\n",
        "plt.plot(np.arange(20), model.predict(np.arange(20)), 'r--')\r\n",
        "plt.scatter(training_x, training_y)\r\n",
        "plt.show()"
      ],
      "execution_count": null,
      "outputs": [
        {
          "output_type": "display_data",
          "data": {
            "image/png": "[encoded data removed]",
            "text/plain": [
              "<Figure size 432x288 with 1 Axes>"
            ]
          },
          "metadata": {
            "tags": [],
            "needs_background": "light"
          }
        }
      ]
    },
    {
      "cell_type": "code",
      "metadata": {
        "colab": {
          "base_uri": "https://localhost:8080/"
        },
        "id": "ITEj4sqGTPi_",
        "outputId": "031fde11-3ba4-429b-b494-c73ae959028a"
      },
      "source": [
        "print(model.theta0, model.theta1)"
      ],
      "execution_count": null,
      "outputs": [
        {
          "output_type": "stream",
          "text": [
            "[0.56789169] [0.86526303]\n"
          ],
          "name": "stdout"
        }
      ]
    },
    {
      "cell_type": "markdown",
      "metadata": {
        "id": "lGILiv-6jiNA"
      },
      "source": [
        "## 실제 데이터를 이용한 regression\r\n"
      ]
    },
    {
      "cell_type": "markdown",
      "metadata": {
        "id": "HuCk6jKQz2Em"
      },
      "source": [
        "\r\n",
        "### Single Variable"
      ]
    },
    {
      "cell_type": "code",
      "metadata": {
        "colab": {
          "base_uri": "https://localhost:8080/"
        },
        "id": "mX0iIIvobkW7",
        "outputId": "88a2935b-45cd-45e4-808c-964f469e5cd8"
      },
      "source": [
        "from sklearn import datasets\r\n",
        "import pandas as pd\r\n",
        "import seaborn as sns\r\n",
        "\r\n",
        "dataset = datasets.load_boston()\r\n",
        "dataset.keys()"
      ],
      "execution_count": null,
      "outputs": [
        {
          "output_type": "execute_result",
          "data": {
            "text/plain": [
              "dict_keys(['data', 'target', 'feature_names', 'DESCR', 'filename'])"
            ]
          },
          "metadata": {
            "tags": []
          },
          "execution_count": 13
        }
      ]
    },
    {
      "cell_type": "code",
      "metadata": {
        "colab": {
          "base_uri": "https://localhost:8080/"
        },
        "id": "KH4p5ABq0vel",
        "outputId": "3e37aa00-841e-402b-f617-8848b47f3299"
      },
      "source": [
        "print(dataset['DESCR'])"
      ],
      "execution_count": null,
      "outputs": [
        {
          "output_type": "stream",
          "text": [
            ".. _boston_dataset:\n",
            "\n",
            "Boston house prices dataset\n",
            "---------------------------\n",
            "\n",
            "**Data Set Characteristics:**  \n",
            "\n",
            "    :Number of Instances: 506 \n",
            "\n",
            "    :Number of Attributes: 13 numeric/categorical predictive. Median Value (attribute 14) is usually the target.\n",
            "\n",
            "    :Attribute Information (in order):\n",
            "        - CRIM     per capita crime rate by town\n",
            "        - ZN       proportion of residential land zoned for lots over 25,000 sq.ft.\n",
            "        - INDUS    proportion of non-retail business acres per town\n",
            "        - CHAS     Charles River dummy variable (= 1 if tract bounds river; 0 otherwise)\n",
            "        - NOX      nitric oxides concentration (parts per 10 million)\n",
            "        - RM       average number of rooms per dwelling\n",
            "        - AGE      proportion of owner-occupied units built prior to 1940\n",
            "        - DIS      weighted distances to five Boston employment centres\n",
            "        - RAD      index of accessibility to radial highways\n",
            "        - TAX      full-value property-tax rate per $10,000\n",
            "        - PTRATIO  pupil-teacher ratio by town\n",
            "        - B        1000(Bk - 0.63)^2 where Bk is the proportion of blacks by town\n",
            "        - LSTAT    % lower status of the population\n",
            "        - MEDV     Median value of owner-occupied homes in $1000's\n",
            "\n",
            "    :Missing Attribute Values: None\n",
            "\n",
            "    :Creator: Harrison, D. and Rubinfeld, D.L.\n",
            "\n",
            "This is a copy of UCI ML housing dataset.\n",
            "https://archive.ics.uci.edu/ml/machine-learning-databases/housing/\n",
            "\n",
            "\n",
            "This dataset was taken from the StatLib library which is maintained at Carnegie Mellon University.\n",
            "\n",
            "The Boston house-price data of Harrison, D. and Rubinfeld, D.L. 'Hedonic\n",
            "prices and the demand for clean air', J. Environ. Economics & Management,\n",
            "vol.5, 81-102, 1978.   Used in Belsley, Kuh & Welsch, 'Regression diagnostics\n",
            "...', Wiley, 1980.   N.B. Various transformations are used in the table on\n",
            "pages 244-261 of the latter.\n",
            "\n",
            "The Boston house-price data has been used in many machine learning papers that address regression\n",
            "problems.   \n",
            "     \n",
            ".. topic:: References\n",
            "\n",
            "   - Belsley, Kuh & Welsch, 'Regression diagnostics: Identifying Influential Data and Sources of Collinearity', Wiley, 1980. 244-261.\n",
            "   - Quinlan,R. (1993). Combining Instance-Based and Model-Based Learning. In Proceedings on the Tenth International Conference of Machine Learning, 236-243, University of Massachusetts, Amherst. Morgan Kaufmann.\n",
            "\n"
          ],
          "name": "stdout"
        }
      ]
    },
    {
      "cell_type": "code",
      "metadata": {
        "colab": {
          "base_uri": "https://localhost:8080/",
          "height": 402
        },
        "id": "0QqOhTQWbz0N",
        "outputId": "57ac5c4c-c4a2-48a2-e42b-556afd22a586"
      },
      "source": [
        "bostons = pd.DataFrame(dataset['data'], columns=dataset['feature_names'])\r\n",
        "\r\n",
        "bostons"
      ],
      "execution_count": null,
      "outputs": [
        {
          "output_type": "execute_result",
          "data": {
            "text/html": [
              "<div>\n",
              "<style scoped>\n",
              "    .dataframe tbody tr th:only-of-type {\n",
              "        vertical-align: middle;\n",
              "    }\n",
              "\n",
              "    .dataframe tbody tr th {\n",
              "        vertical-align: top;\n",
              "    }\n",
              "\n",
              "    .dataframe thead th {\n",
              "        text-align: right;\n",
              "    }\n",
              "</style>\n",
              "<table border=\"1\" class=\"dataframe\">\n",
              "  <thead>\n",
              "    <tr style=\"text-align: right;\">\n",
              "      <th></th>\n",
              "      <th>CRIM</th>\n",
              "      <th>ZN</th>\n",
              "      <th>INDUS</th>\n",
              "      <th>CHAS</th>\n",
              "      <th>NOX</th>\n",
              "      <th>RM</th>\n",
              "      <th>AGE</th>\n",
              "      <th>DIS</th>\n",
              "      <th>RAD</th>\n",
              "      <th>TAX</th>\n",
              "      <th>PTRATIO</th>\n",
              "      <th>B</th>\n",
              "      <th>LSTAT</th>\n",
              "    </tr>\n",
              "  </thead>\n",
              "  <tbody>\n",
              "    <tr>\n",
              "      <th>0</th>\n",
              "      <td>0.00632</td>\n",
              "      <td>18.0</td>\n",
              "      <td>2.31</td>\n",
              "      <td>0.0</td>\n",
              "      <td>0.538</td>\n",
              "      <td>6.575</td>\n",
              "      <td>65.2</td>\n",
              "      <td>4.0900</td>\n",
              "      <td>1.0</td>\n",
              "      <td>296.0</td>\n",
              "      <td>15.3</td>\n",
              "      <td>396.90</td>\n",
              "      <td>4.98</td>\n",
              "    </tr>\n",
              "    <tr>\n",
              "      <th>1</th>\n",
              "      <td>0.02731</td>\n",
              "      <td>0.0</td>\n",
              "      <td>7.07</td>\n",
              "      <td>0.0</td>\n",
              "      <td>0.469</td>\n",
              "      <td>6.421</td>\n",
              "      <td>78.9</td>\n",
              "      <td>4.9671</td>\n",
              "      <td>2.0</td>\n",
              "      <td>242.0</td>\n",
              "      <td>17.8</td>\n",
              "      <td>396.90</td>\n",
              "      <td>9.14</td>\n",
              "    </tr>\n",
              "    <tr>\n",
              "      <th>2</th>\n",
              "      <td>0.02729</td>\n",
              "      <td>0.0</td>\n",
              "      <td>7.07</td>\n",
              "      <td>0.0</td>\n",
              "      <td>0.469</td>\n",
              "      <td>7.185</td>\n",
              "      <td>61.1</td>\n",
              "      <td>4.9671</td>\n",
              "      <td>2.0</td>\n",
              "      <td>242.0</td>\n",
              "      <td>17.8</td>\n",
              "      <td>392.83</td>\n",
              "      <td>4.03</td>\n",
              "    </tr>\n",
              "    <tr>\n",
              "      <th>3</th>\n",
              "      <td>0.03237</td>\n",
              "      <td>0.0</td>\n",
              "      <td>2.18</td>\n",
              "      <td>0.0</td>\n",
              "      <td>0.458</td>\n",
              "      <td>6.998</td>\n",
              "      <td>45.8</td>\n",
              "      <td>6.0622</td>\n",
              "      <td>3.0</td>\n",
              "      <td>222.0</td>\n",
              "      <td>18.7</td>\n",
              "      <td>394.63</td>\n",
              "      <td>2.94</td>\n",
              "    </tr>\n",
              "    <tr>\n",
              "      <th>4</th>\n",
              "      <td>0.06905</td>\n",
              "      <td>0.0</td>\n",
              "      <td>2.18</td>\n",
              "      <td>0.0</td>\n",
              "      <td>0.458</td>\n",
              "      <td>7.147</td>\n",
              "      <td>54.2</td>\n",
              "      <td>6.0622</td>\n",
              "      <td>3.0</td>\n",
              "      <td>222.0</td>\n",
              "      <td>18.7</td>\n",
              "      <td>396.90</td>\n",
              "      <td>5.33</td>\n",
              "    </tr>\n",
              "    <tr>\n",
              "      <th>...</th>\n",
              "      <td>...</td>\n",
              "      <td>...</td>\n",
              "      <td>...</td>\n",
              "      <td>...</td>\n",
              "      <td>...</td>\n",
              "      <td>...</td>\n",
              "      <td>...</td>\n",
              "      <td>...</td>\n",
              "      <td>...</td>\n",
              "      <td>...</td>\n",
              "      <td>...</td>\n",
              "      <td>...</td>\n",
              "      <td>...</td>\n",
              "    </tr>\n",
              "    <tr>\n",
              "      <th>501</th>\n",
              "      <td>0.06263</td>\n",
              "      <td>0.0</td>\n",
              "      <td>11.93</td>\n",
              "      <td>0.0</td>\n",
              "      <td>0.573</td>\n",
              "      <td>6.593</td>\n",
              "      <td>69.1</td>\n",
              "      <td>2.4786</td>\n",
              "      <td>1.0</td>\n",
              "      <td>273.0</td>\n",
              "      <td>21.0</td>\n",
              "      <td>391.99</td>\n",
              "      <td>9.67</td>\n",
              "    </tr>\n",
              "    <tr>\n",
              "      <th>502</th>\n",
              "      <td>0.04527</td>\n",
              "      <td>0.0</td>\n",
              "      <td>11.93</td>\n",
              "      <td>0.0</td>\n",
              "      <td>0.573</td>\n",
              "      <td>6.120</td>\n",
              "      <td>76.7</td>\n",
              "      <td>2.2875</td>\n",
              "      <td>1.0</td>\n",
              "      <td>273.0</td>\n",
              "      <td>21.0</td>\n",
              "      <td>396.90</td>\n",
              "      <td>9.08</td>\n",
              "    </tr>\n",
              "    <tr>\n",
              "      <th>503</th>\n",
              "      <td>0.06076</td>\n",
              "      <td>0.0</td>\n",
              "      <td>11.93</td>\n",
              "      <td>0.0</td>\n",
              "      <td>0.573</td>\n",
              "      <td>6.976</td>\n",
              "      <td>91.0</td>\n",
              "      <td>2.1675</td>\n",
              "      <td>1.0</td>\n",
              "      <td>273.0</td>\n",
              "      <td>21.0</td>\n",
              "      <td>396.90</td>\n",
              "      <td>5.64</td>\n",
              "    </tr>\n",
              "    <tr>\n",
              "      <th>504</th>\n",
              "      <td>0.10959</td>\n",
              "      <td>0.0</td>\n",
              "      <td>11.93</td>\n",
              "      <td>0.0</td>\n",
              "      <td>0.573</td>\n",
              "      <td>6.794</td>\n",
              "      <td>89.3</td>\n",
              "      <td>2.3889</td>\n",
              "      <td>1.0</td>\n",
              "      <td>273.0</td>\n",
              "      <td>21.0</td>\n",
              "      <td>393.45</td>\n",
              "      <td>6.48</td>\n",
              "    </tr>\n",
              "    <tr>\n",
              "      <th>505</th>\n",
              "      <td>0.04741</td>\n",
              "      <td>0.0</td>\n",
              "      <td>11.93</td>\n",
              "      <td>0.0</td>\n",
              "      <td>0.573</td>\n",
              "      <td>6.030</td>\n",
              "      <td>80.8</td>\n",
              "      <td>2.5050</td>\n",
              "      <td>1.0</td>\n",
              "      <td>273.0</td>\n",
              "      <td>21.0</td>\n",
              "      <td>396.90</td>\n",
              "      <td>7.88</td>\n",
              "    </tr>\n",
              "  </tbody>\n",
              "</table>\n",
              "<p>506 rows × 13 columns</p>\n",
              "</div>"
            ],
            "text/plain": [
              "        CRIM    ZN  INDUS  CHAS    NOX  ...  RAD    TAX  PTRATIO       B  LSTAT\n",
              "0    0.00632  18.0   2.31   0.0  0.538  ...  1.0  296.0     15.3  396.90   4.98\n",
              "1    0.02731   0.0   7.07   0.0  0.469  ...  2.0  242.0     17.8  396.90   9.14\n",
              "2    0.02729   0.0   7.07   0.0  0.469  ...  2.0  242.0     17.8  392.83   4.03\n",
              "3    0.03237   0.0   2.18   0.0  0.458  ...  3.0  222.0     18.7  394.63   2.94\n",
              "4    0.06905   0.0   2.18   0.0  0.458  ...  3.0  222.0     18.7  396.90   5.33\n",
              "..       ...   ...    ...   ...    ...  ...  ...    ...      ...     ...    ...\n",
              "501  0.06263   0.0  11.93   0.0  0.573  ...  1.0  273.0     21.0  391.99   9.67\n",
              "502  0.04527   0.0  11.93   0.0  0.573  ...  1.0  273.0     21.0  396.90   9.08\n",
              "503  0.06076   0.0  11.93   0.0  0.573  ...  1.0  273.0     21.0  396.90   5.64\n",
              "504  0.10959   0.0  11.93   0.0  0.573  ...  1.0  273.0     21.0  393.45   6.48\n",
              "505  0.04741   0.0  11.93   0.0  0.573  ...  1.0  273.0     21.0  396.90   7.88\n",
              "\n",
              "[506 rows x 13 columns]"
            ]
          },
          "metadata": {
            "tags": []
          },
          "execution_count": 15
        }
      ]
    },
    {
      "cell_type": "code",
      "metadata": {
        "id": "ws0nBIwH3f19"
      },
      "source": [
        "data_num = 100"
      ],
      "execution_count": null,
      "outputs": []
    },
    {
      "cell_type": "code",
      "metadata": {
        "colab": {
          "base_uri": "https://localhost:8080/"
        },
        "id": "m1Wl6DuP0mi7",
        "outputId": "56bc53b1-29f7-4a0c-fe87-47822bb7d944"
      },
      "source": [
        "dataset['target'][:data_num] # Median value of owner-occupied homes in $1000's"
      ],
      "execution_count": null,
      "outputs": [
        {
          "output_type": "execute_result",
          "data": {
            "text/plain": [
              "array([24. , 21.6, 34.7, 33.4, 36.2, 28.7, 22.9, 27.1, 16.5, 18.9, 15. ,\n",
              "       18.9, 21.7, 20.4, 18.2, 19.9, 23.1, 17.5, 20.2, 18.2, 13.6, 19.6,\n",
              "       15.2, 14.5, 15.6, 13.9, 16.6, 14.8, 18.4, 21. , 12.7, 14.5, 13.2,\n",
              "       13.1, 13.5, 18.9, 20. , 21. , 24.7, 30.8, 34.9, 26.6, 25.3, 24.7,\n",
              "       21.2, 19.3, 20. , 16.6, 14.4, 19.4, 19.7, 20.5, 25. , 23.4, 18.9,\n",
              "       35.4, 24.7, 31.6, 23.3, 19.6, 18.7, 16. , 22.2, 25. , 33. , 23.5,\n",
              "       19.4, 22. , 17.4, 20.9, 24.2, 21.7, 22.8, 23.4, 24.1, 21.4, 20. ,\n",
              "       20.8, 21.2, 20.3, 28. , 23.9, 24.8, 22.9, 23.9, 26.6, 22.5, 22.2,\n",
              "       23.6, 28.7, 22.6, 22. , 22.9, 25. , 20.6, 28.4, 21.4, 38.7, 43.8,\n",
              "       33.2])"
            ]
          },
          "metadata": {
            "tags": []
          },
          "execution_count": 17
        }
      ]
    },
    {
      "cell_type": "code",
      "metadata": {
        "id": "NhfWtONk1shk"
      },
      "source": [
        "bostons['target'] = dataset['target']"
      ],
      "execution_count": null,
      "outputs": []
    },
    {
      "cell_type": "code",
      "metadata": {
        "colab": {
          "base_uri": "https://localhost:8080/",
          "height": 195
        },
        "id": "KRP1ln-w2vW3",
        "outputId": "9ed492e6-7730-4721-d48e-1ac8cb363892"
      },
      "source": [
        "bostons.head()"
      ],
      "execution_count": null,
      "outputs": [
        {
          "output_type": "execute_result",
          "data": {
            "text/html": [
              "<div>\n",
              "<style scoped>\n",
              "    .dataframe tbody tr th:only-of-type {\n",
              "        vertical-align: middle;\n",
              "    }\n",
              "\n",
              "    .dataframe tbody tr th {\n",
              "        vertical-align: top;\n",
              "    }\n",
              "\n",
              "    .dataframe thead th {\n",
              "        text-align: right;\n",
              "    }\n",
              "</style>\n",
              "<table border=\"1\" class=\"dataframe\">\n",
              "  <thead>\n",
              "    <tr style=\"text-align: right;\">\n",
              "      <th></th>\n",
              "      <th>CRIM</th>\n",
              "      <th>ZN</th>\n",
              "      <th>INDUS</th>\n",
              "      <th>CHAS</th>\n",
              "      <th>NOX</th>\n",
              "      <th>RM</th>\n",
              "      <th>AGE</th>\n",
              "      <th>DIS</th>\n",
              "      <th>RAD</th>\n",
              "      <th>TAX</th>\n",
              "      <th>PTRATIO</th>\n",
              "      <th>B</th>\n",
              "      <th>LSTAT</th>\n",
              "      <th>target</th>\n",
              "    </tr>\n",
              "  </thead>\n",
              "  <tbody>\n",
              "    <tr>\n",
              "      <th>0</th>\n",
              "      <td>0.00632</td>\n",
              "      <td>18.0</td>\n",
              "      <td>2.31</td>\n",
              "      <td>0.0</td>\n",
              "      <td>0.538</td>\n",
              "      <td>6.575</td>\n",
              "      <td>65.2</td>\n",
              "      <td>4.0900</td>\n",
              "      <td>1.0</td>\n",
              "      <td>296.0</td>\n",
              "      <td>15.3</td>\n",
              "      <td>396.90</td>\n",
              "      <td>4.98</td>\n",
              "      <td>24.0</td>\n",
              "    </tr>\n",
              "    <tr>\n",
              "      <th>1</th>\n",
              "      <td>0.02731</td>\n",
              "      <td>0.0</td>\n",
              "      <td>7.07</td>\n",
              "      <td>0.0</td>\n",
              "      <td>0.469</td>\n",
              "      <td>6.421</td>\n",
              "      <td>78.9</td>\n",
              "      <td>4.9671</td>\n",
              "      <td>2.0</td>\n",
              "      <td>242.0</td>\n",
              "      <td>17.8</td>\n",
              "      <td>396.90</td>\n",
              "      <td>9.14</td>\n",
              "      <td>21.6</td>\n",
              "    </tr>\n",
              "    <tr>\n",
              "      <th>2</th>\n",
              "      <td>0.02729</td>\n",
              "      <td>0.0</td>\n",
              "      <td>7.07</td>\n",
              "      <td>0.0</td>\n",
              "      <td>0.469</td>\n",
              "      <td>7.185</td>\n",
              "      <td>61.1</td>\n",
              "      <td>4.9671</td>\n",
              "      <td>2.0</td>\n",
              "      <td>242.0</td>\n",
              "      <td>17.8</td>\n",
              "      <td>392.83</td>\n",
              "      <td>4.03</td>\n",
              "      <td>34.7</td>\n",
              "    </tr>\n",
              "    <tr>\n",
              "      <th>3</th>\n",
              "      <td>0.03237</td>\n",
              "      <td>0.0</td>\n",
              "      <td>2.18</td>\n",
              "      <td>0.0</td>\n",
              "      <td>0.458</td>\n",
              "      <td>6.998</td>\n",
              "      <td>45.8</td>\n",
              "      <td>6.0622</td>\n",
              "      <td>3.0</td>\n",
              "      <td>222.0</td>\n",
              "      <td>18.7</td>\n",
              "      <td>394.63</td>\n",
              "      <td>2.94</td>\n",
              "      <td>33.4</td>\n",
              "    </tr>\n",
              "    <tr>\n",
              "      <th>4</th>\n",
              "      <td>0.06905</td>\n",
              "      <td>0.0</td>\n",
              "      <td>2.18</td>\n",
              "      <td>0.0</td>\n",
              "      <td>0.458</td>\n",
              "      <td>7.147</td>\n",
              "      <td>54.2</td>\n",
              "      <td>6.0622</td>\n",
              "      <td>3.0</td>\n",
              "      <td>222.0</td>\n",
              "      <td>18.7</td>\n",
              "      <td>396.90</td>\n",
              "      <td>5.33</td>\n",
              "      <td>36.2</td>\n",
              "    </tr>\n",
              "  </tbody>\n",
              "</table>\n",
              "</div>"
            ],
            "text/plain": [
              "      CRIM    ZN  INDUS  CHAS    NOX  ...    TAX  PTRATIO       B  LSTAT  target\n",
              "0  0.00632  18.0   2.31   0.0  0.538  ...  296.0     15.3  396.90   4.98    24.0\n",
              "1  0.02731   0.0   7.07   0.0  0.469  ...  242.0     17.8  396.90   9.14    21.6\n",
              "2  0.02729   0.0   7.07   0.0  0.469  ...  242.0     17.8  392.83   4.03    34.7\n",
              "3  0.03237   0.0   2.18   0.0  0.458  ...  222.0     18.7  394.63   2.94    33.4\n",
              "4  0.06905   0.0   2.18   0.0  0.458  ...  222.0     18.7  396.90   5.33    36.2\n",
              "\n",
              "[5 rows x 14 columns]"
            ]
          },
          "metadata": {
            "tags": []
          },
          "execution_count": 19
        }
      ]
    },
    {
      "cell_type": "code",
      "metadata": {
        "colab": {
          "base_uri": "https://localhost:8080/",
          "height": 281
        },
        "id": "jnjaHXgbbuUh",
        "outputId": "77586536-c1d4-4fc4-c8f8-a8e219281b16"
      },
      "source": [
        "plt.plot('RM', 'target', 'b.', data=bostons.iloc[:data_num])\r\n",
        "plt.xlabel('RM')\r\n",
        "plt.ylabel('target')\r\n",
        "plt.show()"
      ],
      "execution_count": null,
      "outputs": [
        {
          "output_type": "display_data",
          "data": {
            "image/png": "[encoded data removed]",
            "text/plain": [
              "<Figure size 432x288 with 1 Axes>"
            ]
          },
          "metadata": {
            "tags": [],
            "needs_background": "light"
          }
        }
      ]
    },
    {
      "cell_type": "code",
      "metadata": {
        "colab": {
          "base_uri": "https://localhost:8080/",
          "height": 279
        },
        "id": "Kx5Owa96gTnt",
        "outputId": "ca247f6d-9e23-4878-f9c3-bb5f4acb481e"
      },
      "source": [
        "linear_model = h()\r\n",
        "\r\n",
        "bostons = bostons.iloc[:data_num]\r\n",
        "bostons_X = bostons['RM'].values\r\n",
        "bostons_Y = bostons['target'].values\r\n",
        "\r\n",
        "plt.plot(bostons_X, linear_model.predict(bostons_X), 'r.')\r\n",
        "plt.plot(bostons_X, bostons_Y, 'b.')\r\n",
        "plt.xlabel('ROOM')\r\n",
        "plt.ylabel('target')\r\n",
        "plt.show()"
      ],
      "execution_count": null,
      "outputs": [
        {
          "output_type": "display_data",
          "data": {
            "image/png": "[encoded data removed]",
            "text/plain": [
              "<Figure size 432x288 with 1 Axes>"
            ]
          },
          "metadata": {
            "tags": [],
            "needs_background": "light"
          }
        }
      ]
    },
    {
      "cell_type": "code",
      "metadata": {
        "colab": {
          "base_uri": "https://localhost:8080/",
          "height": 295
        },
        "id": "ClVfjTLD9QLX",
        "outputId": "0a09b89e-778c-4553-b63e-f2a9bfa4cfce"
      },
      "source": [
        "learning_rate = 0.003\r\n",
        "epochs = 60\r\n",
        "\r\n",
        "linear_model.train_model(lr=learning_rate, input_x=bostons_X, input_y=bostons_Y, epochs=epochs)"
      ],
      "execution_count": null,
      "outputs": [
        {
          "output_type": "display_data",
          "data": {
            "image/png": "[encoded data removed]",
            "text/plain": [
              "<Figure size 432x288 with 1 Axes>"
            ]
          },
          "metadata": {
            "tags": [],
            "needs_background": "light"
          }
        }
      ]
    },
    {
      "cell_type": "code",
      "metadata": {
        "colab": {
          "base_uri": "https://localhost:8080/",
          "height": 281
        },
        "id": "jvhEbLU2ik-5",
        "outputId": "055e3d2d-2eca-41fb-cfca-dc22bfe9f96c"
      },
      "source": [
        "\r\n",
        "plt.plot(bostons_X, linear_model.predict(bostons_X), 'r.')\r\n",
        "plt.plot(bostons_X, bostons_Y, 'b.')\r\n",
        "plt.xlabel('ROOM')\r\n",
        "plt.ylabel('target')\r\n",
        "plt.show()"
      ],
      "execution_count": null,
      "outputs": [
        {
          "output_type": "display_data",
          "data": {
            "image/png": "[encoded data removed]",
            "text/plain": [
              "<Figure size 432x288 with 1 Axes>"
            ]
          },
          "metadata": {
            "tags": [],
            "needs_background": "light"
          }
        }
      ]
    },
    {
      "cell_type": "code",
      "metadata": {
        "colab": {
          "base_uri": "https://localhost:8080/"
        },
        "id": "vA7CcxmOyp0x",
        "outputId": "ae0e8640-a861-4f26-d706-87ea09f3b494"
      },
      "source": [
        "print(linear_model.theta0, linear_model.theta1, sep='\\n')"
      ],
      "execution_count": null,
      "outputs": [
        {
          "output_type": "stream",
          "text": [
            "[0.92429675]\n",
            "[3.4689219]\n"
          ],
          "name": "stdout"
        }
      ]
    },
    {
      "cell_type": "code",
      "metadata": {
        "colab": {
          "base_uri": "https://localhost:8080/"
        },
        "id": "ubLogZxPcqet",
        "outputId": "ec089511-56d7-4ab6-df7f-8533e4debc06"
      },
      "source": [
        "mse(bostons_Y, linear_model.predict(bostons_X))"
      ],
      "execution_count": null,
      "outputs": [
        {
          "output_type": "execute_result",
          "data": {
            "text/plain": [
              "10.400334809026083"
            ]
          },
          "metadata": {
            "tags": []
          },
          "execution_count": 25
        }
      ]
    },
    {
      "cell_type": "markdown",
      "metadata": {
        "id": "VzzwxrOSzum8"
      },
      "source": [
        "### Multiple Variables"
      ]
    },
    {
      "cell_type": "code",
      "metadata": {
        "id": "5VuuPGmqztSA"
      },
      "source": [
        "class improved_h:\r\n",
        "  def __init__(self, n):\r\n",
        "    self.theta = np.random.random([n + 1, 1])     # with bias\r\n",
        "\r\n",
        "  def __call__(self, x):\r\n",
        "    return x @ self.theta \r\n",
        "\r\n",
        "  def train_model(self, lr, input_x, input_y, epochs):\r\n",
        "    cost_list = []\r\n",
        "\r\n",
        "    for _ in range(epochs):\r\n",
        "      # cost 계산\r\n",
        "      predicted_y = self(input_x)\r\n",
        "      cost = mse(input_y.reshape(-1), predicted_y)\r\n",
        "      \r\n",
        "      # gradients 계산\r\n",
        "      grad_theta = np.mean((predicted_y - input_y.reshape(-1, 1)) * input_x, axis=0)\r\n",
        "      cost_list.append(cost)\r\n",
        "\r\n",
        "      self.theta -= lr * grad_theta.reshape(-1, 1)\r\n",
        "      \r\n",
        "    plt.plot(range(len(cost_list)), cost_list)\r\n",
        "    plt.xlabel('epoch')\r\n",
        "    plt.ylabel('cost value')\r\n",
        "    plt.title('Training')\r\n",
        "    plt.show()"
      ],
      "execution_count": null,
      "outputs": []
    },
    {
      "cell_type": "code",
      "metadata": {
        "colab": {
          "base_uri": "https://localhost:8080/",
          "height": 195
        },
        "id": "4U6AIr-f2rmJ",
        "outputId": "0d2c34a2-cba9-48fc-ea88-8e84f824a52e"
      },
      "source": [
        "bostons.head()"
      ],
      "execution_count": null,
      "outputs": [
        {
          "output_type": "execute_result",
          "data": {
            "text/html": [
              "<div>\n",
              "<style scoped>\n",
              "    .dataframe tbody tr th:only-of-type {\n",
              "        vertical-align: middle;\n",
              "    }\n",
              "\n",
              "    .dataframe tbody tr th {\n",
              "        vertical-align: top;\n",
              "    }\n",
              "\n",
              "    .dataframe thead th {\n",
              "        text-align: right;\n",
              "    }\n",
              "</style>\n",
              "<table border=\"1\" class=\"dataframe\">\n",
              "  <thead>\n",
              "    <tr style=\"text-align: right;\">\n",
              "      <th></th>\n",
              "      <th>CRIM</th>\n",
              "      <th>ZN</th>\n",
              "      <th>INDUS</th>\n",
              "      <th>CHAS</th>\n",
              "      <th>NOX</th>\n",
              "      <th>RM</th>\n",
              "      <th>AGE</th>\n",
              "      <th>DIS</th>\n",
              "      <th>RAD</th>\n",
              "      <th>TAX</th>\n",
              "      <th>PTRATIO</th>\n",
              "      <th>B</th>\n",
              "      <th>LSTAT</th>\n",
              "      <th>target</th>\n",
              "    </tr>\n",
              "  </thead>\n",
              "  <tbody>\n",
              "    <tr>\n",
              "      <th>0</th>\n",
              "      <td>0.00632</td>\n",
              "      <td>18.0</td>\n",
              "      <td>2.31</td>\n",
              "      <td>0.0</td>\n",
              "      <td>0.538</td>\n",
              "      <td>6.575</td>\n",
              "      <td>65.2</td>\n",
              "      <td>4.0900</td>\n",
              "      <td>1.0</td>\n",
              "      <td>296.0</td>\n",
              "      <td>15.3</td>\n",
              "      <td>396.90</td>\n",
              "      <td>4.98</td>\n",
              "      <td>24.0</td>\n",
              "    </tr>\n",
              "    <tr>\n",
              "      <th>1</th>\n",
              "      <td>0.02731</td>\n",
              "      <td>0.0</td>\n",
              "      <td>7.07</td>\n",
              "      <td>0.0</td>\n",
              "      <td>0.469</td>\n",
              "      <td>6.421</td>\n",
              "      <td>78.9</td>\n",
              "      <td>4.9671</td>\n",
              "      <td>2.0</td>\n",
              "      <td>242.0</td>\n",
              "      <td>17.8</td>\n",
              "      <td>396.90</td>\n",
              "      <td>9.14</td>\n",
              "      <td>21.6</td>\n",
              "    </tr>\n",
              "    <tr>\n",
              "      <th>2</th>\n",
              "      <td>0.02729</td>\n",
              "      <td>0.0</td>\n",
              "      <td>7.07</td>\n",
              "      <td>0.0</td>\n",
              "      <td>0.469</td>\n",
              "      <td>7.185</td>\n",
              "      <td>61.1</td>\n",
              "      <td>4.9671</td>\n",
              "      <td>2.0</td>\n",
              "      <td>242.0</td>\n",
              "      <td>17.8</td>\n",
              "      <td>392.83</td>\n",
              "      <td>4.03</td>\n",
              "      <td>34.7</td>\n",
              "    </tr>\n",
              "    <tr>\n",
              "      <th>3</th>\n",
              "      <td>0.03237</td>\n",
              "      <td>0.0</td>\n",
              "      <td>2.18</td>\n",
              "      <td>0.0</td>\n",
              "      <td>0.458</td>\n",
              "      <td>6.998</td>\n",
              "      <td>45.8</td>\n",
              "      <td>6.0622</td>\n",
              "      <td>3.0</td>\n",
              "      <td>222.0</td>\n",
              "      <td>18.7</td>\n",
              "      <td>394.63</td>\n",
              "      <td>2.94</td>\n",
              "      <td>33.4</td>\n",
              "    </tr>\n",
              "    <tr>\n",
              "      <th>4</th>\n",
              "      <td>0.06905</td>\n",
              "      <td>0.0</td>\n",
              "      <td>2.18</td>\n",
              "      <td>0.0</td>\n",
              "      <td>0.458</td>\n",
              "      <td>7.147</td>\n",
              "      <td>54.2</td>\n",
              "      <td>6.0622</td>\n",
              "      <td>3.0</td>\n",
              "      <td>222.0</td>\n",
              "      <td>18.7</td>\n",
              "      <td>396.90</td>\n",
              "      <td>5.33</td>\n",
              "      <td>36.2</td>\n",
              "    </tr>\n",
              "  </tbody>\n",
              "</table>\n",
              "</div>"
            ],
            "text/plain": [
              "      CRIM    ZN  INDUS  CHAS    NOX  ...    TAX  PTRATIO       B  LSTAT  target\n",
              "0  0.00632  18.0   2.31   0.0  0.538  ...  296.0     15.3  396.90   4.98    24.0\n",
              "1  0.02731   0.0   7.07   0.0  0.469  ...  242.0     17.8  396.90   9.14    21.6\n",
              "2  0.02729   0.0   7.07   0.0  0.469  ...  242.0     17.8  392.83   4.03    34.7\n",
              "3  0.03237   0.0   2.18   0.0  0.458  ...  222.0     18.7  394.63   2.94    33.4\n",
              "4  0.06905   0.0   2.18   0.0  0.458  ...  222.0     18.7  396.90   5.33    36.2\n",
              "\n",
              "[5 rows x 14 columns]"
            ]
          },
          "metadata": {
            "tags": []
          },
          "execution_count": 27
        }
      ]
    },
    {
      "cell_type": "code",
      "metadata": {
        "id": "w8kdiJfoztot",
        "colab": {
          "base_uri": "https://localhost:8080/"
        },
        "outputId": "3fd08d4b-ee78-41bb-aef1-8e6ef1adc162"
      },
      "source": [
        "imporved_model = improved_h(2)  # 모델 생성\r\n",
        "bostons_X = bostons[['RM', 'LSTAT']].values    # target 제외\r\n",
        "print(bostons_X[:5])"
      ],
      "execution_count": null,
      "outputs": [
        {
          "output_type": "stream",
          "text": [
            "[[6.575 4.98 ]\n",
            " [6.421 9.14 ]\n",
            " [7.185 4.03 ]\n",
            " [6.998 2.94 ]\n",
            " [7.147 5.33 ]]\n"
          ],
          "name": "stdout"
        }
      ]
    },
    {
      "cell_type": "code",
      "metadata": {
        "colab": {
          "base_uri": "https://localhost:8080/"
        },
        "id": "UYdC5Xpw3J-q",
        "outputId": "f6855ad5-bb24-4ee7-fd91-24cc1972d531"
      },
      "source": [
        "bostons_X_with_one = np.hstack((np.ones((data_num, 1)), bostons_X))\r\n",
        "bostons_X_with_one = bostons_X_with_one.astype(np.float32)\r\n",
        "\r\n",
        "print(bostons_X_with_one.shape, bostons_X_with_one.dtype)\r\n",
        "print(bostons_X_with_one[0])"
      ],
      "execution_count": null,
      "outputs": [
        {
          "output_type": "stream",
          "text": [
            "(100, 3) float32\n",
            "[1.    6.575 4.98 ]\n"
          ],
          "name": "stdout"
        }
      ]
    },
    {
      "cell_type": "code",
      "metadata": {
        "colab": {
          "base_uri": "https://localhost:8080/"
        },
        "id": "oSAO4J2Uzt-M",
        "outputId": "2d005d04-6829-418b-d1de-d5a33f4ac5fc"
      },
      "source": [
        "imporved_model(bostons_X_with_one).shape"
      ],
      "execution_count": null,
      "outputs": [
        {
          "output_type": "execute_result",
          "data": {
            "text/plain": [
              "(100, 1)"
            ]
          },
          "metadata": {
            "tags": []
          },
          "execution_count": 30
        }
      ]
    },
    {
      "cell_type": "code",
      "metadata": {
        "colab": {
          "base_uri": "https://localhost:8080/",
          "height": 497
        },
        "id": "1AUBh6K87bQs",
        "outputId": "71bdf2e7-3933-4f2e-fc77-ab47c42b843b"
      },
      "source": [
        "plt.figure(figsize=(8, 8))\r\n",
        "plt.subplot(211)\r\n",
        "plt.plot(bostons_X[:, 0], imporved_model(bostons_X_with_one), 'r.', label='predict') \r\n",
        "plt.plot(bostons_X[:, 0], bostons_Y, 'b.', label='ground truth')\r\n",
        "\r\n",
        "plt.legend()\r\n",
        "plt.xlabel('ROOM')\r\n",
        "plt.ylabel('target')\r\n",
        "\r\n",
        "plt.subplot(212)\r\n",
        "plt.plot(bostons_X[:, 1], imporved_model(bostons_X_with_one), 'r.', label='predict') \r\n",
        "plt.plot(bostons_X[:, 1], bostons_Y, 'b.', label='ground truth')\r\n",
        "\r\n",
        "plt.legend()\r\n",
        "plt.xlabel('LSTAT')\r\n",
        "plt.ylabel('target')\r\n",
        "plt.show()"
      ],
      "execution_count": null,
      "outputs": [
        {
          "output_type": "display_data",
          "data": {
            "image/png": "[encoded data removed]",
            "text/plain": [
              "<Figure size 576x576 with 2 Axes>"
            ]
          },
          "metadata": {
            "tags": [],
            "needs_background": "light"
          }
        }
      ]
    },
    {
      "cell_type": "code",
      "metadata": {
        "colab": {
          "base_uri": "https://localhost:8080/"
        },
        "id": "jUfrerGF5g-d",
        "outputId": "00fe9be7-ab00-491f-ab5d-d53d65343755"
      },
      "source": [
        "mse(imporved_model(bostons_X_with_one), bostons_Y)"
      ],
      "execution_count": null,
      "outputs": [
        {
          "output_type": "execute_result",
          "data": {
            "text/plain": [
              "149.90064641240232"
            ]
          },
          "metadata": {
            "tags": []
          },
          "execution_count": 32
        }
      ]
    },
    {
      "cell_type": "code",
      "metadata": {
        "colab": {
          "base_uri": "https://localhost:8080/"
        },
        "id": "OCWKgDgf8UHB",
        "outputId": "227e4f4f-5e08-4084-9666-8ec066988f27"
      },
      "source": [
        "grad_theta = np.mean((imporved_model(bostons_X_with_one) - bostons_Y.reshape(-1, 1)) * bostons_X_with_one, axis=0)\r\n",
        "\r\n",
        "grad_theta"
      ],
      "execution_count": null,
      "outputs": [
        {
          "output_type": "execute_result",
          "data": {
            "text/plain": [
              "array([ -14.99102413,  -96.87579743, -117.63250362])"
            ]
          },
          "metadata": {
            "tags": []
          },
          "execution_count": 33
        }
      ]
    },
    {
      "cell_type": "code",
      "metadata": {
        "colab": {
          "base_uri": "https://localhost:8080/"
        },
        "id": "pijQlFh_rNn1",
        "outputId": "b577233e-5269-4722-dfd2-166b29e10803"
      },
      "source": [
        "imporved_model.theta"
      ],
      "execution_count": null,
      "outputs": [
        {
          "output_type": "execute_result",
          "data": {
            "text/plain": [
              "array([[0.09653092],\n",
              "       [0.12715997],\n",
              "       [0.59674531]])"
            ]
          },
          "metadata": {
            "tags": []
          },
          "execution_count": 34
        }
      ]
    },
    {
      "cell_type": "code",
      "metadata": {
        "colab": {
          "base_uri": "https://localhost:8080/",
          "height": 295
        },
        "id": "klFcV-c-5m_X",
        "outputId": "a06a170e-6ae7-4b2a-e7ae-dc2d77b41008"
      },
      "source": [
        "imporved_model = improved_h(2)\r\n",
        "imporved_model.train_model(0.0025, bostons_X_with_one, bostons_Y, 100)"
      ],
      "execution_count": null,
      "outputs": [
        {
          "output_type": "display_data",
          "data": {
            "image/png": "[encoded data removed]",
            "text/plain": [
              "<Figure size 432x288 with 1 Axes>"
            ]
          },
          "metadata": {
            "tags": [],
            "needs_background": "light"
          }
        }
      ]
    },
    {
      "cell_type": "code",
      "metadata": {
        "colab": {
          "base_uri": "https://localhost:8080/",
          "height": 498
        },
        "id": "v1IVJi1-96SG",
        "outputId": "fe85c073-34b6-4b5b-c795-9e9f93f4d2bb"
      },
      "source": [
        "plt.figure(figsize=(8, 8))\r\n",
        "plt.subplot(211)\r\n",
        "plt.plot(bostons_X[:, 0], imporved_model(bostons_X_with_one), 'r.', label='predict') \r\n",
        "plt.plot(bostons_X[:, 0], bostons_Y, 'b.', label='ground truth')\r\n",
        "\r\n",
        "plt.legend()\r\n",
        "plt.xlabel('ROOM')\r\n",
        "plt.ylabel('target')\r\n",
        "\r\n",
        "plt.subplot(212)\r\n",
        "plt.plot(bostons_X[:, 1], imporved_model(bostons_X_with_one), 'r.', label='predict') \r\n",
        "plt.plot(bostons_X[:, 1], bostons_Y, 'b.', label='ground truth')\r\n",
        "\r\n",
        "plt.legend()\r\n",
        "plt.xlabel('LSTAT')\r\n",
        "plt.ylabel('target')\r\n",
        "plt.show()"
      ],
      "execution_count": null,
      "outputs": [
        {
          "output_type": "display_data",
          "data": {
            "image/png": "[encoded data removed]",
            "text/plain": [
              "<Figure size 576x576 with 2 Axes>"
            ]
          },
          "metadata": {
            "tags": [],
            "needs_background": "light"
          }
        }
      ]
    },
    {
      "cell_type": "code",
      "metadata": {
        "colab": {
          "base_uri": "https://localhost:8080/"
        },
        "id": "OIEWulqZ_Bts",
        "outputId": "40684f9f-929f-4d43-ef26-fecc7b4853b2"
      },
      "source": [
        "mse(imporved_model(bostons_X_with_one), bostons_Y)"
      ],
      "execution_count": null,
      "outputs": [
        {
          "output_type": "execute_result",
          "data": {
            "text/plain": [
              "5.263865080932886"
            ]
          },
          "metadata": {
            "tags": []
          },
          "execution_count": 37
        }
      ]
    },
    {
      "cell_type": "markdown",
      "metadata": {
        "id": "BNjz9LGGBO4C"
      },
      "source": [
        "### Polynomial regression"
      ]
    },
    {
      "cell_type": "code",
      "metadata": {
        "colab": {
          "base_uri": "https://localhost:8080/"
        },
        "id": "5-dqc8nJBUAt",
        "outputId": "ec83d065-7594-498b-d219-65e14855b48c"
      },
      "source": [
        "bostons_X = bostons[['RM']].values\r\n",
        "\r\n",
        "# feature scaling\r\n",
        "max_val = np.max(bostons_X, axis=0, keepdims=True)\r\n",
        "min_val = np.min(bostons_X, axis=0, keepdims=True)\r\n",
        "\r\n",
        "scaled_bostons_X = (bostons_X - min_val) /(max_val - min_val)\r\n",
        "\r\n",
        "bostons_X_poly = np.hstack([scaled_bostons_X, scaled_bostons_X ** 2, scaled_bostons_X ** 3])\r\n",
        "bostons_X_poly.shape"
      ],
      "execution_count": null,
      "outputs": [
        {
          "output_type": "execute_result",
          "data": {
            "text/plain": [
              "(100, 3)"
            ]
          },
          "metadata": {
            "tags": []
          },
          "execution_count": 38
        }
      ]
    },
    {
      "cell_type": "code",
      "metadata": {
        "colab": {
          "base_uri": "https://localhost:8080/"
        },
        "id": "nDtF8uM0fS5N",
        "outputId": "7e2ac4bd-2e83-4e85-9d78-d8fb111d60bf"
      },
      "source": [
        "bostons_X_poly[:5, :]"
      ],
      "execution_count": null,
      "outputs": [
        {
          "output_type": "execute_result",
          "data": {
            "text/plain": [
              "array([[0.44044944, 0.19399571, 0.0854453 ],\n",
              "       [0.38277154, 0.14651405, 0.05608141],\n",
              "       [0.66891386, 0.44744575, 0.29930266],\n",
              "       [0.5988764 , 0.35865295, 0.21478879],\n",
              "       [0.65468165, 0.42860806, 0.28060183]])"
            ]
          },
          "metadata": {
            "tags": []
          },
          "execution_count": 39
        }
      ]
    },
    {
      "cell_type": "code",
      "metadata": {
        "colab": {
          "base_uri": "https://localhost:8080/"
        },
        "id": "r_CXLZmEf7Oz",
        "outputId": "7993aa39-7144-4f48-bad2-136a13ad8b03"
      },
      "source": [
        "bostons_X_poly = np.hstack([np.ones((len(bostons_X_poly), 1)), bostons_X_poly])\r\n",
        "bostons_X_poly[:5, :]"
      ],
      "execution_count": null,
      "outputs": [
        {
          "output_type": "execute_result",
          "data": {
            "text/plain": [
              "array([[1.        , 0.44044944, 0.19399571, 0.0854453 ],\n",
              "       [1.        , 0.38277154, 0.14651405, 0.05608141],\n",
              "       [1.        , 0.66891386, 0.44744575, 0.29930266],\n",
              "       [1.        , 0.5988764 , 0.35865295, 0.21478879],\n",
              "       [1.        , 0.65468165, 0.42860806, 0.28060183]])"
            ]
          },
          "metadata": {
            "tags": []
          },
          "execution_count": 40
        }
      ]
    },
    {
      "cell_type": "code",
      "metadata": {
        "colab": {
          "base_uri": "https://localhost:8080/"
        },
        "id": "FQ5Uf39PSVCR",
        "outputId": "48adb2c1-097c-461c-8fdc-f7bda0a311b1"
      },
      "source": [
        "poly_model = improved_h(bostons_X_poly.shape[1] - 1)  # 모델 생성\r\n",
        "\r\n",
        "poly_model(bostons_X_poly).shape"
      ],
      "execution_count": null,
      "outputs": [
        {
          "output_type": "execute_result",
          "data": {
            "text/plain": [
              "(100, 1)"
            ]
          },
          "metadata": {
            "tags": []
          },
          "execution_count": 41
        }
      ]
    },
    {
      "cell_type": "code",
      "metadata": {
        "colab": {
          "base_uri": "https://localhost:8080/",
          "height": 279
        },
        "id": "vzCGQdj2SidO",
        "outputId": "72d59c21-9eee-4f01-873d-d179c8d9832f"
      },
      "source": [
        "order = np.reshape(np.argsort(bostons_X, axis=0), -1)\r\n",
        "\r\n",
        "plt.plot(bostons_X[order], \r\n",
        "         poly_model(bostons_X_poly)[order], 'r--', label='polynomial model')\r\n",
        "plt.plot(bostons_X, bostons_Y, 'b.', label='ground truth')\r\n",
        "plt.xlabel('ROOM')\r\n",
        "plt.ylabel('target')\r\n",
        "plt.legend()\r\n",
        "plt.show()"
      ],
      "execution_count": null,
      "outputs": [
        {
          "output_type": "display_data",
          "data": {
            "image/png": "[encoded data removed]",
            "text/plain": [
              "<Figure size 432x288 with 1 Axes>"
            ]
          },
          "metadata": {
            "tags": [],
            "needs_background": "light"
          }
        }
      ]
    },
    {
      "cell_type": "code",
      "metadata": {
        "colab": {
          "base_uri": "https://localhost:8080/",
          "height": 295
        },
        "id": "LqmHkxhjSure",
        "outputId": "6f5a1c73-9514-41b8-fa7c-8e26eba6ec05"
      },
      "source": [
        "poly_model = improved_h(bostons_X_poly.shape[1] - 1)  # 모델 생성\r\n",
        "poly_model.train_model( lr=0.1, input_x= bostons_X_poly, input_y=bostons_Y, epochs=30)"
      ],
      "execution_count": null,
      "outputs": [
        {
          "output_type": "display_data",
          "data": {
            "image/png": "[encoded data removed]",
            "text/plain": [
              "<Figure size 432x288 with 1 Axes>"
            ]
          },
          "metadata": {
            "tags": [],
            "needs_background": "light"
          }
        }
      ]
    },
    {
      "cell_type": "code",
      "metadata": {
        "colab": {
          "base_uri": "https://localhost:8080/",
          "height": 281
        },
        "id": "5gpwHf60TA2m",
        "outputId": "3608a152-2d1d-4b81-a563-7b4487e711ca"
      },
      "source": [
        "plt.plot(bostons_X[order], \r\n",
        "         poly_model(bostons_X_poly)[order], 'r--', label='polynomial model')\r\n",
        "plt.plot(bostons_X, bostons_Y, 'b.', label='ground truth')\r\n",
        "plt.plot(bostons_X[order], linear_model.predict(bostons_X)[order], 'g--', label='single model')\r\n",
        "plt.xlabel('ROOM')\r\n",
        "plt.ylabel('target')\r\n",
        "plt.legend()\r\n",
        "plt.show()"
      ],
      "execution_count": null,
      "outputs": [
        {
          "output_type": "display_data",
          "data": {
            "image/png": "[encoded data removed]",
            "text/plain": [
              "<Figure size 432x288 with 1 Axes>"
            ]
          },
          "metadata": {
            "tags": [],
            "needs_background": "light"
          }
        }
      ]
    },
    {
      "cell_type": "markdown",
      "metadata": {
        "id": "t45-kyZd1eCX"
      },
      "source": [
        "### linear regression with sklearn library"
      ]
    },
    {
      "cell_type": "code",
      "metadata": {
        "colab": {
          "base_uri": "https://localhost:8080/"
        },
        "id": "2NzXvsFytTBg",
        "outputId": "2dd247e6-71d6-4c23-ab87-2a8b66cdfb8f"
      },
      "source": [
        "from sklearn.linear_model import LinearRegression\r\n",
        "reg = LinearRegression().fit(bostons_X, bostons_Y)\r\n",
        "\r\n",
        "reg.coef_, reg.intercept_"
      ],
      "execution_count": null,
      "outputs": [
        {
          "output_type": "execute_result",
          "data": {
            "text/plain": [
              "(array([10.2234634]), -41.42826246618968)"
            ]
          },
          "metadata": {
            "tags": []
          },
          "execution_count": 45
        }
      ]
    },
    {
      "cell_type": "code",
      "metadata": {
        "colab": {
          "base_uri": "https://localhost:8080/",
          "height": 281
        },
        "id": "bk2iKBXX2vPb",
        "outputId": "71109c38-78d2-4138-8134-6a7286a0fe54"
      },
      "source": [
        "plt.plot(bostons_X, bostons_Y, 'b.', label='ground truth')\r\n",
        "plt.plot(bostons_X, reg.predict(bostons_X), 'r.', label='sklearn prediction')\r\n",
        "plt.xlabel('ROOM')\r\n",
        "plt.ylabel('target')\r\n",
        "plt.legend()\r\n",
        "plt.show()"
      ],
      "execution_count": null,
      "outputs": [
        {
          "output_type": "display_data",
          "data": {
            "image/png": "[encoded data removed]",
            "text/plain": [
              "<Figure size 432x288 with 1 Axes>"
            ]
          },
          "metadata": {
            "tags": [],
            "needs_background": "light"
          }
        }
      ]
    },
    {
      "cell_type": "code",
      "metadata": {
        "colab": {
          "base_uri": "https://localhost:8080/"
        },
        "id": "-N6-yFlI2fWM",
        "outputId": "1ca77ba6-d3e3-43f8-9243-b1ddc2c8d432"
      },
      "source": [
        "reg = LinearRegression().fit(bostons_X_with_one, bostons_Y)\r\n",
        "\r\n",
        "reg.coef_"
      ],
      "execution_count": null,
      "outputs": [
        {
          "output_type": "execute_result",
          "data": {
            "text/plain": [
              "array([ 0.        ,  7.5538054 , -0.37714434], dtype=float32)"
            ]
          },
          "metadata": {
            "tags": []
          },
          "execution_count": 47
        }
      ]
    },
    {
      "cell_type": "code",
      "metadata": {
        "colab": {
          "base_uri": "https://localhost:8080/",
          "height": 498
        },
        "id": "k6s6yR-F1qPT",
        "outputId": "2f878024-c030-4795-979c-39b53f32d727"
      },
      "source": [
        "plt.figure(figsize=(8, 8))\r\n",
        "plt.subplot(211)\r\n",
        "\r\n",
        "plt.plot(bostons_X, bostons_Y, 'b.', label='ground truth')\r\n",
        "plt.plot(bostons_X, reg.predict(bostons_X_with_one), 'r.', label='sklearn prediction')\r\n",
        "plt.xlabel('ROOM')\r\n",
        "plt.ylabel('target')\r\n",
        "plt.legend()\r\n",
        "\r\n",
        "plt.subplot(212)\r\n",
        "plt.plot(bostons['LSTAT'], bostons_Y, 'b.', label='ground truth')\r\n",
        "plt.plot(bostons['LSTAT'], reg.predict(bostons_X_with_one), 'r.', label='sklearn prediction')\r\n",
        "plt.xlabel('LSTAT')\r\n",
        "plt.ylabel('target')\r\n",
        "\r\n",
        "plt.legend()\r\n",
        "plt.show()"
      ],
      "execution_count": null,
      "outputs": [
        {
          "output_type": "display_data",
          "data": {
            "image/png": "[encoded data removed]",
            "text/plain": [
              "<Figure size 576x576 with 2 Axes>"
            ]
          },
          "metadata": {
            "tags": [],
            "needs_background": "light"
          }
        }
      ]
    },
    {
      "cell_type": "code",
      "metadata": {
        "colab": {
          "base_uri": "https://localhost:8080/"
        },
        "id": "zwsq0Ydm2rVi",
        "outputId": "858f4e05-d7cc-46e8-c4b3-266638daee59"
      },
      "source": [
        "reg = LinearRegression().fit(bostons_X_poly, bostons_Y)\r\n",
        "reg.coef_"
      ],
      "execution_count": null,
      "outputs": [
        {
          "output_type": "execute_result",
          "data": {
            "text/plain": [
              "array([  0.        ,   3.75161342,  50.97131481, -29.64021757])"
            ]
          },
          "metadata": {
            "tags": []
          },
          "execution_count": 49
        }
      ]
    },
    {
      "cell_type": "code",
      "metadata": {
        "colab": {
          "base_uri": "https://localhost:8080/",
          "height": 281
        },
        "id": "Vs1i1x-n1W6o",
        "outputId": "500abb15-4aff-4186-d1bc-0825fbef9670"
      },
      "source": [
        "plt.plot(bostons_X, bostons_Y, 'b.', label='ground truth')\r\n",
        "plt.plot(bostons_X, reg.predict(bostons_X_poly), 'r.', label='sklearn prediction')\r\n",
        "plt.xlabel('ROOM')\r\n",
        "plt.ylabel('target')\r\n",
        "plt.legend()\r\n",
        "plt.show()"
      ],
      "execution_count": null,
      "outputs": [
        {
          "output_type": "display_data",
          "data": {
            "image/png": "[encoded data removed]",
            "text/plain": [
              "<Figure size 432x288 with 1 Axes>"
            ]
          },
          "metadata": {
            "tags": [],
            "needs_background": "light"
          }
        }
      ]
    },
    {
      "cell_type": "markdown",
      "metadata": {
        "id": "nuDStsIaK46b"
      },
      "source": [
        "## TensorFlow 를 이용한 Regression\r\n",
        "\r\n",
        "Multiple Variables 에 대한 linear regression 수행"
      ]
    },
    {
      "cell_type": "code",
      "metadata": {
        "colab": {
          "base_uri": "https://localhost:8080/",
          "height": 195
        },
        "id": "HkQy4ZB0K4dH",
        "outputId": "f47d1787-d985-4efe-c155-c0e2512c1ab4"
      },
      "source": [
        "import tensorflow as tf\r\n",
        "bostons.head()"
      ],
      "execution_count": null,
      "outputs": [
        {
          "output_type": "execute_result",
          "data": {
            "text/html": [
              "<div>\n",
              "<style scoped>\n",
              "    .dataframe tbody tr th:only-of-type {\n",
              "        vertical-align: middle;\n",
              "    }\n",
              "\n",
              "    .dataframe tbody tr th {\n",
              "        vertical-align: top;\n",
              "    }\n",
              "\n",
              "    .dataframe thead th {\n",
              "        text-align: right;\n",
              "    }\n",
              "</style>\n",
              "<table border=\"1\" class=\"dataframe\">\n",
              "  <thead>\n",
              "    <tr style=\"text-align: right;\">\n",
              "      <th></th>\n",
              "      <th>CRIM</th>\n",
              "      <th>ZN</th>\n",
              "      <th>INDUS</th>\n",
              "      <th>CHAS</th>\n",
              "      <th>NOX</th>\n",
              "      <th>RM</th>\n",
              "      <th>AGE</th>\n",
              "      <th>DIS</th>\n",
              "      <th>RAD</th>\n",
              "      <th>TAX</th>\n",
              "      <th>PTRATIO</th>\n",
              "      <th>B</th>\n",
              "      <th>LSTAT</th>\n",
              "      <th>target</th>\n",
              "    </tr>\n",
              "  </thead>\n",
              "  <tbody>\n",
              "    <tr>\n",
              "      <th>0</th>\n",
              "      <td>0.00632</td>\n",
              "      <td>18.0</td>\n",
              "      <td>2.31</td>\n",
              "      <td>0.0</td>\n",
              "      <td>0.538</td>\n",
              "      <td>6.575</td>\n",
              "      <td>65.2</td>\n",
              "      <td>4.0900</td>\n",
              "      <td>1.0</td>\n",
              "      <td>296.0</td>\n",
              "      <td>15.3</td>\n",
              "      <td>396.90</td>\n",
              "      <td>4.98</td>\n",
              "      <td>24.0</td>\n",
              "    </tr>\n",
              "    <tr>\n",
              "      <th>1</th>\n",
              "      <td>0.02731</td>\n",
              "      <td>0.0</td>\n",
              "      <td>7.07</td>\n",
              "      <td>0.0</td>\n",
              "      <td>0.469</td>\n",
              "      <td>6.421</td>\n",
              "      <td>78.9</td>\n",
              "      <td>4.9671</td>\n",
              "      <td>2.0</td>\n",
              "      <td>242.0</td>\n",
              "      <td>17.8</td>\n",
              "      <td>396.90</td>\n",
              "      <td>9.14</td>\n",
              "      <td>21.6</td>\n",
              "    </tr>\n",
              "    <tr>\n",
              "      <th>2</th>\n",
              "      <td>0.02729</td>\n",
              "      <td>0.0</td>\n",
              "      <td>7.07</td>\n",
              "      <td>0.0</td>\n",
              "      <td>0.469</td>\n",
              "      <td>7.185</td>\n",
              "      <td>61.1</td>\n",
              "      <td>4.9671</td>\n",
              "      <td>2.0</td>\n",
              "      <td>242.0</td>\n",
              "      <td>17.8</td>\n",
              "      <td>392.83</td>\n",
              "      <td>4.03</td>\n",
              "      <td>34.7</td>\n",
              "    </tr>\n",
              "    <tr>\n",
              "      <th>3</th>\n",
              "      <td>0.03237</td>\n",
              "      <td>0.0</td>\n",
              "      <td>2.18</td>\n",
              "      <td>0.0</td>\n",
              "      <td>0.458</td>\n",
              "      <td>6.998</td>\n",
              "      <td>45.8</td>\n",
              "      <td>6.0622</td>\n",
              "      <td>3.0</td>\n",
              "      <td>222.0</td>\n",
              "      <td>18.7</td>\n",
              "      <td>394.63</td>\n",
              "      <td>2.94</td>\n",
              "      <td>33.4</td>\n",
              "    </tr>\n",
              "    <tr>\n",
              "      <th>4</th>\n",
              "      <td>0.06905</td>\n",
              "      <td>0.0</td>\n",
              "      <td>2.18</td>\n",
              "      <td>0.0</td>\n",
              "      <td>0.458</td>\n",
              "      <td>7.147</td>\n",
              "      <td>54.2</td>\n",
              "      <td>6.0622</td>\n",
              "      <td>3.0</td>\n",
              "      <td>222.0</td>\n",
              "      <td>18.7</td>\n",
              "      <td>396.90</td>\n",
              "      <td>5.33</td>\n",
              "      <td>36.2</td>\n",
              "    </tr>\n",
              "  </tbody>\n",
              "</table>\n",
              "</div>"
            ],
            "text/plain": [
              "      CRIM    ZN  INDUS  CHAS    NOX  ...    TAX  PTRATIO       B  LSTAT  target\n",
              "0  0.00632  18.0   2.31   0.0  0.538  ...  296.0     15.3  396.90   4.98    24.0\n",
              "1  0.02731   0.0   7.07   0.0  0.469  ...  242.0     17.8  396.90   9.14    21.6\n",
              "2  0.02729   0.0   7.07   0.0  0.469  ...  242.0     17.8  392.83   4.03    34.7\n",
              "3  0.03237   0.0   2.18   0.0  0.458  ...  222.0     18.7  394.63   2.94    33.4\n",
              "4  0.06905   0.0   2.18   0.0  0.458  ...  222.0     18.7  396.90   5.33    36.2\n",
              "\n",
              "[5 rows x 14 columns]"
            ]
          },
          "metadata": {
            "tags": []
          },
          "execution_count": 78
        }
      ]
    },
    {
      "cell_type": "code",
      "metadata": {
        "id": "aY5S8wiGp4Sk"
      },
      "source": [
        "trainX = bostons[['RM','LSTAT']].values\r\n",
        "trainY = bostons['target'].values"
      ],
      "execution_count": null,
      "outputs": []
    },
    {
      "cell_type": "code",
      "metadata": {
        "id": "76B0ojlOLlwH"
      },
      "source": [
        "model = tf.keras.Sequential(\r\n",
        "    [\r\n",
        "     tf.keras.layers.Input(shape=[len(trainX[0])]),\r\n",
        "     tf.keras.layers.Dense(1, activation='linear')\r\n",
        "    ]\r\n",
        ")"
      ],
      "execution_count": null,
      "outputs": []
    },
    {
      "cell_type": "code",
      "metadata": {
        "colab": {
          "base_uri": "https://localhost:8080/"
        },
        "id": "0Eu4_DQ5paq7",
        "outputId": "fb557951-491e-4ac5-9114-c9053637d7cb"
      },
      "source": [
        "model.summary()"
      ],
      "execution_count": null,
      "outputs": [
        {
          "output_type": "stream",
          "text": [
            "Model: \"sequential_5\"\n",
            "_________________________________________________________________\n",
            "Layer (type)                 Output Shape              Param #   \n",
            "=================================================================\n",
            "dense_5 (Dense)              (None, 1)                 3         \n",
            "=================================================================\n",
            "Total params: 3\n",
            "Trainable params: 3\n",
            "Non-trainable params: 0\n",
            "_________________________________________________________________\n"
          ],
          "name": "stdout"
        }
      ]
    },
    {
      "cell_type": "code",
      "metadata": {
        "id": "N8omO8cLpWXh"
      },
      "source": [
        "model.compile(\r\n",
        "    optimizer=tf.keras.optimizers.SGD(learning_rate=0.0005),  # Optimizer\r\n",
        "    # Loss function to minimize\r\n",
        "    loss=tf.keras.losses.MeanSquaredError(),\r\n",
        "    # List of metrics to monitor\r\n",
        "    metrics=[tf.keras.metrics.MeanSquaredError()],\r\n",
        ")"
      ],
      "execution_count": null,
      "outputs": []
    },
    {
      "cell_type": "code",
      "metadata": {
        "colab": {
          "base_uri": "https://localhost:8080/"
        },
        "id": "zPikuct2poF-",
        "outputId": "2264fabd-585e-43de-ddae-d3f2383d0034"
      },
      "source": [
        "history = model.fit(\r\n",
        "    trainX,\r\n",
        "    trainY,\r\n",
        "    epochs=100\r\n",
        ")"
      ],
      "execution_count": null,
      "outputs": [
        {
          "output_type": "stream",
          "text": [
            "Epoch 1/100\n",
            "4/4 [==============================] - 0s 2ms/step - loss: 173.1725 - mean_squared_error: 173.1725\n",
            "Epoch 2/100\n",
            "4/4 [==============================] - 0s 3ms/step - loss: 148.2047 - mean_squared_error: 148.2047\n",
            "Epoch 3/100\n",
            "4/4 [==============================] - 0s 2ms/step - loss: 136.8024 - mean_squared_error: 136.8024\n",
            "Epoch 4/100\n",
            "4/4 [==============================] - 0s 2ms/step - loss: 112.8312 - mean_squared_error: 112.8312\n",
            "Epoch 5/100\n",
            "4/4 [==============================] - 0s 2ms/step - loss: 109.3405 - mean_squared_error: 109.3405\n",
            "Epoch 6/100\n",
            "4/4 [==============================] - 0s 2ms/step - loss: 107.1302 - mean_squared_error: 107.1302\n",
            "Epoch 7/100\n",
            "4/4 [==============================] - 0s 2ms/step - loss: 103.6695 - mean_squared_error: 103.6695\n",
            "Epoch 8/100\n",
            "4/4 [==============================] - 0s 2ms/step - loss: 98.2362 - mean_squared_error: 98.2362\n",
            "Epoch 9/100\n",
            "4/4 [==============================] - 0s 2ms/step - loss: 88.6936 - mean_squared_error: 88.6936\n",
            "Epoch 10/100\n",
            "4/4 [==============================] - 0s 2ms/step - loss: 84.1604 - mean_squared_error: 84.1604\n",
            "Epoch 11/100\n",
            "4/4 [==============================] - 0s 3ms/step - loss: 80.4000 - mean_squared_error: 80.4000\n",
            "Epoch 12/100\n",
            "4/4 [==============================] - 0s 2ms/step - loss: 75.4997 - mean_squared_error: 75.4997\n",
            "Epoch 13/100\n",
            "4/4 [==============================] - 0s 2ms/step - loss: 65.0007 - mean_squared_error: 65.0007\n",
            "Epoch 14/100\n",
            "4/4 [==============================] - 0s 3ms/step - loss: 72.4210 - mean_squared_error: 72.4210\n",
            "Epoch 15/100\n",
            "4/4 [==============================] - 0s 2ms/step - loss: 55.3901 - mean_squared_error: 55.3901\n",
            "Epoch 16/100\n",
            "4/4 [==============================] - 0s 2ms/step - loss: 50.5704 - mean_squared_error: 50.5704\n",
            "Epoch 17/100\n",
            "4/4 [==============================] - 0s 3ms/step - loss: 56.9550 - mean_squared_error: 56.9550\n",
            "Epoch 18/100\n",
            "4/4 [==============================] - 0s 2ms/step - loss: 47.3178 - mean_squared_error: 47.3178\n",
            "Epoch 19/100\n",
            "4/4 [==============================] - 0s 2ms/step - loss: 54.1671 - mean_squared_error: 54.1671\n",
            "Epoch 20/100\n",
            "4/4 [==============================] - 0s 2ms/step - loss: 49.3656 - mean_squared_error: 49.3656\n",
            "Epoch 21/100\n",
            "4/4 [==============================] - 0s 2ms/step - loss: 43.5967 - mean_squared_error: 43.5967\n",
            "Epoch 22/100\n",
            "4/4 [==============================] - 0s 2ms/step - loss: 37.2050 - mean_squared_error: 37.2050\n",
            "Epoch 23/100\n",
            "4/4 [==============================] - 0s 2ms/step - loss: 36.0960 - mean_squared_error: 36.0960\n",
            "Epoch 24/100\n",
            "4/4 [==============================] - 0s 2ms/step - loss: 36.2668 - mean_squared_error: 36.2668\n",
            "Epoch 25/100\n",
            "4/4 [==============================] - 0s 2ms/step - loss: 32.3232 - mean_squared_error: 32.3232\n",
            "Epoch 26/100\n",
            "4/4 [==============================] - 0s 2ms/step - loss: 30.7001 - mean_squared_error: 30.7001\n",
            "Epoch 27/100\n",
            "4/4 [==============================] - 0s 2ms/step - loss: 31.0812 - mean_squared_error: 31.0812\n",
            "Epoch 28/100\n",
            "4/4 [==============================] - 0s 3ms/step - loss: 29.6937 - mean_squared_error: 29.6937\n",
            "Epoch 29/100\n",
            "4/4 [==============================] - 0s 2ms/step - loss: 28.8884 - mean_squared_error: 28.8884\n",
            "Epoch 30/100\n",
            "4/4 [==============================] - 0s 2ms/step - loss: 24.8562 - mean_squared_error: 24.8562\n",
            "Epoch 31/100\n",
            "4/4 [==============================] - 0s 2ms/step - loss: 25.2488 - mean_squared_error: 25.2488\n",
            "Epoch 32/100\n",
            "4/4 [==============================] - 0s 2ms/step - loss: 23.2725 - mean_squared_error: 23.2725\n",
            "Epoch 33/100\n",
            "4/4 [==============================] - 0s 2ms/step - loss: 24.4031 - mean_squared_error: 24.4031\n",
            "Epoch 34/100\n",
            "4/4 [==============================] - 0s 2ms/step - loss: 22.7479 - mean_squared_error: 22.7479\n",
            "Epoch 35/100\n",
            "4/4 [==============================] - 0s 2ms/step - loss: 20.3086 - mean_squared_error: 20.3086\n",
            "Epoch 36/100\n",
            "4/4 [==============================] - 0s 2ms/step - loss: 20.5933 - mean_squared_error: 20.5933\n",
            "Epoch 37/100\n",
            "4/4 [==============================] - 0s 2ms/step - loss: 18.8068 - mean_squared_error: 18.8068\n",
            "Epoch 38/100\n",
            "4/4 [==============================] - 0s 3ms/step - loss: 18.9270 - mean_squared_error: 18.9270\n",
            "Epoch 39/100\n",
            "4/4 [==============================] - 0s 3ms/step - loss: 18.3700 - mean_squared_error: 18.3700\n",
            "Epoch 40/100\n",
            "4/4 [==============================] - 0s 3ms/step - loss: 15.4342 - mean_squared_error: 15.4342\n",
            "Epoch 41/100\n",
            "4/4 [==============================] - 0s 2ms/step - loss: 14.3582 - mean_squared_error: 14.3582\n",
            "Epoch 42/100\n",
            "4/4 [==============================] - 0s 3ms/step - loss: 13.9741 - mean_squared_error: 13.9741\n",
            "Epoch 43/100\n",
            "4/4 [==============================] - 0s 2ms/step - loss: 15.5618 - mean_squared_error: 15.5618\n",
            "Epoch 44/100\n",
            "4/4 [==============================] - 0s 2ms/step - loss: 18.0249 - mean_squared_error: 18.0249\n",
            "Epoch 45/100\n",
            "4/4 [==============================] - 0s 2ms/step - loss: 13.4472 - mean_squared_error: 13.4472\n",
            "Epoch 46/100\n",
            "4/4 [==============================] - 0s 2ms/step - loss: 15.7438 - mean_squared_error: 15.7438\n",
            "Epoch 47/100\n",
            "4/4 [==============================] - 0s 2ms/step - loss: 14.1324 - mean_squared_error: 14.1324\n",
            "Epoch 48/100\n",
            "4/4 [==============================] - 0s 3ms/step - loss: 13.2589 - mean_squared_error: 13.2589\n",
            "Epoch 49/100\n",
            "4/4 [==============================] - 0s 3ms/step - loss: 11.9755 - mean_squared_error: 11.9755\n",
            "Epoch 50/100\n",
            "4/4 [==============================] - 0s 3ms/step - loss: 13.1147 - mean_squared_error: 13.1147\n",
            "Epoch 51/100\n",
            "4/4 [==============================] - 0s 3ms/step - loss: 13.2409 - mean_squared_error: 13.2409\n",
            "Epoch 52/100\n",
            "4/4 [==============================] - 0s 2ms/step - loss: 10.7510 - mean_squared_error: 10.7510\n",
            "Epoch 53/100\n",
            "4/4 [==============================] - 0s 2ms/step - loss: 11.8659 - mean_squared_error: 11.8659\n",
            "Epoch 54/100\n",
            "4/4 [==============================] - 0s 2ms/step - loss: 11.5591 - mean_squared_error: 11.5591\n",
            "Epoch 55/100\n",
            "4/4 [==============================] - 0s 2ms/step - loss: 12.8600 - mean_squared_error: 12.8600\n",
            "Epoch 56/100\n",
            "4/4 [==============================] - 0s 2ms/step - loss: 10.4719 - mean_squared_error: 10.4719\n",
            "Epoch 57/100\n",
            "4/4 [==============================] - 0s 2ms/step - loss: 9.7339 - mean_squared_error: 9.7339\n",
            "Epoch 58/100\n",
            "4/4 [==============================] - 0s 2ms/step - loss: 11.4859 - mean_squared_error: 11.4859\n",
            "Epoch 59/100\n",
            "4/4 [==============================] - 0s 2ms/step - loss: 11.0518 - mean_squared_error: 11.0518\n",
            "Epoch 60/100\n",
            "4/4 [==============================] - 0s 2ms/step - loss: 10.5379 - mean_squared_error: 10.5379\n",
            "Epoch 61/100\n",
            "4/4 [==============================] - 0s 2ms/step - loss: 12.0155 - mean_squared_error: 12.0155\n",
            "Epoch 62/100\n",
            "4/4 [==============================] - 0s 4ms/step - loss: 10.7435 - mean_squared_error: 10.7435\n",
            "Epoch 63/100\n",
            "4/4 [==============================] - 0s 2ms/step - loss: 10.7347 - mean_squared_error: 10.7347\n",
            "Epoch 64/100\n",
            "4/4 [==============================] - 0s 2ms/step - loss: 9.7576 - mean_squared_error: 9.7576\n",
            "Epoch 65/100\n",
            "4/4 [==============================] - 0s 2ms/step - loss: 9.2759 - mean_squared_error: 9.2759\n",
            "Epoch 66/100\n",
            "4/4 [==============================] - 0s 2ms/step - loss: 10.9970 - mean_squared_error: 10.9970\n",
            "Epoch 67/100\n",
            "4/4 [==============================] - 0s 2ms/step - loss: 8.8746 - mean_squared_error: 8.8746\n",
            "Epoch 68/100\n",
            "4/4 [==============================] - 0s 2ms/step - loss: 9.6603 - mean_squared_error: 9.6603\n",
            "Epoch 69/100\n",
            "4/4 [==============================] - 0s 2ms/step - loss: 9.1188 - mean_squared_error: 9.1188\n",
            "Epoch 70/100\n",
            "4/4 [==============================] - 0s 2ms/step - loss: 9.2517 - mean_squared_error: 9.2517\n",
            "Epoch 71/100\n",
            "4/4 [==============================] - 0s 2ms/step - loss: 10.6605 - mean_squared_error: 10.6605\n",
            "Epoch 72/100\n",
            "4/4 [==============================] - 0s 2ms/step - loss: 9.8709 - mean_squared_error: 9.8709\n",
            "Epoch 73/100\n",
            "4/4 [==============================] - 0s 2ms/step - loss: 9.9661 - mean_squared_error: 9.9661\n",
            "Epoch 74/100\n",
            "4/4 [==============================] - 0s 2ms/step - loss: 10.2869 - mean_squared_error: 10.2869\n",
            "Epoch 75/100\n",
            "4/4 [==============================] - 0s 2ms/step - loss: 9.1434 - mean_squared_error: 9.1434\n",
            "Epoch 76/100\n",
            "4/4 [==============================] - 0s 2ms/step - loss: 8.8129 - mean_squared_error: 8.8129\n",
            "Epoch 77/100\n",
            "4/4 [==============================] - 0s 2ms/step - loss: 8.4045 - mean_squared_error: 8.4045\n",
            "Epoch 78/100\n",
            "4/4 [==============================] - 0s 2ms/step - loss: 9.3740 - mean_squared_error: 9.3740\n",
            "Epoch 79/100\n",
            "4/4 [==============================] - 0s 2ms/step - loss: 8.9765 - mean_squared_error: 8.9765\n",
            "Epoch 80/100\n",
            "4/4 [==============================] - 0s 2ms/step - loss: 8.0090 - mean_squared_error: 8.0090\n",
            "Epoch 81/100\n",
            "4/4 [==============================] - 0s 2ms/step - loss: 9.0971 - mean_squared_error: 9.0971\n",
            "Epoch 82/100\n",
            "4/4 [==============================] - 0s 2ms/step - loss: 8.7493 - mean_squared_error: 8.7493\n",
            "Epoch 83/100\n",
            "4/4 [==============================] - 0s 2ms/step - loss: 9.1442 - mean_squared_error: 9.1442\n",
            "Epoch 84/100\n",
            "4/4 [==============================] - 0s 3ms/step - loss: 9.5575 - mean_squared_error: 9.5575\n",
            "Epoch 85/100\n",
            "4/4 [==============================] - 0s 12ms/step - loss: 8.8026 - mean_squared_error: 8.8026\n",
            "Epoch 86/100\n",
            "4/4 [==============================] - 0s 2ms/step - loss: 8.0005 - mean_squared_error: 8.0005\n",
            "Epoch 87/100\n",
            "4/4 [==============================] - 0s 2ms/step - loss: 8.1771 - mean_squared_error: 8.1771\n",
            "Epoch 88/100\n",
            "4/4 [==============================] - 0s 2ms/step - loss: 8.4406 - mean_squared_error: 8.4406\n",
            "Epoch 89/100\n",
            "4/4 [==============================] - 0s 4ms/step - loss: 9.3098 - mean_squared_error: 9.3098\n",
            "Epoch 90/100\n",
            "4/4 [==============================] - 0s 3ms/step - loss: 8.5691 - mean_squared_error: 8.5691\n",
            "Epoch 91/100\n",
            "4/4 [==============================] - 0s 3ms/step - loss: 8.3759 - mean_squared_error: 8.3759\n",
            "Epoch 92/100\n",
            "4/4 [==============================] - 0s 2ms/step - loss: 8.5528 - mean_squared_error: 8.5528\n",
            "Epoch 93/100\n",
            "4/4 [==============================] - 0s 3ms/step - loss: 8.4796 - mean_squared_error: 8.4796\n",
            "Epoch 94/100\n",
            "4/4 [==============================] - 0s 2ms/step - loss: 8.6562 - mean_squared_error: 8.6562\n",
            "Epoch 95/100\n",
            "4/4 [==============================] - 0s 2ms/step - loss: 9.5839 - mean_squared_error: 9.5839\n",
            "Epoch 96/100\n",
            "4/4 [==============================] - 0s 3ms/step - loss: 8.0739 - mean_squared_error: 8.0739\n",
            "Epoch 97/100\n",
            "4/4 [==============================] - 0s 3ms/step - loss: 7.6988 - mean_squared_error: 7.6988\n",
            "Epoch 98/100\n",
            "4/4 [==============================] - 0s 3ms/step - loss: 8.7286 - mean_squared_error: 8.7286\n",
            "Epoch 99/100\n",
            "4/4 [==============================] - 0s 3ms/step - loss: 8.0741 - mean_squared_error: 8.0741\n",
            "Epoch 100/100\n",
            "4/4 [==============================] - 0s 2ms/step - loss: 8.4228 - mean_squared_error: 8.4228\n"
          ],
          "name": "stdout"
        }
      ]
    },
    {
      "cell_type": "code",
      "metadata": {
        "colab": {
          "base_uri": "https://localhost:8080/",
          "height": 281
        },
        "id": "ehIx8ndNpsxD",
        "outputId": "4cd4af0a-5551-4cc6-9d03-0614067a518e"
      },
      "source": [
        "plt.title('history')\r\n",
        "plt.plot(range(100), history.history['loss'], 'r', label='loss')\r\n",
        "plt.legend()\r\n",
        "plt.show()\r\n"
      ],
      "execution_count": null,
      "outputs": [
        {
          "output_type": "display_data",
          "data": {
            "image/png": "[encoded data removed]",
            "text/plain": [
              "<Figure size 432x288 with 1 Axes>"
            ]
          },
          "metadata": {
            "tags": [],
            "needs_background": "light"
          }
        }
      ]
    },
    {
      "cell_type": "code",
      "metadata": {
        "colab": {
          "base_uri": "https://localhost:8080/",
          "height": 498
        },
        "id": "kUV4bX3qq2VC",
        "outputId": "cba84561-55e1-425f-d19b-ae966364082c"
      },
      "source": [
        "plt.figure(figsize=(8, 8))\r\n",
        "plt.subplot(211)\r\n",
        "\r\n",
        "plt.plot(trainX[:, 0], trainY, 'b.', label='ground truth')\r\n",
        "plt.plot(trainX[:, 0], model.predict(trainX), 'r.', label='sklearn prediction')\r\n",
        "plt.xlabel('ROOM')\r\n",
        "plt.ylabel('target')\r\n",
        "plt.legend()\r\n",
        "\r\n",
        "plt.subplot(212)\r\n",
        "plt.plot(trainX[:, 1], trainY, 'b.', label='ground truth')\r\n",
        "plt.plot(trainX[:, 1], model.predict(trainX), 'r.', label='sklearn prediction')\r\n",
        "plt.xlabel('LSTAT')\r\n",
        "plt.ylabel('target')\r\n",
        "\r\n",
        "plt.legend()\r\n",
        "plt.show()"
      ],
      "execution_count": null,
      "outputs": [
        {
          "output_type": "display_data",
          "data": {
            "image/png": "[encoded data removed]",
            "text/plain": [
              "<Figure size 576x576 with 2 Axes>"
            ]
          },
          "metadata": {
            "tags": [],
            "needs_background": "light"
          }
        }
      ]
    },
    {
      "cell_type": "markdown",
      "metadata": {
        "id": "_mtg9C_4DFW6"
      },
      "source": [
        "# regression 문제\r\n"
      ]
    },
    {
      "cell_type": "markdown",
      "metadata": {
        "id": "x6mEMT1rV4Ak"
      },
      "source": [
        "다음과 같은 examples `data_x` 와 `data_y`가 존재합니다.\r\n",
        "\r\n",
        "```python\r\n",
        "  rg = np.random.default_rng(1)\r\n",
        "  data_x = 10 * rg.random((100, 1))\r\n",
        "  noise = 50 * rg.random((100, 1))\r\n",
        "  data_y = (data_x ** 2 + noise)\r\n",
        "```\r\n",
        "\r\n",
        "1. `data_x` 와 `data_y` 에 대하여 plotting 해보세요.\r\n",
        "2. 주어진 training examples에 대한 linear regression 을 수행하세요.\r\n",
        "3. 주어진 training examples에 대한 polynomial regression 을 수행하세요.\r\n",
        "\r\n"
      ]
    },
    {
      "cell_type": "code",
      "metadata": {
        "id": "nkbZ3RWGZW5o"
      },
      "source": [
        "rg = np.random.default_rng(1)\r\n",
        "data_x = 10 * rg.random((100, 1))\r\n",
        "noise = 50 * rg.random((100, 1))\r\n",
        "data_y = (data_x ** 2 + noise)"
      ],
      "execution_count": null,
      "outputs": []
    },
    {
      "cell_type": "code",
      "metadata": {
        "colab": {
          "base_uri": "https://localhost:8080/",
          "height": 282
        },
        "id": "Z3GirMrjZYfd",
        "outputId": "29550851-1218-469a-adb9-f64a7bd8ec0c"
      },
      "source": [
        "plt.scatter(data_x, data_y)"
      ],
      "execution_count": null,
      "outputs": [
        {
          "output_type": "execute_result",
          "data": {
            "text/plain": [
              "<matplotlib.collections.PathCollection at 0x7f831af364e0>"
            ]
          },
          "metadata": {
            "tags": []
          },
          "execution_count": 55
        },
        {
          "output_type": "display_data",
          "data": {
            "image/png": "[encoded data removed]",
            "text/plain": [
              "<Figure size 432x288 with 1 Axes>"
            ]
          },
          "metadata": {
            "tags": [],
            "needs_background": "light"
          }
        }
      ]
    },
    {
      "cell_type": "code",
      "metadata": {
        "colab": {
          "base_uri": "https://localhost:8080/"
        },
        "id": "_OJgLfG0Z2Yj",
        "outputId": "a0446202-9239-4ab1-df5f-dc025a9796cc"
      },
      "source": [
        "from sklearn.linear_model import LinearRegression\r\n",
        "reg = LinearRegression().fit(data_x, data_y)\r\n",
        "\r\n",
        "reg.coef_"
      ],
      "execution_count": null,
      "outputs": [
        {
          "output_type": "execute_result",
          "data": {
            "text/plain": [
              "array([[10.08025292]])"
            ]
          },
          "metadata": {
            "tags": []
          },
          "execution_count": 56
        }
      ]
    },
    {
      "cell_type": "code",
      "metadata": {
        "colab": {
          "base_uri": "https://localhost:8080/",
          "height": 282
        },
        "id": "n0PBnRAnaKHM",
        "outputId": "596af911-33af-43d0-f342-36a52a7cc81c"
      },
      "source": [
        "plt.scatter(data_x, data_y)\r\n",
        "plt.scatter(data_x, reg.predict(data_x))"
      ],
      "execution_count": null,
      "outputs": [
        {
          "output_type": "execute_result",
          "data": {
            "text/plain": [
              "<matplotlib.collections.PathCollection at 0x7f831aef2320>"
            ]
          },
          "metadata": {
            "tags": []
          },
          "execution_count": 57
        },
        {
          "output_type": "display_data",
          "data": {
            "image/png": "[encoded data removed]",
            "text/plain": [
              "<Figure size 432x288 with 1 Axes>"
            ]
          },
          "metadata": {
            "tags": [],
            "needs_background": "light"
          }
        }
      ]
    },
    {
      "cell_type": "code",
      "metadata": {
        "colab": {
          "base_uri": "https://localhost:8080/",
          "height": 543
        },
        "id": "L9xnPU2vghWR",
        "outputId": "deeea464-ec3b-4775-96c4-5797e3b1c273"
      },
      "source": [
        "sample_model = h()\r\n",
        "\r\n",
        "sample_model.train_model(0.005, data_x, data_y, 20)\r\n",
        "\r\n",
        "plt.scatter(data_x, data_y)\r\n",
        "plt.scatter(data_x, sample_model.predict(data_x))\r\n",
        "plt.show()"
      ],
      "execution_count": null,
      "outputs": [
        {
          "output_type": "display_data",
          "data": {
            "image/png": "[encoded data removed]",
            "text/plain": [
              "<Figure size 432x288 with 1 Axes>"
            ]
          },
          "metadata": {
            "tags": [],
            "needs_background": "light"
          }
        },
        {
          "output_type": "display_data",
          "data": {
            "image/png": "[encoded data removed]",
            "text/plain": [
              "<Figure size 432x288 with 1 Axes>"
            ]
          },
          "metadata": {
            "tags": [],
            "needs_background": "light"
          }
        }
      ]
    }
  ]
}