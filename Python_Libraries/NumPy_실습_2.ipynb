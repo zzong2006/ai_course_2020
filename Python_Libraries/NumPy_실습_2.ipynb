{
  "nbformat": 4,
  "nbformat_minor": 0,
  "metadata": {
    "colab": {
      "name": "12월 08일_(화)_실습",
      "provenance": []
    },
    "kernelspec": {
      "name": "python3",
      "display_name": "Python 3"
    }
  },
  "cells": [
    {
      "cell_type": "markdown",
      "metadata": {
        "id": "nBRvfXSVHyuE"
      },
      "source": [
        "## 문제\n",
        "\n",
        "1. 다음과 같은 모양을 가지는 array를 만들어 보세요.\n",
        "```\n",
        "[12 13 14 15 16 17 18 19 20]\n",
        "```\n",
        "\n",
        "2. (1)에서 만든 array와 `enumerate`를 사용하여, array 각 원소에 index를 추가한 `list`를 만들어 보세요.\n",
        "```\n",
        "[(0, 12), (1, 13), (2, 14), (3, 15), (4, 16), (5, 17), (6, 18), (7, 19), (8, 20)]\n",
        "```\n",
        "\n",
        "3. 다음과 같은 모양을 가지는 array를 만들어 보세요.\n",
        "```\n",
        "[10  9  8  7  6  5  4  3  2  1]\n",
        "```\n",
        "\n",
        "4. (3)에서 만든 array와 `map`을 사용하여, array 각 원소를 제곱한 `list`를 만들어 보세요. (힌트. `lambda` 함수 사용)\n",
        "```\n",
        "[100, 81, 64, 49, 36, 25, 16, 9, 4, 1]\n",
        "```\n",
        "\n",
        "5. 다음과 같은 모양을 가지는 array를 만들고, 그 아래 array 같이 바꿔보세요.\n",
        "```\n",
        "[ 1  2  3  4  5  6  7  8  9 10]\n",
        "```\n",
        "```\n",
        "[[ 1  2  3  4  5]\n",
        " [ 6  7  8  9 10]]\n",
        "```\n",
        "\n",
        "6. 다음과 같이 2차원 array를 만들고, array의 열에 대한 평균값을 구한 뒤, 그 평균값을 소수점 넷째 자리까지 순서대로 출력하는 함수 `mean_axis_1`을 만드세요.\n",
        "```python\n",
        "  def mean_axis_1(arr):\n",
        "    ...\n",
        "\n",
        "  rg = np.random.default_rng(1)\n",
        "  sample = rg.random((3, 4))\n",
        "  \"\"\"\n",
        "  sample 은 [[0.51182162 0.9504637  0.14415961 0.94864945]\n",
        "              [0.31183145 0.42332645 0.82770259 0.40919914]\n",
        "              [0.54959369 0.02755911 0.75351311 0.53814331]]\n",
        "  \"\"\"\n",
        "  mean_axis_1(sample)\n",
        "```\n",
        "```\n",
        "  0.4577\n",
        "  0.4671\n",
        "  0.5751\n",
        "  0.6320\n",
        "```\n",
        "\n",
        "7. `0` 부터 `2` 까지 총 10개의 원소 간격으로 나눠진 array를 구해보세요.\n",
        "```\n",
        "[0.         0.22222222 0.44444444 0.66666667 0.88888889 1.11111111\n",
        " 1.33333333 1.55555556 1.77777778 2.        ]\n",
        "```\n",
        "\n"
      ]
    },
    {
      "cell_type": "code",
      "metadata": {
        "id": "mcBVDKzsMVoA"
      },
      "source": [
        "import numpy as np"
      ],
      "execution_count": null,
      "outputs": []
    },
    {
      "cell_type": "code",
      "metadata": {
        "colab": {
          "base_uri": "https://localhost:8080/"
        },
        "id": "ee3A0xItMIor",
        "outputId": "9d29f5a7-548f-48c5-dd41-617aeda2eb40"
      },
      "source": [
        "# 첫번째 문제\n",
        "arr = np.arange(12, 21)\n",
        "print(arr)"
      ],
      "execution_count": null,
      "outputs": [
        {
          "output_type": "stream",
          "text": [
            "[12 13 14 15 16 17 18 19 20]\n"
          ],
          "name": "stdout"
        }
      ]
    },
    {
      "cell_type": "code",
      "metadata": {
        "colab": {
          "base_uri": "https://localhost:8080/"
        },
        "id": "N4_bSTKSMb1l",
        "outputId": "636140df-6243-4f39-b2fa-907652fa5c5e"
      },
      "source": [
        "# 두번째 문제\n",
        "print(list(enumerate(arr)))"
      ],
      "execution_count": null,
      "outputs": [
        {
          "output_type": "stream",
          "text": [
            "[(0, 12), (1, 13), (2, 14), (3, 15), (4, 16), (5, 17), (6, 18), (7, 19), (8, 20)]\n"
          ],
          "name": "stdout"
        }
      ]
    },
    {
      "cell_type": "code",
      "metadata": {
        "colab": {
          "base_uri": "https://localhost:8080/"
        },
        "id": "7FuxP5gUMu8q",
        "outputId": "27b70606-9fcc-4682-d94e-527582d426c5"
      },
      "source": [
        "# 세번째 문제\n",
        "arr2 = np.arange(1, 11)\n",
        "print(arr2)\n",
        "reversed_arr2 = arr2[::-1]\n",
        "print(reversed_arr2)"
      ],
      "execution_count": null,
      "outputs": [
        {
          "output_type": "stream",
          "text": [
            "[ 1  2  3  4  5  6  7  8  9 10]\n",
            "[10  9  8  7  6  5  4  3  2  1]\n"
          ],
          "name": "stdout"
        }
      ]
    },
    {
      "cell_type": "code",
      "metadata": {
        "colab": {
          "base_uri": "https://localhost:8080/"
        },
        "id": "Y5NyG4OYM-BM",
        "outputId": "955b2b96-8b4e-4242-8202-4ad49f73acc1"
      },
      "source": [
        "# np.arange(10, 0, -1)\n",
        "print(np.array(sorted(arr2, reverse=True)))"
      ],
      "execution_count": null,
      "outputs": [
        {
          "output_type": "stream",
          "text": [
            "[10  9  8  7  6  5  4  3  2  1]\n"
          ],
          "name": "stdout"
        }
      ]
    },
    {
      "cell_type": "code",
      "metadata": {
        "colab": {
          "base_uri": "https://localhost:8080/"
        },
        "id": "7ZYHQTB1OjxO",
        "outputId": "41ae07f3-a1c3-4c10-be89-7bc1b7980894"
      },
      "source": [
        "# 네번째 문제\n",
        "print(list(map(lambda x: x ** 2, reversed_arr2)))"
      ],
      "execution_count": null,
      "outputs": [
        {
          "output_type": "stream",
          "text": [
            "[100, 81, 64, 49, 36, 25, 16, 9, 4, 1]\n"
          ],
          "name": "stdout"
        }
      ]
    },
    {
      "cell_type": "code",
      "metadata": {
        "colab": {
          "base_uri": "https://localhost:8080/"
        },
        "id": "q_fWmQtTPA4i",
        "outputId": "d646c2e2-56f3-4f7a-f43f-ca95ea75e77a"
      },
      "source": [
        "# 다섯번째 문제\n",
        "arr3 = np.arange(1, 11)\n",
        "print(arr3)\n",
        "reshaped_arr = arr3.reshape(2, 5)\n",
        "print(reshaped_arr)\n",
        "\n",
        "arr3.resize((2, 5))\n",
        "print(arr3)"
      ],
      "execution_count": null,
      "outputs": [
        {
          "output_type": "stream",
          "text": [
            "[ 1  2  3  4  5  6  7  8  9 10]\n",
            "[[ 1  2  3  4  5]\n",
            " [ 6  7  8  9 10]]\n",
            "[[ 1  2  3  4  5]\n",
            " [ 6  7  8  9 10]]\n"
          ],
          "name": "stdout"
        }
      ]
    },
    {
      "cell_type": "code",
      "metadata": {
        "colab": {
          "base_uri": "https://localhost:8080/"
        },
        "id": "C5ckzPl-PvTc",
        "outputId": "879f7387-48bd-4c3b-e4cc-d8ff5f64a87f"
      },
      "source": [
        "# 여섯번째 문제\n",
        "def mean_axis_1(arr):\n",
        "  result = np.mean(arr, axis=0)\n",
        "  for x in result:\n",
        "    print('{:.4f}'.format(x))\n",
        "\n",
        "rg = np.random.default_rng(1)\n",
        "sample = rg.random((3, 4))\n",
        "\"\"\"\n",
        "sample 은 \n",
        "[[0.51182162 0.9504637 0.14415961 0.94864945]\n",
        "[0.31183145 0.42332645 0.82770259 0.40919914]\n",
        "[0.54959369 0.02755911 0.75351311 0.53814331]]\n",
        "\n",
        "\"\"\"\n",
        "# print(sample)\n",
        "mean_axis_1(sample)"
      ],
      "execution_count": null,
      "outputs": [
        {
          "output_type": "stream",
          "text": [
            "0.4577\n",
            "0.4671\n",
            "0.5751\n",
            "0.6320\n"
          ],
          "name": "stdout"
        }
      ]
    },
    {
      "cell_type": "code",
      "metadata": {
        "colab": {
          "base_uri": "https://localhost:8080/"
        },
        "id": "m765MwkrRqUw",
        "outputId": "e38e0736-3ac6-4766-d27f-88465e88370a"
      },
      "source": [
        "# 일곱번째 문제\n",
        "np.linspace(0, 2, 10)"
      ],
      "execution_count": null,
      "outputs": [
        {
          "output_type": "execute_result",
          "data": {
            "text/plain": [
              "array([0.        , 0.22222222, 0.44444444, 0.66666667, 0.88888889,\n",
              "       1.11111111, 1.33333333, 1.55555556, 1.77777778, 2.        ])"
            ]
          },
          "metadata": {
            "tags": []
          },
          "execution_count": 11
        }
      ]
    },
    {
      "cell_type": "markdown",
      "metadata": {
        "id": "bB5-U78OQn7F"
      },
      "source": [
        "## Advanced indexing and index tricks\n",
        "### Indexing with Arrays of Indices"
      ]
    },
    {
      "cell_type": "code",
      "metadata": {
        "id": "61i978aiKQA9"
      },
      "source": [
        "import numpy as np"
      ],
      "execution_count": null,
      "outputs": []
    },
    {
      "cell_type": "code",
      "metadata": {
        "colab": {
          "base_uri": "https://localhost:8080/"
        },
        "id": "lT_k44NcPe58",
        "outputId": "fbef679e-6019-4909-aa89-be1f261faff4"
      },
      "source": [
        "a = np.arange(12)**2                       # the first 12 square numbers\n",
        "print(a)"
      ],
      "execution_count": null,
      "outputs": [
        {
          "output_type": "stream",
          "text": [
            "[  0   1   4   9  16  25  36  49  64  81 100 121]\n"
          ],
          "name": "stdout"
        }
      ]
    },
    {
      "cell_type": "code",
      "metadata": {
        "colab": {
          "base_uri": "https://localhost:8080/"
        },
        "id": "eN8YoGfoPe3u",
        "outputId": "c3cfeca8-96f6-45be-8546-b2f84fd18a93"
      },
      "source": [
        "i = np.array([1, 1, 3, 8, 5])              # indices 배열, \n",
        "print(a[i])                                # i 번째에 위치한 a의 원소, [a[1], a[1], a[3], a[8], a[5]]"
      ],
      "execution_count": null,
      "outputs": [
        {
          "output_type": "stream",
          "text": [
            "[ 1  1  9 64 25]\n"
          ],
          "name": "stdout"
        }
      ]
    },
    {
      "cell_type": "code",
      "metadata": {
        "colab": {
          "base_uri": "https://localhost:8080/"
        },
        "id": "KmBOjlEYPe0P",
        "outputId": "64bc5fdf-75aa-42ec-a398-5998ce50509d"
      },
      "source": [
        "j = np.array([[3, 4], [9, 7]])            # bi(2)dimensional array 형태의 indices 배열\n",
        "print(a[j])                             # [[a[3], a[4]],[a[9], a[7]]]"
      ],
      "execution_count": null,
      "outputs": [
        {
          "output_type": "stream",
          "text": [
            "[[ 9 16]\n",
            " [81 49]]\n"
          ],
          "name": "stdout"
        }
      ]
    },
    {
      "cell_type": "code",
      "metadata": {
        "colab": {
          "base_uri": "https://localhost:8080/"
        },
        "id": "x90R2eV3PevI",
        "outputId": "744c00f8-6f55-4db9-a713-f8a1a846fee3"
      },
      "source": [
        "palette = np.array([[0, 0, 0],         # black \n",
        "                    [255, 0, 0],       # red\n",
        "                    [0, 255, 0],       # green\n",
        "                    [0, 0, 255],       # blue\n",
        "                    [255, 255, 255]])  # white\n",
        "print(palette.shape)\n",
        "\n",
        "image = np.array([[0, 1, 2, 0],        # each value corresponds to a color in the palette\n",
        "                   [0, 3, 4, 0]])   # palette[0]\n",
        "print(image.shape)"
      ],
      "execution_count": null,
      "outputs": [
        {
          "output_type": "stream",
          "text": [
            "(5, 3)\n",
            "(2, 4)\n"
          ],
          "name": "stdout"
        }
      ]
    },
    {
      "cell_type": "code",
      "metadata": {
        "colab": {
          "base_uri": "https://localhost:8080/"
        },
        "id": "A34e7R2aYPWm",
        "outputId": "7408631e-232e-4774-fbb5-6788fd07c5c2"
      },
      "source": [
        "palette[0]\n",
        "palette[1]"
      ],
      "execution_count": null,
      "outputs": [
        {
          "output_type": "execute_result",
          "data": {
            "text/plain": [
              "array([255,   0,   0])"
            ]
          },
          "metadata": {
            "tags": []
          },
          "execution_count": 17
        }
      ]
    },
    {
      "cell_type": "code",
      "metadata": {
        "colab": {
          "base_uri": "https://localhost:8080/"
        },
        "id": "cGgeCgPTRZA1",
        "outputId": "ca3d9aa0-7b35-42ee-9c76-d4f848a35ba8"
      },
      "source": [
        "print(palette[image])\n",
        "print(palette[image].shape)"
      ],
      "execution_count": null,
      "outputs": [
        {
          "output_type": "stream",
          "text": [
            "[[[  0   0   0]\n",
            "  [255   0   0]\n",
            "  [  0 255   0]\n",
            "  [  0   0   0]]\n",
            "\n",
            " [[  0   0   0]\n",
            "  [  0   0 255]\n",
            "  [255 255 255]\n",
            "  [  0   0   0]]]\n",
            "(2, 4, 3)\n"
          ],
          "name": "stdout"
        }
      ]
    },
    {
      "cell_type": "markdown",
      "metadata": {
        "id": "kWVh0JHfTlxs"
      },
      "source": [
        "###  다수의 다차원 index "
      ]
    },
    {
      "cell_type": "code",
      "metadata": {
        "colab": {
          "base_uri": "https://localhost:8080/"
        },
        "id": "9fSB_fyLO_Jz",
        "outputId": "a93a82ec-3f91-408e-d912-49fc1a7df3bd"
      },
      "source": [
        "a = np.arange(12).reshape(3,4)\n",
        "print(a)\n",
        "\n",
        "i = np.array([[0, 1],                     # a의 첫번째 차원에 대한 indices  \n",
        "              [1, 2]])\n",
        "j = np.array([[2, 1],                     # a의 두번째 차원에 대한 indices  \n",
        "              [3, 3]])"
      ],
      "execution_count": null,
      "outputs": [
        {
          "output_type": "stream",
          "text": [
            "[[ 0  1  2  3]\n",
            " [ 4  5  6  7]\n",
            " [ 8  9 10 11]]\n"
          ],
          "name": "stdout"
        }
      ]
    },
    {
      "cell_type": "code",
      "metadata": {
        "colab": {
          "base_uri": "https://localhost:8080/"
        },
        "id": "RGQ9t2iWO_EC",
        "outputId": "2a676684-e2d7-4842-cf62-4ff8e35589e1"
      },
      "source": [
        "print(a[i, j])"
      ],
      "execution_count": null,
      "outputs": [
        {
          "output_type": "stream",
          "text": [
            "[[ 2  5]\n",
            " [ 7 11]]\n"
          ],
          "name": "stdout"
        }
      ]
    },
    {
      "cell_type": "code",
      "metadata": {
        "colab": {
          "base_uri": "https://localhost:8080/"
        },
        "id": "TMO_PD1rT0n6",
        "outputId": "76b64c33-1b49-40ed-bff6-c65c81d431cc"
      },
      "source": [
        "print(a[i, 2])"
      ],
      "execution_count": null,
      "outputs": [
        {
          "output_type": "stream",
          "text": [
            "[[ 2  6]\n",
            " [ 6 10]]\n"
          ],
          "name": "stdout"
        }
      ]
    },
    {
      "cell_type": "code",
      "metadata": {
        "colab": {
          "base_uri": "https://localhost:8080/"
        },
        "id": "yNCeMwdLT5ie",
        "outputId": "b45b6663-a015-403d-cfec-a6f730bb261c"
      },
      "source": [
        "I = (i, j)  # tuple로 묶으면 하나로 사용 가능 (list 는 deprecated)\n",
        "print(a[I])"
      ],
      "execution_count": null,
      "outputs": [
        {
          "output_type": "stream",
          "text": [
            "[[ 2  5]\n",
            " [ 7 11]]\n"
          ],
          "name": "stdout"
        }
      ]
    },
    {
      "cell_type": "markdown",
      "metadata": {
        "id": "LGEo48TDZ11b"
      },
      "source": [
        "## `argmax`, `argmin`, `all`, `any`\n"
      ]
    },
    {
      "cell_type": "markdown",
      "metadata": {
        "id": "tVVMXYPkZ970"
      },
      "source": [
        "`argmax`와 `argmin`: 최대값 그리고 최소값의 인덱스"
      ]
    },
    {
      "cell_type": "code",
      "metadata": {
        "colab": {
          "base_uri": "https://localhost:8080/"
        },
        "id": "AAU0-1txaN1s",
        "outputId": "42a973f0-ae64-40a7-edc8-f1e1c7d6af0a"
      },
      "source": [
        "arg_sample = np.random.randint(50, size=10,)\n",
        "print(arg_sample)"
      ],
      "execution_count": null,
      "outputs": [
        {
          "output_type": "stream",
          "text": [
            "[14 48  6 15  0 45  0 31  7  1]\n"
          ],
          "name": "stdout"
        }
      ]
    },
    {
      "cell_type": "code",
      "metadata": {
        "colab": {
          "base_uri": "https://localhost:8080/"
        },
        "id": "jWecGud-a2h7",
        "outputId": "e625c1e6-b46a-4fb0-ac18-076e68959d07"
      },
      "source": [
        "max_idx = np.argmax(arg_sample)\n",
        "print(max_idx, arg_sample[max_idx])\n",
        "\n",
        "min_idx = np.argmin(arg_sample)\n",
        "print(min_idx, arg_sample[min_idx])"
      ],
      "execution_count": null,
      "outputs": [
        {
          "output_type": "stream",
          "text": [
            "1 48\n",
            "4 0\n"
          ],
          "name": "stdout"
        }
      ]
    },
    {
      "cell_type": "markdown",
      "metadata": {
        "id": "53nlVV4da5-_"
      },
      "source": [
        "`all`: 배열 전체 또는 특정 축(axis)에 대한 원소들이 모두 True 면 True 반환\n",
        "\n",
        "`any`: 열 전체 또는 특정 축(axis)에 대한 원소들이 하나라도 True 면 True 반환"
      ]
    },
    {
      "cell_type": "code",
      "metadata": {
        "colab": {
          "base_uri": "https://localhost:8080/"
        },
        "id": "5_NkTf16bCfE",
        "outputId": "88411418-006f-4bf4-ad27-5f4744e6416f"
      },
      "source": [
        "arr_sample_2 = (10 + 5 * np.random.randn(12)).reshape(4, 3)  # randn range check\n",
        "print(arr_sample_2)"
      ],
      "execution_count": null,
      "outputs": [
        {
          "output_type": "stream",
          "text": [
            "[[ 7.25241006  9.07140032 17.28039003]\n",
            " [13.89491    11.25405588  3.51071663]\n",
            " [11.94737509 10.0727679   6.41245128]\n",
            " [ 4.67462314 11.97059431  7.43321773]]\n"
          ],
          "name": "stdout"
        }
      ]
    },
    {
      "cell_type": "code",
      "metadata": {
        "id": "3XOi83Gieu00",
        "colab": {
          "base_uri": "https://localhost:8080/"
        },
        "outputId": "61242951-1186-4781-ba39-d4c830655592"
      },
      "source": [
        "over_ten = arr_sample_2 >= 10\n",
        "print(over_ten)"
      ],
      "execution_count": null,
      "outputs": [
        {
          "output_type": "stream",
          "text": [
            "[[False False  True]\n",
            " [ True  True False]\n",
            " [ True  True False]\n",
            " [False  True False]]\n"
          ],
          "name": "stdout"
        }
      ]
    },
    {
      "cell_type": "code",
      "metadata": {
        "id": "HIFukJ8PbTSU",
        "colab": {
          "base_uri": "https://localhost:8080/"
        },
        "outputId": "823a3002-691c-4272-b8f8-928b06ba19ce"
      },
      "source": [
        "np.all(over_ten, axis=0)"
      ],
      "execution_count": null,
      "outputs": [
        {
          "output_type": "execute_result",
          "data": {
            "text/plain": [
              "array([False, False, False])"
            ]
          },
          "metadata": {
            "tags": []
          },
          "execution_count": 27
        }
      ]
    },
    {
      "cell_type": "code",
      "metadata": {
        "id": "jqILF_KabJ7O",
        "colab": {
          "base_uri": "https://localhost:8080/"
        },
        "outputId": "6df33b63-7e39-4753-e56b-98cef2418588"
      },
      "source": [
        "np.any(over_ten, axis=0)"
      ],
      "execution_count": null,
      "outputs": [
        {
          "output_type": "execute_result",
          "data": {
            "text/plain": [
              "array([ True,  True,  True])"
            ]
          },
          "metadata": {
            "tags": []
          },
          "execution_count": 28
        }
      ]
    },
    {
      "cell_type": "markdown",
      "metadata": {
        "id": "JQPQNcf-ekeK"
      },
      "source": [
        "#### 다차원 array에 대한 `argmax`"
      ]
    },
    {
      "cell_type": "code",
      "metadata": {
        "colab": {
          "base_uri": "https://localhost:8080/"
        },
        "id": "YwUXRM-eZsH7",
        "outputId": "5add2905-1672-4d3b-fe52-d47c056df1c4"
      },
      "source": [
        "data = np.sin(np.arange(20)).reshape(5,4) \n",
        "print(data)\n",
        "print(data.shape)"
      ],
      "execution_count": null,
      "outputs": [
        {
          "output_type": "stream",
          "text": [
            "[[ 0.          0.84147098  0.90929743  0.14112001]\n",
            " [-0.7568025  -0.95892427 -0.2794155   0.6569866 ]\n",
            " [ 0.98935825  0.41211849 -0.54402111 -0.99999021]\n",
            " [-0.53657292  0.42016704  0.99060736  0.65028784]\n",
            " [-0.28790332 -0.96139749 -0.75098725  0.14987721]]\n",
            "(5, 4)\n"
          ],
          "name": "stdout"
        }
      ]
    },
    {
      "cell_type": "code",
      "metadata": {
        "colab": {
          "base_uri": "https://localhost:8080/"
        },
        "id": "lBaS_BN0gKT4",
        "outputId": "9e1cd47e-1ee7-4cd9-89ae-23a300521d6e"
      },
      "source": [
        "index = np.argmax(data, axis=0)\n",
        "print(index)"
      ],
      "execution_count": null,
      "outputs": [
        {
          "output_type": "stream",
          "text": [
            "[2 0 3 1]\n"
          ],
          "name": "stdout"
        }
      ]
    },
    {
      "cell_type": "code",
      "metadata": {
        "colab": {
          "base_uri": "https://localhost:8080/"
        },
        "id": "ny0IuitHgg9n",
        "outputId": "21754d5b-984f-4ee6-a527-ac01694aa143"
      },
      "source": [
        "np_argmax_data = data[index, range(data.shape[1])] # => data[index[0],0], data[index[1],1]...\n",
        "print(np_argmax_data)"
      ],
      "execution_count": null,
      "outputs": [
        {
          "output_type": "stream",
          "text": [
            "[0.98935825 0.84147098 0.99060736 0.6569866 ]\n"
          ],
          "name": "stdout"
        }
      ]
    },
    {
      "cell_type": "code",
      "metadata": {
        "colab": {
          "base_uri": "https://localhost:8080/"
        },
        "id": "VmmmG30ygxK5",
        "outputId": "cd082406-d3bc-4aaa-c350-0f5b4c1c88c2"
      },
      "source": [
        "np_max_data = np.max(data, axis=0)\n",
        "print(np_max_data)\n",
        "print(np.all(np_argmax_data == np_max_data))\n",
        "print(np_argmax_data == np_max_data)"
      ],
      "execution_count": null,
      "outputs": [
        {
          "output_type": "stream",
          "text": [
            "[0.98935825 0.84147098 0.99060736 0.6569866 ]\n",
            "True\n",
            "[ True  True  True  True]\n"
          ],
          "name": "stdout"
        }
      ]
    }
  ]
}