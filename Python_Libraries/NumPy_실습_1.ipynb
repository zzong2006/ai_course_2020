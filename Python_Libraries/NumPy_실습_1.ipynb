{
  "nbformat": 4,
  "nbformat_minor": 0,
  "metadata": {
    "colab": {
      "name": "12월 7일_(월)_실습",
      "provenance": [],
      "collapsed_sections": [
        "M1IWeQhFut66",
        "Z09HH4tCPqjs"
      ]
    },
    "kernelspec": {
      "name": "python3",
      "display_name": "Python 3"
    }
  },
  "cells": [
    {
      "cell_type": "markdown",
      "metadata": {
        "id": "GjvI5h3uMFYj"
      },
      "source": [
        "## `Numpy` 패키지"
      ]
    },
    {
      "cell_type": "code",
      "metadata": {
        "id": "HNxsMI7-2LZG",
        "colab": {
          "base_uri": "https://localhost:8080/"
        },
        "outputId": "8e0dfd98-80b4-4bbd-ad19-7aec34697123"
      },
      "source": [
        "import numpy as np\n",
        "\n",
        "a = np.array([1, 2, 3]) # ndarray\n",
        "\n",
        "print(a)                \n",
        "print(type(a))         "
      ],
      "execution_count": null,
      "outputs": [
        {
          "output_type": "stream",
          "text": [
            "[1 2 3]\n",
            "<class 'numpy.ndarray'>\n"
          ],
          "name": "stdout"
        }
      ]
    },
    {
      "cell_type": "code",
      "metadata": {
        "colab": {
          "base_uri": "https://localhost:8080/"
        },
        "id": "7iedkLHXquEK",
        "outputId": "fb0e874e-5bc8-4e5f-ae52-e3e81674ef4f"
      },
      "source": [
        "A = np.array([[1, 2, 3], \n",
        "              [3, 4, 5]])\n",
        "print(A)\n",
        "print(A.dtype) # data type"
      ],
      "execution_count": null,
      "outputs": [
        {
          "output_type": "stream",
          "text": [
            "[[1 2 3]\n",
            " [3 4 5]]\n",
            "int64\n"
          ],
          "name": "stdout"
        }
      ]
    },
    {
      "cell_type": "code",
      "metadata": {
        "colab": {
          "base_uri": "https://localhost:8080/"
        },
        "id": "twXA6dQ-quv6",
        "outputId": "085d65d6-84dd-4ce5-8bc0-7015cca115c3"
      },
      "source": [
        "A = np.array([[1.1, 2., 3], [3, 4, 5]]) # 실수 ndarray\n",
        "print(A)\n",
        "print(A.dtype)"
      ],
      "execution_count": null,
      "outputs": [
        {
          "output_type": "stream",
          "text": [
            "[[1.1 2.  3. ]\n",
            " [3.  4.  5. ]]\n",
            "float64\n"
          ],
          "name": "stdout"
        }
      ]
    },
    {
      "cell_type": "code",
      "metadata": {
        "colab": {
          "base_uri": "https://localhost:8080/"
        },
        "id": "diTa-4D4qw_4",
        "outputId": "9a9b9945-bddb-406b-e18d-12717254e216"
      },
      "source": [
        "A = np.array([[1+0.j, 2, 3], [3, 4, 5]], dtype = complex) # 허수 ndarray\n",
        "print(A)\n",
        "print(A.dtype)"
      ],
      "execution_count": null,
      "outputs": [
        {
          "output_type": "stream",
          "text": [
            "[[1.+0.j 2.+0.j 3.+0.j]\n",
            " [3.+0.j 4.+0.j 5.+0.j]]\n",
            "complex128\n"
          ],
          "name": "stdout"
        }
      ]
    },
    {
      "cell_type": "code",
      "metadata": {
        "colab": {
          "base_uri": "https://localhost:8080/"
        },
        "id": "_J_nl7xorHtx",
        "outputId": "334640a4-ef93-4b09-88b1-d5cfb635fcc9"
      },
      "source": [
        "a = np.arange(15)  \n",
        "b = [x for x in range(15)]\n",
        "print('Numpy) a', a)\n",
        "print('List) b', b)"
      ],
      "execution_count": null,
      "outputs": [
        {
          "output_type": "stream",
          "text": [
            "Numpy) a [ 0  1  2  3  4  5  6  7  8  9 10 11 12 13 14]\n",
            "List) b [0, 1, 2, 3, 4, 5, 6, 7, 8, 9, 10, 11, 12, 13, 14]\n"
          ],
          "name": "stdout"
        }
      ]
    },
    {
      "cell_type": "code",
      "metadata": {
        "id": "YkqmoMXdrIUG",
        "colab": {
          "base_uri": "https://localhost:8080/"
        },
        "outputId": "96c12a89-a939-4251-ff01-c14938b6c745"
      },
      "source": [
        "a = np.arange(15).reshape(3, 5)  # ndarray를 3 by 5 ndarray로 변환\n",
        "print(a)"
      ],
      "execution_count": null,
      "outputs": [
        {
          "output_type": "stream",
          "text": [
            "[[ 0  1  2  3  4]\n",
            " [ 5  6  7  8  9]\n",
            " [10 11 12 13 14]]\n"
          ],
          "name": "stdout"
        }
      ]
    },
    {
      "cell_type": "code",
      "metadata": {
        "colab": {
          "base_uri": "https://localhost:8080/"
        },
        "id": "2gl9LocKsGtE",
        "outputId": "dc0bb23b-171c-4d78-fc5c-d373ecd52661"
      },
      "source": [
        "print(a.shape) # a의 각 차원의 크기: 1차원의 크기는 3, 2차원의 크기는 5"
      ],
      "execution_count": null,
      "outputs": [
        {
          "output_type": "stream",
          "text": [
            "(3, 5)\n"
          ],
          "name": "stdout"
        }
      ]
    },
    {
      "cell_type": "code",
      "metadata": {
        "colab": {
          "base_uri": "https://localhost:8080/"
        },
        "id": "7XOBEtfmsVrJ",
        "outputId": "af918fad-934b-41cb-81b2-e5b90cd21fa2"
      },
      "source": [
        "print(a.ndim)  # 차원의 개수"
      ],
      "execution_count": null,
      "outputs": [
        {
          "output_type": "stream",
          "text": [
            "2\n"
          ],
          "name": "stdout"
        }
      ]
    },
    {
      "cell_type": "code",
      "metadata": {
        "colab": {
          "base_uri": "https://localhost:8080/"
        },
        "id": "a89DoPzOtx1G",
        "outputId": "cb7ce61d-53e0-4f9a-c307-faacaf27a49a"
      },
      "source": [
        "print(a.dtype)"
      ],
      "execution_count": null,
      "outputs": [
        {
          "output_type": "stream",
          "text": [
            "int64\n"
          ],
          "name": "stdout"
        }
      ]
    },
    {
      "cell_type": "markdown",
      "metadata": {
        "id": "xmYUBCmNsrzN"
      },
      "source": [
        "![image](https://t1.daumcdn.net/cfile/tistory/202EA6484F0653932C)\n",
        "\n",
        "![image](https://t1.daumcdn.net/cfile/tistory/122A44484F0653932D)"
      ]
    },
    {
      "cell_type": "code",
      "metadata": {
        "id": "sL4btbTbsgf1"
      },
      "source": [
        "# a = np.array(1,2,3,4) # 잘못됨 (대괄호를 빼먹음)\n",
        "# ValueError: only 2 non-keyword arguments accepted\n",
        "a = np.array([1, 2, 3, 4]) # 올바른 방법\n"
      ],
      "execution_count": null,
      "outputs": []
    },
    {
      "cell_type": "code",
      "metadata": {
        "colab": {
          "base_uri": "https://localhost:8080/"
        },
        "id": "y-yQ0fObs83l",
        "outputId": "953a007e-ecfc-4940-d4dd-1ffcce3091dc"
      },
      "source": [
        "sample_1 = np.zeros( (3, 4) )\n",
        "print(sample_1)\n",
        "\n",
        "sample_2 = np.arange(15).reshape(3, 5)\n",
        "sample_3 = np.zeros_like(sample_2)\n",
        "print(sample_3)"
      ],
      "execution_count": null,
      "outputs": [
        {
          "output_type": "stream",
          "text": [
            "[[0. 0. 0. 0.]\n",
            " [0. 0. 0. 0.]\n",
            " [0. 0. 0. 0.]]\n",
            "[[0 0 0 0 0]\n",
            " [0 0 0 0 0]\n",
            " [0 0 0 0 0]]\n"
          ],
          "name": "stdout"
        }
      ]
    },
    {
      "cell_type": "code",
      "metadata": {
        "colab": {
          "base_uri": "https://localhost:8080/"
        },
        "id": "H_3VBx3WqmP_",
        "outputId": "0a66e59a-f93e-402b-f556-b28ec5253edb"
      },
      "source": [
        "sample_2 = np.ones( (2,3), dtype=np.int)\n",
        "print(sample_2)"
      ],
      "execution_count": null,
      "outputs": [
        {
          "output_type": "stream",
          "text": [
            "[[1 1 1]\n",
            " [1 1 1]]\n"
          ],
          "name": "stdout"
        }
      ]
    },
    {
      "cell_type": "code",
      "metadata": {
        "colab": {
          "base_uri": "https://localhost:8080/"
        },
        "id": "Nm_R_xiZuS-D",
        "outputId": "97451451-7b36-407b-eb54-8239397e577f"
      },
      "source": [
        "sample_3 = np.empty( (2,3) )\n",
        "print(sample_3)"
      ],
      "execution_count": null,
      "outputs": [
        {
          "output_type": "stream",
          "text": [
            "[[1. 2. 3.]\n",
            " [3. 4. 5.]]\n"
          ],
          "name": "stdout"
        }
      ]
    },
    {
      "cell_type": "code",
      "metadata": {
        "colab": {
          "base_uri": "https://localhost:8080/"
        },
        "id": "km4xof_LC2sK",
        "outputId": "b8c9771e-eceb-4c8f-ea00-add94d389b9f"
      },
      "source": [
        "sample_4 = np.eye(3)   # 단위 행렬, 3x3\n",
        "print(sample_4)"
      ],
      "execution_count": null,
      "outputs": [
        {
          "output_type": "stream",
          "text": [
            "[[1. 0. 0.]\n",
            " [0. 1. 0.]\n",
            " [0. 0. 1.]]\n"
          ],
          "name": "stdout"
        }
      ]
    },
    {
      "cell_type": "markdown",
      "metadata": {
        "id": "M1IWeQhFut66"
      },
      "source": [
        "### `np.arange`와 `np.linspace`\n"
      ]
    },
    {
      "cell_type": "code",
      "metadata": {
        "colab": {
          "base_uri": "https://localhost:8080/"
        },
        "id": "kotpTmp6usMz",
        "outputId": "e0bb6d12-c277-4703-b997-1d872d623132"
      },
      "source": [
        "arange_sample_1 = np.arange( 10, 30, 5 )  # (시작, 끝, step)\n",
        "print(arange_sample_1)"
      ],
      "execution_count": null,
      "outputs": [
        {
          "output_type": "stream",
          "text": [
            "[10 15 20 25]\n"
          ],
          "name": "stdout"
        }
      ]
    },
    {
      "cell_type": "code",
      "metadata": {
        "colab": {
          "base_uri": "https://localhost:8080/"
        },
        "id": "oWO8cvzUu4az",
        "outputId": "1a4ac3e2-2d93-437b-b639-c02cf7ee1653"
      },
      "source": [
        "arange_sample_2 = np.arange( 0, 2, 0.3 ) # step 에 실수 인수를 받을 수 있음\n",
        "print(arange_sample_2)"
      ],
      "execution_count": null,
      "outputs": [
        {
          "output_type": "stream",
          "text": [
            "[0.  0.3 0.6 0.9 1.2 1.5 1.8]\n"
          ],
          "name": "stdout"
        }
      ]
    },
    {
      "cell_type": "code",
      "metadata": {
        "colab": {
          "base_uri": "https://localhost:8080/"
        },
        "id": "phqMMB2DvA7S",
        "outputId": "f386ff4c-ae7d-4b2f-c943-abb1641bff44"
      },
      "source": [
        "linsapce_sample_1 = np.linspace( 0, 2, 20 )  # (시작, 끝, 원소 개수)\n",
        "print(linsapce_sample_1)"
      ],
      "execution_count": null,
      "outputs": [
        {
          "output_type": "stream",
          "text": [
            "[0.         0.10526316 0.21052632 0.31578947 0.42105263 0.52631579\n",
            " 0.63157895 0.73684211 0.84210526 0.94736842 1.05263158 1.15789474\n",
            " 1.26315789 1.36842105 1.47368421 1.57894737 1.68421053 1.78947368\n",
            " 1.89473684 2.        ]\n"
          ],
          "name": "stdout"
        }
      ]
    },
    {
      "cell_type": "code",
      "metadata": {
        "colab": {
          "base_uri": "https://localhost:8080/"
        },
        "id": "5uKZfUizvCWL",
        "outputId": "42e02b9f-f2f9-4b9f-c622-42df0c27871d"
      },
      "source": [
        "import math\n",
        "\n",
        "steps = 1000\n",
        "x = np.linspace( 0, 2*math.pi, steps )\n",
        "f = np.sin(x)\n",
        "\n",
        "for a, b in zip(x[0:10], f[0:10]): # zip : 리스트 두개를 묶어서 튜플로 내보낸다.\n",
        "  print('sin({:.3f}) 는 {:.3f}'.format(a, b))"
      ],
      "execution_count": null,
      "outputs": [
        {
          "output_type": "stream",
          "text": [
            "sin(0.000) 는 0.000\n",
            "sin(0.006) 는 0.006\n",
            "sin(0.013) 는 0.013\n",
            "sin(0.019) 는 0.019\n",
            "sin(0.025) 는 0.025\n",
            "sin(0.031) 는 0.031\n",
            "sin(0.038) 는 0.038\n",
            "sin(0.044) 는 0.044\n",
            "sin(0.050) 는 0.050\n",
            "sin(0.057) 는 0.057\n"
          ],
          "name": "stdout"
        }
      ]
    },
    {
      "cell_type": "code",
      "metadata": {
        "colab": {
          "base_uri": "https://localhost:8080/",
          "height": 265
        },
        "id": "L7VD5b5zwDae",
        "outputId": "b6038383-437d-47f3-b624-14f5c1f00369"
      },
      "source": [
        "import matplotlib.pyplot as plt\n",
        "\n",
        "plt.grid(True)\n",
        "plt.plot(x, f, '--r')\n",
        "plt.show()"
      ],
      "execution_count": null,
      "outputs": [
        {
          "output_type": "display_data",
          "data": {
            "image/png": "[encoded data removed]",
            "text/plain": [
              "<Figure size 432x288 with 1 Axes>"
            ]
          },
          "metadata": {
            "tags": [],
            "needs_background": "light"
          }
        }
      ]
    },
    {
      "cell_type": "markdown",
      "metadata": {
        "id": "1g-01YTfVote"
      },
      "source": [
        "### 기본 연산"
      ]
    },
    {
      "cell_type": "code",
      "metadata": {
        "colab": {
          "base_uri": "https://localhost:8080/"
        },
        "id": "jlJv0GItVrJy",
        "outputId": "c115936f-f084-4893-e683-2c13e627c3c0"
      },
      "source": [
        "a = np.array( [20,30,40,50] )\n",
        "b = np.arange( 4 )  # array([0, 1, 2, 3])\n",
        "c = a - b\n",
        "print(c)"
      ],
      "execution_count": null,
      "outputs": [
        {
          "output_type": "stream",
          "text": [
            "[20 29 38 47]\n"
          ],
          "name": "stdout"
        }
      ]
    },
    {
      "cell_type": "code",
      "metadata": {
        "colab": {
          "base_uri": "https://localhost:8080/"
        },
        "id": "6blSmG_qVzII",
        "outputId": "6536f568-585f-4388-8689-8f5161a3d00c"
      },
      "source": [
        "print(b ** 2)"
      ],
      "execution_count": null,
      "outputs": [
        {
          "output_type": "stream",
          "text": [
            "[0 1 4 9]\n"
          ],
          "name": "stdout"
        }
      ]
    },
    {
      "cell_type": "code",
      "metadata": {
        "colab": {
          "base_uri": "https://localhost:8080/"
        },
        "id": "OP_uJYZoV4zb",
        "outputId": "69021ba4-3cea-4fcd-ac77-23f87f02a50a"
      },
      "source": [
        "print(10 * np.sin(a))"
      ],
      "execution_count": null,
      "outputs": [
        {
          "output_type": "stream",
          "text": [
            "[ 9.12945251 -9.88031624  7.4511316  -2.62374854]\n"
          ],
          "name": "stdout"
        }
      ]
    },
    {
      "cell_type": "code",
      "metadata": {
        "colab": {
          "base_uri": "https://localhost:8080/"
        },
        "id": "Op4lUfoCV9Dg",
        "outputId": "1b217787-5dd6-4ef5-85fd-324b33b3b285"
      },
      "source": [
        "list_a = [20, 30, 40, 50]\n",
        "\n",
        "# TypeError: '<' not supported between instances of 'list' and 'int'\n",
        "# print(list_a < 35)  \n",
        "\n",
        "print(a < 35)"
      ],
      "execution_count": null,
      "outputs": [
        {
          "output_type": "stream",
          "text": [
            "[ True  True False False]\n"
          ],
          "name": "stdout"
        }
      ]
    },
    {
      "cell_type": "code",
      "metadata": {
        "colab": {
          "base_uri": "https://localhost:8080/"
        },
        "id": "5Dc63ERsXIOw",
        "outputId": "f9121c14-36bc-459a-b0cf-3aac42032ede"
      },
      "source": [
        "A = np.array( [[1,1],\n",
        "               [0,1]] )\n",
        "B = np.array( [[2,0],\n",
        "               [3,4]] )\n",
        "print(A * B)    # elementwise multiplication\n",
        "print(A @ B)    # 행렬 곱\n",
        "print(A.dot(B)) # 다른 행렬 곱의 형태"
      ],
      "execution_count": null,
      "outputs": [
        {
          "output_type": "stream",
          "text": [
            "[[2 0]\n",
            " [0 4]]\n",
            "[[5 4]\n",
            " [3 4]]\n",
            "[[5 4]\n",
            " [3 4]]\n"
          ],
          "name": "stdout"
        }
      ]
    },
    {
      "cell_type": "code",
      "metadata": {
        "colab": {
          "base_uri": "https://localhost:8080/"
        },
        "id": "UmqyB56JXR5M",
        "outputId": "dd53b4be-007f-425c-a2b7-6d75d98f1aca"
      },
      "source": [
        "# 대입 연산자 사용 가능\n",
        "a = np.ones((2,3), dtype=int)\n",
        "print(a)\n",
        "a *= 3\n",
        "print(a)"
      ],
      "execution_count": null,
      "outputs": [
        {
          "output_type": "stream",
          "text": [
            "[[1 1 1]\n",
            " [1 1 1]]\n",
            "[[3 3 3]\n",
            " [3 3 3]]\n"
          ],
          "name": "stdout"
        }
      ]
    },
    {
      "cell_type": "markdown",
      "metadata": {
        "id": "X8aVTFfqcwZY"
      },
      "source": [
        "### `min`, `sum`, `max`"
      ]
    },
    {
      "cell_type": "code",
      "metadata": {
        "colab": {
          "base_uri": "https://localhost:8080/"
        },
        "id": "ZLkSwrrzcNfE",
        "outputId": "8e6bd3fe-8465-410c-e400-27fbbc928341"
      },
      "source": [
        "rg = np.random.default_rng(1)  # 1은 seed값\n",
        "a = rg.random((2, 3))\n",
        "print(a)\n",
        "\n",
        "# print('sum of a : {}'.format(a.sum()))\n",
        "print('sum of a : {}'.format(np.sum(a)))\n",
        "print('min of a : {}'.format(a.min()))\n",
        "print('max of a : {}'.format(a.max()))\n"
      ],
      "execution_count": null,
      "outputs": [
        {
          "output_type": "stream",
          "text": [
            "[[0.51182162 0.9504637  0.14415961]\n",
            " [0.94864945 0.31183145 0.42332645]]\n",
            "sum of a : 3.290252281866131\n",
            "min of a : 0.14415961271963373\n",
            "max of a : 0.9504636963259353\n"
          ],
          "name": "stdout"
        }
      ]
    },
    {
      "cell_type": "markdown",
      "metadata": {
        "id": "lmyFptPfSWcy"
      },
      "source": [
        "![image](https://i.loli.net/2020/12/07/J4DTCLWtSR1kIPV.png)"
      ]
    },
    {
      "cell_type": "code",
      "metadata": {
        "colab": {
          "base_uri": "https://localhost:8080/"
        },
        "id": "IoYpB9UYcnu3",
        "outputId": "352bb31b-a814-4e9a-d53a-2fbffd94f0a9"
      },
      "source": [
        "b = np.arange(12).reshape(3,4)\n",
        "print(b)"
      ],
      "execution_count": null,
      "outputs": [
        {
          "output_type": "stream",
          "text": [
            "[[ 0  1  2  3]\n",
            " [ 4  5  6  7]\n",
            " [ 8  9 10 11]]\n"
          ],
          "name": "stdout"
        }
      ]
    },
    {
      "cell_type": "code",
      "metadata": {
        "colab": {
          "base_uri": "https://localhost:8080/"
        },
        "id": "EEfDS8jLeL5O",
        "outputId": "0e7c0dd6-6bea-40f3-ae98-08e5dbf6c40a"
      },
      "source": [
        "print('sum(axis=0): \\n', b.sum(axis=0))       # 각 열의 합\n",
        "print('min(axis=0): \\n',b.min(axis=0))        # 각 열의 최소 값\n",
        "print('cumsum(axis=0): \\n',b.cumsum(axis=0))  # 각 열의 누적 합 "
      ],
      "execution_count": null,
      "outputs": [
        {
          "output_type": "stream",
          "text": [
            "sum(axis=0): \n",
            " [12 15 18 21]\n",
            "min(axis=0): \n",
            " [0 1 2 3]\n",
            "cumsum(axis=0): \n",
            " [[ 0  1  2  3]\n",
            " [ 4  6  8 10]\n",
            " [12 15 18 21]]\n"
          ],
          "name": "stdout"
        }
      ]
    },
    {
      "cell_type": "code",
      "metadata": {
        "colab": {
          "base_uri": "https://localhost:8080/"
        },
        "id": "UFYqtOMDDFFT",
        "outputId": "aa4e9dd7-cd90-4072-de17-70280823a80e"
      },
      "source": [
        "# print('sum(axis=1): \\n', b.sum(axis=1))       # 각 행의 합\n",
        "print('sum(axis=1): \\n', np.sum(b, axis=1))\n",
        "print('min(axis=1): \\n',b.min(axis=1))        # 각 행의 최소 값\n",
        "print('cumsum(axis=1): \\n',b.cumsum(axis=1))  # 각 행의 누적 합 "
      ],
      "execution_count": null,
      "outputs": [
        {
          "output_type": "stream",
          "text": [
            "sum(axis=1): \n",
            " [5. 4.]\n",
            "min(axis=1): \n",
            " [1. 2.]\n",
            "cumsum(axis=1): \n",
            " [[1. 5.]\n",
            " [2. 4.]]\n"
          ],
          "name": "stdout"
        }
      ]
    },
    {
      "cell_type": "markdown",
      "metadata": {
        "id": "F6ptqtgOwslc"
      },
      "source": [
        "`exp`, `sqrt`\n",
        "\n",
        "$ e^x, \\sqrt{x} $"
      ]
    },
    {
      "cell_type": "code",
      "metadata": {
        "colab": {
          "base_uri": "https://localhost:8080/"
        },
        "id": "wzJsegvzw3CG",
        "outputId": "4561c857-312c-4c7f-ff91-1d53dfc5d19f"
      },
      "source": [
        "B = np.arange(3)\n",
        "print(B)\n",
        "print('exp: ', np.exp(B))\n",
        "print('sqrt: ', np.sqrt(B))\n",
        "\n",
        "C = np.array([2., -1., 4.])\n",
        "print('B + C', np.add(B, C))"
      ],
      "execution_count": null,
      "outputs": [
        {
          "output_type": "stream",
          "text": [
            "[0 1 2]\n",
            "exp:  [1.         2.71828183 7.3890561 ]\n",
            "sqrt:  [0.         1.         1.41421356]\n",
            "B + C [2. 0. 6.]\n"
          ],
          "name": "stdout"
        }
      ]
    },
    {
      "cell_type": "markdown",
      "metadata": {
        "id": "x_zsFG42yB8Q"
      },
      "source": [
        "## Indexing, Slicing and Iterating"
      ]
    },
    {
      "cell_type": "code",
      "metadata": {
        "colab": {
          "base_uri": "https://localhost:8080/"
        },
        "id": "VpcuFShxxJA3",
        "outputId": "64542ce6-fa8e-410d-b8c4-d7558ed82462"
      },
      "source": [
        "a = np.arange(10) ** 3\n",
        "\n",
        "print(a)\n",
        "print(a[2])\n",
        "print(a[2:5])"
      ],
      "execution_count": null,
      "outputs": [
        {
          "output_type": "stream",
          "text": [
            "[  0   1   8  27  64 125 216 343 512 729]\n",
            "8\n",
            "[ 8 27 64]\n"
          ],
          "name": "stdout"
        }
      ]
    },
    {
      "cell_type": "code",
      "metadata": {
        "colab": {
          "base_uri": "https://localhost:8080/"
        },
        "id": "v4JD5hZ4yU6k",
        "outputId": "13d14155-d28d-4d8d-db2a-f93522903624"
      },
      "source": [
        "a[:6:2] = 1000 # a[0:6:2] = 1000 과 동일함\n",
        "# 0에서부터 5까지 (6 제외), 두번째 원소마다 1000으로 변경\n",
        "\n",
        "print(a)\n",
        "print(a[ : : -1])   # 거꾸로 출력하기"
      ],
      "execution_count": null,
      "outputs": [
        {
          "output_type": "stream",
          "text": [
            "[1000    1 1000   27 1000  125  216  343  512  729]\n",
            "[ 729  512  343  216  125 1000   27 1000    1 1000]\n"
          ],
          "name": "stdout"
        }
      ]
    },
    {
      "cell_type": "markdown",
      "metadata": {
        "id": "XCEHolzyy-ty"
      },
      "source": [
        "`np.ndarray`는 반복문에서도 사용할 수 있음\n",
        "\n",
        "`i ** (1/3.)` 는 $ i ^ {\\frac{1}{3.0}}$\n",
        "* 참고로 $i^{\\frac{1}{2.0}}$ 은 $\\sqrt{i}$"
      ]
    },
    {
      "cell_type": "code",
      "metadata": {
        "colab": {
          "base_uri": "https://localhost:8080/"
        },
        "id": "1lZZXWHYy7X9",
        "outputId": "563a06c7-da90-4f0d-f777-8e090acc9a8c"
      },
      "source": [
        "for i in a:\n",
        "  print(i ** (1/3.))"
      ],
      "execution_count": null,
      "outputs": [
        {
          "output_type": "stream",
          "text": [
            "9.999999999999998\n",
            "1.0\n",
            "9.999999999999998\n",
            "3.0\n",
            "9.999999999999998\n",
            "4.999999999999999\n",
            "5.999999999999999\n",
            "6.999999999999999\n",
            "7.999999999999999\n",
            "8.999999999999998\n"
          ],
          "name": "stdout"
        }
      ]
    },
    {
      "cell_type": "markdown",
      "metadata": {
        "id": "Ump-FgkECT1O"
      },
      "source": [
        "#### `np.fromfunction`"
      ]
    },
    {
      "cell_type": "code",
      "metadata": {
        "colab": {
          "base_uri": "https://localhost:8080/"
        },
        "id": "-L_pU8HCCHBh",
        "outputId": "e7d6bc3c-e56f-491b-d0dc-f8b3a0a7dc14"
      },
      "source": [
        "def f(i, j):\n",
        "  return 10 * i + j\n",
        "\n",
        "b = np.fromfunction(f, (5, 4), dtype=int)\n",
        "print(b)"
      ],
      "execution_count": null,
      "outputs": [
        {
          "output_type": "stream",
          "text": [
            "[[ 0  1  2  3]\n",
            " [10 11 12 13]\n",
            " [20 21 22 23]\n",
            " [30 31 32 33]\n",
            " [40 41 42 43]]\n"
          ],
          "name": "stdout"
        }
      ]
    },
    {
      "cell_type": "markdown",
      "metadata": {
        "id": "TPAXlMfpMSf5"
      },
      "source": [
        "### 2차원 배열 slicing"
      ]
    },
    {
      "cell_type": "code",
      "metadata": {
        "colab": {
          "base_uri": "https://localhost:8080/"
        },
        "id": "zPfbfccWCTlt",
        "outputId": "9e2b0a0c-ebe0-4c9e-83b0-35c06609eab5"
      },
      "source": [
        "b[2, 3]"
      ],
      "execution_count": null,
      "outputs": [
        {
          "output_type": "execute_result",
          "data": {
            "text/plain": [
              "23"
            ]
          },
          "metadata": {
            "tags": []
          },
          "execution_count": 35
        }
      ]
    },
    {
      "cell_type": "code",
      "metadata": {
        "colab": {
          "base_uri": "https://localhost:8080/"
        },
        "id": "vc7w6oZxCZtm",
        "outputId": "d472d206-4ba8-4982-9044-b1ebe5210f48"
      },
      "source": [
        "b[0:5, 1]"
      ],
      "execution_count": null,
      "outputs": [
        {
          "output_type": "execute_result",
          "data": {
            "text/plain": [
              "array([ 1, 11, 21, 31, 41])"
            ]
          },
          "metadata": {
            "tags": []
          },
          "execution_count": 36
        }
      ]
    },
    {
      "cell_type": "code",
      "metadata": {
        "colab": {
          "base_uri": "https://localhost:8080/"
        },
        "id": "n7Msb7OPCaDj",
        "outputId": "1bf8d2e4-0ee3-41c9-c7b8-d884aaa004e7"
      },
      "source": [
        "b[:, 1]"
      ],
      "execution_count": null,
      "outputs": [
        {
          "output_type": "execute_result",
          "data": {
            "text/plain": [
              "array([ 1, 11, 21, 31, 41])"
            ]
          },
          "metadata": {
            "tags": []
          },
          "execution_count": 37
        }
      ]
    },
    {
      "cell_type": "code",
      "metadata": {
        "colab": {
          "base_uri": "https://localhost:8080/"
        },
        "id": "qrcADkFgCZka",
        "outputId": "e182c2e3-b145-411e-b663-82c275bb571f"
      },
      "source": [
        "b[1:3, :]"
      ],
      "execution_count": null,
      "outputs": [
        {
          "output_type": "execute_result",
          "data": {
            "text/plain": [
              "array([[10, 11, 12, 13],\n",
              "       [20, 21, 22, 23]])"
            ]
          },
          "metadata": {
            "tags": []
          },
          "execution_count": 38
        }
      ]
    },
    {
      "cell_type": "code",
      "metadata": {
        "colab": {
          "base_uri": "https://localhost:8080/"
        },
        "id": "kfa4GR7hCZgn",
        "outputId": "f41598c4-72b3-44a0-90ca-3b1d6b688186"
      },
      "source": [
        "b[-1] # b[-1:, :] 또는 b[-1, :] 와 동일"
      ],
      "execution_count": null,
      "outputs": [
        {
          "output_type": "execute_result",
          "data": {
            "text/plain": [
              "array([40, 41, 42, 43])"
            ]
          },
          "metadata": {
            "tags": []
          },
          "execution_count": 39
        }
      ]
    },
    {
      "cell_type": "code",
      "metadata": {
        "colab": {
          "base_uri": "https://localhost:8080/"
        },
        "id": "cXztKdbnEgBZ",
        "outputId": "b09244fc-f87d-4290-f602-2bc07551937e"
      },
      "source": [
        "for row in b:\n",
        "  print(row)"
      ],
      "execution_count": null,
      "outputs": [
        {
          "output_type": "stream",
          "text": [
            "[0 1 2 3]\n",
            "[10 11 12 13]\n",
            "[20 21 22 23]\n",
            "[30 31 32 33]\n",
            "[40 41 42 43]\n"
          ],
          "name": "stdout"
        }
      ]
    },
    {
      "cell_type": "code",
      "metadata": {
        "colab": {
          "base_uri": "https://localhost:8080/"
        },
        "id": "Gf9F5I3dElTZ",
        "outputId": "c23edb6d-60bb-4583-a97c-11a8503387f8"
      },
      "source": [
        "for element in b.flat:     # ndarray의 모든 array 원소를 살펴볼 수 있는 iterator\n",
        "  print(element, end= \" \")"
      ],
      "execution_count": null,
      "outputs": [
        {
          "output_type": "stream",
          "text": [
            "0 1 2 3 10 11 12 13 20 21 22 23 30 31 32 33 40 41 42 43 "
          ],
          "name": "stdout"
        }
      ]
    },
    {
      "cell_type": "code",
      "metadata": {
        "colab": {
          "base_uri": "https://localhost:8080/"
        },
        "id": "jeabuXenNTPN",
        "outputId": "0d9003eb-e533-4bb5-9448-3b575e514bc7"
      },
      "source": [
        "print(b.flat)\n",
        "print(b.ravel())"
      ],
      "execution_count": null,
      "outputs": [
        {
          "output_type": "stream",
          "text": [
            "<numpy.flatiter object at 0x3fd0100>\n",
            "[ 0  1  2  3 10 11 12 13 20 21 22 23 30 31 32 33 40 41 42 43]\n"
          ],
          "name": "stdout"
        }
      ]
    },
    {
      "cell_type": "code",
      "metadata": {
        "colab": {
          "base_uri": "https://localhost:8080/"
        },
        "id": "kM5Ns6MyFFdD",
        "outputId": "04f2fb89-5a18-415b-b4f7-ecb0fa1e74f6"
      },
      "source": [
        "for element in b.ravel():   # flattened array를 반환\n",
        "  print(element, end=\" \")"
      ],
      "execution_count": null,
      "outputs": [
        {
          "output_type": "stream",
          "text": [
            "0 1 2 3 10 11 12 13 20 21 22 23 30 31 32 33 40 41 42 43 "
          ],
          "name": "stdout"
        }
      ]
    },
    {
      "cell_type": "markdown",
      "metadata": {
        "id": "C0__PGvJMVaY"
      },
      "source": [
        "### 3차원 배열 slicing"
      ]
    },
    {
      "cell_type": "code",
      "metadata": {
        "colab": {
          "base_uri": "https://localhost:8080/"
        },
        "id": "Ts4EgSCLMegH",
        "outputId": "046a4345-d592-4e81-a9c5-42a37bb186d6"
      },
      "source": [
        "arr3d = np.arange(30)\n",
        "arr3d = arr3d.reshape(2, 3, 5)\n",
        "\n",
        "print(arr3d)\n",
        "print(arr3d.shape)"
      ],
      "execution_count": null,
      "outputs": [
        {
          "output_type": "stream",
          "text": [
            "[[[ 0  1  2  3  4]\n",
            "  [ 5  6  7  8  9]\n",
            "  [10 11 12 13 14]]\n",
            "\n",
            " [[15 16 17 18 19]\n",
            "  [20 21 22 23 24]\n",
            "  [25 26 27 28 29]]]\n",
            "(2, 3, 5)\n"
          ],
          "name": "stdout"
        }
      ]
    },
    {
      "cell_type": "code",
      "metadata": {
        "colab": {
          "base_uri": "https://localhost:8080/"
        },
        "id": "pyco0E77Meb5",
        "outputId": "4f103583-ce4a-4cb0-934e-3063039cbba5"
      },
      "source": [
        "print(arr3d[0])"
      ],
      "execution_count": null,
      "outputs": [
        {
          "output_type": "stream",
          "text": [
            "[[ 0  1  2  3  4]\n",
            " [ 5  6  7  8  9]\n",
            " [10 11 12 13 14]]\n"
          ],
          "name": "stdout"
        }
      ]
    },
    {
      "cell_type": "code",
      "metadata": {
        "colab": {
          "base_uri": "https://localhost:8080/"
        },
        "id": "mDvQBomqM49R",
        "outputId": "5c82eb82-2dd1-4425-98af-fc77a51759a5"
      },
      "source": [
        "print(arr3d[0, 1, 2])"
      ],
      "execution_count": null,
      "outputs": [
        {
          "output_type": "stream",
          "text": [
            "7\n"
          ],
          "name": "stdout"
        }
      ]
    },
    {
      "cell_type": "code",
      "metadata": {
        "colab": {
          "base_uri": "https://localhost:8080/"
        },
        "id": "OEXUKoAHNSz4",
        "outputId": "4e25a119-384c-4294-fea3-f842862a009f"
      },
      "source": [
        "print(arr3d[0, 1])"
      ],
      "execution_count": null,
      "outputs": [
        {
          "output_type": "stream",
          "text": [
            "[5 6 7 8 9]\n"
          ],
          "name": "stdout"
        }
      ]
    },
    {
      "cell_type": "code",
      "metadata": {
        "colab": {
          "base_uri": "https://localhost:8080/"
        },
        "id": "P86o0fyRNYnP",
        "outputId": "6aecf736-eba0-4e82-e900-3691045f8551"
      },
      "source": [
        "print(arr3d[0:2, 1])"
      ],
      "execution_count": null,
      "outputs": [
        {
          "output_type": "stream",
          "text": [
            "[[ 5  6  7  8  9]\n",
            " [20 21 22 23 24]]\n"
          ],
          "name": "stdout"
        }
      ]
    },
    {
      "cell_type": "code",
      "metadata": {
        "colab": {
          "base_uri": "https://localhost:8080/"
        },
        "id": "SLkfvrzvNeXI",
        "outputId": "eadf225f-c4ce-4945-c889-b4070c415014"
      },
      "source": [
        "print(arr3d[0:2, 1, :2])"
      ],
      "execution_count": null,
      "outputs": [
        {
          "output_type": "stream",
          "text": [
            "[[ 5  6]\n",
            " [20 21]]\n"
          ],
          "name": "stdout"
        }
      ]
    },
    {
      "cell_type": "markdown",
      "metadata": {
        "id": "G7QtPs8vDdaZ"
      },
      "source": [
        "dots `...` 는 여러개의 `:` 를 대신함 "
      ]
    },
    {
      "cell_type": "code",
      "metadata": {
        "colab": {
          "base_uri": "https://localhost:8080/"
        },
        "id": "-cM3qlIdDEaX",
        "outputId": "74f3f27e-78b7-4382-bd3b-9c3dd0a3730d"
      },
      "source": [
        "c = np.array( [[[  0,  1,  2],               # a 3D array (two stacked 2D arrays)\n",
        "                [ 10, 12, 13],\n",
        "                [ 14, 15, 16],\n",
        "                [17, 18, 19]],\n",
        "               \n",
        "              [[100,101,102],\n",
        "               [103, 104, 105],\n",
        "               [106, 107, 108],\n",
        "               [109, 110, 111]]])\n",
        "print(c)\n",
        "print(c.shape)"
      ],
      "execution_count": null,
      "outputs": [
        {
          "output_type": "stream",
          "text": [
            "[[[  0   1   2]\n",
            "  [ 10  12  13]\n",
            "  [ 14  15  16]\n",
            "  [ 17  18  19]]\n",
            "\n",
            " [[100 101 102]\n",
            "  [103 104 105]\n",
            "  [106 107 108]\n",
            "  [109 110 111]]]\n",
            "(2, 4, 3)\n"
          ],
          "name": "stdout"
        }
      ]
    },
    {
      "cell_type": "code",
      "metadata": {
        "colab": {
          "base_uri": "https://localhost:8080/"
        },
        "id": "mU-3nnydDEtL",
        "outputId": "1ced1d56-d710-4f50-b7a8-4ba377e85f05"
      },
      "source": [
        "print(c[1, ... ])  # c[1, :, :] 또는 c[1] 와 같음"
      ],
      "execution_count": null,
      "outputs": [
        {
          "output_type": "stream",
          "text": [
            "[[100 101 102]\n",
            " [103 104 105]\n",
            " [106 107 108]\n",
            " [109 110 111]]\n"
          ],
          "name": "stdout"
        }
      ]
    },
    {
      "cell_type": "code",
      "metadata": {
        "colab": {
          "base_uri": "https://localhost:8080/"
        },
        "id": "GaFjIbu1EGBx",
        "outputId": "118e5a0a-9180-4e7a-e887-e50b370a9bfc"
      },
      "source": [
        "print(c[..., 2]) # c[:,:,2] 와 같음 \n",
        "print(c[..., 2].shape)"
      ],
      "execution_count": null,
      "outputs": [
        {
          "output_type": "stream",
          "text": [
            "[[  2  13  16  19]\n",
            " [102 105 108 111]]\n",
            "(2, 4)\n"
          ],
          "name": "stdout"
        }
      ]
    },
    {
      "cell_type": "code",
      "metadata": {
        "colab": {
          "base_uri": "https://localhost:8080/"
        },
        "id": "u--5lkcjQeUY",
        "outputId": "a4321a07-8507-4ddb-ab35-a13e6e39aad6"
      },
      "source": [
        "print(c[:, 2, :]) \n",
        "print(c[:, 2, :].shape)"
      ],
      "execution_count": null,
      "outputs": [
        {
          "output_type": "stream",
          "text": [
            "[[ 14  15  16]\n",
            " [106 107 108]]\n",
            "(2, 3)\n"
          ],
          "name": "stdout"
        }
      ]
    },
    {
      "cell_type": "markdown",
      "metadata": {
        "id": "xl8kv-GhFYsC"
      },
      "source": [
        "## Shape 다루기\n",
        "### array의 모양을 바꿔보기 "
      ]
    },
    {
      "cell_type": "code",
      "metadata": {
        "colab": {
          "base_uri": "https://localhost:8080/"
        },
        "id": "25xpwlNPEYfR",
        "outputId": "8f108e55-7990-4792-997b-f9d17c18cd6c"
      },
      "source": [
        "rg = np.random.default_rng(1)\n",
        "a = np.floor(10 * rg.random((3,4)))  # 원소가 0부터 9 사이의 정수값을 가짐\n",
        "print(a)\n",
        "print(a.shape)"
      ],
      "execution_count": null,
      "outputs": [
        {
          "output_type": "stream",
          "text": [
            "[[5. 9. 1. 9.]\n",
            " [3. 4. 8. 4.]\n",
            " [5. 0. 7. 5.]]\n",
            "(3, 4)\n"
          ],
          "name": "stdout"
        }
      ]
    },
    {
      "cell_type": "code",
      "metadata": {
        "colab": {
          "base_uri": "https://localhost:8080/"
        },
        "id": "Aw_IvX8mE4VF",
        "outputId": "8ab9ad90-0f88-4acc-d799-088b2176cfa5"
      },
      "source": [
        "print(a.ravel()) # np.array(a.flat)"
      ],
      "execution_count": null,
      "outputs": [
        {
          "output_type": "stream",
          "text": [
            "[5. 9. 1. 9. 3. 4. 8. 4. 5. 0. 7. 5.]\n"
          ],
          "name": "stdout"
        }
      ]
    },
    {
      "cell_type": "code",
      "metadata": {
        "colab": {
          "base_uri": "https://localhost:8080/"
        },
        "id": "Mtx_oydnF2uZ",
        "outputId": "6525c984-5c02-4aa9-cb14-7760729c5668"
      },
      "source": [
        "reshaped_a = a.reshape(6, 2)\n",
        "print(reshaped_a)"
      ],
      "execution_count": null,
      "outputs": [
        {
          "output_type": "stream",
          "text": [
            "[[5. 9.]\n",
            " [1. 9.]\n",
            " [3. 4.]\n",
            " [8. 4.]\n",
            " [5. 0.]\n",
            " [7. 5.]]\n"
          ],
          "name": "stdout"
        }
      ]
    },
    {
      "cell_type": "code",
      "metadata": {
        "colab": {
          "base_uri": "https://localhost:8080/"
        },
        "id": "gBlmJqyqF-CI",
        "outputId": "e8bb042c-9cf5-4251-ab40-4e6c79ce44b1"
      },
      "source": [
        "transposed_a = a.T\n",
        "print(transposed_a)\n",
        "print(transposed_a.shape)"
      ],
      "execution_count": null,
      "outputs": [
        {
          "output_type": "stream",
          "text": [
            "[[5. 3. 5.]\n",
            " [9. 4. 0.]\n",
            " [1. 8. 7.]\n",
            " [9. 4. 5.]]\n",
            "(4, 3)\n"
          ],
          "name": "stdout"
        }
      ]
    },
    {
      "cell_type": "markdown",
      "metadata": {
        "id": "Zon0WsyOGPHi"
      },
      "source": [
        "`resize`는 array 자체를 바꿈"
      ]
    },
    {
      "cell_type": "code",
      "metadata": {
        "colab": {
          "base_uri": "https://localhost:8080/"
        },
        "id": "17MbXAXhGUbN",
        "outputId": "37c74f5d-4d30-47ee-a0af-0f7fd6211e07"
      },
      "source": [
        "print(a)"
      ],
      "execution_count": null,
      "outputs": [
        {
          "output_type": "stream",
          "text": [
            "[[5. 9. 1. 9.]\n",
            " [3. 4. 8. 4.]\n",
            " [5. 0. 7. 5.]]\n"
          ],
          "name": "stdout"
        }
      ]
    },
    {
      "cell_type": "code",
      "metadata": {
        "colab": {
          "base_uri": "https://localhost:8080/"
        },
        "id": "dPDZiGUZGWOJ",
        "outputId": "c53f832f-2e5d-4a11-cfc0-c177e0777b99"
      },
      "source": [
        "a.resize((2, 6))\n",
        "print(a)\n",
        "print(a.shape)"
      ],
      "execution_count": null,
      "outputs": [
        {
          "output_type": "stream",
          "text": [
            "[[5. 9. 1. 9. 3. 4.]\n",
            " [8. 4. 5. 0. 7. 5.]]\n",
            "(2, 6)\n"
          ],
          "name": "stdout"
        }
      ]
    },
    {
      "cell_type": "markdown",
      "metadata": {
        "id": "768eAt97JIUa"
      },
      "source": [
        "### “Automatic” Reshaping"
      ]
    },
    {
      "cell_type": "code",
      "metadata": {
        "colab": {
          "base_uri": "https://localhost:8080/"
        },
        "id": "yePt9P6KGe3S",
        "outputId": "ecf9cc6b-ebe2-48ae-ea16-c4af00b2b35a"
      },
      "source": [
        "reshaped_a_with_auto = a.reshape(3, -1)\n",
        "print(reshaped_a_with_auto)"
      ],
      "execution_count": null,
      "outputs": [
        {
          "output_type": "stream",
          "text": [
            "[[5. 9. 1. 9.]\n",
            " [3. 4. 8. 4.]\n",
            " [5. 0. 7. 5.]]\n"
          ],
          "name": "stdout"
        }
      ]
    },
    {
      "cell_type": "code",
      "metadata": {
        "colab": {
          "base_uri": "https://localhost:8080/"
        },
        "id": "6eJ95jBSJLt0",
        "outputId": "82a60235-9c74-45e1-aba4-41493a0ec5e0"
      },
      "source": [
        "a = np.arange(30)\n",
        "print(a.shape)\n",
        "b = a.reshape((2, -1, 3))   # -1 은 필요한 만큼 값을 알아서 계산하라는 뜻\n",
        "print(b.shape)\n"
      ],
      "execution_count": null,
      "outputs": [
        {
          "output_type": "stream",
          "text": [
            "(30,)\n",
            "(2, 5, 3)\n"
          ],
          "name": "stdout"
        }
      ]
    },
    {
      "cell_type": "code",
      "metadata": {
        "colab": {
          "base_uri": "https://localhost:8080/"
        },
        "id": "HpSl22N1JZ5W",
        "outputId": "24c793e0-1c21-4125-80b2-eb3f4025013b"
      },
      "source": [
        "print(b)"
      ],
      "execution_count": null,
      "outputs": [
        {
          "output_type": "stream",
          "text": [
            "[[[ 0  1  2]\n",
            "  [ 3  4  5]\n",
            "  [ 6  7  8]\n",
            "  [ 9 10 11]\n",
            "  [12 13 14]]\n",
            "\n",
            " [[15 16 17]\n",
            "  [18 19 20]\n",
            "  [21 22 23]\n",
            "  [24 25 26]\n",
            "  [27 28 29]]]\n"
          ],
          "name": "stdout"
        }
      ]
    },
    {
      "cell_type": "markdown",
      "metadata": {
        "id": "Z09HH4tCPqjs"
      },
      "source": [
        "### 서로 다른 array들을 붙여보기"
      ]
    },
    {
      "cell_type": "code",
      "metadata": {
        "colab": {
          "base_uri": "https://localhost:8080/"
        },
        "id": "h4pK8KyNPu0W",
        "outputId": "960ea8b0-2ec3-45c9-94d0-78e5eeb731aa"
      },
      "source": [
        "a = np.floor(1 + rg.random((2,2))) # 원소가 0부터 9 사이의 정수값을 가짐\n",
        "print('a: \\n', a)\n",
        "b = np.floor(10*rg.random((2,2)))\n",
        "print('b: \\n', b)"
      ],
      "execution_count": null,
      "outputs": [
        {
          "output_type": "stream",
          "text": [
            "a: \n",
            " [[1. 1.]\n",
            " [1. 1.]]\n",
            "b: \n",
            " [[1. 4.]\n",
            " [2. 2.]]\n"
          ],
          "name": "stdout"
        }
      ]
    },
    {
      "cell_type": "code",
      "metadata": {
        "colab": {
          "base_uri": "https://localhost:8080/"
        },
        "id": "ZcjLiJw0P3b8",
        "outputId": "33f13185-9513-4775-93e0-e896a550ad75"
      },
      "source": [
        "print(np.vstack((a, b)))"
      ],
      "execution_count": null,
      "outputs": [
        {
          "output_type": "stream",
          "text": [
            "[[1. 1.]\n",
            " [1. 1.]\n",
            " [1. 4.]\n",
            " [2. 2.]]\n"
          ],
          "name": "stdout"
        }
      ]
    },
    {
      "cell_type": "code",
      "metadata": {
        "colab": {
          "base_uri": "https://localhost:8080/"
        },
        "id": "YH6eLfLdP5tW",
        "outputId": "72eb3c0f-67b6-49d7-c21f-e160dd945c86"
      },
      "source": [
        "print(np.hstack((a, b)))"
      ],
      "execution_count": null,
      "outputs": [
        {
          "output_type": "stream",
          "text": [
            "[[1. 1. 1. 4.]\n",
            " [1. 1. 2. 2.]]\n"
          ],
          "name": "stdout"
        }
      ]
    },
    {
      "cell_type": "markdown",
      "metadata": {
        "id": "qlWR9sUmJlGj"
      },
      "source": [
        "### Vector Stacking"
      ]
    },
    {
      "cell_type": "code",
      "metadata": {
        "colab": {
          "base_uri": "https://localhost:8080/"
        },
        "id": "0CUQnYR3JjzT",
        "outputId": "2e3fa551-16bb-41df-aa83-464fe3e1d3f8"
      },
      "source": [
        "x = np.arange(0, 10, 2)\n",
        "y = np.arange(5)\n",
        "print('x \\n', x)\n",
        "print('y \\n', y)"
      ],
      "execution_count": null,
      "outputs": [
        {
          "output_type": "stream",
          "text": [
            "x \n",
            " [0 2 4 6 8]\n",
            "y \n",
            " [0 1 2 3 4]\n"
          ],
          "name": "stdout"
        }
      ]
    },
    {
      "cell_type": "code",
      "metadata": {
        "colab": {
          "base_uri": "https://localhost:8080/"
        },
        "id": "U15RXNO1JuVD",
        "outputId": "25b6b886-7f67-455f-ad74-333b6d7d1ec2"
      },
      "source": [
        "m = np.vstack([x, y])\n",
        "print(m)"
      ],
      "execution_count": null,
      "outputs": [
        {
          "output_type": "stream",
          "text": [
            "[[0 2 4 6 8]\n",
            " [0 1 2 3 4]]\n"
          ],
          "name": "stdout"
        }
      ]
    },
    {
      "cell_type": "code",
      "metadata": {
        "colab": {
          "base_uri": "https://localhost:8080/"
        },
        "id": "AH9SNF7iJwhn",
        "outputId": "70fa1fd3-2d7d-4d7a-b973-8b3b68786afd"
      },
      "source": [
        "xy = np.hstack([x, y])\n",
        "print(xy)"
      ],
      "execution_count": null,
      "outputs": [
        {
          "output_type": "stream",
          "text": [
            "[0 2 4 6 8 0 1 2 3 4]\n"
          ],
          "name": "stdout"
        }
      ]
    }
  ]
}