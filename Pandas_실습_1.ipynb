{
  "nbformat": 4,
  "nbformat_minor": 0,
  "metadata": {
    "colab": {
      "name": "12월 09일_(수)_실습",
      "provenance": []
    },
    "kernelspec": {
      "name": "python3",
      "display_name": "Python 3"
    }
  },
  "cells": [
    {
      "cell_type": "code",
      "metadata": {
        "id": "Bv5iHHb5Y9C-"
      },
      "source": [
        "import numpy as np"
      ],
      "execution_count": null,
      "outputs": []
    },
    {
      "cell_type": "markdown",
      "metadata": {
        "id": "BHIvanBaZngJ"
      },
      "source": [
        "## array 값 변경하기\n"
      ]
    },
    {
      "cell_type": "code",
      "metadata": {
        "colab": {
          "base_uri": "https://localhost:8080/"
        },
        "id": "iQKwv5xpv8vK",
        "outputId": "eb792276-763f-4950-f401-78ddb5e8b028"
      },
      "source": [
        "a = np.arange(5)\n",
        "print(a)\n",
        "ls = [1,3,4]\n",
        "a[ls] = 0\n",
        "print(a)"
      ],
      "execution_count": null,
      "outputs": [
        {
          "output_type": "stream",
          "text": [
            "[0 1 2 3 4]\n",
            "[0 0 2 0 0]\n"
          ],
          "name": "stdout"
        }
      ]
    },
    {
      "cell_type": "markdown",
      "metadata": {
        "id": "ihreDb5T8zlf"
      },
      "source": [
        "동일한 Index 가 여러번 사용되면, 가장 나중의 값만 적용 "
      ]
    },
    {
      "cell_type": "code",
      "metadata": {
        "id": "p96R_vjXwCUN",
        "colab": {
          "base_uri": "https://localhost:8080/"
        },
        "outputId": "16fb8fee-9b93-416d-c454-6490ac0a6da0"
      },
      "source": [
        "a = np.arange(5)\n",
        "a[[0,0,2]]=[1,2,3]\n",
        "print(a)"
      ],
      "execution_count": null,
      "outputs": [
        {
          "output_type": "stream",
          "text": [
            "[2 1 3 3 4]\n"
          ],
          "name": "stdout"
        }
      ]
    },
    {
      "cell_type": "code",
      "metadata": {
        "colab": {
          "base_uri": "https://localhost:8080/"
        },
        "id": "67Ymghsa84bw",
        "outputId": "3069687c-05a0-4442-d5da-515b577dedda"
      },
      "source": [
        "a = np.arange(5)\n",
        "a[[0,0,2]] += 1   # a[0] = a[0] + 1 를 동시에 수행 \n",
        "print(a)"
      ],
      "execution_count": null,
      "outputs": [
        {
          "output_type": "stream",
          "text": [
            "[1 1 3 3 4]\n"
          ],
          "name": "stdout"
        }
      ]
    },
    {
      "cell_type": "markdown",
      "metadata": {
        "id": "n2HBtYT99YKt"
      },
      "source": [
        "## 논리형 array를 이용한 indexing"
      ]
    },
    {
      "cell_type": "code",
      "metadata": {
        "colab": {
          "base_uri": "https://localhost:8080/"
        },
        "id": "kDxpTQkC9URX",
        "outputId": "e66b0704-e46d-4c18-aaa0-a2be6c8d6cd5"
      },
      "source": [
        "# Example 1\n",
        "a = np.arange(12).reshape(3,4)\n",
        "print('a : \\n',a)\n",
        "b = a > 4                 # b 는 a와 동일한 shape\n",
        "print('\\n a > 4 :\\n', b) "
      ],
      "execution_count": null,
      "outputs": [
        {
          "output_type": "stream",
          "text": [
            "a : \n",
            " [[ 0  1  2  3]\n",
            " [ 4  5  6  7]\n",
            " [ 8  9 10 11]]\n",
            "\n",
            " a > 4 :\n",
            " [[False False False False]\n",
            " [False  True  True  True]\n",
            " [ True  True  True  True]]\n"
          ],
          "name": "stdout"
        }
      ]
    },
    {
      "cell_type": "code",
      "metadata": {
        "colab": {
          "base_uri": "https://localhost:8080/"
        },
        "id": "psuikFvN9gHY",
        "outputId": "5ce9dbfd-327f-4a45-9c1a-480c48291b42"
      },
      "source": [
        "print(a[b])  # a[a > 4]"
      ],
      "execution_count": null,
      "outputs": [
        {
          "output_type": "stream",
          "text": [
            "[ 5  6  7  8  9 10 11]\n"
          ],
          "name": "stdout"
        }
      ]
    },
    {
      "cell_type": "code",
      "metadata": {
        "colab": {
          "base_uri": "https://localhost:8080/"
        },
        "id": "2nPY3Fhs9UKD",
        "outputId": "6706d4a1-a48d-4e86-acf2-0a00a290a764"
      },
      "source": [
        "a[b] = 0\n",
        "\n",
        "print(a)"
      ],
      "execution_count": null,
      "outputs": [
        {
          "output_type": "stream",
          "text": [
            "[[0 1 2 3]\n",
            " [4 0 0 0]\n",
            " [0 0 0 0]]\n"
          ],
          "name": "stdout"
        }
      ]
    },
    {
      "cell_type": "code",
      "metadata": {
        "colab": {
          "base_uri": "https://localhost:8080/"
        },
        "id": "0C_S7g9AQCGv",
        "outputId": "9100c149-985d-47e8-f870-ef35ed1dbaae"
      },
      "source": [
        "# 12월 6일 일요일 아침 실습 문제\n",
        "none_with_np = np.array([[2, None, 6, None], [None, 3, 9, 1], [None, 3, None, None]])\n",
        "print(none_with_np)"
      ],
      "execution_count": null,
      "outputs": [
        {
          "output_type": "stream",
          "text": [
            "[[2 None 6 None]\n",
            " [None 3 9 1]\n",
            " [None 3 None None]]\n"
          ],
          "name": "stdout"
        }
      ]
    },
    {
      "cell_type": "code",
      "metadata": {
        "colab": {
          "base_uri": "https://localhost:8080/"
        },
        "id": "HlsOcyDiQTwp",
        "outputId": "9cf9b5b4-3c78-419c-d8c3-d68335b9d62f"
      },
      "source": [
        "none_with_np[none_with_np == None] = 0\n",
        "print(none_with_np)"
      ],
      "execution_count": null,
      "outputs": [
        {
          "output_type": "stream",
          "text": [
            "[[2 0 6 0]\n",
            " [0 3 9 1]\n",
            " [0 3 0 0]]\n"
          ],
          "name": "stdout"
        }
      ]
    },
    {
      "cell_type": "code",
      "metadata": {
        "colab": {
          "base_uri": "https://localhost:8080/"
        },
        "id": "zXq6xf56KA6t",
        "outputId": "1ab806e6-c1fe-41b6-eae6-7b349fd3c7b2"
      },
      "source": [
        "# Example 2\n",
        "a = np.arange(12).reshape(3, 4)\n",
        "print(a)\n",
        "b1 = np.array([False, True, True])            # 첫번째 차원 선택\n",
        "b2 = np.array([True, False, True, False])     # 두번째 차원 선택"
      ],
      "execution_count": null,
      "outputs": [
        {
          "output_type": "stream",
          "text": [
            "[[ 0  1  2  3]\n",
            " [ 4  5  6  7]\n",
            " [ 8  9 10 11]]\n"
          ],
          "name": "stdout"
        }
      ]
    },
    {
      "cell_type": "code",
      "metadata": {
        "colab": {
          "base_uri": "https://localhost:8080/"
        },
        "id": "MxeZHcHuKYOf",
        "outputId": "186721c2-b699-4d1f-b959-de1c97f35dd5"
      },
      "source": [
        "print(a[b1, :])                               # selecting rows"
      ],
      "execution_count": null,
      "outputs": [
        {
          "output_type": "stream",
          "text": [
            "[[ 4  5  6  7]\n",
            " [ 8  9 10 11]]\n"
          ],
          "name": "stdout"
        }
      ]
    },
    {
      "cell_type": "code",
      "metadata": {
        "colab": {
          "base_uri": "https://localhost:8080/"
        },
        "id": "VU1FHXt3KYFs",
        "outputId": "33ed0b90-f4fd-4b5f-e35d-32abfc30bff7"
      },
      "source": [
        "print(a[:, b2])                               # selecting columns          "
      ],
      "execution_count": null,
      "outputs": [
        {
          "output_type": "stream",
          "text": [
            "[[ 0  2]\n",
            " [ 4  6]\n",
            " [ 8 10]]\n"
          ],
          "name": "stdout"
        }
      ]
    },
    {
      "cell_type": "code",
      "metadata": {
        "colab": {
          "base_uri": "https://localhost:8080/"
        },
        "id": "9mUi68QQOJm9",
        "outputId": "6326e616-5bde-4fdd-be29-bc1fc12796b7"
      },
      "source": [
        "# Example 3 (각 학생의 (국어, 영어, 수학, 과학) 성적)\n",
        "class_arr = np.array([\"1학년\", \"2학년\", \"3학년\", \"1학년\", \"3학년\", \"2학년\"])\n",
        "score = np.array([[10, 20, 30, 40],\n",
        "                  [8, 15, 24, 31],\n",
        "                  [5, 11, 20, 25],\n",
        "                  [6, 9, 1, 17],\n",
        "                  [10, 17, 21, 27],\n",
        "                  [9, 13, 27, 31]])\n",
        "\n",
        "print(class_arr)\n",
        "print(score)"
      ],
      "execution_count": null,
      "outputs": [
        {
          "output_type": "stream",
          "text": [
            "['1학년' '2학년' '3학년' '1학년' '3학년' '2학년']\n",
            "[[10 20 30 40]\n",
            " [ 8 15 24 31]\n",
            " [ 5 11 20 25]\n",
            " [ 6  9  1 17]\n",
            " [10 17 21 27]\n",
            " [ 9 13 27 31]]\n"
          ],
          "name": "stdout"
        }
      ]
    },
    {
      "cell_type": "code",
      "metadata": {
        "colab": {
          "base_uri": "https://localhost:8080/"
        },
        "id": "UiwlGBn6PrtK",
        "outputId": "5c5fe853-80fc-4ba7-fea0-4623047acd16"
      },
      "source": [
        "print(score >= 30)\n",
        "\n",
        "score[score >= 30] = 100"
      ],
      "execution_count": null,
      "outputs": [
        {
          "output_type": "stream",
          "text": [
            "[[False False  True  True]\n",
            " [False False False  True]\n",
            " [False False False False]\n",
            " [False False False False]\n",
            " [False False False False]\n",
            " [False False False  True]]\n"
          ],
          "name": "stdout"
        }
      ]
    },
    {
      "cell_type": "code",
      "metadata": {
        "colab": {
          "base_uri": "https://localhost:8080/"
        },
        "id": "hG0_uSfMP7f4",
        "outputId": "0a84d8cf-218f-4fc1-96ca-9ac1f492b0ef"
      },
      "source": [
        "print(score)"
      ],
      "execution_count": null,
      "outputs": [
        {
          "output_type": "stream",
          "text": [
            "[[ 10  20 100 100]\n",
            " [  8  15  24 100]\n",
            " [  5  11  20  25]\n",
            " [  6   9   1  17]\n",
            " [ 10  17  21  27]\n",
            " [  9  13  27 100]]\n"
          ],
          "name": "stdout"
        }
      ]
    },
    {
      "cell_type": "code",
      "metadata": {
        "colab": {
          "base_uri": "https://localhost:8080/"
        },
        "id": "KNeaBeBnO1j9",
        "outputId": "fb8af595-2ff8-46a0-eb74-1b80e7026da9"
      },
      "source": [
        "print((class_arr == \"1학년\"))"
      ],
      "execution_count": null,
      "outputs": [
        {
          "output_type": "stream",
          "text": [
            "[ True False False  True False False]\n"
          ],
          "name": "stdout"
        }
      ]
    },
    {
      "cell_type": "code",
      "metadata": {
        "colab": {
          "base_uri": "https://localhost:8080/"
        },
        "id": "m1q_rbVkO4DU",
        "outputId": "6b40cbbb-3a4a-465d-aea5-86bf1211d969"
      },
      "source": [
        "print((class_arr == \"2학년\"))"
      ],
      "execution_count": null,
      "outputs": [
        {
          "output_type": "stream",
          "text": [
            "[False  True False False False  True]\n"
          ],
          "name": "stdout"
        }
      ]
    },
    {
      "cell_type": "markdown",
      "metadata": {
        "id": "3dYlfIxtPPPD"
      },
      "source": [
        "![image](https://i.stack.imgur.com/nl0W8.jpg)"
      ]
    },
    {
      "cell_type": "code",
      "metadata": {
        "colab": {
          "base_uri": "https://localhost:8080/"
        },
        "id": "EZGUxHcwO-Aj",
        "outputId": "c7f142b9-c168-42cd-fad2-daec765f0087"
      },
      "source": [
        "# | -> OR 라는 뜻\n",
        "print( (class_arr == \"1학년\") | (class_arr == \"2학년\") )  \n",
        "# safe rule by operate order"
      ],
      "execution_count": null,
      "outputs": [
        {
          "output_type": "stream",
          "text": [
            "[ True  True False  True False  True]\n"
          ],
          "name": "stdout"
        }
      ]
    },
    {
      "cell_type": "code",
      "metadata": {
        "colab": {
          "base_uri": "https://localhost:8080/"
        },
        "id": "pFaTA9tJOql8",
        "outputId": "6b7708ce-6892-4758-906d-d51a061a8515"
      },
      "source": [
        "# 1학년 또는 2학년을 찾는 indexing\n",
        "print(score[(class_arr == \"1학년\") | (class_arr == \"2학년\")])"
      ],
      "execution_count": null,
      "outputs": [
        {
          "output_type": "stream",
          "text": [
            "[[ 10  20 100 100]\n",
            " [  8  15  24 100]\n",
            " [  6   9   1  17]\n",
            " [  9  13  27 100]]\n"
          ],
          "name": "stdout"
        }
      ]
    },
    {
      "cell_type": "markdown",
      "metadata": {
        "id": "7THRtYgTUc2p"
      },
      "source": [
        "## `np.where`\n",
        "\n",
        "`where(condition, [x, y])`\n",
        "조건 `condition` 이 옳으면, `x` 선택, 그렇지 않으면 `y`를 선택한다."
      ]
    },
    {
      "cell_type": "code",
      "metadata": {
        "colab": {
          "base_uri": "https://localhost:8080/"
        },
        "id": "sIX8RoHrPjUY",
        "outputId": "1f49861f-8ae9-4d42-d491-ee44689b1ab5"
      },
      "source": [
        "xarr = np.array([1,2,3,4,5])\n",
        "yarr = np.array([6,7,8,9,10])\n",
        "zarr = np.array([\"서울\", \"경기\", \"서울\", \"인천\", \"경기\"])\n",
        "result = [ x if z == \"서울\" else y for x, y, z in zip(xarr, yarr, zarr) ]\n",
        "print(result)"
      ],
      "execution_count": null,
      "outputs": [
        {
          "output_type": "stream",
          "text": [
            "[1, 7, 3, 9, 10]\n"
          ],
          "name": "stdout"
        }
      ]
    },
    {
      "cell_type": "code",
      "metadata": {
        "colab": {
          "base_uri": "https://localhost:8080/"
        },
        "id": "XobymGMlVi1Z",
        "outputId": "bec952de-9aee-439e-f3d2-23af954ba266"
      },
      "source": [
        "where_result = np.where(zarr==\"서울\", xarr, yarr)\n",
        "print(where_result)"
      ],
      "execution_count": null,
      "outputs": [
        {
          "output_type": "stream",
          "text": [
            "[ 1  7  3  9 10]\n"
          ],
          "name": "stdout"
        }
      ]
    },
    {
      "cell_type": "code",
      "metadata": {
        "colab": {
          "base_uri": "https://localhost:8080/"
        },
        "id": "9SRq05S9V4dz",
        "outputId": "284fb785-1adb-4ee9-b6b3-a2d6d3fcbb53"
      },
      "source": [
        "rg = np.random.default_rng(1)\n",
        "\n",
        "arr1 = np.floor((70 + 20 * rg.random(12))).reshape(4, 3)\n",
        "arr2 = np.floor((10 + 20 * rg.random(12))).reshape(4, 3)\n",
        "print('arr1 \\n', arr1)\n",
        "print('\\n arr2 \\n', arr2)"
      ],
      "execution_count": null,
      "outputs": [
        {
          "output_type": "stream",
          "text": [
            "arr1 \n",
            " [[80. 89. 72.]\n",
            " [88. 76. 78.]\n",
            " [86. 78. 80.]\n",
            " [70. 85. 80.]]\n",
            "\n",
            " arr2 \n",
            " [[16. 25. 16.]\n",
            " [19. 12. 18.]\n",
            " [14. 15. 25.]\n",
            " [15. 19. 29.]]\n"
          ],
          "name": "stdout"
        }
      ]
    },
    {
      "cell_type": "code",
      "metadata": {
        "colab": {
          "base_uri": "https://localhost:8080/"
        },
        "id": "F3Sx6skeWVd1",
        "outputId": "c186902b-dd19-4948-c76c-871db507c2c4"
      },
      "source": [
        "result = np.where(arr1 >= 80, arr2, 0) \n",
        "print(result)"
      ],
      "execution_count": null,
      "outputs": [
        {
          "output_type": "stream",
          "text": [
            "[[16. 25.  0.]\n",
            " [19.  0.  0.]\n",
            " [14.  0. 25.]\n",
            " [ 0. 19. 29.]]\n"
          ],
          "name": "stdout"
        }
      ]
    },
    {
      "cell_type": "markdown",
      "metadata": {
        "id": "5IV-dVLfay8u"
      },
      "source": [
        "## numpy fancy indexing\n",
        "정수 배열을 indexer로 사용해서 다차원 배열로 부터 Indexing하는 방법"
      ]
    },
    {
      "cell_type": "code",
      "metadata": {
        "colab": {
          "base_uri": "https://localhost:8080/"
        },
        "id": "q64jAMtoaybt",
        "outputId": "cf1ede29-3f5c-4b10-f2a0-498df1b23b88"
      },
      "source": [
        "rg = np.random.default_rng(1)\n",
        "arr1 = np.floor((20 * rg.random(24))).reshape(6, 4)\n",
        "print(arr1)"
      ],
      "execution_count": null,
      "outputs": [
        {
          "output_type": "stream",
          "text": [
            "[[10. 19.  2. 18.]\n",
            " [ 6.  8. 16.  8.]\n",
            " [10.  0. 15. 10.]\n",
            " [ 6. 15.  6.  9.]\n",
            " [ 2.  8.  4.  5.]\n",
            " [15.  5.  9. 19.]]\n"
          ],
          "name": "stdout"
        }
      ]
    },
    {
      "cell_type": "code",
      "metadata": {
        "colab": {
          "base_uri": "https://localhost:8080/"
        },
        "id": "aNy4VTyybRjM",
        "outputId": "c7957282-9476-4471-bb66-4efa509c1191"
      },
      "source": [
        "print(arr1[[2, 3, 5]])          # 3행, 4행, 6행 순서로 선택"
      ],
      "execution_count": null,
      "outputs": [
        {
          "output_type": "stream",
          "text": [
            "[[10.  0. 15. 10.]\n",
            " [ 6. 15.  6.  9.]\n",
            " [15.  5.  9. 19.]]\n"
          ],
          "name": "stdout"
        }
      ]
    },
    {
      "cell_type": "code",
      "metadata": {
        "colab": {
          "base_uri": "https://localhost:8080/"
        },
        "id": "oxBdOLmGbb-F",
        "outputId": "ad081bec-5895-43af-c1a7-940826b0321e"
      },
      "source": [
        "print(arr1[[-1, -4, -2]])        # 음(negative)의 index는 뒤에서 부터 선택"
      ],
      "execution_count": null,
      "outputs": [
        {
          "output_type": "stream",
          "text": [
            "[[15.  5.  9. 19.]\n",
            " [10.  0. 15. 10.]\n",
            " [ 2.  8.  4.  5.]]\n"
          ],
          "name": "stdout"
        }
      ]
    },
    {
      "cell_type": "code",
      "metadata": {
        "colab": {
          "base_uri": "https://localhost:8080/"
        },
        "id": "Cv0aNSn0blDX",
        "outputId": "9bb871b9-7e0d-41ad-a915-ac70c056944c"
      },
      "source": [
        "print(arr1[[2, 3, 5], [1, 0, 2]])   # (2,1), (3,0), (5,2)의 원소 선택"
      ],
      "execution_count": null,
      "outputs": [
        {
          "output_type": "stream",
          "text": [
            "[0. 6. 9.]\n"
          ],
          "name": "stdout"
        }
      ]
    },
    {
      "cell_type": "markdown",
      "metadata": {
        "id": "J3hCLhVadkSy"
      },
      "source": [
        "### np.ix_\n",
        "N 개의 1차원 array에 대한 cross product를 index할 때 사용"
      ]
    },
    {
      "cell_type": "code",
      "metadata": {
        "colab": {
          "base_uri": "https://localhost:8080/"
        },
        "id": "uI6eZ4uldKtb",
        "outputId": "1c4ccc79-f382-4fb9-caf2-a6f4a6883002"
      },
      "source": [
        "arr1[np.ix_([2, 3, 5], [1, 0, 2])]"
      ],
      "execution_count": null,
      "outputs": [
        {
          "output_type": "execute_result",
          "data": {
            "text/plain": [
              "array([[ 0., 10., 15.],\n",
              "       [15.,  6.,  6.],\n",
              "       [ 5., 15.,  9.]])"
            ]
          },
          "metadata": {
            "tags": []
          },
          "execution_count": 175
        }
      ]
    },
    {
      "cell_type": "code",
      "metadata": {
        "colab": {
          "base_uri": "https://localhost:8080/"
        },
        "id": "7mL3yJLjl3bS",
        "outputId": "584e06f4-85d7-4fd7-ef50-66171cb7f6dd"
      },
      "source": [
        "first_ix, second_ix = np.ix_([2, 3, 5], [1, 0, 2])\n",
        "print(first_ix, first_ix.shape)\n",
        "print(second_ix, second_ix.shape)"
      ],
      "execution_count": null,
      "outputs": [
        {
          "output_type": "stream",
          "text": [
            "[[2]\n",
            " [3]\n",
            " [5]] (3, 1)\n",
            "[[1 0 2]] (1, 3)\n"
          ],
          "name": "stdout"
        }
      ]
    },
    {
      "cell_type": "markdown",
      "metadata": {
        "id": "IWx4ivgISpVi"
      },
      "source": [
        "### 1번 문제\n",
        "다음과 같은 2차원 array `arr`가 있습니다.\n",
        "\n",
        "  ```python\n",
        "    arr = np.arange(1, 51).reshape(5, 10)\n",
        "    \"\"\"\n",
        "    [[ 1  2  3  4  5  6  7  8  9 10]\n",
        "      [11 12 13 14 15 16 17 18 19 20]\n",
        "      [21 22 23 24 25 26 27 28 29 30]\n",
        "      [31 32 33 34 35 36 37 38 39 40]\n",
        "      [41 42 43 44 45 46 47 48 49 50]]\n",
        "    \"\"\"\n",
        "  ```\n",
        "\n",
        "\n",
        "  * 아래와 같은 결과가 나오도록 array를 **slicing** 해보세요.\n",
        "  1. \n",
        "  ```\n",
        "[[21 22 23 24 25 26 27 28 29 30]\n",
        "[31 32 33 34 35 36 37 38 39 40]]\n",
        "  ```\n",
        "  2.\n",
        "  ```\n",
        "[[ 5  6]\n",
        "[15 16]\n",
        "[25 26]\n",
        "[35 36]\n",
        "[45 46]]\n",
        "  ```\n",
        "  3.\n",
        "  ```\n",
        "[[13 14 15 16 17]\n",
        "[23 24 25 26 27]]\n",
        "  ```\n",
        "\n",
        "\n",
        "  * 아래와 같은 결과가 나오도록 array를 **indexing** 해보세요.  \n",
        "  1.  `25`보다 큰 값 (힌트. 논리형 index 활용)\n",
        "  ```\n",
        "  [26 27 28 29 30 31 32 33 34 35 36 37 38 39 40 41 42 43 44 45 46 47 48 49 50]\n",
        "  ```\n",
        "  2. fancy indexing 활용\n",
        "  ```\n",
        "  [ 1, 12, 23, 34, 45]\n",
        "  ```\n",
        "  3. `ix_` 활용 (또는 slicing 활용해도 풀 수 있음)\n",
        "  ```\n",
        "  [[41 42 43 44 45]\n",
        "    [31 32 33 34 35]\n",
        "    [21 22 23 24 25]\n",
        "    [11 12 13 14 15]\n",
        "    [ 1  2  3  4  5]]\n",
        "  ```\n",
        "\n",
        "\n",
        "\n",
        "### 2번 문제\n",
        "\n",
        "다음과 같은 3차원 array `arr`가 있습니다.\n",
        "\n",
        "```python\n",
        "arr = np.arange(1, 41).reshape(2, 4, 5)\n",
        "\"\"\"\n",
        "[[[ 1  2  3  4  5]\n",
        "  [ 6  7  8  9 10]\n",
        "  [11 12 13 14 15]\n",
        "  [16 17 18 19 20]]\n",
        "\n",
        " [[21 22 23 24 25]\n",
        "  [26 27 28 29 30]\n",
        "  [31 32 33 34 35]\n",
        "  [36 37 38 39 40]]]\n",
        "\"\"\"\n",
        "```\n",
        "\n",
        "\n",
        "   * 아래와 같은 결과가 나오도록 array를 **slicing** 해보세요.  \n",
        "  \n",
        "  1.    \n",
        "\n",
        "  ```\n",
        "    [[[16 17 18 19 20]]\n",
        "    \n",
        "    [[36 37 38 39 40]]]\n",
        "  ```\n",
        "  2.\n",
        "  ```\n",
        "    [[[ 5]\n",
        "      [10]\n",
        "      [15]\n",
        "      [20]]\n",
        "        \n",
        "    [[25]\n",
        "     [30]\n",
        "     [35]\n",
        "     [40]]]\n",
        "    ```\n",
        "  3.\n",
        "\n",
        "    ```\n",
        "    [[[13 14]\n",
        "      [18 19]]]\n",
        "    ```\n",
        "\n",
        "\n",
        "\n",
        " * 아래와 같은 결과가 나오도록 array의 값을 바꿔보세요.  \n",
        "  1.  20 보다 작은 값을 100으로 수정\n",
        "  ```\n",
        "    [[[100 100 100 100 100]\n",
        "      [100 100 100 100 100]\n",
        "      [100 100 100 100 100]\n",
        "      [100 100 100 100  20]]\n",
        "    \n",
        "    [[ 21  22  23  24  25]\n",
        "      [ 26  27  28  29  30]\n",
        "      [ 31  32  33  34  35]\n",
        "      [ 36  37  38  39  40]]]\n",
        "  ```\n",
        "\n",
        "### 3번 문제\n",
        "\n",
        "다음과 같은 두 개의 1차원 array `arr1`, `arr2`가 있습니다.\n",
        "\n",
        "```python\n",
        "arr1 = np.arange(1, 11)\n",
        "#  [ 1  2  3  4  5  6  7  8  9 10]\n",
        "arr2 = np.arange(11, 21)\n",
        "#  [11 12 13 14 15 16 17 18 19 20]\n",
        "```\n",
        "\n",
        "  * 아래와 같은 결과가 나오도록 두 array의 shape를 바꾸어 합쳐보세요. (`vstack` 또는 `hstack` 활용)\n",
        "  1. \n",
        "  ```\n",
        "    [[ 1  2  3  4  5]\n",
        "    [ 6  7  8  9 10]\n",
        "    [11 12 13 14 15]\n",
        "    [16 17 18 19 20]]\n",
        "  ```\n",
        "  2.\n",
        "\n",
        "  ```\n",
        "  [[ 1  2 11 12]\n",
        "  [ 3  4 13 14]\n",
        "  [ 5  6 15 16]\n",
        "  [ 7  8 17 18]\n",
        "  [ 9 10 19 20]]\n",
        "  ```\n",
        "\n",
        "\n",
        "\n",
        "### 4번 문제\n",
        "\n",
        "임의의 2차원 array `arr`에 대해, 첫번째 axis 에 대한 `numpy.argmin`를 수행하고, 수행된 결과를 이용하여 찾은 최소값과 `numpy.min` 값이 동일함을 `numpy.all`을 통하여 보이세요.\n",
        "\n",
        "  ```python\n",
        "rg = np.random.default_rng(1)\n",
        "arr = 10*rg.random((3,4))\n",
        "print('주어진 arr는 \\n', arr)\n",
        "...\n",
        "print('첫번째 axis에 대한 argmin은 \\n', idx)\n",
        "...\n",
        "print('argmin 결과를 통해 찾은 최소값은 \\n', min_val)\n",
        "...\n",
        "print('numpy.min 과 동일한지 np.all을 통해서 확인 \\n', result)\n",
        "  ```\n",
        "  ```\n",
        "주어진 arr는 \n",
        "[[5.11821625 9.50463696 1.44159613 9.48649447]\n",
        "[3.11831452 4.23326449 8.27702594 4.09199136]\n",
        "[5.49593688 0.27559113 7.53513109 5.38143313]]\n",
        "\n",
        "첫번째 axis에 대한 argmin은\n",
        "[1 2 0 1]\n",
        "\n",
        "argmin 결과를 통해 찾은 최소값은\n",
        "[3.11831452 0.27559113 1.44159613 4.09199136]\n",
        "\n",
        "numpy.min 과 동일한지 np.all을 통해서 확인\n",
        "True\n",
        "  ```\n"
      ]
    },
    {
      "cell_type": "code",
      "metadata": {
        "colab": {
          "base_uri": "https://localhost:8080/"
        },
        "id": "meFIilstXCLE",
        "outputId": "b5aad459-22b4-422f-a40b-d49a8c1920be"
      },
      "source": [
        "# 1번 문제 정답\r\n",
        "\r\n",
        "arr = np.arange(1, 51).reshape(5, 10)\r\n",
        "\r\n",
        "print(arr)"
      ],
      "execution_count": null,
      "outputs": [
        {
          "output_type": "stream",
          "text": [
            "[[ 1  2  3  4  5  6  7  8  9 10]\n",
            " [11 12 13 14 15 16 17 18 19 20]\n",
            " [21 22 23 24 25 26 27 28 29 30]\n",
            " [31 32 33 34 35 36 37 38 39 40]\n",
            " [41 42 43 44 45 46 47 48 49 50]]\n"
          ],
          "name": "stdout"
        }
      ]
    },
    {
      "cell_type": "code",
      "metadata": {
        "colab": {
          "base_uri": "https://localhost:8080/"
        },
        "id": "hBwEiSEmfDc4",
        "outputId": "876d3a42-e924-4da6-9933-f8093abeb5a6"
      },
      "source": [
        "print(arr[2:4, :])"
      ],
      "execution_count": null,
      "outputs": [
        {
          "output_type": "stream",
          "text": [
            "[[21 22 23 24 25 26 27 28 29 30]\n",
            " [31 32 33 34 35 36 37 38 39 40]]\n"
          ],
          "name": "stdout"
        }
      ]
    },
    {
      "cell_type": "code",
      "metadata": {
        "colab": {
          "base_uri": "https://localhost:8080/"
        },
        "id": "LEM485i1fVWu",
        "outputId": "7c32648b-8f39-4493-84a3-6979f5e809f1"
      },
      "source": [
        "print(arr[:, 4:6])"
      ],
      "execution_count": null,
      "outputs": [
        {
          "output_type": "stream",
          "text": [
            "[[ 5  6]\n",
            " [15 16]\n",
            " [25 26]\n",
            " [35 36]\n",
            " [45 46]]\n"
          ],
          "name": "stdout"
        }
      ]
    },
    {
      "cell_type": "code",
      "metadata": {
        "colab": {
          "base_uri": "https://localhost:8080/"
        },
        "id": "cWMueGoXfj7d",
        "outputId": "44853695-2204-4d6e-ae48-e2cadb793e4e"
      },
      "source": [
        "print(arr[1:3, 2:7])"
      ],
      "execution_count": null,
      "outputs": [
        {
          "output_type": "stream",
          "text": [
            "[[13 14 15 16 17]\n",
            " [23 24 25 26 27]]\n"
          ],
          "name": "stdout"
        }
      ]
    },
    {
      "cell_type": "code",
      "metadata": {
        "colab": {
          "base_uri": "https://localhost:8080/"
        },
        "id": "a72gm5dlf5QP",
        "outputId": "2086835b-b2b5-4c8f-a2c0-c824de4eafd7"
      },
      "source": [
        "b = arr > 25\r\n",
        "\r\n",
        "print(arr[b])"
      ],
      "execution_count": null,
      "outputs": [
        {
          "output_type": "stream",
          "text": [
            "[26 27 28 29 30 31 32 33 34 35 36 37 38 39 40 41 42 43 44 45 46 47 48 49\n",
            " 50]\n"
          ],
          "name": "stdout"
        }
      ]
    },
    {
      "cell_type": "code",
      "metadata": {
        "colab": {
          "base_uri": "https://localhost:8080/"
        },
        "id": "RxVdwvcpgD6Y",
        "outputId": "8c83a00c-7960-4a0b-858d-b93505aaf5f9"
      },
      "source": [
        "i = [0,1,2,3,4]\r\n",
        "print(i)\r\n",
        "i = list(range(5))\r\n",
        "print(i)\r\n",
        "j = i\r\n",
        "\r\n",
        "print(arr[(i, j)])"
      ],
      "execution_count": null,
      "outputs": [
        {
          "output_type": "stream",
          "text": [
            "[0, 1, 2, 3, 4]\n",
            "[0, 1, 2, 3, 4]\n",
            "[ 1 12 23 34 45]\n"
          ],
          "name": "stdout"
        }
      ]
    },
    {
      "cell_type": "code",
      "metadata": {
        "colab": {
          "base_uri": "https://localhost:8080/"
        },
        "id": "xD0nk3udg0Wd",
        "outputId": "098d1492-a8b0-4a25-e9bf-9563b1563354"
      },
      "source": [
        "idx = np.ix_(i[::-1], i)\r\n",
        "print(arr[idx])"
      ],
      "execution_count": null,
      "outputs": [
        {
          "output_type": "stream",
          "text": [
            "[[41 42 43 44 45]\n",
            " [31 32 33 34 35]\n",
            " [21 22 23 24 25]\n",
            " [11 12 13 14 15]\n",
            " [ 1  2  3  4  5]]\n"
          ],
          "name": "stdout"
        }
      ]
    },
    {
      "cell_type": "code",
      "metadata": {
        "colab": {
          "base_uri": "https://localhost:8080/"
        },
        "id": "M3YC2CeKiOUn",
        "outputId": "cea6a372-2783-43bf-fe87-5a43659d436f"
      },
      "source": [
        "print(arr[-1:-6:-1, 0:5])"
      ],
      "execution_count": null,
      "outputs": [
        {
          "output_type": "stream",
          "text": [
            "[[41 42 43 44 45]\n",
            " [31 32 33 34 35]\n",
            " [21 22 23 24 25]\n",
            " [11 12 13 14 15]\n",
            " [ 1  2  3  4  5]]\n"
          ],
          "name": "stdout"
        }
      ]
    },
    {
      "cell_type": "code",
      "metadata": {
        "colab": {
          "base_uri": "https://localhost:8080/"
        },
        "id": "F4Y2yJntXCCx",
        "outputId": "b0325cee-2671-44b8-8099-8afdcc415914"
      },
      "source": [
        "# 2번 문제 정답\r\n",
        "arr = np.arange(1, 41).reshape(2, 4, 5)\r\n",
        "\r\n",
        "print(arr)"
      ],
      "execution_count": null,
      "outputs": [
        {
          "output_type": "stream",
          "text": [
            "[[[ 1  2  3  4  5]\n",
            "  [ 6  7  8  9 10]\n",
            "  [11 12 13 14 15]\n",
            "  [16 17 18 19 20]]\n",
            "\n",
            " [[21 22 23 24 25]\n",
            "  [26 27 28 29 30]\n",
            "  [31 32 33 34 35]\n",
            "  [36 37 38 39 40]]]\n"
          ],
          "name": "stdout"
        }
      ]
    },
    {
      "cell_type": "code",
      "metadata": {
        "colab": {
          "base_uri": "https://localhost:8080/"
        },
        "id": "VDp3ggEYjlKV",
        "outputId": "85bb5e83-5180-4fa9-cda7-62581d18c73e"
      },
      "source": [
        "print(arr[0:2, 3:, :])"
      ],
      "execution_count": null,
      "outputs": [
        {
          "output_type": "stream",
          "text": [
            "[[[16 17 18 19 20]]\n",
            "\n",
            " [[36 37 38 39 40]]]\n"
          ],
          "name": "stdout"
        }
      ]
    },
    {
      "cell_type": "code",
      "metadata": {
        "colab": {
          "base_uri": "https://localhost:8080/"
        },
        "id": "-siLcHmljoPy",
        "outputId": "27af4087-60af-47f7-d7c5-66c13daf6fd2"
      },
      "source": [
        "print(arr[0:2, :, 4:])"
      ],
      "execution_count": null,
      "outputs": [
        {
          "output_type": "stream",
          "text": [
            "[[[ 5]\n",
            "  [10]\n",
            "  [15]\n",
            "  [20]]\n",
            "\n",
            " [[25]\n",
            "  [30]\n",
            "  [35]\n",
            "  [40]]]\n"
          ],
          "name": "stdout"
        }
      ]
    },
    {
      "cell_type": "code",
      "metadata": {
        "colab": {
          "base_uri": "https://localhost:8080/"
        },
        "id": "J4n5DfDZj2c_",
        "outputId": "b33f4666-9d90-458f-9cc0-efa0081174dc"
      },
      "source": [
        "print(arr[0:1, 2:4, 2:4])"
      ],
      "execution_count": null,
      "outputs": [
        {
          "output_type": "stream",
          "text": [
            "[[[13 14]\n",
            "  [18 19]]]\n"
          ],
          "name": "stdout"
        }
      ]
    },
    {
      "cell_type": "code",
      "metadata": {
        "colab": {
          "base_uri": "https://localhost:8080/"
        },
        "id": "po0hBnIKkK4T",
        "outputId": "1282b206-913a-4e40-a000-03a0763f7599"
      },
      "source": [
        "it = arr < 20\r\n",
        "\r\n",
        "arr[it] = 100\r\n",
        "\r\n",
        "print(arr)"
      ],
      "execution_count": null,
      "outputs": [
        {
          "output_type": "stream",
          "text": [
            "[[[100 100 100 100 100]\n",
            "  [100 100 100 100 100]\n",
            "  [100 100 100 100 100]\n",
            "  [100 100 100 100  20]]\n",
            "\n",
            " [[ 21  22  23  24  25]\n",
            "  [ 26  27  28  29  30]\n",
            "  [ 31  32  33  34  35]\n",
            "  [ 36  37  38  39  40]]]\n"
          ],
          "name": "stdout"
        }
      ]
    },
    {
      "cell_type": "code",
      "metadata": {
        "id": "h4O4hVTNXB-o"
      },
      "source": [
        "# 3번 문제 정답\r\n",
        "arr1 = np.arange(1, 11)\r\n",
        "# [ 1 2 3 4 5 6 7 8 9 10]\r\n",
        "\r\n",
        "arr2 = np.arange(11, 21)\r\n",
        "# [11 12 13 14 15 16 17 18 19 20]"
      ],
      "execution_count": null,
      "outputs": []
    },
    {
      "cell_type": "code",
      "metadata": {
        "colab": {
          "base_uri": "https://localhost:8080/"
        },
        "id": "WiSC5CzJkdzH",
        "outputId": "4ce913d7-a933-499a-d1eb-192505c7fed6"
      },
      "source": [
        "print(np.vstack( (arr1.reshape(2, 5), arr2.reshape(2, 5)) ))\r\n"
      ],
      "execution_count": null,
      "outputs": [
        {
          "output_type": "stream",
          "text": [
            "[[ 1  2  3  4  5]\n",
            " [ 6  7  8  9 10]\n",
            " [11 12 13 14 15]\n",
            " [16 17 18 19 20]]\n"
          ],
          "name": "stdout"
        }
      ]
    },
    {
      "cell_type": "code",
      "metadata": {
        "colab": {
          "base_uri": "https://localhost:8080/"
        },
        "id": "M402BdCVlQFw",
        "outputId": "66704755-37e3-4792-c5d2-6bb5b25a574b"
      },
      "source": [
        "print(np.hstack( (arr1.reshape(5, 2), arr2.reshape(5, 2))))\r\n"
      ],
      "execution_count": null,
      "outputs": [
        {
          "output_type": "stream",
          "text": [
            "[[ 1  2 11 12]\n",
            " [ 3  4 13 14]\n",
            " [ 5  6 15 16]\n",
            " [ 7  8 17 18]\n",
            " [ 9 10 19 20]]\n"
          ],
          "name": "stdout"
        }
      ]
    },
    {
      "cell_type": "code",
      "metadata": {
        "colab": {
          "base_uri": "https://localhost:8080/"
        },
        "id": "qt99X7bJXB6b",
        "outputId": "0062120b-8851-4b0c-8511-afb3814db1ed"
      },
      "source": [
        "# 4번 문제 정답\r\n",
        "rg = np.random.default_rng(1)\r\n",
        "arr = 10*rg.random((3,4))\r\n",
        "print('주어진 arr는 \\n', arr)\r\n"
      ],
      "execution_count": null,
      "outputs": [
        {
          "output_type": "stream",
          "text": [
            "주어진 arr는 \n",
            " [[5.11821625 9.50463696 1.44159613 9.48649447]\n",
            " [3.11831452 4.23326449 8.27702594 4.09199136]\n",
            " [5.49593688 0.27559113 7.53513109 5.38143313]]\n"
          ],
          "name": "stdout"
        }
      ]
    },
    {
      "cell_type": "code",
      "metadata": {
        "colab": {
          "base_uri": "https://localhost:8080/"
        },
        "id": "GUL70TUGeQBI",
        "outputId": "af73fce8-0a10-4404-e361-73ed833b7ff2"
      },
      "source": [
        "idx = np.argmin(arr, axis=0)\r\n",
        "\r\n",
        "print('첫번째 axis에 대한 argmin은 \\n', idx)"
      ],
      "execution_count": null,
      "outputs": [
        {
          "output_type": "stream",
          "text": [
            "첫번째 axis에 대한 argmin은 \n",
            " [1 2 0 1]\n"
          ],
          "name": "stdout"
        }
      ]
    },
    {
      "cell_type": "code",
      "metadata": {
        "colab": {
          "base_uri": "https://localhost:8080/"
        },
        "id": "8xh55IjLeP6B",
        "outputId": "77e5563d-bcdb-4cf4-9896-bf93f19668f0"
      },
      "source": [
        "min_val = arr[idx, list(range(4))]\r\n",
        "print('argmin 결과를 통해 찾은 최소값은 \\n', min_val)"
      ],
      "execution_count": null,
      "outputs": [
        {
          "output_type": "stream",
          "text": [
            "argmin 결과를 통해 찾은 최소값은 \n",
            " [3.11831452 0.27559113 1.44159613 4.09199136]\n"
          ],
          "name": "stdout"
        }
      ]
    },
    {
      "cell_type": "code",
      "metadata": {
        "colab": {
          "base_uri": "https://localhost:8080/"
        },
        "id": "S_E4ZsdXeP0r",
        "outputId": "a7685d4c-f3c2-474b-fc48-54095ae7997b"
      },
      "source": [
        "npmin = np.min(arr, axis=0)\r\n",
        "result = npmin == min_val\r\n",
        "result = np.all(result)\r\n",
        "print('numpy.min 과 동일한지 np.all을 통해서 확인 \\n', result)"
      ],
      "execution_count": null,
      "outputs": [
        {
          "output_type": "stream",
          "text": [
            "numpy.min 과 동일한지 np.all을 통해서 확인 \n",
            " True\n"
          ],
          "name": "stdout"
        }
      ]
    }
  ]
}