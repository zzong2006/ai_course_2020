{
  "nbformat": 4,
  "nbformat_minor": 0,
  "metadata": {
    "colab": {
      "name": "기계 학습_Classification_실습",
      "provenance": [],
      "collapsed_sections": []
    },
    "kernelspec": {
      "name": "python3",
      "display_name": "Python 3"
    }
  },
  "cells": [
    {
      "cell_type": "markdown",
      "metadata": {
        "id": "gpFize8AjlTw"
      },
      "source": [
        "# classification (logistic regression) 실습"
      ]
    },
    {
      "cell_type": "code",
      "metadata": {
        "id": "bytFO4dDRn_c"
      },
      "source": [
        "import matplotlib.pyplot as plt\r\n",
        "import numpy as np\r\n",
        "import pandas as pd\r\n",
        "import seaborn as sns\r\n",
        "from sklearn import datasets\r\n",
        "import tensorflow as tf\r\n",
        "\r\n",
        "np.random.seed(2)"
      ],
      "execution_count": null,
      "outputs": []
    },
    {
      "cell_type": "markdown",
      "metadata": {
        "id": "wqp9B1Wg-fJu"
      },
      "source": [
        "### Sigmoid 함수"
      ]
    },
    {
      "cell_type": "code",
      "metadata": {
        "id": "ixU6GlNTAtYJ"
      },
      "source": [
        "def sigmoid(x):\r\n",
        "  return 1/(1+np.exp(-x))"
      ],
      "execution_count": null,
      "outputs": []
    },
    {
      "cell_type": "code",
      "metadata": {
        "colab": {
          "base_uri": "https://localhost:8080/",
          "height": 265
        },
        "id": "qFASmc63-gSs",
        "outputId": "4dbd7760-817d-472e-8e7d-233c10904024"
      },
      "source": [
        "x = np.linspace(-10, 10, 1000)\r\n",
        "\r\n",
        "plt.grid(True)\r\n",
        "plt.plot(x, sigmoid(x))\r\n",
        "plt.show()"
      ],
      "execution_count": null,
      "outputs": [
        {
          "output_type": "display_data",
          "data": {
            "image/png": "[encoded data removed]",
            "text/plain": [
              "<Figure size 432x288 with 1 Axes>"
            ]
          },
          "metadata": {
            "tags": [],
            "needs_background": "light"
          }
        }
      ]
    },
    {
      "cell_type": "code",
      "metadata": {
        "id": "O5HzZFaPavwS"
      },
      "source": [
        "def tanh(x):\r\n",
        "  return (np.exp(x)-np.exp(-x))/(np.exp(-x)+np.exp(x))\r\n"
      ],
      "execution_count": null,
      "outputs": []
    },
    {
      "cell_type": "code",
      "metadata": {
        "colab": {
          "base_uri": "https://localhost:8080/",
          "height": 265
        },
        "id": "6UTXvwsza3Vs",
        "outputId": "0aecec59-edf7-449d-cc54-fdd933d68579"
      },
      "source": [
        "x = np.linspace(-10, 10, 1000)\r\n",
        "\r\n",
        "plt.grid(True)\r\n",
        "plt.plot(x, tanh(x))\r\n",
        "plt.show()"
      ],
      "execution_count": null,
      "outputs": [
        {
          "output_type": "display_data",
          "data": {
            "image/png": "[encoded data removed]",
            "text/plain": [
              "<Figure size 432x288 with 1 Axes>"
            ]
          },
          "metadata": {
            "tags": [],
            "needs_background": "light"
          }
        }
      ]
    },
    {
      "cell_type": "markdown",
      "metadata": {
        "id": "qfiF7Ybh-YYl"
      },
      "source": [
        "## 암 여부 분류"
      ]
    },
    {
      "cell_type": "code",
      "metadata": {
        "colab": {
          "base_uri": "https://localhost:8080/"
        },
        "id": "I2tvjmIo-2Tf",
        "outputId": "431bc517-98de-4a3a-a725-17a022cee08f"
      },
      "source": [
        "cancer_data = datasets.load_breast_cancer()\r\n",
        "\r\n",
        "cancer_data.keys()"
      ],
      "execution_count": null,
      "outputs": [
        {
          "output_type": "execute_result",
          "data": {
            "text/plain": [
              "dict_keys(['data', 'target', 'target_names', 'DESCR', 'feature_names', 'filename'])"
            ]
          },
          "metadata": {
            "tags": []
          },
          "execution_count": 66
        }
      ]
    },
    {
      "cell_type": "code",
      "metadata": {
        "colab": {
          "base_uri": "https://localhost:8080/",
          "height": 455
        },
        "id": "7XlEgn8Y_M7Z",
        "outputId": "fb0ba474-b0b1-495b-b829-37759e552273"
      },
      "source": [
        "df = pd.DataFrame(data=cancer_data['data'], columns=cancer_data['feature_names'])\r\n",
        "df"
      ],
      "execution_count": null,
      "outputs": [
        {
          "output_type": "execute_result",
          "data": {
            "text/html": [
              "<div>\n",
              "<style scoped>\n",
              "    .dataframe tbody tr th:only-of-type {\n",
              "        vertical-align: middle;\n",
              "    }\n",
              "\n",
              "    .dataframe tbody tr th {\n",
              "        vertical-align: top;\n",
              "    }\n",
              "\n",
              "    .dataframe thead th {\n",
              "        text-align: right;\n",
              "    }\n",
              "</style>\n",
              "<table border=\"1\" class=\"dataframe\">\n",
              "  <thead>\n",
              "    <tr style=\"text-align: right;\">\n",
              "      <th></th>\n",
              "      <th>mean radius</th>\n",
              "      <th>mean texture</th>\n",
              "      <th>mean perimeter</th>\n",
              "      <th>mean area</th>\n",
              "      <th>mean smoothness</th>\n",
              "      <th>mean compactness</th>\n",
              "      <th>mean concavity</th>\n",
              "      <th>mean concave points</th>\n",
              "      <th>mean symmetry</th>\n",
              "      <th>mean fractal dimension</th>\n",
              "      <th>radius error</th>\n",
              "      <th>texture error</th>\n",
              "      <th>perimeter error</th>\n",
              "      <th>area error</th>\n",
              "      <th>smoothness error</th>\n",
              "      <th>compactness error</th>\n",
              "      <th>concavity error</th>\n",
              "      <th>concave points error</th>\n",
              "      <th>symmetry error</th>\n",
              "      <th>fractal dimension error</th>\n",
              "      <th>worst radius</th>\n",
              "      <th>worst texture</th>\n",
              "      <th>worst perimeter</th>\n",
              "      <th>worst area</th>\n",
              "      <th>worst smoothness</th>\n",
              "      <th>worst compactness</th>\n",
              "      <th>worst concavity</th>\n",
              "      <th>worst concave points</th>\n",
              "      <th>worst symmetry</th>\n",
              "      <th>worst fractal dimension</th>\n",
              "    </tr>\n",
              "  </thead>\n",
              "  <tbody>\n",
              "    <tr>\n",
              "      <th>0</th>\n",
              "      <td>17.99</td>\n",
              "      <td>10.38</td>\n",
              "      <td>122.80</td>\n",
              "      <td>1001.0</td>\n",
              "      <td>0.11840</td>\n",
              "      <td>0.27760</td>\n",
              "      <td>0.30010</td>\n",
              "      <td>0.14710</td>\n",
              "      <td>0.2419</td>\n",
              "      <td>0.07871</td>\n",
              "      <td>1.0950</td>\n",
              "      <td>0.9053</td>\n",
              "      <td>8.589</td>\n",
              "      <td>153.40</td>\n",
              "      <td>0.006399</td>\n",
              "      <td>0.04904</td>\n",
              "      <td>0.05373</td>\n",
              "      <td>0.01587</td>\n",
              "      <td>0.03003</td>\n",
              "      <td>0.006193</td>\n",
              "      <td>25.380</td>\n",
              "      <td>17.33</td>\n",
              "      <td>184.60</td>\n",
              "      <td>2019.0</td>\n",
              "      <td>0.16220</td>\n",
              "      <td>0.66560</td>\n",
              "      <td>0.7119</td>\n",
              "      <td>0.2654</td>\n",
              "      <td>0.4601</td>\n",
              "      <td>0.11890</td>\n",
              "    </tr>\n",
              "    <tr>\n",
              "      <th>1</th>\n",
              "      <td>20.57</td>\n",
              "      <td>17.77</td>\n",
              "      <td>132.90</td>\n",
              "      <td>1326.0</td>\n",
              "      <td>0.08474</td>\n",
              "      <td>0.07864</td>\n",
              "      <td>0.08690</td>\n",
              "      <td>0.07017</td>\n",
              "      <td>0.1812</td>\n",
              "      <td>0.05667</td>\n",
              "      <td>0.5435</td>\n",
              "      <td>0.7339</td>\n",
              "      <td>3.398</td>\n",
              "      <td>74.08</td>\n",
              "      <td>0.005225</td>\n",
              "      <td>0.01308</td>\n",
              "      <td>0.01860</td>\n",
              "      <td>0.01340</td>\n",
              "      <td>0.01389</td>\n",
              "      <td>0.003532</td>\n",
              "      <td>24.990</td>\n",
              "      <td>23.41</td>\n",
              "      <td>158.80</td>\n",
              "      <td>1956.0</td>\n",
              "      <td>0.12380</td>\n",
              "      <td>0.18660</td>\n",
              "      <td>0.2416</td>\n",
              "      <td>0.1860</td>\n",
              "      <td>0.2750</td>\n",
              "      <td>0.08902</td>\n",
              "    </tr>\n",
              "    <tr>\n",
              "      <th>2</th>\n",
              "      <td>19.69</td>\n",
              "      <td>21.25</td>\n",
              "      <td>130.00</td>\n",
              "      <td>1203.0</td>\n",
              "      <td>0.10960</td>\n",
              "      <td>0.15990</td>\n",
              "      <td>0.19740</td>\n",
              "      <td>0.12790</td>\n",
              "      <td>0.2069</td>\n",
              "      <td>0.05999</td>\n",
              "      <td>0.7456</td>\n",
              "      <td>0.7869</td>\n",
              "      <td>4.585</td>\n",
              "      <td>94.03</td>\n",
              "      <td>0.006150</td>\n",
              "      <td>0.04006</td>\n",
              "      <td>0.03832</td>\n",
              "      <td>0.02058</td>\n",
              "      <td>0.02250</td>\n",
              "      <td>0.004571</td>\n",
              "      <td>23.570</td>\n",
              "      <td>25.53</td>\n",
              "      <td>152.50</td>\n",
              "      <td>1709.0</td>\n",
              "      <td>0.14440</td>\n",
              "      <td>0.42450</td>\n",
              "      <td>0.4504</td>\n",
              "      <td>0.2430</td>\n",
              "      <td>0.3613</td>\n",
              "      <td>0.08758</td>\n",
              "    </tr>\n",
              "    <tr>\n",
              "      <th>3</th>\n",
              "      <td>11.42</td>\n",
              "      <td>20.38</td>\n",
              "      <td>77.58</td>\n",
              "      <td>386.1</td>\n",
              "      <td>0.14250</td>\n",
              "      <td>0.28390</td>\n",
              "      <td>0.24140</td>\n",
              "      <td>0.10520</td>\n",
              "      <td>0.2597</td>\n",
              "      <td>0.09744</td>\n",
              "      <td>0.4956</td>\n",
              "      <td>1.1560</td>\n",
              "      <td>3.445</td>\n",
              "      <td>27.23</td>\n",
              "      <td>0.009110</td>\n",
              "      <td>0.07458</td>\n",
              "      <td>0.05661</td>\n",
              "      <td>0.01867</td>\n",
              "      <td>0.05963</td>\n",
              "      <td>0.009208</td>\n",
              "      <td>14.910</td>\n",
              "      <td>26.50</td>\n",
              "      <td>98.87</td>\n",
              "      <td>567.7</td>\n",
              "      <td>0.20980</td>\n",
              "      <td>0.86630</td>\n",
              "      <td>0.6869</td>\n",
              "      <td>0.2575</td>\n",
              "      <td>0.6638</td>\n",
              "      <td>0.17300</td>\n",
              "    </tr>\n",
              "    <tr>\n",
              "      <th>4</th>\n",
              "      <td>20.29</td>\n",
              "      <td>14.34</td>\n",
              "      <td>135.10</td>\n",
              "      <td>1297.0</td>\n",
              "      <td>0.10030</td>\n",
              "      <td>0.13280</td>\n",
              "      <td>0.19800</td>\n",
              "      <td>0.10430</td>\n",
              "      <td>0.1809</td>\n",
              "      <td>0.05883</td>\n",
              "      <td>0.7572</td>\n",
              "      <td>0.7813</td>\n",
              "      <td>5.438</td>\n",
              "      <td>94.44</td>\n",
              "      <td>0.011490</td>\n",
              "      <td>0.02461</td>\n",
              "      <td>0.05688</td>\n",
              "      <td>0.01885</td>\n",
              "      <td>0.01756</td>\n",
              "      <td>0.005115</td>\n",
              "      <td>22.540</td>\n",
              "      <td>16.67</td>\n",
              "      <td>152.20</td>\n",
              "      <td>1575.0</td>\n",
              "      <td>0.13740</td>\n",
              "      <td>0.20500</td>\n",
              "      <td>0.4000</td>\n",
              "      <td>0.1625</td>\n",
              "      <td>0.2364</td>\n",
              "      <td>0.07678</td>\n",
              "    </tr>\n",
              "    <tr>\n",
              "      <th>...</th>\n",
              "      <td>...</td>\n",
              "      <td>...</td>\n",
              "      <td>...</td>\n",
              "      <td>...</td>\n",
              "      <td>...</td>\n",
              "      <td>...</td>\n",
              "      <td>...</td>\n",
              "      <td>...</td>\n",
              "      <td>...</td>\n",
              "      <td>...</td>\n",
              "      <td>...</td>\n",
              "      <td>...</td>\n",
              "      <td>...</td>\n",
              "      <td>...</td>\n",
              "      <td>...</td>\n",
              "      <td>...</td>\n",
              "      <td>...</td>\n",
              "      <td>...</td>\n",
              "      <td>...</td>\n",
              "      <td>...</td>\n",
              "      <td>...</td>\n",
              "      <td>...</td>\n",
              "      <td>...</td>\n",
              "      <td>...</td>\n",
              "      <td>...</td>\n",
              "      <td>...</td>\n",
              "      <td>...</td>\n",
              "      <td>...</td>\n",
              "      <td>...</td>\n",
              "      <td>...</td>\n",
              "    </tr>\n",
              "    <tr>\n",
              "      <th>564</th>\n",
              "      <td>21.56</td>\n",
              "      <td>22.39</td>\n",
              "      <td>142.00</td>\n",
              "      <td>1479.0</td>\n",
              "      <td>0.11100</td>\n",
              "      <td>0.11590</td>\n",
              "      <td>0.24390</td>\n",
              "      <td>0.13890</td>\n",
              "      <td>0.1726</td>\n",
              "      <td>0.05623</td>\n",
              "      <td>1.1760</td>\n",
              "      <td>1.2560</td>\n",
              "      <td>7.673</td>\n",
              "      <td>158.70</td>\n",
              "      <td>0.010300</td>\n",
              "      <td>0.02891</td>\n",
              "      <td>0.05198</td>\n",
              "      <td>0.02454</td>\n",
              "      <td>0.01114</td>\n",
              "      <td>0.004239</td>\n",
              "      <td>25.450</td>\n",
              "      <td>26.40</td>\n",
              "      <td>166.10</td>\n",
              "      <td>2027.0</td>\n",
              "      <td>0.14100</td>\n",
              "      <td>0.21130</td>\n",
              "      <td>0.4107</td>\n",
              "      <td>0.2216</td>\n",
              "      <td>0.2060</td>\n",
              "      <td>0.07115</td>\n",
              "    </tr>\n",
              "    <tr>\n",
              "      <th>565</th>\n",
              "      <td>20.13</td>\n",
              "      <td>28.25</td>\n",
              "      <td>131.20</td>\n",
              "      <td>1261.0</td>\n",
              "      <td>0.09780</td>\n",
              "      <td>0.10340</td>\n",
              "      <td>0.14400</td>\n",
              "      <td>0.09791</td>\n",
              "      <td>0.1752</td>\n",
              "      <td>0.05533</td>\n",
              "      <td>0.7655</td>\n",
              "      <td>2.4630</td>\n",
              "      <td>5.203</td>\n",
              "      <td>99.04</td>\n",
              "      <td>0.005769</td>\n",
              "      <td>0.02423</td>\n",
              "      <td>0.03950</td>\n",
              "      <td>0.01678</td>\n",
              "      <td>0.01898</td>\n",
              "      <td>0.002498</td>\n",
              "      <td>23.690</td>\n",
              "      <td>38.25</td>\n",
              "      <td>155.00</td>\n",
              "      <td>1731.0</td>\n",
              "      <td>0.11660</td>\n",
              "      <td>0.19220</td>\n",
              "      <td>0.3215</td>\n",
              "      <td>0.1628</td>\n",
              "      <td>0.2572</td>\n",
              "      <td>0.06637</td>\n",
              "    </tr>\n",
              "    <tr>\n",
              "      <th>566</th>\n",
              "      <td>16.60</td>\n",
              "      <td>28.08</td>\n",
              "      <td>108.30</td>\n",
              "      <td>858.1</td>\n",
              "      <td>0.08455</td>\n",
              "      <td>0.10230</td>\n",
              "      <td>0.09251</td>\n",
              "      <td>0.05302</td>\n",
              "      <td>0.1590</td>\n",
              "      <td>0.05648</td>\n",
              "      <td>0.4564</td>\n",
              "      <td>1.0750</td>\n",
              "      <td>3.425</td>\n",
              "      <td>48.55</td>\n",
              "      <td>0.005903</td>\n",
              "      <td>0.03731</td>\n",
              "      <td>0.04730</td>\n",
              "      <td>0.01557</td>\n",
              "      <td>0.01318</td>\n",
              "      <td>0.003892</td>\n",
              "      <td>18.980</td>\n",
              "      <td>34.12</td>\n",
              "      <td>126.70</td>\n",
              "      <td>1124.0</td>\n",
              "      <td>0.11390</td>\n",
              "      <td>0.30940</td>\n",
              "      <td>0.3403</td>\n",
              "      <td>0.1418</td>\n",
              "      <td>0.2218</td>\n",
              "      <td>0.07820</td>\n",
              "    </tr>\n",
              "    <tr>\n",
              "      <th>567</th>\n",
              "      <td>20.60</td>\n",
              "      <td>29.33</td>\n",
              "      <td>140.10</td>\n",
              "      <td>1265.0</td>\n",
              "      <td>0.11780</td>\n",
              "      <td>0.27700</td>\n",
              "      <td>0.35140</td>\n",
              "      <td>0.15200</td>\n",
              "      <td>0.2397</td>\n",
              "      <td>0.07016</td>\n",
              "      <td>0.7260</td>\n",
              "      <td>1.5950</td>\n",
              "      <td>5.772</td>\n",
              "      <td>86.22</td>\n",
              "      <td>0.006522</td>\n",
              "      <td>0.06158</td>\n",
              "      <td>0.07117</td>\n",
              "      <td>0.01664</td>\n",
              "      <td>0.02324</td>\n",
              "      <td>0.006185</td>\n",
              "      <td>25.740</td>\n",
              "      <td>39.42</td>\n",
              "      <td>184.60</td>\n",
              "      <td>1821.0</td>\n",
              "      <td>0.16500</td>\n",
              "      <td>0.86810</td>\n",
              "      <td>0.9387</td>\n",
              "      <td>0.2650</td>\n",
              "      <td>0.4087</td>\n",
              "      <td>0.12400</td>\n",
              "    </tr>\n",
              "    <tr>\n",
              "      <th>568</th>\n",
              "      <td>7.76</td>\n",
              "      <td>24.54</td>\n",
              "      <td>47.92</td>\n",
              "      <td>181.0</td>\n",
              "      <td>0.05263</td>\n",
              "      <td>0.04362</td>\n",
              "      <td>0.00000</td>\n",
              "      <td>0.00000</td>\n",
              "      <td>0.1587</td>\n",
              "      <td>0.05884</td>\n",
              "      <td>0.3857</td>\n",
              "      <td>1.4280</td>\n",
              "      <td>2.548</td>\n",
              "      <td>19.15</td>\n",
              "      <td>0.007189</td>\n",
              "      <td>0.00466</td>\n",
              "      <td>0.00000</td>\n",
              "      <td>0.00000</td>\n",
              "      <td>0.02676</td>\n",
              "      <td>0.002783</td>\n",
              "      <td>9.456</td>\n",
              "      <td>30.37</td>\n",
              "      <td>59.16</td>\n",
              "      <td>268.6</td>\n",
              "      <td>0.08996</td>\n",
              "      <td>0.06444</td>\n",
              "      <td>0.0000</td>\n",
              "      <td>0.0000</td>\n",
              "      <td>0.2871</td>\n",
              "      <td>0.07039</td>\n",
              "    </tr>\n",
              "  </tbody>\n",
              "</table>\n",
              "<p>569 rows × 30 columns</p>\n",
              "</div>"
            ],
            "text/plain": [
              "     mean radius  mean texture  ...  worst symmetry  worst fractal dimension\n",
              "0          17.99         10.38  ...          0.4601                  0.11890\n",
              "1          20.57         17.77  ...          0.2750                  0.08902\n",
              "2          19.69         21.25  ...          0.3613                  0.08758\n",
              "3          11.42         20.38  ...          0.6638                  0.17300\n",
              "4          20.29         14.34  ...          0.2364                  0.07678\n",
              "..           ...           ...  ...             ...                      ...\n",
              "564        21.56         22.39  ...          0.2060                  0.07115\n",
              "565        20.13         28.25  ...          0.2572                  0.06637\n",
              "566        16.60         28.08  ...          0.2218                  0.07820\n",
              "567        20.60         29.33  ...          0.4087                  0.12400\n",
              "568         7.76         24.54  ...          0.2871                  0.07039\n",
              "\n",
              "[569 rows x 30 columns]"
            ]
          },
          "metadata": {
            "tags": []
          },
          "execution_count": 67
        }
      ]
    },
    {
      "cell_type": "code",
      "metadata": {
        "colab": {
          "base_uri": "https://localhost:8080/",
          "height": 249
        },
        "id": "ZtYf8b2asmXU",
        "outputId": "79c80983-aded-4ca5-8fa0-da17a03d5813"
      },
      "source": [
        "df_sd = (df - df.mean()) / (df.std())   # 데이터 표준화\r\n",
        "df_sd['target'] = cancer_data['target_names'][cancer_data['target']] # output 추가\r\n",
        "df_sd.head()"
      ],
      "execution_count": null,
      "outputs": [
        {
          "output_type": "execute_result",
          "data": {
            "text/html": [
              "<div>\n",
              "<style scoped>\n",
              "    .dataframe tbody tr th:only-of-type {\n",
              "        vertical-align: middle;\n",
              "    }\n",
              "\n",
              "    .dataframe tbody tr th {\n",
              "        vertical-align: top;\n",
              "    }\n",
              "\n",
              "    .dataframe thead th {\n",
              "        text-align: right;\n",
              "    }\n",
              "</style>\n",
              "<table border=\"1\" class=\"dataframe\">\n",
              "  <thead>\n",
              "    <tr style=\"text-align: right;\">\n",
              "      <th></th>\n",
              "      <th>mean radius</th>\n",
              "      <th>mean texture</th>\n",
              "      <th>mean perimeter</th>\n",
              "      <th>mean area</th>\n",
              "      <th>mean smoothness</th>\n",
              "      <th>mean compactness</th>\n",
              "      <th>mean concavity</th>\n",
              "      <th>mean concave points</th>\n",
              "      <th>mean symmetry</th>\n",
              "      <th>mean fractal dimension</th>\n",
              "      <th>radius error</th>\n",
              "      <th>texture error</th>\n",
              "      <th>perimeter error</th>\n",
              "      <th>area error</th>\n",
              "      <th>smoothness error</th>\n",
              "      <th>compactness error</th>\n",
              "      <th>concavity error</th>\n",
              "      <th>concave points error</th>\n",
              "      <th>symmetry error</th>\n",
              "      <th>fractal dimension error</th>\n",
              "      <th>worst radius</th>\n",
              "      <th>worst texture</th>\n",
              "      <th>worst perimeter</th>\n",
              "      <th>worst area</th>\n",
              "      <th>worst smoothness</th>\n",
              "      <th>worst compactness</th>\n",
              "      <th>worst concavity</th>\n",
              "      <th>worst concave points</th>\n",
              "      <th>worst symmetry</th>\n",
              "      <th>worst fractal dimension</th>\n",
              "      <th>target</th>\n",
              "    </tr>\n",
              "  </thead>\n",
              "  <tbody>\n",
              "    <tr>\n",
              "      <th>0</th>\n",
              "      <td>1.096100</td>\n",
              "      <td>-2.071512</td>\n",
              "      <td>1.268817</td>\n",
              "      <td>0.983510</td>\n",
              "      <td>1.567087</td>\n",
              "      <td>3.280628</td>\n",
              "      <td>2.650542</td>\n",
              "      <td>2.530249</td>\n",
              "      <td>2.215566</td>\n",
              "      <td>2.253764</td>\n",
              "      <td>2.487545</td>\n",
              "      <td>-0.564768</td>\n",
              "      <td>2.830540</td>\n",
              "      <td>2.485391</td>\n",
              "      <td>-0.213814</td>\n",
              "      <td>1.315704</td>\n",
              "      <td>0.723390</td>\n",
              "      <td>0.660239</td>\n",
              "      <td>1.147747</td>\n",
              "      <td>0.906286</td>\n",
              "      <td>1.885031</td>\n",
              "      <td>-1.358098</td>\n",
              "      <td>2.301575</td>\n",
              "      <td>1.999478</td>\n",
              "      <td>1.306537</td>\n",
              "      <td>2.614365</td>\n",
              "      <td>2.107672</td>\n",
              "      <td>2.294058</td>\n",
              "      <td>2.748204</td>\n",
              "      <td>1.935312</td>\n",
              "      <td>malignant</td>\n",
              "    </tr>\n",
              "    <tr>\n",
              "      <th>1</th>\n",
              "      <td>1.828212</td>\n",
              "      <td>-0.353322</td>\n",
              "      <td>1.684473</td>\n",
              "      <td>1.907030</td>\n",
              "      <td>-0.826235</td>\n",
              "      <td>-0.486643</td>\n",
              "      <td>-0.023825</td>\n",
              "      <td>0.547662</td>\n",
              "      <td>0.001391</td>\n",
              "      <td>-0.867889</td>\n",
              "      <td>0.498816</td>\n",
              "      <td>-0.875473</td>\n",
              "      <td>0.263095</td>\n",
              "      <td>0.741749</td>\n",
              "      <td>-0.604819</td>\n",
              "      <td>-0.692317</td>\n",
              "      <td>-0.440393</td>\n",
              "      <td>0.259933</td>\n",
              "      <td>-0.804742</td>\n",
              "      <td>-0.099356</td>\n",
              "      <td>1.804340</td>\n",
              "      <td>-0.368879</td>\n",
              "      <td>1.533776</td>\n",
              "      <td>1.888827</td>\n",
              "      <td>-0.375282</td>\n",
              "      <td>-0.430066</td>\n",
              "      <td>-0.146620</td>\n",
              "      <td>1.086129</td>\n",
              "      <td>-0.243675</td>\n",
              "      <td>0.280943</td>\n",
              "      <td>malignant</td>\n",
              "    </tr>\n",
              "    <tr>\n",
              "      <th>2</th>\n",
              "      <td>1.578499</td>\n",
              "      <td>0.455786</td>\n",
              "      <td>1.565126</td>\n",
              "      <td>1.557513</td>\n",
              "      <td>0.941382</td>\n",
              "      <td>1.052000</td>\n",
              "      <td>1.362280</td>\n",
              "      <td>2.035440</td>\n",
              "      <td>0.938859</td>\n",
              "      <td>-0.397658</td>\n",
              "      <td>1.227596</td>\n",
              "      <td>-0.779398</td>\n",
              "      <td>0.850180</td>\n",
              "      <td>1.180298</td>\n",
              "      <td>-0.296744</td>\n",
              "      <td>0.814257</td>\n",
              "      <td>0.212889</td>\n",
              "      <td>1.423575</td>\n",
              "      <td>0.236827</td>\n",
              "      <td>0.293301</td>\n",
              "      <td>1.510541</td>\n",
              "      <td>-0.023953</td>\n",
              "      <td>1.346291</td>\n",
              "      <td>1.455004</td>\n",
              "      <td>0.526944</td>\n",
              "      <td>1.081980</td>\n",
              "      <td>0.854222</td>\n",
              "      <td>1.953282</td>\n",
              "      <td>1.151242</td>\n",
              "      <td>0.201214</td>\n",
              "      <td>malignant</td>\n",
              "    </tr>\n",
              "    <tr>\n",
              "      <th>3</th>\n",
              "      <td>-0.768233</td>\n",
              "      <td>0.253509</td>\n",
              "      <td>-0.592166</td>\n",
              "      <td>-0.763792</td>\n",
              "      <td>3.280667</td>\n",
              "      <td>3.399917</td>\n",
              "      <td>1.914213</td>\n",
              "      <td>1.450431</td>\n",
              "      <td>2.864862</td>\n",
              "      <td>4.906602</td>\n",
              "      <td>0.326087</td>\n",
              "      <td>-0.110312</td>\n",
              "      <td>0.286341</td>\n",
              "      <td>-0.288125</td>\n",
              "      <td>0.689095</td>\n",
              "      <td>2.741868</td>\n",
              "      <td>0.818798</td>\n",
              "      <td>1.114027</td>\n",
              "      <td>4.728520</td>\n",
              "      <td>2.045711</td>\n",
              "      <td>-0.281217</td>\n",
              "      <td>0.133866</td>\n",
              "      <td>-0.249720</td>\n",
              "      <td>-0.549538</td>\n",
              "      <td>3.391291</td>\n",
              "      <td>3.889975</td>\n",
              "      <td>1.987839</td>\n",
              "      <td>2.173873</td>\n",
              "      <td>6.040726</td>\n",
              "      <td>4.930672</td>\n",
              "      <td>malignant</td>\n",
              "    </tr>\n",
              "    <tr>\n",
              "      <th>4</th>\n",
              "      <td>1.748758</td>\n",
              "      <td>-1.150804</td>\n",
              "      <td>1.775011</td>\n",
              "      <td>1.824624</td>\n",
              "      <td>0.280125</td>\n",
              "      <td>0.538866</td>\n",
              "      <td>1.369806</td>\n",
              "      <td>1.427237</td>\n",
              "      <td>-0.009552</td>\n",
              "      <td>-0.561956</td>\n",
              "      <td>1.269426</td>\n",
              "      <td>-0.789549</td>\n",
              "      <td>1.272070</td>\n",
              "      <td>1.189310</td>\n",
              "      <td>1.481763</td>\n",
              "      <td>-0.048477</td>\n",
              "      <td>0.827742</td>\n",
              "      <td>1.143199</td>\n",
              "      <td>-0.360775</td>\n",
              "      <td>0.498889</td>\n",
              "      <td>1.297434</td>\n",
              "      <td>-1.465481</td>\n",
              "      <td>1.337363</td>\n",
              "      <td>1.219651</td>\n",
              "      <td>0.220362</td>\n",
              "      <td>-0.313119</td>\n",
              "      <td>0.612640</td>\n",
              "      <td>0.728618</td>\n",
              "      <td>-0.867590</td>\n",
              "      <td>-0.396751</td>\n",
              "      <td>malignant</td>\n",
              "    </tr>\n",
              "  </tbody>\n",
              "</table>\n",
              "</div>"
            ],
            "text/plain": [
              "   mean radius  mean texture  ...  worst fractal dimension     target\n",
              "0     1.096100     -2.071512  ...                 1.935312  malignant\n",
              "1     1.828212     -0.353322  ...                 0.280943  malignant\n",
              "2     1.578499      0.455786  ...                 0.201214  malignant\n",
              "3    -0.768233      0.253509  ...                 4.930672  malignant\n",
              "4     1.748758     -1.150804  ...                -0.396751  malignant\n",
              "\n",
              "[5 rows x 31 columns]"
            ]
          },
          "metadata": {
            "tags": []
          },
          "execution_count": 68
        }
      ]
    },
    {
      "cell_type": "code",
      "metadata": {
        "colab": {
          "base_uri": "https://localhost:8080/",
          "height": 504
        },
        "id": "MMffhJNwJA1q",
        "outputId": "666fa628-cac9-4178-e606-4e3ca6e74f2d"
      },
      "source": [
        "plt.figure(figsize=(15, 10))\r\n",
        "sns.heatmap(df_sd.corr(), linewidths=.3)\r\n",
        "plt.show()"
      ],
      "execution_count": null,
      "outputs": [
        {
          "output_type": "display_data",
          "data": {
            "image/png": "[encoded data removed]",
            "text/plain": [
              "<Figure size 1080x720 with 2 Axes>"
            ]
          },
          "metadata": {
            "tags": [],
            "needs_background": "light"
          }
        }
      ]
    },
    {
      "cell_type": "code",
      "metadata": {
        "colab": {
          "base_uri": "https://localhost:8080/",
          "height": 401
        },
        "id": "9kQ6hzyrI0KK",
        "outputId": "b440f8ab-8f51-4f63-c6f4-c746c03fa4f0"
      },
      "source": [
        "sns.relplot(x='mean area', y='mean smoothness', hue='target', data=df_sd)"
      ],
      "execution_count": null,
      "outputs": [
        {
          "output_type": "execute_result",
          "data": {
            "text/plain": [
              "<seaborn.axisgrid.FacetGrid at 0x7fdf93e15eb8>"
            ]
          },
          "metadata": {
            "tags": []
          },
          "execution_count": 70
        },
        {
          "output_type": "display_data",
          "data": {
            "image/png": "[encoded data removed]",
            "text/plain": [
              "<Figure size 446.625x360 with 1 Axes>"
            ]
          },
          "metadata": {
            "tags": [],
            "needs_background": "light"
          }
        }
      ]
    },
    {
      "cell_type": "code",
      "metadata": {
        "colab": {
          "base_uri": "https://localhost:8080/"
        },
        "id": "sVwk7-OS_oWr",
        "outputId": "c8c05792-2573-4b4a-922d-6158ffec002f"
      },
      "source": [
        "train_x = df_sd.to_numpy()[:, :-1]\r\n",
        "train_y = cancer_data['target']\r\n",
        "\r\n",
        "print(train_x[:1])\r\n",
        "print(train_y[:1])\r\n",
        "print('target list: ', cancer_data['target_names'])"
      ],
      "execution_count": null,
      "outputs": [
        {
          "output_type": "stream",
          "text": [
            "[[1.096099529431712 -2.071512302244433 1.2688172627037921\n",
            "  0.983509520104142 1.5670874574786584 3.2806280641246857\n",
            "  2.650541786383573 2.530248864134298 2.215565541846305 2.253763810728068\n",
            "  2.487545149236081 -0.5647681226567424 2.830540288788392\n",
            "  2.4853906751696266 -0.21381351331683507 1.315703887672482\n",
            "  0.7233896514447262 0.6602390007084622 1.147746771019812\n",
            "  0.9062856451675908 1.8850309966167498 -1.3580984902594555\n",
            "  2.3015754798257206 1.9994781593288955 1.3065366565450816\n",
            "  2.614364658212111 2.107671817557451 2.2940575987078193\n",
            "  2.7482041142121494 1.9353117420601125]]\n",
            "[0]\n",
            "target list:  ['malignant' 'benign']\n"
          ],
          "name": "stdout"
        }
      ]
    },
    {
      "cell_type": "code",
      "metadata": {
        "id": "sUgWBos-TLb4"
      },
      "source": [
        "def binary_cross_entropy(y, y_hat, epsilon = 1e-12):      # cost function\r\n",
        "  predicts = np.clip(y_hat, epsilon, 1. - epsilon)        # [1e-12, 1 - (1e-12)] 사이의 범위 제한\r\n",
        "  temp = y * np.log(predicts) + (1 - y) * np.log(1 - predicts)\r\n",
        "  return -np.mean(temp)"
      ],
      "execution_count": null,
      "outputs": []
    },
    {
      "cell_type": "code",
      "metadata": {
        "colab": {
          "base_uri": "https://localhost:8080/"
        },
        "id": "C5m2ffoNA3S-",
        "outputId": "e9793b38-b8c6-4bf7-af34-0fe249c01ab2"
      },
      "source": [
        "# binary_cross_entropy 테스트\r\n",
        "\r\n",
        "a = binary_cross_entropy(np.array([0, 1, 1]), np.array([0.2, 0.4, 0.1]))\r\n",
        "b = binary_cross_entropy(np.array([0, 1, 1]), np.array([0.01, 0.99, 0.99]))\r\n",
        "print(a, b)"
      ],
      "execution_count": null,
      "outputs": [
        {
          "output_type": "stream",
          "text": [
            "1.1473397920608035 0.01005033585350145\n"
          ],
          "name": "stdout"
        }
      ]
    },
    {
      "cell_type": "code",
      "metadata": {
        "id": "A1KRjd2UT3LC"
      },
      "source": [
        "class LogisticReg:\r\n",
        "  def __init__(self, n): # n : feature 개수\r\n",
        "    np.random.seed(1)\r\n",
        "    self.theta = np.random.random([n + 1, 1])     # with bias\r\n",
        "\r\n",
        "  def __call__(self, x):\r\n",
        "    return sigmoid(x @ self.theta) \r\n",
        "\r\n",
        "  def train_model(self, lr, input_x, input_y, epochs):\r\n",
        "    cost_list = []\r\n",
        "\r\n",
        "    for _ in range(epochs):\r\n",
        "      # cost 계산\r\n",
        "      predicted_y = self(input_x)\r\n",
        "      cost = binary_cross_entropy(input_y.reshape(-1, 1), predicted_y)\r\n",
        "      \r\n",
        "      # gradients 계산\r\n",
        "      grad_theta = np.mean((predicted_y - input_y.reshape(-1, 1)) * input_x, axis=0)\r\n",
        "      cost_list.append(cost)\r\n",
        "\r\n",
        "      self.theta -= lr * grad_theta.reshape(-1, 1)\r\n",
        "      \r\n",
        "    plt.plot(range(len(cost_list)), cost_list)\r\n",
        "    plt.xlabel('epoch')\r\n",
        "    plt.ylabel('cost value')\r\n",
        "    plt.title('Training')\r\n",
        "    plt.show()"
      ],
      "execution_count": null,
      "outputs": []
    },
    {
      "cell_type": "code",
      "metadata": {
        "colab": {
          "base_uri": "https://localhost:8080/"
        },
        "id": "Q8LTLPXEAsqp",
        "outputId": "d0476693-5b2c-486d-8f7a-bb6e0e12e872"
      },
      "source": [
        "# 학습 데이터 수정\r\n",
        "train_x_with_one = np.hstack((np.ones((len(train_x), 1)), train_x))\r\n",
        "train_x_with_one = train_x_with_one.astype(float)\r\n",
        "train_x_with_one[: 1]"
      ],
      "execution_count": null,
      "outputs": [
        {
          "output_type": "execute_result",
          "data": {
            "text/plain": [
              "array([[ 1.        ,  1.09609953, -2.0715123 ,  1.26881726,  0.98350952,\n",
              "         1.56708746,  3.28062806,  2.65054179,  2.53024886,  2.21556554,\n",
              "         2.25376381,  2.48754515, -0.56476812,  2.83054029,  2.48539068,\n",
              "        -0.21381351,  1.31570389,  0.72338965,  0.660239  ,  1.14774677,\n",
              "         0.90628565,  1.885031  , -1.35809849,  2.30157548,  1.99947816,\n",
              "         1.30653666,  2.61436466,  2.10767182,  2.2940576 ,  2.74820411,\n",
              "         1.93531174]])"
            ]
          },
          "metadata": {
            "tags": []
          },
          "execution_count": 75
        }
      ]
    },
    {
      "cell_type": "code",
      "metadata": {
        "colab": {
          "base_uri": "https://localhost:8080/"
        },
        "id": "cJLzJbw3cImi",
        "outputId": "5e1342de-6f1c-4cce-d77a-07b0013939fa"
      },
      "source": [
        "t = np.array([[1,2],[4,5],[7,8]])\r\n",
        "z = np.array([[2],[3],[4]])\r\n",
        "\r\n",
        "print(t * z)\r\n",
        "\r\n",
        "print((t * z).mean(axis=0))"
      ],
      "execution_count": null,
      "outputs": [
        {
          "output_type": "stream",
          "text": [
            "[[ 2  4]\n",
            " [12 15]\n",
            " [28 32]]\n",
            "[14. 17.]\n"
          ],
          "name": "stdout"
        }
      ]
    },
    {
      "cell_type": "code",
      "metadata": {
        "colab": {
          "base_uri": "https://localhost:8080/"
        },
        "id": "vnoisrncVzje",
        "outputId": "7089f7b2-ff7c-49b1-8f53-da1862b73857"
      },
      "source": [
        "# gradients 계산\r\n",
        "logsitic_model = LogisticReg(len(train_x[0])) # 모델 생성\r\n",
        "\r\n",
        "predicted_y = logsitic_model(train_x_with_one)\r\n",
        "grad_theta = np.mean((predicted_y - train_y.reshape(-1, 1)) * train_x_with_one, axis=0)\r\n",
        "print(grad_theta, len(grad_theta))"
      ],
      "execution_count": null,
      "outputs": [
        {
          "output_type": "stream",
          "text": [
            "[-0.21225557  0.64605973  0.35327215  0.66387628  0.63206383  0.40154186\n",
            "  0.63469754  0.70153676  0.74705254  0.39006402  0.11812085  0.54346534\n",
            "  0.03141069  0.53932152  0.51022567  0.03292304  0.40121623  0.34857968\n",
            "  0.47850472  0.07110122  0.22433933  0.68944603  0.38091344  0.70186999\n",
            "  0.65622372  0.42973873  0.59757438  0.65520014  0.75135206  0.4076182\n",
            "  0.38393526] 31\n"
          ],
          "name": "stdout"
        }
      ]
    },
    {
      "cell_type": "code",
      "metadata": {
        "id": "C-IMfgAYPSA6"
      },
      "source": [
        "from sklearn.model_selection import train_test_split\r\n",
        "\r\n",
        "# 학습과 테스트 데이터를 나눔\r\n",
        "xtrain, xtest, ytrain, ytest = \\\r\n",
        "      train_test_split(train_x_with_one, train_y, random_state=72, test_size=0.2)"
      ],
      "execution_count": null,
      "outputs": []
    },
    {
      "cell_type": "code",
      "metadata": {
        "colab": {
          "base_uri": "https://localhost:8080/"
        },
        "id": "0HijZua7R-ac",
        "outputId": "97af484f-be58-46c9-9a96-70b1b8de4c96"
      },
      "source": [
        "len(xtrain), len(xtest)"
      ],
      "execution_count": null,
      "outputs": [
        {
          "output_type": "execute_result",
          "data": {
            "text/plain": [
              "(455, 114)"
            ]
          },
          "metadata": {
            "tags": []
          },
          "execution_count": 79
        }
      ]
    },
    {
      "cell_type": "code",
      "metadata": {
        "colab": {
          "base_uri": "https://localhost:8080/"
        },
        "id": "kRWDYSpcS1vd",
        "outputId": "cc457372-f74b-4f6c-9260-f9a4e87dacf6"
      },
      "source": [
        "logsitic_model = LogisticReg(len(train_x[0])) # 모델 생성\r\n",
        "\r\n",
        "# 정확도 측정\r\n",
        "prediction = logsitic_model(xtest).reshape(-1) > 0.5\r\n",
        "accuracy = (np.sum(prediction.reshape(-1) == ytest))/(len(prediction))\r\n",
        "\r\n",
        "print('정확도 : {:.3f} %'.format(accuracy * 100.0))"
      ],
      "execution_count": null,
      "outputs": [
        {
          "output_type": "stream",
          "text": [
            "정확도 : 11.404 %\n"
          ],
          "name": "stdout"
        }
      ]
    },
    {
      "cell_type": "code",
      "metadata": {
        "colab": {
          "base_uri": "https://localhost:8080/"
        },
        "id": "E0LAdY5T0Ey6",
        "outputId": "ec729eb2-7a9e-4669-80af-210192958fb5"
      },
      "source": [
        "ytest"
      ],
      "execution_count": null,
      "outputs": [
        {
          "output_type": "execute_result",
          "data": {
            "text/plain": [
              "array([1, 1, 0, 1, 1, 0, 1, 0, 0, 1, 1, 1, 0, 0, 1, 1, 1, 0, 1, 0, 1, 1,\n",
              "       1, 0, 1, 0, 0, 1, 1, 0, 0, 1, 0, 0, 1, 1, 1, 0, 1, 0, 1, 1, 1, 0,\n",
              "       0, 0, 0, 0, 1, 0, 1, 1, 1, 1, 0, 1, 1, 0, 1, 1, 0, 1, 0, 1, 1, 0,\n",
              "       1, 1, 1, 0, 0, 1, 1, 1, 1, 1, 0, 1, 0, 1, 1, 0, 1, 1, 1, 1, 1, 1,\n",
              "       0, 0, 1, 1, 1, 0, 0, 1, 1, 1, 1, 1, 1, 1, 1, 1, 0, 1, 1, 0, 1, 0,\n",
              "       0, 0, 0, 1])"
            ]
          },
          "metadata": {
            "tags": []
          },
          "execution_count": 81
        }
      ]
    },
    {
      "cell_type": "code",
      "metadata": {
        "colab": {
          "base_uri": "https://localhost:8080/"
        },
        "id": "9kxkdnA2XrWc",
        "outputId": "b3af6223-4e00-4cf7-a497-1c595053c917"
      },
      "source": [
        "logsitic_model.theta.shape"
      ],
      "execution_count": null,
      "outputs": [
        {
          "output_type": "execute_result",
          "data": {
            "text/plain": [
              "(31, 1)"
            ]
          },
          "metadata": {
            "tags": []
          },
          "execution_count": 82
        }
      ]
    },
    {
      "cell_type": "code",
      "metadata": {
        "colab": {
          "base_uri": "https://localhost:8080/",
          "height": 295
        },
        "id": "uzwvdTnhVvg7",
        "outputId": "bdf6a331-df26-4e16-9e6e-1a376d876236"
      },
      "source": [
        "logsitic_model = LogisticReg(len(train_x[0]))\r\n",
        "learning_rate = 0.1\r\n",
        "\r\n",
        "logsitic_model.train_model(learning_rate, xtrain, ytrain, 50)"
      ],
      "execution_count": null,
      "outputs": [
        {
          "output_type": "display_data",
          "data": {
            "image/png": "[encoded data removed]",
            "text/plain": [
              "<Figure size 432x288 with 1 Axes>"
            ]
          },
          "metadata": {
            "tags": [],
            "needs_background": "light"
          }
        }
      ]
    },
    {
      "cell_type": "code",
      "metadata": {
        "colab": {
          "base_uri": "https://localhost:8080/"
        },
        "id": "ev6u4ooldOjm",
        "outputId": "805fe01f-8bee-4153-f023-9e0bbdd05f1b"
      },
      "source": [
        "binary_cross_entropy(ytest, logsitic_model(xtest))\r\n"
      ],
      "execution_count": null,
      "outputs": [
        {
          "output_type": "execute_result",
          "data": {
            "text/plain": [
              "1.808714476446218"
            ]
          },
          "metadata": {
            "tags": []
          },
          "execution_count": 84
        }
      ]
    },
    {
      "cell_type": "code",
      "metadata": {
        "colab": {
          "base_uri": "https://localhost:8080/"
        },
        "id": "6os-uSGrGuBP",
        "outputId": "30eb63ee-f86c-438d-d9b7-a60c3b153198"
      },
      "source": [
        "# 정확도 측정\r\n",
        "prediction = logsitic_model(xtest).reshape(-1) > 0.5\r\n",
        "accuracy = (np.sum(prediction.reshape(-1) == ytest))/(len(prediction))\r\n",
        "\r\n",
        "print('정확도 : {:.3f} %'.format(accuracy * 100.0))"
      ],
      "execution_count": null,
      "outputs": [
        {
          "output_type": "stream",
          "text": [
            "정확도 : 92.105 %\n"
          ],
          "name": "stdout"
        }
      ]
    },
    {
      "cell_type": "markdown",
      "metadata": {
        "id": "v82YfurZj6p9"
      },
      "source": [
        "## sklearn 을 이용한 Classification"
      ]
    },
    {
      "cell_type": "code",
      "metadata": {
        "colab": {
          "base_uri": "https://localhost:8080/"
        },
        "id": "lEoO1rxTkIJK",
        "outputId": "3ad3cdf8-4a74-47bf-e022-6881b1a8ce07"
      },
      "source": [
        "from sklearn.linear_model import LogisticRegression\r\n",
        "\r\n",
        "log_reg = LogisticRegression()\r\n",
        "log_reg.fit(xtrain, ytrain)\r\n",
        "\r\n",
        "y_pred = log_reg.predict(xtest)\r\n",
        "print(y_pred)"
      ],
      "execution_count": null,
      "outputs": [
        {
          "output_type": "stream",
          "text": [
            "[1 1 0 1 1 0 1 0 0 1 1 1 0 0 1 1 1 0 1 0 1 1 1 1 1 0 0 1 1 0 0 1 0 0 1 1 1\n",
            " 0 1 0 1 1 1 0 0 1 0 0 1 1 1 1 1 1 0 0 1 0 1 1 0 1 0 1 1 0 1 1 1 0 0 1 1 1\n",
            " 1 1 0 1 0 1 1 0 1 1 1 1 1 1 0 0 1 1 1 0 0 1 1 1 1 1 1 1 1 1 0 1 1 0 1 0 0\n",
            " 0 0 1]\n"
          ],
          "name": "stdout"
        }
      ]
    },
    {
      "cell_type": "code",
      "metadata": {
        "colab": {
          "base_uri": "https://localhost:8080/"
        },
        "id": "oFiodjzSkgG1",
        "outputId": "355e8b04-7c01-496d-8f6c-5cd07f079c7b"
      },
      "source": [
        "prediction = log_reg.predict(xtest).reshape(-1) > 0.5\r\n",
        "accuracy = (np.sum(prediction.reshape(-1) == ytest))/(len(prediction))\r\n",
        "\r\n",
        "print('정확도 : {:.3f} %'.format(accuracy * 100.0))"
      ],
      "execution_count": null,
      "outputs": [
        {
          "output_type": "stream",
          "text": [
            "정확도 : 96.491 %\n"
          ],
          "name": "stdout"
        }
      ]
    },
    {
      "cell_type": "code",
      "metadata": {
        "colab": {
          "base_uri": "https://localhost:8080/"
        },
        "id": "KlXBq3-ikwWE",
        "outputId": "c45764e1-5a56-4f35-ae65-56f6bf76ec59"
      },
      "source": [
        "log_reg.score(xtest, ytest)"
      ],
      "execution_count": null,
      "outputs": [
        {
          "output_type": "execute_result",
          "data": {
            "text/plain": [
              "0.9649122807017544"
            ]
          },
          "metadata": {
            "tags": []
          },
          "execution_count": 88
        }
      ]
    },
    {
      "cell_type": "markdown",
      "metadata": {
        "id": "lx-u-KHYVypR"
      },
      "source": [
        "## TensorFlow 를 이용한 Classification"
      ]
    },
    {
      "cell_type": "code",
      "metadata": {
        "id": "0BOsrS0NUeXX"
      },
      "source": [
        "import tensorflow as tf"
      ],
      "execution_count": null,
      "outputs": []
    },
    {
      "cell_type": "code",
      "metadata": {
        "id": "tzFKfo1sULjq"
      },
      "source": [
        "tf_model = tf.keras.Sequential(\r\n",
        "    [\r\n",
        "        tf.keras.Input(shape=(len(xtrain[0])), name=\"cancer_data\"),\r\n",
        "        tf.keras.layers.Dense(1, activation=\"sigmoid\", name=\"layer1\", \r\n",
        "                              use_bias=False)\r\n",
        "    ]\r\n",
        ")"
      ],
      "execution_count": null,
      "outputs": []
    },
    {
      "cell_type": "code",
      "metadata": {
        "colab": {
          "base_uri": "https://localhost:8080/"
        },
        "id": "gxyQpU_xVDAe",
        "outputId": "94f052f8-1caf-449e-e9ea-5668eac05de9"
      },
      "source": [
        "tf_model.summary()"
      ],
      "execution_count": null,
      "outputs": [
        {
          "output_type": "stream",
          "text": [
            "Model: \"sequential_1\"\n",
            "_________________________________________________________________\n",
            "Layer (type)                 Output Shape              Param #   \n",
            "=================================================================\n",
            "layer1 (Dense)               (None, 1)                 31        \n",
            "=================================================================\n",
            "Total params: 31\n",
            "Trainable params: 31\n",
            "Non-trainable params: 0\n",
            "_________________________________________________________________\n"
          ],
          "name": "stdout"
        }
      ]
    },
    {
      "cell_type": "code",
      "metadata": {
        "colab": {
          "base_uri": "https://localhost:8080/"
        },
        "id": "PjpKJdOtV4G6",
        "outputId": "9fb1808e-6872-4e21-a3d2-104bd20a33cd"
      },
      "source": [
        "# 정확도 측정\r\n",
        "prediction = tf_model.predict(xtest).reshape(-1) > 0.5\r\n",
        "accuracy = (np.sum(prediction == ytest))/(len(prediction))\r\n",
        "\r\n",
        "print('정확도 : {:.3f} %'.format(accuracy * 100.0))"
      ],
      "execution_count": null,
      "outputs": [
        {
          "output_type": "stream",
          "text": [
            "정확도 : 92.105 %\n"
          ],
          "name": "stdout"
        }
      ]
    },
    {
      "cell_type": "code",
      "metadata": {
        "id": "1rk2jBJPVrzJ"
      },
      "source": [
        "tf_model.compile(\r\n",
        "    optimizer=tf.keras.optimizers.SGD(),  # Optimizer\r\n",
        "    # Loss function to minimize\r\n",
        "    loss=tf.keras.losses.BinaryCrossentropy(),\r\n",
        "    # List of metrics to monitor\r\n",
        "    metrics=[tf.keras.metrics.BinaryAccuracy()],\r\n",
        ")"
      ],
      "execution_count": null,
      "outputs": []
    },
    {
      "cell_type": "code",
      "metadata": {
        "colab": {
          "base_uri": "https://localhost:8080/"
        },
        "id": "1Q1qo5J0Vbs9",
        "outputId": "6b1a8a92-ad7d-4bbb-c9ba-313a0e0cfa78"
      },
      "source": [
        "history = tf_model.fit(\r\n",
        "    xtrain,\r\n",
        "    ytrain,\r\n",
        "    epochs=10,\r\n",
        "    # We pass some validation for\r\n",
        "    # monitoring validation loss and metrics\r\n",
        "    # at the end of each epoch\r\n",
        "    validation_data=(xtest, ytest),\r\n",
        ")"
      ],
      "execution_count": null,
      "outputs": [
        {
          "output_type": "stream",
          "text": [
            "Epoch 1/10\n",
            "15/15 [==============================] - 0s 12ms/step - loss: 0.9539 - binary_accuracy: 0.2677 - val_loss: 0.7873 - val_binary_accuracy: 0.5614\n",
            "Epoch 2/10\n",
            "15/15 [==============================] - 0s 3ms/step - loss: 0.7015 - binary_accuracy: 0.5967 - val_loss: 0.6290 - val_binary_accuracy: 0.7632\n",
            "Epoch 3/10\n",
            "15/15 [==============================] - 0s 3ms/step - loss: 0.5214 - binary_accuracy: 0.8044 - val_loss: 0.5396 - val_binary_accuracy: 0.7895\n",
            "Epoch 4/10\n",
            "15/15 [==============================] - 0s 3ms/step - loss: 0.4241 - binary_accuracy: 0.8822 - val_loss: 0.4823 - val_binary_accuracy: 0.8333\n",
            "Epoch 5/10\n",
            "15/15 [==============================] - 0s 4ms/step - loss: 0.4038 - binary_accuracy: 0.8793 - val_loss: 0.4408 - val_binary_accuracy: 0.8509\n",
            "Epoch 6/10\n",
            "15/15 [==============================] - 0s 3ms/step - loss: 0.3537 - binary_accuracy: 0.8998 - val_loss: 0.4084 - val_binary_accuracy: 0.8772\n",
            "Epoch 7/10\n",
            "15/15 [==============================] - 0s 3ms/step - loss: 0.3066 - binary_accuracy: 0.9331 - val_loss: 0.3817 - val_binary_accuracy: 0.8860\n",
            "Epoch 8/10\n",
            "15/15 [==============================] - 0s 4ms/step - loss: 0.2998 - binary_accuracy: 0.9267 - val_loss: 0.3615 - val_binary_accuracy: 0.8947\n",
            "Epoch 9/10\n",
            "15/15 [==============================] - 0s 3ms/step - loss: 0.2560 - binary_accuracy: 0.9390 - val_loss: 0.3449 - val_binary_accuracy: 0.9035\n",
            "Epoch 10/10\n",
            "15/15 [==============================] - 0s 3ms/step - loss: 0.2526 - binary_accuracy: 0.9455 - val_loss: 0.3303 - val_binary_accuracy: 0.9211\n"
          ],
          "name": "stdout"
        }
      ]
    },
    {
      "cell_type": "code",
      "metadata": {
        "colab": {
          "base_uri": "https://localhost:8080/",
          "height": 281
        },
        "id": "Zi-EevEdUjtN",
        "outputId": "f5c80b00-04c8-4636-8152-8bb22fdd026b"
      },
      "source": [
        "plt.title('history')\r\n",
        "plt.plot(range(10), history.history['loss'], 'r', label='loss')\r\n",
        "plt.plot(range(10), history.history['binary_accuracy'], label='Accuracy')\r\n",
        "plt.legend()\r\n",
        "plt.show()\r\n"
      ],
      "execution_count": null,
      "outputs": [
        {
          "output_type": "display_data",
          "data": {
            "image/png": "[encoded data removed]",
            "text/plain": [
              "<Figure size 432x288 with 1 Axes>"
            ]
          },
          "metadata": {
            "tags": [],
            "needs_background": "light"
          }
        }
      ]
    },
    {
      "cell_type": "code",
      "metadata": {
        "colab": {
          "base_uri": "https://localhost:8080/"
        },
        "id": "szqLCB6CWDqQ",
        "outputId": "fd5956a0-7fba-4f5c-902a-c8fb5fd9c690"
      },
      "source": [
        "# 정확도 측정\r\n",
        "prediction = tf_model.predict(xtest).reshape(-1) > 0.5\r\n",
        "accuracy = (np.sum(prediction.reshape(-1) == ytest))/(len(prediction))\r\n",
        "\r\n",
        "print('정확도 : {:.3f} %'.format(accuracy * 100.0))"
      ],
      "execution_count": null,
      "outputs": [
        {
          "output_type": "stream",
          "text": [
            "정확도 : 92.105 %\n"
          ],
          "name": "stdout"
        }
      ]
    },
    {
      "cell_type": "markdown",
      "metadata": {
        "id": "_yBVifgDks05"
      },
      "source": [
        "## Multi-class classification\r\n"
      ]
    },
    {
      "cell_type": "code",
      "metadata": {
        "colab": {
          "base_uri": "https://localhost:8080/",
          "height": 195
        },
        "id": "KeLeGbFTko0N",
        "outputId": "b0d37b50-ca26-4d3d-ea03-db50541c8f78"
      },
      "source": [
        "iris_data = datasets.load_iris()\r\n",
        "iris_df = pd.DataFrame(data=iris_data['data'], columns=iris_data['feature_names'])\r\n",
        "iris_df.head()"
      ],
      "execution_count": null,
      "outputs": [
        {
          "output_type": "execute_result",
          "data": {
            "text/html": [
              "<div>\n",
              "<style scoped>\n",
              "    .dataframe tbody tr th:only-of-type {\n",
              "        vertical-align: middle;\n",
              "    }\n",
              "\n",
              "    .dataframe tbody tr th {\n",
              "        vertical-align: top;\n",
              "    }\n",
              "\n",
              "    .dataframe thead th {\n",
              "        text-align: right;\n",
              "    }\n",
              "</style>\n",
              "<table border=\"1\" class=\"dataframe\">\n",
              "  <thead>\n",
              "    <tr style=\"text-align: right;\">\n",
              "      <th></th>\n",
              "      <th>sepal length (cm)</th>\n",
              "      <th>sepal width (cm)</th>\n",
              "      <th>petal length (cm)</th>\n",
              "      <th>petal width (cm)</th>\n",
              "    </tr>\n",
              "  </thead>\n",
              "  <tbody>\n",
              "    <tr>\n",
              "      <th>0</th>\n",
              "      <td>5.1</td>\n",
              "      <td>3.5</td>\n",
              "      <td>1.4</td>\n",
              "      <td>0.2</td>\n",
              "    </tr>\n",
              "    <tr>\n",
              "      <th>1</th>\n",
              "      <td>4.9</td>\n",
              "      <td>3.0</td>\n",
              "      <td>1.4</td>\n",
              "      <td>0.2</td>\n",
              "    </tr>\n",
              "    <tr>\n",
              "      <th>2</th>\n",
              "      <td>4.7</td>\n",
              "      <td>3.2</td>\n",
              "      <td>1.3</td>\n",
              "      <td>0.2</td>\n",
              "    </tr>\n",
              "    <tr>\n",
              "      <th>3</th>\n",
              "      <td>4.6</td>\n",
              "      <td>3.1</td>\n",
              "      <td>1.5</td>\n",
              "      <td>0.2</td>\n",
              "    </tr>\n",
              "    <tr>\n",
              "      <th>4</th>\n",
              "      <td>5.0</td>\n",
              "      <td>3.6</td>\n",
              "      <td>1.4</td>\n",
              "      <td>0.2</td>\n",
              "    </tr>\n",
              "  </tbody>\n",
              "</table>\n",
              "</div>"
            ],
            "text/plain": [
              "   sepal length (cm)  sepal width (cm)  petal length (cm)  petal width (cm)\n",
              "0                5.1               3.5                1.4               0.2\n",
              "1                4.9               3.0                1.4               0.2\n",
              "2                4.7               3.2                1.3               0.2\n",
              "3                4.6               3.1                1.5               0.2\n",
              "4                5.0               3.6                1.4               0.2"
            ]
          },
          "metadata": {
            "tags": []
          },
          "execution_count": 97
        }
      ]
    },
    {
      "cell_type": "code",
      "metadata": {
        "colab": {
          "base_uri": "https://localhost:8080/"
        },
        "id": "xyDVJzOYrIEZ",
        "outputId": "62e41369-c89b-4458-eab5-9082d8e28eb7"
      },
      "source": [
        "input_data = iris_df.to_numpy()\r\n",
        "input_data = np.hstack((np.ones((len(input_data), 1)), input_data))   # bias (x_0) 추가\r\n",
        "\r\n",
        "input_data[: 5]"
      ],
      "execution_count": null,
      "outputs": [
        {
          "output_type": "execute_result",
          "data": {
            "text/plain": [
              "array([[1. , 5.1, 3.5, 1.4, 0.2],\n",
              "       [1. , 4.9, 3. , 1.4, 0.2],\n",
              "       [1. , 4.7, 3.2, 1.3, 0.2],\n",
              "       [1. , 4.6, 3.1, 1.5, 0.2],\n",
              "       [1. , 5. , 3.6, 1.4, 0.2]])"
            ]
          },
          "metadata": {
            "tags": []
          },
          "execution_count": 98
        }
      ]
    },
    {
      "cell_type": "code",
      "metadata": {
        "colab": {
          "base_uri": "https://localhost:8080/"
        },
        "id": "WQG6UerOm5t0",
        "outputId": "86534e4c-106a-4b5e-ab1b-9f10302457f4"
      },
      "source": [
        "target = iris_data['target']\r\n",
        "target"
      ],
      "execution_count": null,
      "outputs": [
        {
          "output_type": "execute_result",
          "data": {
            "text/plain": [
              "array([0, 0, 0, 0, 0, 0, 0, 0, 0, 0, 0, 0, 0, 0, 0, 0, 0, 0, 0, 0, 0, 0,\n",
              "       0, 0, 0, 0, 0, 0, 0, 0, 0, 0, 0, 0, 0, 0, 0, 0, 0, 0, 0, 0, 0, 0,\n",
              "       0, 0, 0, 0, 0, 0, 1, 1, 1, 1, 1, 1, 1, 1, 1, 1, 1, 1, 1, 1, 1, 1,\n",
              "       1, 1, 1, 1, 1, 1, 1, 1, 1, 1, 1, 1, 1, 1, 1, 1, 1, 1, 1, 1, 1, 1,\n",
              "       1, 1, 1, 1, 1, 1, 1, 1, 1, 1, 1, 1, 2, 2, 2, 2, 2, 2, 2, 2, 2, 2,\n",
              "       2, 2, 2, 2, 2, 2, 2, 2, 2, 2, 2, 2, 2, 2, 2, 2, 2, 2, 2, 2, 2, 2,\n",
              "       2, 2, 2, 2, 2, 2, 2, 2, 2, 2, 2, 2, 2, 2, 2, 2, 2, 2])"
            ]
          },
          "metadata": {
            "tags": []
          },
          "execution_count": 99
        }
      ]
    },
    {
      "cell_type": "code",
      "metadata": {
        "colab": {
          "base_uri": "https://localhost:8080/"
        },
        "id": "i757VkKKl6VC",
        "outputId": "a7273c43-d02a-4255-df50-cb0def247193"
      },
      "source": [
        "train_iris_x, test_iris_x, train_iris_y, test_iris_y = train_test_split(input_data, target, test_size=0.2)\r\n",
        "len(train_iris_x), len(test_iris_x)"
      ],
      "execution_count": null,
      "outputs": [
        {
          "output_type": "execute_result",
          "data": {
            "text/plain": [
              "(120, 30)"
            ]
          },
          "metadata": {
            "tags": []
          },
          "execution_count": 100
        }
      ]
    },
    {
      "cell_type": "code",
      "metadata": {
        "colab": {
          "base_uri": "https://localhost:8080/"
        },
        "id": "qlIiFv5BnraB",
        "outputId": "981ba30f-3f51-4c08-93d0-2f168015c1f3"
      },
      "source": [
        "train_iris_x.shape"
      ],
      "execution_count": null,
      "outputs": [
        {
          "output_type": "execute_result",
          "data": {
            "text/plain": [
              "(120, 5)"
            ]
          },
          "metadata": {
            "tags": []
          },
          "execution_count": 101
        }
      ]
    },
    {
      "cell_type": "code",
      "metadata": {
        "id": "bqhV6JqLuebA"
      },
      "source": [
        "input_size = train_iris_x.shape[1] - 1\r\n",
        "lg_models = [LogisticReg(input_size), LogisticReg(input_size), LogisticReg(input_size)]"
      ],
      "execution_count": null,
      "outputs": []
    },
    {
      "cell_type": "code",
      "metadata": {
        "colab": {
          "base_uri": "https://localhost:8080/"
        },
        "id": "WYYKaPeLugmo",
        "outputId": "7243c371-85d2-4bef-924b-de9010d64521"
      },
      "source": [
        "predictions = []\r\n",
        "for i in range(3):\r\n",
        "  predictions.append(np.array(lg_models[i](test_iris_x)))\r\n",
        "predictions = np.array(predictions)\r\n",
        "\r\n",
        "results = np.argmax(predictions, axis=0) == test_iris_y.reshape(-1, 1)\r\n",
        "accuracy = np.sum(results)/len(results)\r\n",
        "print('정확도 : {:.3f} %'.format(accuracy * 100.0))"
      ],
      "execution_count": null,
      "outputs": [
        {
          "output_type": "stream",
          "text": [
            "정확도 : 30.000 %\n"
          ],
          "name": "stdout"
        }
      ]
    },
    {
      "cell_type": "code",
      "metadata": {
        "colab": {
          "base_uri": "https://localhost:8080/"
        },
        "id": "IGu4ABTwuukn",
        "outputId": "4a59f5f2-66df-427a-9498-361d3b3bd59a"
      },
      "source": [
        "train_iris_y"
      ],
      "execution_count": null,
      "outputs": [
        {
          "output_type": "execute_result",
          "data": {
            "text/plain": [
              "array([0, 2, 2, 0, 1, 1, 2, 1, 1, 1, 0, 1, 2, 1, 1, 0, 0, 0, 2, 0, 1, 1,\n",
              "       2, 1, 2, 0, 2, 1, 1, 2, 2, 0, 0, 0, 2, 2, 1, 2, 0, 2, 1, 2, 1, 2,\n",
              "       2, 0, 2, 1, 0, 2, 0, 0, 0, 2, 1, 1, 1, 1, 0, 1, 0, 2, 0, 1, 1, 2,\n",
              "       0, 2, 0, 2, 1, 1, 1, 2, 1, 2, 0, 1, 1, 1, 1, 2, 1, 2, 2, 2, 0, 0,\n",
              "       0, 0, 0, 1, 2, 0, 0, 2, 2, 0, 2, 0, 0, 2, 2, 2, 0, 1, 0, 0, 2, 2,\n",
              "       1, 1, 0, 1, 0, 0, 0, 1, 0, 2])"
            ]
          },
          "metadata": {
            "tags": []
          },
          "execution_count": 104
        }
      ]
    },
    {
      "cell_type": "code",
      "metadata": {
        "colab": {
          "base_uri": "https://localhost:8080/"
        },
        "id": "BPdwzmetnRKI",
        "outputId": "d8067650-8964-4754-e61e-e572627fda69"
      },
      "source": [
        "train_iris_multi_y = []\r\n",
        "\r\n",
        "# 'setosa' (0), 'versicolor' (1), 'virginica' (2)\r\n",
        "for i in range(3):      # i label 에 대하여 1 나머지는 0으로 설정\r\n",
        "  train_iris_multi_y.append(np.where(train_iris_y == i, 1, 0))  \r\n",
        "\r\n",
        "train_iris_multi_y"
      ],
      "execution_count": null,
      "outputs": [
        {
          "output_type": "execute_result",
          "data": {
            "text/plain": [
              "[array([1, 0, 0, 1, 0, 0, 0, 0, 0, 0, 1, 0, 0, 0, 0, 1, 1, 1, 0, 1, 0, 0,\n",
              "        0, 0, 0, 1, 0, 0, 0, 0, 0, 1, 1, 1, 0, 0, 0, 0, 1, 0, 0, 0, 0, 0,\n",
              "        0, 1, 0, 0, 1, 0, 1, 1, 1, 0, 0, 0, 0, 0, 1, 0, 1, 0, 1, 0, 0, 0,\n",
              "        1, 0, 1, 0, 0, 0, 0, 0, 0, 0, 1, 0, 0, 0, 0, 0, 0, 0, 0, 0, 1, 1,\n",
              "        1, 1, 1, 0, 0, 1, 1, 0, 0, 1, 0, 1, 1, 0, 0, 0, 1, 0, 1, 1, 0, 0,\n",
              "        0, 0, 1, 0, 1, 1, 1, 0, 1, 0]),\n",
              " array([0, 0, 0, 0, 1, 1, 0, 1, 1, 1, 0, 1, 0, 1, 1, 0, 0, 0, 0, 0, 1, 1,\n",
              "        0, 1, 0, 0, 0, 1, 1, 0, 0, 0, 0, 0, 0, 0, 1, 0, 0, 0, 1, 0, 1, 0,\n",
              "        0, 0, 0, 1, 0, 0, 0, 0, 0, 0, 1, 1, 1, 1, 0, 1, 0, 0, 0, 1, 1, 0,\n",
              "        0, 0, 0, 0, 1, 1, 1, 0, 1, 0, 0, 1, 1, 1, 1, 0, 1, 0, 0, 0, 0, 0,\n",
              "        0, 0, 0, 1, 0, 0, 0, 0, 0, 0, 0, 0, 0, 0, 0, 0, 0, 1, 0, 0, 0, 0,\n",
              "        1, 1, 0, 1, 0, 0, 0, 1, 0, 0]),\n",
              " array([0, 1, 1, 0, 0, 0, 1, 0, 0, 0, 0, 0, 1, 0, 0, 0, 0, 0, 1, 0, 0, 0,\n",
              "        1, 0, 1, 0, 1, 0, 0, 1, 1, 0, 0, 0, 1, 1, 0, 1, 0, 1, 0, 1, 0, 1,\n",
              "        1, 0, 1, 0, 0, 1, 0, 0, 0, 1, 0, 0, 0, 0, 0, 0, 0, 1, 0, 0, 0, 1,\n",
              "        0, 1, 0, 1, 0, 0, 0, 1, 0, 1, 0, 0, 0, 0, 0, 1, 0, 1, 1, 1, 0, 0,\n",
              "        0, 0, 0, 0, 1, 0, 0, 1, 1, 0, 1, 0, 0, 1, 1, 1, 0, 0, 0, 0, 1, 1,\n",
              "        0, 0, 0, 0, 0, 0, 0, 0, 0, 1])]"
            ]
          },
          "metadata": {
            "tags": []
          },
          "execution_count": 105
        }
      ]
    },
    {
      "cell_type": "code",
      "metadata": {
        "colab": {
          "base_uri": "https://localhost:8080/",
          "height": 851
        },
        "id": "T9XIPtz5qvE2",
        "outputId": "ae89bd01-001b-4c21-ef02-90d84b225f64"
      },
      "source": [
        "learning_rate = 0.01\r\n",
        "lg_models = [LogisticReg(input_size), LogisticReg(input_size), LogisticReg(input_size)]\r\n",
        "\r\n",
        "for i in range(3):\r\n",
        "  lg_models[i].train_model(learning_rate, train_iris_x, train_iris_multi_y[i], 100)"
      ],
      "execution_count": null,
      "outputs": [
        {
          "output_type": "display_data",
          "data": {
            "image/png": "[encoded data removed]",
            "text/plain": [
              "<Figure size 432x288 with 1 Axes>"
            ]
          },
          "metadata": {
            "tags": [],
            "needs_background": "light"
          }
        },
        {
          "output_type": "display_data",
          "data": {
            "image/png": "[encoded data removed]",
            "text/plain": [
              "<Figure size 432x288 with 1 Axes>"
            ]
          },
          "metadata": {
            "tags": [],
            "needs_background": "light"
          }
        },
        {
          "output_type": "display_data",
          "data": {
            "image/png": "[encoded data removed]",
            "text/plain": [
              "<Figure size 432x288 with 1 Axes>"
            ]
          },
          "metadata": {
            "tags": [],
            "needs_background": "light"
          }
        }
      ]
    },
    {
      "cell_type": "code",
      "metadata": {
        "colab": {
          "base_uri": "https://localhost:8080/"
        },
        "id": "oLtr-eSpribf",
        "outputId": "d4f97460-e7e2-4a8b-81fa-01d2a1bbbe8d"
      },
      "source": [
        "predictions = []\r\n",
        "for i in range(3):\r\n",
        "  predictions.append(np.array(lg_models[i](test_iris_x)))\r\n",
        "predictions = np.array(predictions)\r\n",
        "\r\n",
        "results = np.argmax(predictions, axis=0) == test_iris_y.reshape(-1, 1)\r\n",
        "accuracy = np.sum(results)/len(results)\r\n",
        "print('정확도 : {:.3f} %'.format(accuracy * 100.0))"
      ],
      "execution_count": null,
      "outputs": [
        {
          "output_type": "stream",
          "text": [
            "정확도 : 63.333 %\n"
          ],
          "name": "stdout"
        }
      ]
    },
    {
      "cell_type": "markdown",
      "metadata": {
        "id": "BwXg4kegYBtm"
      },
      "source": [
        "## 카이 제곱 검정\r\n",
        "\r\n",
        "* 두 **범주형 변수**에 따른 비율 차이를 검증하는 것\r\n",
        "  * 두 **연속형 변수** 간 관계 측정은 상관 계수\r\n",
        "* 카이 제곱 검정은 두 변수가 독립적인지 아닌지만을 알 수 있을 뿐이고, 구체적으로 어떤 관계가 있는지는 알 수 없음\r\n",
        "\r\n",
        "검증하고자 하는 가설\r\n",
        "* 영가설(귀무가설): 분할표의 행과 열은 독립적이다\r\n",
        "* 대안가설: 분할표의 행과 열은 독립적이지 않다\r\n"
      ]
    },
    {
      "cell_type": "markdown",
      "metadata": {
        "id": "kU4ew61UlKND"
      },
      "source": [
        "#### 예시) 체중과 당뇨와의 관계 분석\r\n",
        "![images](https://img1.daumcdn.net/thumb/R1280x0/?scode=mtistory2&fname=https%3A%2F%2Fblog.kakaocdn.net%2Fdn%2FlEmOL%2FbtqEnIM9x5F%2FJypsQJ9ji97wCpgIfPeH2k%2Fimg.png)"
      ]
    },
    {
      "cell_type": "code",
      "metadata": {
        "colab": {
          "base_uri": "https://localhost:8080/",
          "height": 106
        },
        "id": "1nBrEYOIinpv",
        "outputId": "da186967-6abd-48bb-99c9-9fc228f3083b"
      },
      "source": [
        "import scipy.stats as stats\r\n",
        "\r\n",
        "sample_data = pd.DataFrame([[16, 24],[18, 42]], columns=['비만', '정상체중'], index=['당뇨', '정상'])\r\n",
        "sample_data"
      ],
      "execution_count": null,
      "outputs": [
        {
          "output_type": "execute_result",
          "data": {
            "text/html": [
              "<div>\n",
              "<style scoped>\n",
              "    .dataframe tbody tr th:only-of-type {\n",
              "        vertical-align: middle;\n",
              "    }\n",
              "\n",
              "    .dataframe tbody tr th {\n",
              "        vertical-align: top;\n",
              "    }\n",
              "\n",
              "    .dataframe thead th {\n",
              "        text-align: right;\n",
              "    }\n",
              "</style>\n",
              "<table border=\"1\" class=\"dataframe\">\n",
              "  <thead>\n",
              "    <tr style=\"text-align: right;\">\n",
              "      <th></th>\n",
              "      <th>비만</th>\n",
              "      <th>정상체중</th>\n",
              "    </tr>\n",
              "  </thead>\n",
              "  <tbody>\n",
              "    <tr>\n",
              "      <th>당뇨</th>\n",
              "      <td>16</td>\n",
              "      <td>24</td>\n",
              "    </tr>\n",
              "    <tr>\n",
              "      <th>정상</th>\n",
              "      <td>18</td>\n",
              "      <td>42</td>\n",
              "    </tr>\n",
              "  </tbody>\n",
              "</table>\n",
              "</div>"
            ],
            "text/plain": [
              "    비만  정상체중\n",
              "당뇨  16    24\n",
              "정상  18    42"
            ]
          },
          "metadata": {
            "tags": []
          },
          "execution_count": 108
        }
      ]
    },
    {
      "cell_type": "markdown",
      "metadata": {
        "id": "tS1A_B3nlHWY"
      },
      "source": [
        "$$\r\n",
        "\\chi^{2}=\\sum_{i=1}^{n} \\frac{\\left(o_{i}-e_{i}\\right)^2}{e_{i}}\r\n",
        "$$\r\n",
        "\r\n",
        "영가설을 전제하에 기대값 계산\r\n",
        "\r\n",
        "![images](https://img1.daumcdn.net/thumb/R1280x0/?scode=mtistory2&fname=https%3A%2F%2Fblog.kakaocdn.net%2Fdn%2FAihTa%2FbtqEnHurHWi%2FRWzE1IB5k3hcMUeZpRxERk%2Fimg.png)"
      ]
    },
    {
      "cell_type": "code",
      "metadata": {
        "colab": {
          "base_uri": "https://localhost:8080/"
        },
        "id": "Yuoo10uLiEu4",
        "outputId": "7d6f42d0-e0a5-4444-99e5-4df4fbf2a60e"
      },
      "source": [
        "chi_val, p_val, dgf, exp_val = stats.chi2_contingency(observed= sample_data)\r\n",
        "\r\n",
        "print('Chi Square 값', chi_val)\r\n",
        "print('P 값', p_val)\r\n",
        "print('Degree of Freedom', dgf)\r\n",
        "print('Expected Value\\n', pd.DataFrame(exp_val), sep='')"
      ],
      "execution_count": null,
      "outputs": [
        {
          "output_type": "stream",
          "text": [
            "Chi Square 값 0.6703060011883536\n",
            "P 값 0.41294494144770166\n",
            "Degree of Freedom 1\n",
            "Expected Value\n",
            "      0     1\n",
            "0  13.6  26.4\n",
            "1  20.4  39.6\n"
          ],
          "name": "stdout"
        }
      ]
    },
    {
      "cell_type": "markdown",
      "metadata": {
        "id": "DFZ0IcdDmEcG"
      },
      "source": [
        "p-value 가 유의 수준(0.05)보다 높으므로, 영가설을 기각하지 않음.\r\n",
        "즉, 당뇨와 체중 사이의 관계는 없다(독립적이다) 라고 말할 수 있음."
      ]
    },
    {
      "cell_type": "code",
      "metadata": {
        "colab": {
          "base_uri": "https://localhost:8080/"
        },
        "id": "RCsyyu3PljOj",
        "outputId": "ff1f80b7-2a7b-4241-b78e-b548c634b46e"
      },
      "source": [
        "print(stats.chi2.ppf(1 - 0.05, df=dgf))  # q는 lower tail probability\r\n",
        "\r\n",
        "# 카이 제곱 값 3.84인 현상이 관찰될 가능성이 0.05 % 라는 이야기 (p-value 가 작아질록, chi-squares 값은 커짐)"
      ],
      "execution_count": null,
      "outputs": [
        {
          "output_type": "stream",
          "text": [
            "3.841458820694124\n"
          ],
          "name": "stdout"
        }
      ]
    },
    {
      "cell_type": "markdown",
      "metadata": {
        "id": "iTb7rYJXiemw"
      },
      "source": [
        "\r\n",
        "![images](https://www.statsandr.com/blog/chi-square-test-of-independence-by-hand_files/Screenshot%202020-01-28%20at%2000.56.28.png)\r\n",
        "\r\n",
        "![images](https://mblogthumb-phinf.pstatic.net/MjAxOTA4MzFfMyAg/MDAxNTY3MjQ5MjIxODEw.ZluhI7QczvZ_6rb85sXqoaDa31P6cvnI1ol-Y3jRQ6kg.UQnOi2dDWUewc90-Sj9Gx30WD5lHNI4SHSsyXN1BOpkg.PNG.ollehw/image.png?type=w800)\r\n"
      ]
    }
  ]
}